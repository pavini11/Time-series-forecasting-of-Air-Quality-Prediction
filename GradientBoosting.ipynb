{
 "cells": [
  {
   "cell_type": "code",
   "execution_count": 2,
   "metadata": {},
   "outputs": [],
   "source": [
    "import pandas as pd\n",
    "import numpy as np\n",
    "import matplotlib.pyplot as plt\n",
    "import seaborn as sns\n",
    "import matplotlib.pyplot as plt\n",
    "\n",
    "import warnings\n",
    "warnings.filterwarnings(\"ignore\")\n",
    "warnings.simplefilter(action='ignore', category=FutureWarning)"
   ]
  },
  {
   "cell_type": "code",
   "execution_count": 3,
   "metadata": {},
   "outputs": [],
   "source": [
    "df_x = pd.read_csv(\"train_x.csv\")\n",
    "df_y = pd.read_csv(\"train_y.csv\")\n",
    "df_x1 = pd.read_csv(\"test_x.csv\")\n",
    "df_y1 = pd.read_csv(\"test_y.csv\")"
   ]
  },
  {
   "cell_type": "code",
   "execution_count": 4,
   "metadata": {},
   "outputs": [
    {
     "data": {
      "text/html": [
       "<div>\n",
       "<style scoped>\n",
       "    .dataframe tbody tr th:only-of-type {\n",
       "        vertical-align: middle;\n",
       "    }\n",
       "\n",
       "    .dataframe tbody tr th {\n",
       "        vertical-align: top;\n",
       "    }\n",
       "\n",
       "    .dataframe thead th {\n",
       "        text-align: right;\n",
       "    }\n",
       "</style>\n",
       "<table border=\"1\" class=\"dataframe\">\n",
       "  <thead>\n",
       "    <tr style=\"text-align: right;\">\n",
       "      <th></th>\n",
       "      <th>Date</th>\n",
       "      <th>PM2.5</th>\n",
       "      <th>PM10</th>\n",
       "      <th>NO2</th>\n",
       "      <th>NOx</th>\n",
       "      <th>CO</th>\n",
       "      <th>SO2</th>\n",
       "      <th>O3</th>\n",
       "      <th>temp</th>\n",
       "      <th>max_temp</th>\n",
       "      <th>min_temp</th>\n",
       "      <th>humid</th>\n",
       "      <th>visible</th>\n",
       "      <th>wind</th>\n",
       "    </tr>\n",
       "  </thead>\n",
       "  <tbody>\n",
       "    <tr>\n",
       "      <th>0</th>\n",
       "      <td>2016-01-01</td>\n",
       "      <td>56.40</td>\n",
       "      <td>95.08</td>\n",
       "      <td>51.73</td>\n",
       "      <td>34.31</td>\n",
       "      <td>0.69</td>\n",
       "      <td>7.44</td>\n",
       "      <td>55.96</td>\n",
       "      <td>20.1</td>\n",
       "      <td>28.4</td>\n",
       "      <td>15.7</td>\n",
       "      <td>54.0</td>\n",
       "      <td>6.0</td>\n",
       "      <td>3.0</td>\n",
       "    </tr>\n",
       "    <tr>\n",
       "      <th>1</th>\n",
       "      <td>2016-01-02</td>\n",
       "      <td>53.69</td>\n",
       "      <td>93.92</td>\n",
       "      <td>73.09</td>\n",
       "      <td>54.77</td>\n",
       "      <td>0.76</td>\n",
       "      <td>8.67</td>\n",
       "      <td>34.06</td>\n",
       "      <td>20.8</td>\n",
       "      <td>28.3</td>\n",
       "      <td>12.9</td>\n",
       "      <td>45.0</td>\n",
       "      <td>6.3</td>\n",
       "      <td>1.1</td>\n",
       "    </tr>\n",
       "    <tr>\n",
       "      <th>2</th>\n",
       "      <td>2016-01-03</td>\n",
       "      <td>62.35</td>\n",
       "      <td>99.34</td>\n",
       "      <td>77.77</td>\n",
       "      <td>55.60</td>\n",
       "      <td>0.96</td>\n",
       "      <td>9.10</td>\n",
       "      <td>47.62</td>\n",
       "      <td>21.4</td>\n",
       "      <td>29.0</td>\n",
       "      <td>13.7</td>\n",
       "      <td>45.0</td>\n",
       "      <td>6.3</td>\n",
       "      <td>0.4</td>\n",
       "    </tr>\n",
       "    <tr>\n",
       "      <th>3</th>\n",
       "      <td>2016-01-04</td>\n",
       "      <td>64.96</td>\n",
       "      <td>104.62</td>\n",
       "      <td>77.07</td>\n",
       "      <td>50.81</td>\n",
       "      <td>0.89</td>\n",
       "      <td>8.87</td>\n",
       "      <td>50.62</td>\n",
       "      <td>21.5</td>\n",
       "      <td>29.0</td>\n",
       "      <td>15.2</td>\n",
       "      <td>47.0</td>\n",
       "      <td>6.9</td>\n",
       "      <td>2.2</td>\n",
       "    </tr>\n",
       "    <tr>\n",
       "      <th>4</th>\n",
       "      <td>2016-01-05</td>\n",
       "      <td>70.15</td>\n",
       "      <td>105.12</td>\n",
       "      <td>79.43</td>\n",
       "      <td>56.05</td>\n",
       "      <td>0.85</td>\n",
       "      <td>9.41</td>\n",
       "      <td>36.94</td>\n",
       "      <td>20.9</td>\n",
       "      <td>28.4</td>\n",
       "      <td>14.7</td>\n",
       "      <td>51.0</td>\n",
       "      <td>6.3</td>\n",
       "      <td>1.1</td>\n",
       "    </tr>\n",
       "  </tbody>\n",
       "</table>\n",
       "</div>"
      ],
      "text/plain": [
       "         Date  PM2.5    PM10    NO2    NOx    CO   SO2     O3  temp  max_temp  \\\n",
       "0  2016-01-01  56.40   95.08  51.73  34.31  0.69  7.44  55.96  20.1      28.4   \n",
       "1  2016-01-02  53.69   93.92  73.09  54.77  0.76  8.67  34.06  20.8      28.3   \n",
       "2  2016-01-03  62.35   99.34  77.77  55.60  0.96  9.10  47.62  21.4      29.0   \n",
       "3  2016-01-04  64.96  104.62  77.07  50.81  0.89  8.87  50.62  21.5      29.0   \n",
       "4  2016-01-05  70.15  105.12  79.43  56.05  0.85  9.41  36.94  20.9      28.4   \n",
       "\n",
       "   min_temp  humid  visible  wind  \n",
       "0      15.7   54.0      6.0   3.0  \n",
       "1      12.9   45.0      6.3   1.1  \n",
       "2      13.7   45.0      6.3   0.4  \n",
       "3      15.2   47.0      6.9   2.2  \n",
       "4      14.7   51.0      6.3   1.1  "
      ]
     },
     "execution_count": 4,
     "metadata": {},
     "output_type": "execute_result"
    }
   ],
   "source": [
    "df_x.head(5)"
   ]
  },
  {
   "cell_type": "code",
   "execution_count": 5,
   "metadata": {},
   "outputs": [
    {
     "data": {
      "text/html": [
       "<div>\n",
       "<style scoped>\n",
       "    .dataframe tbody tr th:only-of-type {\n",
       "        vertical-align: middle;\n",
       "    }\n",
       "\n",
       "    .dataframe tbody tr th {\n",
       "        vertical-align: top;\n",
       "    }\n",
       "\n",
       "    .dataframe thead th {\n",
       "        text-align: right;\n",
       "    }\n",
       "</style>\n",
       "<table border=\"1\" class=\"dataframe\">\n",
       "  <thead>\n",
       "    <tr style=\"text-align: right;\">\n",
       "      <th></th>\n",
       "      <th>Date</th>\n",
       "      <th>PM2.5</th>\n",
       "      <th>PM10</th>\n",
       "      <th>NO2</th>\n",
       "      <th>NOx</th>\n",
       "      <th>CO</th>\n",
       "      <th>SO2</th>\n",
       "      <th>O3</th>\n",
       "      <th>temp</th>\n",
       "      <th>max_temp</th>\n",
       "      <th>min_temp</th>\n",
       "      <th>humid</th>\n",
       "      <th>visible</th>\n",
       "      <th>wind</th>\n",
       "    </tr>\n",
       "  </thead>\n",
       "  <tbody>\n",
       "    <tr>\n",
       "      <th>0</th>\n",
       "      <td>01-01-2020</td>\n",
       "      <td>30.71</td>\n",
       "      <td>70.80</td>\n",
       "      <td>27.31</td>\n",
       "      <td>26.74</td>\n",
       "      <td>1.07</td>\n",
       "      <td>8.56</td>\n",
       "      <td>37.39</td>\n",
       "      <td>22.0</td>\n",
       "      <td>27.2</td>\n",
       "      <td>19.2</td>\n",
       "      <td>75</td>\n",
       "      <td>6.9</td>\n",
       "      <td>3.3</td>\n",
       "    </tr>\n",
       "    <tr>\n",
       "      <th>1</th>\n",
       "      <td>02-01-2020</td>\n",
       "      <td>25.78</td>\n",
       "      <td>62.73</td>\n",
       "      <td>28.05</td>\n",
       "      <td>30.18</td>\n",
       "      <td>1.16</td>\n",
       "      <td>7.52</td>\n",
       "      <td>33.11</td>\n",
       "      <td>22.2</td>\n",
       "      <td>26.0</td>\n",
       "      <td>19.4</td>\n",
       "      <td>77</td>\n",
       "      <td>5.5</td>\n",
       "      <td>2.0</td>\n",
       "    </tr>\n",
       "    <tr>\n",
       "      <th>2</th>\n",
       "      <td>03-01-2020</td>\n",
       "      <td>29.66</td>\n",
       "      <td>69.62</td>\n",
       "      <td>26.26</td>\n",
       "      <td>26.92</td>\n",
       "      <td>0.99</td>\n",
       "      <td>6.40</td>\n",
       "      <td>32.98</td>\n",
       "      <td>23.4</td>\n",
       "      <td>28.4</td>\n",
       "      <td>19.4</td>\n",
       "      <td>68</td>\n",
       "      <td>6.9</td>\n",
       "      <td>3.5</td>\n",
       "    </tr>\n",
       "    <tr>\n",
       "      <th>3</th>\n",
       "      <td>04-01-2020</td>\n",
       "      <td>52.62</td>\n",
       "      <td>106.81</td>\n",
       "      <td>31.56</td>\n",
       "      <td>41.89</td>\n",
       "      <td>1.39</td>\n",
       "      <td>6.94</td>\n",
       "      <td>37.35</td>\n",
       "      <td>23.6</td>\n",
       "      <td>30.5</td>\n",
       "      <td>19.0</td>\n",
       "      <td>63</td>\n",
       "      <td>6.3</td>\n",
       "      <td>1.3</td>\n",
       "    </tr>\n",
       "    <tr>\n",
       "      <th>4</th>\n",
       "      <td>05-01-2020</td>\n",
       "      <td>52.64</td>\n",
       "      <td>97.94</td>\n",
       "      <td>29.10</td>\n",
       "      <td>29.52</td>\n",
       "      <td>1.01</td>\n",
       "      <td>7.01</td>\n",
       "      <td>45.10</td>\n",
       "      <td>24.2</td>\n",
       "      <td>30.5</td>\n",
       "      <td>20.4</td>\n",
       "      <td>63</td>\n",
       "      <td>6.3</td>\n",
       "      <td>1.3</td>\n",
       "    </tr>\n",
       "  </tbody>\n",
       "</table>\n",
       "</div>"
      ],
      "text/plain": [
       "         Date  PM2.5    PM10    NO2    NOx    CO   SO2     O3  temp  max_temp  \\\n",
       "0  01-01-2020  30.71   70.80  27.31  26.74  1.07  8.56  37.39  22.0      27.2   \n",
       "1  02-01-2020  25.78   62.73  28.05  30.18  1.16  7.52  33.11  22.2      26.0   \n",
       "2  03-01-2020  29.66   69.62  26.26  26.92  0.99  6.40  32.98  23.4      28.4   \n",
       "3  04-01-2020  52.62  106.81  31.56  41.89  1.39  6.94  37.35  23.6      30.5   \n",
       "4  05-01-2020  52.64   97.94  29.10  29.52  1.01  7.01  45.10  24.2      30.5   \n",
       "\n",
       "   min_temp  humid  visible  wind  \n",
       "0      19.2     75      6.9   3.3  \n",
       "1      19.4     77      5.5   2.0  \n",
       "2      19.4     68      6.9   3.5  \n",
       "3      19.0     63      6.3   1.3  \n",
       "4      20.4     63      6.3   1.3  "
      ]
     },
     "execution_count": 5,
     "metadata": {},
     "output_type": "execute_result"
    }
   ],
   "source": [
    "df_x1.head(5)"
   ]
  },
  {
   "cell_type": "code",
   "execution_count": 6,
   "metadata": {},
   "outputs": [
    {
     "data": {
      "text/html": [
       "<div>\n",
       "<style scoped>\n",
       "    .dataframe tbody tr th:only-of-type {\n",
       "        vertical-align: middle;\n",
       "    }\n",
       "\n",
       "    .dataframe tbody tr th {\n",
       "        vertical-align: top;\n",
       "    }\n",
       "\n",
       "    .dataframe thead th {\n",
       "        text-align: right;\n",
       "    }\n",
       "</style>\n",
       "<table border=\"1\" class=\"dataframe\">\n",
       "  <thead>\n",
       "    <tr style=\"text-align: right;\">\n",
       "      <th></th>\n",
       "      <th>Date</th>\n",
       "      <th>AQI</th>\n",
       "    </tr>\n",
       "  </thead>\n",
       "  <tbody>\n",
       "    <tr>\n",
       "      <th>0</th>\n",
       "      <td>2016-01-01</td>\n",
       "      <td>101.0</td>\n",
       "    </tr>\n",
       "    <tr>\n",
       "      <th>1</th>\n",
       "      <td>2016-01-02</td>\n",
       "      <td>92.0</td>\n",
       "    </tr>\n",
       "    <tr>\n",
       "      <th>2</th>\n",
       "      <td>2016-01-03</td>\n",
       "      <td>108.0</td>\n",
       "    </tr>\n",
       "    <tr>\n",
       "      <th>3</th>\n",
       "      <td>2016-01-04</td>\n",
       "      <td>109.0</td>\n",
       "    </tr>\n",
       "    <tr>\n",
       "      <th>4</th>\n",
       "      <td>2016-01-05</td>\n",
       "      <td>114.0</td>\n",
       "    </tr>\n",
       "  </tbody>\n",
       "</table>\n",
       "</div>"
      ],
      "text/plain": [
       "         Date    AQI\n",
       "0  2016-01-01  101.0\n",
       "1  2016-01-02   92.0\n",
       "2  2016-01-03  108.0\n",
       "3  2016-01-04  109.0\n",
       "4  2016-01-05  114.0"
      ]
     },
     "execution_count": 6,
     "metadata": {},
     "output_type": "execute_result"
    }
   ],
   "source": [
    "df_y.head(5)"
   ]
  },
  {
   "cell_type": "code",
   "execution_count": 7,
   "metadata": {},
   "outputs": [
    {
     "data": {
      "text/html": [
       "<div>\n",
       "<style scoped>\n",
       "    .dataframe tbody tr th:only-of-type {\n",
       "        vertical-align: middle;\n",
       "    }\n",
       "\n",
       "    .dataframe tbody tr th {\n",
       "        vertical-align: top;\n",
       "    }\n",
       "\n",
       "    .dataframe thead th {\n",
       "        text-align: right;\n",
       "    }\n",
       "</style>\n",
       "<table border=\"1\" class=\"dataframe\">\n",
       "  <thead>\n",
       "    <tr style=\"text-align: right;\">\n",
       "      <th></th>\n",
       "      <th>Date</th>\n",
       "      <th>AQI</th>\n",
       "    </tr>\n",
       "  </thead>\n",
       "  <tbody>\n",
       "    <tr>\n",
       "      <th>0</th>\n",
       "      <td>2020-01-01</td>\n",
       "      <td>82.0</td>\n",
       "    </tr>\n",
       "    <tr>\n",
       "      <th>1</th>\n",
       "      <td>2020-01-02</td>\n",
       "      <td>81.0</td>\n",
       "    </tr>\n",
       "    <tr>\n",
       "      <th>2</th>\n",
       "      <td>2020-01-03</td>\n",
       "      <td>85.0</td>\n",
       "    </tr>\n",
       "    <tr>\n",
       "      <th>3</th>\n",
       "      <td>2020-01-04</td>\n",
       "      <td>95.0</td>\n",
       "    </tr>\n",
       "    <tr>\n",
       "      <th>4</th>\n",
       "      <td>2020-01-05</td>\n",
       "      <td>118.0</td>\n",
       "    </tr>\n",
       "  </tbody>\n",
       "</table>\n",
       "</div>"
      ],
      "text/plain": [
       "         Date    AQI\n",
       "0  2020-01-01   82.0\n",
       "1  2020-01-02   81.0\n",
       "2  2020-01-03   85.0\n",
       "3  2020-01-04   95.0\n",
       "4  2020-01-05  118.0"
      ]
     },
     "execution_count": 7,
     "metadata": {},
     "output_type": "execute_result"
    }
   ],
   "source": [
    "df_y1.head(5)"
   ]
  },
  {
   "cell_type": "code",
   "execution_count": 8,
   "metadata": {},
   "outputs": [
    {
     "name": "stdout",
     "output_type": "stream",
     "text": [
      "<class 'pandas.core.frame.DataFrame'>\n",
      "RangeIndex: 1441 entries, 0 to 1440\n",
      "Data columns (total 14 columns):\n",
      "Date        1441 non-null object\n",
      "PM2.5       1441 non-null float64\n",
      "PM10        1441 non-null float64\n",
      "NO2         1441 non-null float64\n",
      "NOx         1441 non-null float64\n",
      "CO          1441 non-null float64\n",
      "SO2         1441 non-null float64\n",
      "O3          1441 non-null float64\n",
      "temp        1441 non-null float64\n",
      "max_temp    1441 non-null float64\n",
      "min_temp    1441 non-null float64\n",
      "humid       1441 non-null float64\n",
      "visible     1441 non-null float64\n",
      "wind        1441 non-null float64\n",
      "dtypes: float64(13), object(1)\n",
      "memory usage: 157.7+ KB\n"
     ]
    }
   ],
   "source": [
    "df_x.info()"
   ]
  },
  {
   "cell_type": "code",
   "execution_count": 9,
   "metadata": {},
   "outputs": [
    {
     "name": "stdout",
     "output_type": "stream",
     "text": [
      "<class 'pandas.core.frame.DataFrame'>\n",
      "RangeIndex: 1441 entries, 0 to 1440\n",
      "Data columns (total 2 columns):\n",
      "Date    1441 non-null object\n",
      "AQI     1441 non-null float64\n",
      "dtypes: float64(1), object(1)\n",
      "memory usage: 22.6+ KB\n"
     ]
    }
   ],
   "source": [
    "df_y.info()"
   ]
  },
  {
   "cell_type": "code",
   "execution_count": 10,
   "metadata": {},
   "outputs": [
    {
     "name": "stdout",
     "output_type": "stream",
     "text": [
      "<class 'pandas.core.frame.DataFrame'>\n",
      "RangeIndex: 182 entries, 0 to 181\n",
      "Data columns (total 14 columns):\n",
      "Date        182 non-null object\n",
      "PM2.5       182 non-null float64\n",
      "PM10        182 non-null float64\n",
      "NO2         182 non-null float64\n",
      "NOx         182 non-null float64\n",
      "CO          182 non-null float64\n",
      "SO2         182 non-null float64\n",
      "O3          182 non-null float64\n",
      "temp        182 non-null float64\n",
      "max_temp    182 non-null float64\n",
      "min_temp    182 non-null float64\n",
      "humid       182 non-null int64\n",
      "visible     182 non-null float64\n",
      "wind        182 non-null float64\n",
      "dtypes: float64(12), int64(1), object(1)\n",
      "memory usage: 20.0+ KB\n"
     ]
    }
   ],
   "source": [
    "df_x1.info()"
   ]
  },
  {
   "cell_type": "code",
   "execution_count": 11,
   "metadata": {},
   "outputs": [
    {
     "name": "stdout",
     "output_type": "stream",
     "text": [
      "<class 'pandas.core.frame.DataFrame'>\n",
      "RangeIndex: 182 entries, 0 to 181\n",
      "Data columns (total 2 columns):\n",
      "Date    182 non-null object\n",
      "AQI     182 non-null float64\n",
      "dtypes: float64(1), object(1)\n",
      "memory usage: 2.9+ KB\n"
     ]
    }
   ],
   "source": [
    "df_y1.info()"
   ]
  },
  {
   "cell_type": "code",
   "execution_count": 12,
   "metadata": {},
   "outputs": [],
   "source": [
    "df_x[\"Date\"] = pd.to_datetime(df_x[\"Date\"])\n",
    "df_x1[\"Date\"] = pd.to_datetime(df_x[\"Date\"])"
   ]
  },
  {
   "cell_type": "code",
   "execution_count": 13,
   "metadata": {},
   "outputs": [
    {
     "name": "stdout",
     "output_type": "stream",
     "text": [
      "<class 'pandas.core.frame.DataFrame'>\n",
      "RangeIndex: 1441 entries, 0 to 1440\n",
      "Data columns (total 14 columns):\n",
      "Date        1441 non-null datetime64[ns]\n",
      "PM2.5       1441 non-null float64\n",
      "PM10        1441 non-null float64\n",
      "NO2         1441 non-null float64\n",
      "NOx         1441 non-null float64\n",
      "CO          1441 non-null float64\n",
      "SO2         1441 non-null float64\n",
      "O3          1441 non-null float64\n",
      "temp        1441 non-null float64\n",
      "max_temp    1441 non-null float64\n",
      "min_temp    1441 non-null float64\n",
      "humid       1441 non-null float64\n",
      "visible     1441 non-null float64\n",
      "wind        1441 non-null float64\n",
      "dtypes: datetime64[ns](1), float64(13)\n",
      "memory usage: 157.7 KB\n"
     ]
    }
   ],
   "source": [
    "df_x.info()"
   ]
  },
  {
   "cell_type": "code",
   "execution_count": 14,
   "metadata": {},
   "outputs": [
    {
     "name": "stdout",
     "output_type": "stream",
     "text": [
      "<class 'pandas.core.frame.DataFrame'>\n",
      "RangeIndex: 182 entries, 0 to 181\n",
      "Data columns (total 14 columns):\n",
      "Date        182 non-null datetime64[ns]\n",
      "PM2.5       182 non-null float64\n",
      "PM10        182 non-null float64\n",
      "NO2         182 non-null float64\n",
      "NOx         182 non-null float64\n",
      "CO          182 non-null float64\n",
      "SO2         182 non-null float64\n",
      "O3          182 non-null float64\n",
      "temp        182 non-null float64\n",
      "max_temp    182 non-null float64\n",
      "min_temp    182 non-null float64\n",
      "humid       182 non-null int64\n",
      "visible     182 non-null float64\n",
      "wind        182 non-null float64\n",
      "dtypes: datetime64[ns](1), float64(12), int64(1)\n",
      "memory usage: 20.0 KB\n"
     ]
    }
   ],
   "source": [
    "df_x1.info()"
   ]
  },
  {
   "cell_type": "code",
   "execution_count": 15,
   "metadata": {},
   "outputs": [
    {
     "data": {
      "text/plain": [
       "<matplotlib.axes._subplots.AxesSubplot at 0x2414bee1358>"
      ]
     },
     "execution_count": 15,
     "metadata": {},
     "output_type": "execute_result"
    },
    {
     "data": {
      "image/png": "[encoded data removed]",
      "text/plain": [
       "<Figure size 432x288 with 1 Axes>"
      ]
     },
     "metadata": {
      "needs_background": "light"
     },
     "output_type": "display_data"
    }
   ],
   "source": [
    "sns.heatmap(df_x.isnull(),cbar=False, yticklabels=False)"
   ]
  },
  {
   "cell_type": "code",
   "execution_count": 16,
   "metadata": {},
   "outputs": [
    {
     "data": {
      "text/plain": [
       "<matplotlib.axes._subplots.AxesSubplot at 0x2414c2341d0>"
      ]
     },
     "execution_count": 16,
     "metadata": {},
     "output_type": "execute_result"
    },
    {
     "data": {
      "image/png": "[encoded data removed]",
      "text/plain": [
       "<Figure size 432x288 with 1 Axes>"
      ]
     },
     "metadata": {
      "needs_background": "light"
     },
     "output_type": "display_data"
    }
   ],
   "source": [
    "sns.heatmap(df_x1.isnull(),cbar=False, yticklabels=False)"
   ]
  },
  {
   "cell_type": "code",
   "execution_count": 17,
   "metadata": {},
   "outputs": [],
   "source": [
    "x_train = df_x.drop(['Date'], axis = 1)\n",
    "y_train = df_y[\"AQI\"]\n",
    "x_test = df_x1.drop(['Date'], axis = 1)\n",
    "y_test = df_y1[\"AQI\"]"
   ]
  },
  {
   "cell_type": "code",
   "execution_count": 18,
   "metadata": {},
   "outputs": [
    {
     "data": {
      "text/html": [
       "<div>\n",
       "<style scoped>\n",
       "    .dataframe tbody tr th:only-of-type {\n",
       "        vertical-align: middle;\n",
       "    }\n",
       "\n",
       "    .dataframe tbody tr th {\n",
       "        vertical-align: top;\n",
       "    }\n",
       "\n",
       "    .dataframe thead th {\n",
       "        text-align: right;\n",
       "    }\n",
       "</style>\n",
       "<table border=\"1\" class=\"dataframe\">\n",
       "  <thead>\n",
       "    <tr style=\"text-align: right;\">\n",
       "      <th></th>\n",
       "      <th>PM2.5</th>\n",
       "      <th>PM10</th>\n",
       "      <th>NO2</th>\n",
       "      <th>NOx</th>\n",
       "      <th>CO</th>\n",
       "      <th>SO2</th>\n",
       "      <th>O3</th>\n",
       "      <th>temp</th>\n",
       "      <th>max_temp</th>\n",
       "      <th>min_temp</th>\n",
       "      <th>humid</th>\n",
       "      <th>visible</th>\n",
       "      <th>wind</th>\n",
       "    </tr>\n",
       "  </thead>\n",
       "  <tbody>\n",
       "    <tr>\n",
       "      <th>0</th>\n",
       "      <td>56.40</td>\n",
       "      <td>95.08</td>\n",
       "      <td>51.73</td>\n",
       "      <td>34.31</td>\n",
       "      <td>0.69</td>\n",
       "      <td>7.44</td>\n",
       "      <td>55.96</td>\n",
       "      <td>20.1</td>\n",
       "      <td>28.4</td>\n",
       "      <td>15.7</td>\n",
       "      <td>54.0</td>\n",
       "      <td>6.0</td>\n",
       "      <td>3.0</td>\n",
       "    </tr>\n",
       "    <tr>\n",
       "      <th>1</th>\n",
       "      <td>53.69</td>\n",
       "      <td>93.92</td>\n",
       "      <td>73.09</td>\n",
       "      <td>54.77</td>\n",
       "      <td>0.76</td>\n",
       "      <td>8.67</td>\n",
       "      <td>34.06</td>\n",
       "      <td>20.8</td>\n",
       "      <td>28.3</td>\n",
       "      <td>12.9</td>\n",
       "      <td>45.0</td>\n",
       "      <td>6.3</td>\n",
       "      <td>1.1</td>\n",
       "    </tr>\n",
       "    <tr>\n",
       "      <th>2</th>\n",
       "      <td>62.35</td>\n",
       "      <td>99.34</td>\n",
       "      <td>77.77</td>\n",
       "      <td>55.60</td>\n",
       "      <td>0.96</td>\n",
       "      <td>9.10</td>\n",
       "      <td>47.62</td>\n",
       "      <td>21.4</td>\n",
       "      <td>29.0</td>\n",
       "      <td>13.7</td>\n",
       "      <td>45.0</td>\n",
       "      <td>6.3</td>\n",
       "      <td>0.4</td>\n",
       "    </tr>\n",
       "    <tr>\n",
       "      <th>3</th>\n",
       "      <td>64.96</td>\n",
       "      <td>104.62</td>\n",
       "      <td>77.07</td>\n",
       "      <td>50.81</td>\n",
       "      <td>0.89</td>\n",
       "      <td>8.87</td>\n",
       "      <td>50.62</td>\n",
       "      <td>21.5</td>\n",
       "      <td>29.0</td>\n",
       "      <td>15.2</td>\n",
       "      <td>47.0</td>\n",
       "      <td>6.9</td>\n",
       "      <td>2.2</td>\n",
       "    </tr>\n",
       "    <tr>\n",
       "      <th>4</th>\n",
       "      <td>70.15</td>\n",
       "      <td>105.12</td>\n",
       "      <td>79.43</td>\n",
       "      <td>56.05</td>\n",
       "      <td>0.85</td>\n",
       "      <td>9.41</td>\n",
       "      <td>36.94</td>\n",
       "      <td>20.9</td>\n",
       "      <td>28.4</td>\n",
       "      <td>14.7</td>\n",
       "      <td>51.0</td>\n",
       "      <td>6.3</td>\n",
       "      <td>1.1</td>\n",
       "    </tr>\n",
       "  </tbody>\n",
       "</table>\n",
       "</div>"
      ],
      "text/plain": [
       "   PM2.5    PM10    NO2    NOx    CO   SO2     O3  temp  max_temp  min_temp  \\\n",
       "0  56.40   95.08  51.73  34.31  0.69  7.44  55.96  20.1      28.4      15.7   \n",
       "1  53.69   93.92  73.09  54.77  0.76  8.67  34.06  20.8      28.3      12.9   \n",
       "2  62.35   99.34  77.77  55.60  0.96  9.10  47.62  21.4      29.0      13.7   \n",
       "3  64.96  104.62  77.07  50.81  0.89  8.87  50.62  21.5      29.0      15.2   \n",
       "4  70.15  105.12  79.43  56.05  0.85  9.41  36.94  20.9      28.4      14.7   \n",
       "\n",
       "   humid  visible  wind  \n",
       "0   54.0      6.0   3.0  \n",
       "1   45.0      6.3   1.1  \n",
       "2   45.0      6.3   0.4  \n",
       "3   47.0      6.9   2.2  \n",
       "4   51.0      6.3   1.1  "
      ]
     },
     "execution_count": 18,
     "metadata": {},
     "output_type": "execute_result"
    }
   ],
   "source": [
    "x_train.head(5)"
   ]
  },
  {
   "cell_type": "code",
   "execution_count": 19,
   "metadata": {},
   "outputs": [
    {
     "data": {
      "text/html": [
       "<div>\n",
       "<style scoped>\n",
       "    .dataframe tbody tr th:only-of-type {\n",
       "        vertical-align: middle;\n",
       "    }\n",
       "\n",
       "    .dataframe tbody tr th {\n",
       "        vertical-align: top;\n",
       "    }\n",
       "\n",
       "    .dataframe thead th {\n",
       "        text-align: right;\n",
       "    }\n",
       "</style>\n",
       "<table border=\"1\" class=\"dataframe\">\n",
       "  <thead>\n",
       "    <tr style=\"text-align: right;\">\n",
       "      <th></th>\n",
       "      <th>PM2.5</th>\n",
       "      <th>PM10</th>\n",
       "      <th>NO2</th>\n",
       "      <th>NOx</th>\n",
       "      <th>CO</th>\n",
       "      <th>SO2</th>\n",
       "      <th>O3</th>\n",
       "      <th>temp</th>\n",
       "      <th>max_temp</th>\n",
       "      <th>min_temp</th>\n",
       "      <th>humid</th>\n",
       "      <th>visible</th>\n",
       "      <th>wind</th>\n",
       "    </tr>\n",
       "  </thead>\n",
       "  <tbody>\n",
       "    <tr>\n",
       "      <th>0</th>\n",
       "      <td>30.71</td>\n",
       "      <td>70.80</td>\n",
       "      <td>27.31</td>\n",
       "      <td>26.74</td>\n",
       "      <td>1.07</td>\n",
       "      <td>8.56</td>\n",
       "      <td>37.39</td>\n",
       "      <td>22.0</td>\n",
       "      <td>27.2</td>\n",
       "      <td>19.2</td>\n",
       "      <td>75</td>\n",
       "      <td>6.9</td>\n",
       "      <td>3.3</td>\n",
       "    </tr>\n",
       "    <tr>\n",
       "      <th>1</th>\n",
       "      <td>25.78</td>\n",
       "      <td>62.73</td>\n",
       "      <td>28.05</td>\n",
       "      <td>30.18</td>\n",
       "      <td>1.16</td>\n",
       "      <td>7.52</td>\n",
       "      <td>33.11</td>\n",
       "      <td>22.2</td>\n",
       "      <td>26.0</td>\n",
       "      <td>19.4</td>\n",
       "      <td>77</td>\n",
       "      <td>5.5</td>\n",
       "      <td>2.0</td>\n",
       "    </tr>\n",
       "    <tr>\n",
       "      <th>2</th>\n",
       "      <td>29.66</td>\n",
       "      <td>69.62</td>\n",
       "      <td>26.26</td>\n",
       "      <td>26.92</td>\n",
       "      <td>0.99</td>\n",
       "      <td>6.40</td>\n",
       "      <td>32.98</td>\n",
       "      <td>23.4</td>\n",
       "      <td>28.4</td>\n",
       "      <td>19.4</td>\n",
       "      <td>68</td>\n",
       "      <td>6.9</td>\n",
       "      <td>3.5</td>\n",
       "    </tr>\n",
       "    <tr>\n",
       "      <th>3</th>\n",
       "      <td>52.62</td>\n",
       "      <td>106.81</td>\n",
       "      <td>31.56</td>\n",
       "      <td>41.89</td>\n",
       "      <td>1.39</td>\n",
       "      <td>6.94</td>\n",
       "      <td>37.35</td>\n",
       "      <td>23.6</td>\n",
       "      <td>30.5</td>\n",
       "      <td>19.0</td>\n",
       "      <td>63</td>\n",
       "      <td>6.3</td>\n",
       "      <td>1.3</td>\n",
       "    </tr>\n",
       "    <tr>\n",
       "      <th>4</th>\n",
       "      <td>52.64</td>\n",
       "      <td>97.94</td>\n",
       "      <td>29.10</td>\n",
       "      <td>29.52</td>\n",
       "      <td>1.01</td>\n",
       "      <td>7.01</td>\n",
       "      <td>45.10</td>\n",
       "      <td>24.2</td>\n",
       "      <td>30.5</td>\n",
       "      <td>20.4</td>\n",
       "      <td>63</td>\n",
       "      <td>6.3</td>\n",
       "      <td>1.3</td>\n",
       "    </tr>\n",
       "  </tbody>\n",
       "</table>\n",
       "</div>"
      ],
      "text/plain": [
       "   PM2.5    PM10    NO2    NOx    CO   SO2     O3  temp  max_temp  min_temp  \\\n",
       "0  30.71   70.80  27.31  26.74  1.07  8.56  37.39  22.0      27.2      19.2   \n",
       "1  25.78   62.73  28.05  30.18  1.16  7.52  33.11  22.2      26.0      19.4   \n",
       "2  29.66   69.62  26.26  26.92  0.99  6.40  32.98  23.4      28.4      19.4   \n",
       "3  52.62  106.81  31.56  41.89  1.39  6.94  37.35  23.6      30.5      19.0   \n",
       "4  52.64   97.94  29.10  29.52  1.01  7.01  45.10  24.2      30.5      20.4   \n",
       "\n",
       "   humid  visible  wind  \n",
       "0     75      6.9   3.3  \n",
       "1     77      5.5   2.0  \n",
       "2     68      6.9   3.5  \n",
       "3     63      6.3   1.3  \n",
       "4     63      6.3   1.3  "
      ]
     },
     "execution_count": 19,
     "metadata": {},
     "output_type": "execute_result"
    }
   ],
   "source": [
    "x_test.head(5)"
   ]
  },
  {
   "cell_type": "code",
   "execution_count": 20,
   "metadata": {},
   "outputs": [
    {
     "data": {
      "text/plain": [
       "0    101.0\n",
       "1     92.0\n",
       "2    108.0\n",
       "3    109.0\n",
       "4    114.0\n",
       "Name: AQI, dtype: float64"
      ]
     },
     "execution_count": 20,
     "metadata": {},
     "output_type": "execute_result"
    }
   ],
   "source": [
    "y_train.head(5)"
   ]
  },
  {
   "cell_type": "code",
   "execution_count": 21,
   "metadata": {},
   "outputs": [
    {
     "data": {
      "text/plain": [
       "0     82.0\n",
       "1     81.0\n",
       "2     85.0\n",
       "3     95.0\n",
       "4    118.0\n",
       "Name: AQI, dtype: float64"
      ]
     },
     "execution_count": 21,
     "metadata": {},
     "output_type": "execute_result"
    }
   ],
   "source": [
    "y_test.head(5)"
   ]
  },
  {
   "cell_type": "code",
   "execution_count": 22,
   "metadata": {},
   "outputs": [],
   "source": [
    "from sklearn.preprocessing import StandardScaler, MinMaxScaler\n",
    "sc_x = StandardScaler()\n",
    "sc_y = StandardScaler()\n",
    "x_train = sc_x.fit_transform(x_train)\n",
    "x_test = sc_x.transform(x_test)\n",
    "y_train = sc_y.fit_transform(np.array(y_train).reshape(-1,1))\n",
    "y_test = sc_y.transform(np.array(y_test).reshape(-1,1))"
   ]
  },
  {
   "cell_type": "code",
   "execution_count": 23,
   "metadata": {},
   "outputs": [
    {
     "data": {
      "text/plain": [
       "array([[-0.27610501],\n",
       "       [-0.30227705],\n",
       "       [-0.1975889 ],\n",
       "       [ 0.06413148],\n",
       "       [ 0.66608835]])"
      ]
     },
     "execution_count": 23,
     "metadata": {},
     "output_type": "execute_result"
    }
   ],
   "source": [
    "y_test[:5]"
   ]
  },
  {
   "cell_type": "code",
   "execution_count": 24,
   "metadata": {},
   "outputs": [
    {
     "data": {
      "text/plain": [
       "GradientBoostingRegressor(alpha=0.9, criterion='friedman_mse', init=None,\n",
       "                          learning_rate=0.1, loss='ls', max_depth=3,\n",
       "                          max_features=None, max_leaf_nodes=None,\n",
       "                          min_impurity_decrease=0.0, min_impurity_split=None,\n",
       "                          min_samples_leaf=1, min_samples_split=2,\n",
       "                          min_weight_fraction_leaf=0.0, n_estimators=100,\n",
       "                          n_iter_no_change=None, presort='auto',\n",
       "                          random_state=None, subsample=1.0, tol=0.0001,\n",
       "                          validation_fraction=0.1, verbose=0, warm_start=False)"
      ]
     },
     "execution_count": 24,
     "metadata": {},
     "output_type": "execute_result"
    }
   ],
   "source": [
    "from sklearn.ensemble import GradientBoostingRegressor\n",
    "regressor = GradientBoostingRegressor()\n",
    "regressor.fit(x_train,y_train)"
   ]
  },
  {
   "cell_type": "code",
   "execution_count": 25,
   "metadata": {},
   "outputs": [
    {
     "data": {
      "text/plain": [
       "array([-0.30664803,  0.02744575, -0.45522541,  0.56821673,  0.39152823,\n",
       "       -0.33634286, -0.45985512, -0.13761617,  0.21430141,  0.06167805,\n",
       "       -0.43960067, -0.05112361,  0.40469433,  0.91172871,  0.24935004,\n",
       "        0.34019051,  0.25525236, -0.59217263, -0.56262186, -0.01497731,\n",
       "        0.0695675 , -0.02144429,  0.04325328,  0.15946079,  0.18446   ,\n",
       "        0.25582022,  0.30949316,  0.40278977,  0.4255181 ,  0.2840163 ,\n",
       "        0.42057773,  0.45941366, -0.24938813, -0.25418846, -0.42233104,\n",
       "        0.11668701,  0.33066576,  0.29736599,  0.32064904,  0.40746019,\n",
       "       -0.16741748, -0.11139299, -0.30030267,  0.00940919,  0.52902124,\n",
       "        0.71358506,  0.4200336 ,  0.26898954,  0.4043111 ,  0.51775921,\n",
       "        0.24915816, -0.20381793, -0.32190889,  0.13897562, -0.13482573,\n",
       "        0.45736285,  0.2023384 ,  0.32740856,  0.14504189,  0.24373536,\n",
       "        0.4673738 ,  0.65162784,  1.76219074,  0.63494524,  0.62830402,\n",
       "        0.30860789,  0.10367325, -0.05551396,  0.20358276,  0.30723921,\n",
       "        0.29236797,  0.1460285 , -0.06520416, -0.35593281,  0.07230334,\n",
       "       -0.43199656, -0.50446128, -0.31805938,  0.44619972,  0.50666258,\n",
       "        0.37658415, -0.03478484,  0.09924211,  0.2197565 , -0.86057172,\n",
       "       -0.94029625, -0.77387695, -0.65316783, -0.22228412,  0.1078362 ,\n",
       "       -0.12004117, -0.17820506, -0.07598379, -0.11422471, -0.05717854,\n",
       "       -0.63267181, -0.18355135, -0.35640078, -0.47804469,  0.18869273,\n",
       "       -0.64542504, -0.57419083, -0.55506317, -0.49390715, -0.42547427,\n",
       "       -0.48798456, -0.5072359 , -0.29127774, -0.49157359, -0.85665164,\n",
       "       -0.93764569, -0.76543852, -0.69058052, -0.60870061, -0.25151876,\n",
       "       -0.89037835, -0.64424282, -0.74117626, -0.55070149, -0.79329866,\n",
       "       -0.66968387, -0.56791011, -0.56984256, -0.48223239, -0.30810351,\n",
       "       -0.14926282, -0.44770745, -0.47163955, -0.72383692, -0.79947907,\n",
       "       -0.54709498, -0.4843061 , -0.86389296, -0.90695394, -0.61251399,\n",
       "       -0.81859382, -0.39373544, -0.30160905, -0.25753693, -0.82518774,\n",
       "       -0.91156371, -0.83574485, -0.63531245, -0.46670179, -0.58265605,\n",
       "       -0.63542767, -0.51736277, -0.46767405, -0.77992992, -0.80571348,\n",
       "       -0.8893096 , -0.7368831 , -1.12757017, -1.29664219, -1.33817791,\n",
       "       -1.12177791, -0.85475676, -0.83829278, -1.06097844, -0.87068831,\n",
       "       -0.83739172, -0.78359487, -1.05402323, -1.15873018, -0.97677208,\n",
       "       -1.1738632 , -1.08756149, -0.87845   , -1.05953758, -0.89726162,\n",
       "       -0.92808345, -1.07917673, -1.09615972, -1.04304939, -0.91874159,\n",
       "       -0.85788747, -0.96075367, -1.11091323, -1.15244895, -1.11325572,\n",
       "       -1.02376198, -1.1516053 ])"
      ]
     },
     "execution_count": 25,
     "metadata": {},
     "output_type": "execute_result"
    }
   ],
   "source": [
    "y_prediction =  regressor.predict(x_test)\n",
    "y_prediction "
   ]
  },
  {
   "cell_type": "code",
   "execution_count": 26,
   "metadata": {},
   "outputs": [
    {
     "name": "stdout",
     "output_type": "stream",
     "text": [
      "R2 SCORE is 0.770856636180251\n",
      "mean_sqrd_error is  0.058365602156151296\n",
      "Root mean squared error of is 0.24158973934368838\n",
      "Mean Absolute error is 0.1872874239791087\n"
     ]
    }
   ],
   "source": [
    "from sklearn.metrics import r2_score\n",
    "from sklearn.metrics import mean_squared_error\n",
    "from sklearn.metrics import mean_absolute_error\n",
    "score = r2_score(y_test,y_prediction)\n",
    "mean_error = mean_squared_error(y_test,y_prediction)\n",
    "mae = mean_absolute_error(y_test,y_prediction)\n",
    "print(\"R2 SCORE is\", score)\n",
    "print(\"mean_sqrd_error is \", mean_error)\n",
    "print(\"Root mean squared error of is\",np.sqrt(mean_error))\n",
    "print(\"Mean Absolute error is\", mae)"
   ]
  },
  {
   "cell_type": "code",
   "execution_count": 27,
   "metadata": {},
   "outputs": [
    {
     "data": {
      "text/plain": [
       "array([[ 82.],\n",
       "       [ 81.],\n",
       "       [ 85.],\n",
       "       [ 95.],\n",
       "       [118.]])"
      ]
     },
     "execution_count": 27,
     "metadata": {},
     "output_type": "execute_result"
    }
   ],
   "source": [
    "y_test = sc_y.inverse_transform(y_test)\n",
    "y_test[:5]"
   ]
  },
  {
   "cell_type": "code",
   "execution_count": 28,
   "metadata": {},
   "outputs": [
    {
     "data": {
      "text/plain": [
       "array([ 80.83299016,  93.59828519,  75.15603902, 114.26045103,\n",
       "       107.50940979])"
      ]
     },
     "execution_count": 28,
     "metadata": {},
     "output_type": "execute_result"
    }
   ],
   "source": [
    "y_prediction = sc_y.inverse_transform(y_prediction)\n",
    "y_prediction[:5]"
   ]
  },
  {
   "cell_type": "code",
   "execution_count": 29,
   "metadata": {},
   "outputs": [
    {
     "data": {
      "image/png": "[encoded data removed]",
      "text/plain": [
       "<Figure size 432x288 with 1 Axes>"
      ]
     },
     "metadata": {
      "needs_background": "light"
     },
     "output_type": "display_data"
    }
   ],
   "source": [
    "df1 = pd.DataFrame({'Actual': y_test[100:120].flatten(), 'Predicted': y_prediction[100:120].flatten()})\n",
    "df1.plot(kind='line')\n",
    "plt.grid(which='major', linestyle='-', linewidth='0.5', color='green')\n",
    "plt.grid(which='minor', linestyle=':', linewidth='0.5', color='black')\n",
    "plt.show()"
   ]
  },
  {
   "cell_type": "code",
   "execution_count": 30,
   "metadata": {},
   "outputs": [
    {
     "data": {
      "text/html": [
       "<div>\n",
       "<style scoped>\n",
       "    .dataframe tbody tr th:only-of-type {\n",
       "        vertical-align: middle;\n",
       "    }\n",
       "\n",
       "    .dataframe tbody tr th {\n",
       "        vertical-align: top;\n",
       "    }\n",
       "\n",
       "    .dataframe thead th {\n",
       "        text-align: right;\n",
       "    }\n",
       "</style>\n",
       "<table border=\"1\" class=\"dataframe\">\n",
       "  <thead>\n",
       "    <tr style=\"text-align: right;\">\n",
       "      <th></th>\n",
       "      <th>ACTUAL AQI</th>\n",
       "      <th>PREDICTED AQI</th>\n",
       "      <th>DIFFERNCE</th>\n",
       "      <th>PERCENTAGE ERROR</th>\n",
       "    </tr>\n",
       "  </thead>\n",
       "  <tbody>\n",
       "    <tr>\n",
       "      <th>0</th>\n",
       "      <td>82.0</td>\n",
       "      <td>80.832990</td>\n",
       "      <td>1.167010</td>\n",
       "      <td>1.423183</td>\n",
       "    </tr>\n",
       "    <tr>\n",
       "      <th>1</th>\n",
       "      <td>81.0</td>\n",
       "      <td>93.598285</td>\n",
       "      <td>-12.598285</td>\n",
       "      <td>15.553439</td>\n",
       "    </tr>\n",
       "    <tr>\n",
       "      <th>2</th>\n",
       "      <td>85.0</td>\n",
       "      <td>75.156039</td>\n",
       "      <td>9.843961</td>\n",
       "      <td>11.581131</td>\n",
       "    </tr>\n",
       "    <tr>\n",
       "      <th>3</th>\n",
       "      <td>95.0</td>\n",
       "      <td>114.260451</td>\n",
       "      <td>-19.260451</td>\n",
       "      <td>20.274159</td>\n",
       "    </tr>\n",
       "    <tr>\n",
       "      <th>4</th>\n",
       "      <td>118.0</td>\n",
       "      <td>107.509410</td>\n",
       "      <td>10.490590</td>\n",
       "      <td>8.890331</td>\n",
       "    </tr>\n",
       "    <tr>\n",
       "      <th>5</th>\n",
       "      <td>81.0</td>\n",
       "      <td>79.698389</td>\n",
       "      <td>1.301611</td>\n",
       "      <td>1.606927</td>\n",
       "    </tr>\n",
       "    <tr>\n",
       "      <th>6</th>\n",
       "      <td>75.0</td>\n",
       "      <td>74.979144</td>\n",
       "      <td>0.020856</td>\n",
       "      <td>0.027808</td>\n",
       "    </tr>\n",
       "    <tr>\n",
       "      <th>7</th>\n",
       "      <td>93.0</td>\n",
       "      <td>87.291481</td>\n",
       "      <td>5.708519</td>\n",
       "      <td>6.138193</td>\n",
       "    </tr>\n",
       "    <tr>\n",
       "      <th>8</th>\n",
       "      <td>101.0</td>\n",
       "      <td>100.737800</td>\n",
       "      <td>0.262200</td>\n",
       "      <td>0.259604</td>\n",
       "    </tr>\n",
       "    <tr>\n",
       "      <th>9</th>\n",
       "      <td>94.0</td>\n",
       "      <td>94.906258</td>\n",
       "      <td>-0.906258</td>\n",
       "      <td>0.964104</td>\n",
       "    </tr>\n",
       "    <tr>\n",
       "      <th>10</th>\n",
       "      <td>78.0</td>\n",
       "      <td>75.753040</td>\n",
       "      <td>2.246960</td>\n",
       "      <td>2.880717</td>\n",
       "    </tr>\n",
       "    <tr>\n",
       "      <th>11</th>\n",
       "      <td>79.0</td>\n",
       "      <td>90.596251</td>\n",
       "      <td>-11.596251</td>\n",
       "      <td>14.678798</td>\n",
       "    </tr>\n",
       "    <tr>\n",
       "      <th>12</th>\n",
       "      <td>106.0</td>\n",
       "      <td>108.012470</td>\n",
       "      <td>-2.012470</td>\n",
       "      <td>1.898556</td>\n",
       "    </tr>\n",
       "    <tr>\n",
       "      <th>13</th>\n",
       "      <td>121.0</td>\n",
       "      <td>127.385603</td>\n",
       "      <td>-6.385603</td>\n",
       "      <td>5.277358</td>\n",
       "    </tr>\n",
       "    <tr>\n",
       "      <th>14</th>\n",
       "      <td>111.0</td>\n",
       "      <td>102.076964</td>\n",
       "      <td>8.923036</td>\n",
       "      <td>8.038772</td>\n",
       "    </tr>\n",
       "  </tbody>\n",
       "</table>\n",
       "</div>"
      ],
      "text/plain": [
       "    ACTUAL AQI  PREDICTED AQI  DIFFERNCE  PERCENTAGE ERROR\n",
       "0         82.0      80.832990   1.167010          1.423183\n",
       "1         81.0      93.598285 -12.598285         15.553439\n",
       "2         85.0      75.156039   9.843961         11.581131\n",
       "3         95.0     114.260451 -19.260451         20.274159\n",
       "4        118.0     107.509410  10.490590          8.890331\n",
       "5         81.0      79.698389   1.301611          1.606927\n",
       "6         75.0      74.979144   0.020856          0.027808\n",
       "7         93.0      87.291481   5.708519          6.138193\n",
       "8        101.0     100.737800   0.262200          0.259604\n",
       "9         94.0      94.906258  -0.906258          0.964104\n",
       "10        78.0      75.753040   2.246960          2.880717\n",
       "11        79.0      90.596251 -11.596251         14.678798\n",
       "12       106.0     108.012470  -2.012470          1.898556\n",
       "13       121.0     127.385603  -6.385603          5.277358\n",
       "14       111.0     102.076964   8.923036          8.038772"
      ]
     },
     "execution_count": 30,
     "metadata": {},
     "output_type": "execute_result"
    }
   ],
   "source": [
    "result = pd.DataFrame()\n",
    "result[\"ACTUAL AQI\"] = y_test.flatten()\n",
    "result[\"PREDICTED AQI\"] = y_prediction\n",
    "result[\"DIFFERNCE\"] = result[\"ACTUAL AQI\"] - result[\"PREDICTED AQI\"]\n",
    "result[\"PERCENTAGE ERROR\"] = ( abs(result[\"ACTUAL AQI\"] - result[\"PREDICTED AQI\"] ) / result[\"ACTUAL AQI\"] ) * 100\n",
    "result.head(15)"
   ]
  },
  {
   "cell_type": "code",
   "execution_count": null,
   "metadata": {},
   "outputs": [],
   "source": []
  }
 ],
 "metadata": {
  "kernelspec": {
   "display_name": "Python 3",
   "language": "python",
   "name": "python3"
  },
  "language_info": {
   "codemirror_mode": {
    "name": "ipython",
    "version": 3
   },
   "file_extension": ".py",
   "mimetype": "text/x-python",
   "name": "python",
   "nbconvert_exporter": "python",
   "pygments_lexer": "ipython3",
   "version": "3.7.3"
  }
 },
 "nbformat": 4,
 "nbformat_minor": 2
}
