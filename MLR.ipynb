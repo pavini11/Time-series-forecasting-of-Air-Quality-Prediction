{
 "cells": [
  {
   "cell_type": "code",
   "execution_count": 35,
   "metadata": {},
   "outputs": [],
   "source": [
    "import pandas as pd\n",
    "import numpy as np\n",
    "import matplotlib.pyplot as plt\n",
    "import seaborn as sns\n",
    "\n",
    "import warnings\n",
    "warnings.filterwarnings(\"ignore\")\n",
    "warnings.simplefilter(action='ignore', category=FutureWarning)"
   ]
  },
  {
   "cell_type": "code",
   "execution_count": 36,
   "metadata": {},
   "outputs": [],
   "source": [
    "df_x = pd.read_csv(\"train_x.csv\")\n",
    "df_y = pd.read_csv(\"train_y.csv\")\n",
    "df_x1 = pd.read_csv(\"test_x.csv\")\n",
    "df_y1 = pd.read_csv(\"test_y.csv\")"
   ]
  },
  {
   "cell_type": "code",
   "execution_count": 37,
   "metadata": {},
   "outputs": [
    {
     "data": {
      "text/html": [
       "<div>\n",
       "<style scoped>\n",
       "    .dataframe tbody tr th:only-of-type {\n",
       "        vertical-align: middle;\n",
       "    }\n",
       "\n",
       "    .dataframe tbody tr th {\n",
       "        vertical-align: top;\n",
       "    }\n",
       "\n",
       "    .dataframe thead th {\n",
       "        text-align: right;\n",
       "    }\n",
       "</style>\n",
       "<table border=\"1\" class=\"dataframe\">\n",
       "  <thead>\n",
       "    <tr style=\"text-align: right;\">\n",
       "      <th></th>\n",
       "      <th>Date</th>\n",
       "      <th>PM2.5</th>\n",
       "      <th>PM10</th>\n",
       "      <th>NO2</th>\n",
       "      <th>NOx</th>\n",
       "      <th>CO</th>\n",
       "      <th>SO2</th>\n",
       "      <th>O3</th>\n",
       "      <th>temp</th>\n",
       "      <th>max_temp</th>\n",
       "      <th>min_temp</th>\n",
       "      <th>humid</th>\n",
       "      <th>visible</th>\n",
       "      <th>wind</th>\n",
       "    </tr>\n",
       "  </thead>\n",
       "  <tbody>\n",
       "    <tr>\n",
       "      <th>0</th>\n",
       "      <td>2016-01-01</td>\n",
       "      <td>56.40</td>\n",
       "      <td>95.08</td>\n",
       "      <td>51.73</td>\n",
       "      <td>34.31</td>\n",
       "      <td>0.69</td>\n",
       "      <td>7.44</td>\n",
       "      <td>55.96</td>\n",
       "      <td>20.1</td>\n",
       "      <td>28.4</td>\n",
       "      <td>15.7</td>\n",
       "      <td>54.0</td>\n",
       "      <td>6.0</td>\n",
       "      <td>3.0</td>\n",
       "    </tr>\n",
       "    <tr>\n",
       "      <th>1</th>\n",
       "      <td>2016-01-02</td>\n",
       "      <td>53.69</td>\n",
       "      <td>93.92</td>\n",
       "      <td>73.09</td>\n",
       "      <td>54.77</td>\n",
       "      <td>0.76</td>\n",
       "      <td>8.67</td>\n",
       "      <td>34.06</td>\n",
       "      <td>20.8</td>\n",
       "      <td>28.3</td>\n",
       "      <td>12.9</td>\n",
       "      <td>45.0</td>\n",
       "      <td>6.3</td>\n",
       "      <td>1.1</td>\n",
       "    </tr>\n",
       "    <tr>\n",
       "      <th>2</th>\n",
       "      <td>2016-01-03</td>\n",
       "      <td>62.35</td>\n",
       "      <td>99.34</td>\n",
       "      <td>77.77</td>\n",
       "      <td>55.60</td>\n",
       "      <td>0.96</td>\n",
       "      <td>9.10</td>\n",
       "      <td>47.62</td>\n",
       "      <td>21.4</td>\n",
       "      <td>29.0</td>\n",
       "      <td>13.7</td>\n",
       "      <td>45.0</td>\n",
       "      <td>6.3</td>\n",
       "      <td>0.4</td>\n",
       "    </tr>\n",
       "    <tr>\n",
       "      <th>3</th>\n",
       "      <td>2016-01-04</td>\n",
       "      <td>64.96</td>\n",
       "      <td>104.62</td>\n",
       "      <td>77.07</td>\n",
       "      <td>50.81</td>\n",
       "      <td>0.89</td>\n",
       "      <td>8.87</td>\n",
       "      <td>50.62</td>\n",
       "      <td>21.5</td>\n",
       "      <td>29.0</td>\n",
       "      <td>15.2</td>\n",
       "      <td>47.0</td>\n",
       "      <td>6.9</td>\n",
       "      <td>2.2</td>\n",
       "    </tr>\n",
       "    <tr>\n",
       "      <th>4</th>\n",
       "      <td>2016-01-05</td>\n",
       "      <td>70.15</td>\n",
       "      <td>105.12</td>\n",
       "      <td>79.43</td>\n",
       "      <td>56.05</td>\n",
       "      <td>0.85</td>\n",
       "      <td>9.41</td>\n",
       "      <td>36.94</td>\n",
       "      <td>20.9</td>\n",
       "      <td>28.4</td>\n",
       "      <td>14.7</td>\n",
       "      <td>51.0</td>\n",
       "      <td>6.3</td>\n",
       "      <td>1.1</td>\n",
       "    </tr>\n",
       "  </tbody>\n",
       "</table>\n",
       "</div>"
      ],
      "text/plain": [
       "         Date  PM2.5    PM10    NO2    NOx    CO   SO2     O3  temp  max_temp  \\\n",
       "0  2016-01-01  56.40   95.08  51.73  34.31  0.69  7.44  55.96  20.1      28.4   \n",
       "1  2016-01-02  53.69   93.92  73.09  54.77  0.76  8.67  34.06  20.8      28.3   \n",
       "2  2016-01-03  62.35   99.34  77.77  55.60  0.96  9.10  47.62  21.4      29.0   \n",
       "3  2016-01-04  64.96  104.62  77.07  50.81  0.89  8.87  50.62  21.5      29.0   \n",
       "4  2016-01-05  70.15  105.12  79.43  56.05  0.85  9.41  36.94  20.9      28.4   \n",
       "\n",
       "   min_temp  humid  visible  wind  \n",
       "0      15.7   54.0      6.0   3.0  \n",
       "1      12.9   45.0      6.3   1.1  \n",
       "2      13.7   45.0      6.3   0.4  \n",
       "3      15.2   47.0      6.9   2.2  \n",
       "4      14.7   51.0      6.3   1.1  "
      ]
     },
     "execution_count": 37,
     "metadata": {},
     "output_type": "execute_result"
    }
   ],
   "source": [
    "df_x.head(5)"
   ]
  },
  {
   "cell_type": "code",
   "execution_count": 38,
   "metadata": {},
   "outputs": [
    {
     "data": {
      "text/html": [
       "<div>\n",
       "<style scoped>\n",
       "    .dataframe tbody tr th:only-of-type {\n",
       "        vertical-align: middle;\n",
       "    }\n",
       "\n",
       "    .dataframe tbody tr th {\n",
       "        vertical-align: top;\n",
       "    }\n",
       "\n",
       "    .dataframe thead th {\n",
       "        text-align: right;\n",
       "    }\n",
       "</style>\n",
       "<table border=\"1\" class=\"dataframe\">\n",
       "  <thead>\n",
       "    <tr style=\"text-align: right;\">\n",
       "      <th></th>\n",
       "      <th>Date</th>\n",
       "      <th>PM2.5</th>\n",
       "      <th>PM10</th>\n",
       "      <th>NO2</th>\n",
       "      <th>NOx</th>\n",
       "      <th>CO</th>\n",
       "      <th>SO2</th>\n",
       "      <th>O3</th>\n",
       "      <th>temp</th>\n",
       "      <th>max_temp</th>\n",
       "      <th>min_temp</th>\n",
       "      <th>humid</th>\n",
       "      <th>visible</th>\n",
       "      <th>wind</th>\n",
       "    </tr>\n",
       "  </thead>\n",
       "  <tbody>\n",
       "    <tr>\n",
       "      <th>0</th>\n",
       "      <td>01-01-2020</td>\n",
       "      <td>30.71</td>\n",
       "      <td>70.80</td>\n",
       "      <td>27.31</td>\n",
       "      <td>26.74</td>\n",
       "      <td>1.07</td>\n",
       "      <td>8.56</td>\n",
       "      <td>37.39</td>\n",
       "      <td>22.0</td>\n",
       "      <td>27.2</td>\n",
       "      <td>19.2</td>\n",
       "      <td>75</td>\n",
       "      <td>6.9</td>\n",
       "      <td>3.3</td>\n",
       "    </tr>\n",
       "    <tr>\n",
       "      <th>1</th>\n",
       "      <td>02-01-2020</td>\n",
       "      <td>25.78</td>\n",
       "      <td>62.73</td>\n",
       "      <td>28.05</td>\n",
       "      <td>30.18</td>\n",
       "      <td>1.16</td>\n",
       "      <td>7.52</td>\n",
       "      <td>33.11</td>\n",
       "      <td>22.2</td>\n",
       "      <td>26.0</td>\n",
       "      <td>19.4</td>\n",
       "      <td>77</td>\n",
       "      <td>5.5</td>\n",
       "      <td>2.0</td>\n",
       "    </tr>\n",
       "    <tr>\n",
       "      <th>2</th>\n",
       "      <td>03-01-2020</td>\n",
       "      <td>29.66</td>\n",
       "      <td>69.62</td>\n",
       "      <td>26.26</td>\n",
       "      <td>26.92</td>\n",
       "      <td>0.99</td>\n",
       "      <td>6.40</td>\n",
       "      <td>32.98</td>\n",
       "      <td>23.4</td>\n",
       "      <td>28.4</td>\n",
       "      <td>19.4</td>\n",
       "      <td>68</td>\n",
       "      <td>6.9</td>\n",
       "      <td>3.5</td>\n",
       "    </tr>\n",
       "    <tr>\n",
       "      <th>3</th>\n",
       "      <td>04-01-2020</td>\n",
       "      <td>52.62</td>\n",
       "      <td>106.81</td>\n",
       "      <td>31.56</td>\n",
       "      <td>41.89</td>\n",
       "      <td>1.39</td>\n",
       "      <td>6.94</td>\n",
       "      <td>37.35</td>\n",
       "      <td>23.6</td>\n",
       "      <td>30.5</td>\n",
       "      <td>19.0</td>\n",
       "      <td>63</td>\n",
       "      <td>6.3</td>\n",
       "      <td>1.3</td>\n",
       "    </tr>\n",
       "    <tr>\n",
       "      <th>4</th>\n",
       "      <td>05-01-2020</td>\n",
       "      <td>52.64</td>\n",
       "      <td>97.94</td>\n",
       "      <td>29.10</td>\n",
       "      <td>29.52</td>\n",
       "      <td>1.01</td>\n",
       "      <td>7.01</td>\n",
       "      <td>45.10</td>\n",
       "      <td>24.2</td>\n",
       "      <td>30.5</td>\n",
       "      <td>20.4</td>\n",
       "      <td>63</td>\n",
       "      <td>6.3</td>\n",
       "      <td>1.3</td>\n",
       "    </tr>\n",
       "  </tbody>\n",
       "</table>\n",
       "</div>"
      ],
      "text/plain": [
       "         Date  PM2.5    PM10    NO2    NOx    CO   SO2     O3  temp  max_temp  \\\n",
       "0  01-01-2020  30.71   70.80  27.31  26.74  1.07  8.56  37.39  22.0      27.2   \n",
       "1  02-01-2020  25.78   62.73  28.05  30.18  1.16  7.52  33.11  22.2      26.0   \n",
       "2  03-01-2020  29.66   69.62  26.26  26.92  0.99  6.40  32.98  23.4      28.4   \n",
       "3  04-01-2020  52.62  106.81  31.56  41.89  1.39  6.94  37.35  23.6      30.5   \n",
       "4  05-01-2020  52.64   97.94  29.10  29.52  1.01  7.01  45.10  24.2      30.5   \n",
       "\n",
       "   min_temp  humid  visible  wind  \n",
       "0      19.2     75      6.9   3.3  \n",
       "1      19.4     77      5.5   2.0  \n",
       "2      19.4     68      6.9   3.5  \n",
       "3      19.0     63      6.3   1.3  \n",
       "4      20.4     63      6.3   1.3  "
      ]
     },
     "execution_count": 38,
     "metadata": {},
     "output_type": "execute_result"
    }
   ],
   "source": [
    "df_x1.head(5)"
   ]
  },
  {
   "cell_type": "code",
   "execution_count": 39,
   "metadata": {},
   "outputs": [
    {
     "data": {
      "text/html": [
       "<div>\n",
       "<style scoped>\n",
       "    .dataframe tbody tr th:only-of-type {\n",
       "        vertical-align: middle;\n",
       "    }\n",
       "\n",
       "    .dataframe tbody tr th {\n",
       "        vertical-align: top;\n",
       "    }\n",
       "\n",
       "    .dataframe thead th {\n",
       "        text-align: right;\n",
       "    }\n",
       "</style>\n",
       "<table border=\"1\" class=\"dataframe\">\n",
       "  <thead>\n",
       "    <tr style=\"text-align: right;\">\n",
       "      <th></th>\n",
       "      <th>Date</th>\n",
       "      <th>AQI</th>\n",
       "    </tr>\n",
       "  </thead>\n",
       "  <tbody>\n",
       "    <tr>\n",
       "      <th>0</th>\n",
       "      <td>2016-01-01</td>\n",
       "      <td>101.0</td>\n",
       "    </tr>\n",
       "    <tr>\n",
       "      <th>1</th>\n",
       "      <td>2016-01-02</td>\n",
       "      <td>92.0</td>\n",
       "    </tr>\n",
       "    <tr>\n",
       "      <th>2</th>\n",
       "      <td>2016-01-03</td>\n",
       "      <td>108.0</td>\n",
       "    </tr>\n",
       "    <tr>\n",
       "      <th>3</th>\n",
       "      <td>2016-01-04</td>\n",
       "      <td>109.0</td>\n",
       "    </tr>\n",
       "    <tr>\n",
       "      <th>4</th>\n",
       "      <td>2016-01-05</td>\n",
       "      <td>114.0</td>\n",
       "    </tr>\n",
       "  </tbody>\n",
       "</table>\n",
       "</div>"
      ],
      "text/plain": [
       "         Date    AQI\n",
       "0  2016-01-01  101.0\n",
       "1  2016-01-02   92.0\n",
       "2  2016-01-03  108.0\n",
       "3  2016-01-04  109.0\n",
       "4  2016-01-05  114.0"
      ]
     },
     "execution_count": 39,
     "metadata": {},
     "output_type": "execute_result"
    }
   ],
   "source": [
    "df_y.head(5)"
   ]
  },
  {
   "cell_type": "code",
   "execution_count": 40,
   "metadata": {},
   "outputs": [
    {
     "data": {
      "text/html": [
       "<div>\n",
       "<style scoped>\n",
       "    .dataframe tbody tr th:only-of-type {\n",
       "        vertical-align: middle;\n",
       "    }\n",
       "\n",
       "    .dataframe tbody tr th {\n",
       "        vertical-align: top;\n",
       "    }\n",
       "\n",
       "    .dataframe thead th {\n",
       "        text-align: right;\n",
       "    }\n",
       "</style>\n",
       "<table border=\"1\" class=\"dataframe\">\n",
       "  <thead>\n",
       "    <tr style=\"text-align: right;\">\n",
       "      <th></th>\n",
       "      <th>Date</th>\n",
       "      <th>AQI</th>\n",
       "    </tr>\n",
       "  </thead>\n",
       "  <tbody>\n",
       "    <tr>\n",
       "      <th>0</th>\n",
       "      <td>2020-01-01</td>\n",
       "      <td>82.0</td>\n",
       "    </tr>\n",
       "    <tr>\n",
       "      <th>1</th>\n",
       "      <td>2020-01-02</td>\n",
       "      <td>81.0</td>\n",
       "    </tr>\n",
       "    <tr>\n",
       "      <th>2</th>\n",
       "      <td>2020-01-03</td>\n",
       "      <td>85.0</td>\n",
       "    </tr>\n",
       "    <tr>\n",
       "      <th>3</th>\n",
       "      <td>2020-01-04</td>\n",
       "      <td>95.0</td>\n",
       "    </tr>\n",
       "    <tr>\n",
       "      <th>4</th>\n",
       "      <td>2020-01-05</td>\n",
       "      <td>118.0</td>\n",
       "    </tr>\n",
       "  </tbody>\n",
       "</table>\n",
       "</div>"
      ],
      "text/plain": [
       "         Date    AQI\n",
       "0  2020-01-01   82.0\n",
       "1  2020-01-02   81.0\n",
       "2  2020-01-03   85.0\n",
       "3  2020-01-04   95.0\n",
       "4  2020-01-05  118.0"
      ]
     },
     "execution_count": 40,
     "metadata": {},
     "output_type": "execute_result"
    }
   ],
   "source": [
    "df_y1.head(5)"
   ]
  },
  {
   "cell_type": "code",
   "execution_count": 41,
   "metadata": {},
   "outputs": [
    {
     "name": "stdout",
     "output_type": "stream",
     "text": [
      "<class 'pandas.core.frame.DataFrame'>\n",
      "RangeIndex: 1441 entries, 0 to 1440\n",
      "Data columns (total 14 columns):\n",
      "Date        1441 non-null object\n",
      "PM2.5       1441 non-null float64\n",
      "PM10        1441 non-null float64\n",
      "NO2         1441 non-null float64\n",
      "NOx         1441 non-null float64\n",
      "CO          1441 non-null float64\n",
      "SO2         1441 non-null float64\n",
      "O3          1441 non-null float64\n",
      "temp        1441 non-null float64\n",
      "max_temp    1441 non-null float64\n",
      "min_temp    1441 non-null float64\n",
      "humid       1441 non-null float64\n",
      "visible     1441 non-null float64\n",
      "wind        1441 non-null float64\n",
      "dtypes: float64(13), object(1)\n",
      "memory usage: 157.7+ KB\n"
     ]
    }
   ],
   "source": [
    "df_x.info()"
   ]
  },
  {
   "cell_type": "code",
   "execution_count": 42,
   "metadata": {},
   "outputs": [
    {
     "name": "stdout",
     "output_type": "stream",
     "text": [
      "<class 'pandas.core.frame.DataFrame'>\n",
      "RangeIndex: 1441 entries, 0 to 1440\n",
      "Data columns (total 2 columns):\n",
      "Date    1441 non-null object\n",
      "AQI     1441 non-null float64\n",
      "dtypes: float64(1), object(1)\n",
      "memory usage: 22.6+ KB\n"
     ]
    }
   ],
   "source": [
    "df_y.info()"
   ]
  },
  {
   "cell_type": "code",
   "execution_count": 43,
   "metadata": {},
   "outputs": [
    {
     "name": "stdout",
     "output_type": "stream",
     "text": [
      "<class 'pandas.core.frame.DataFrame'>\n",
      "RangeIndex: 182 entries, 0 to 181\n",
      "Data columns (total 14 columns):\n",
      "Date        182 non-null object\n",
      "PM2.5       182 non-null float64\n",
      "PM10        182 non-null float64\n",
      "NO2         182 non-null float64\n",
      "NOx         182 non-null float64\n",
      "CO          182 non-null float64\n",
      "SO2         182 non-null float64\n",
      "O3          182 non-null float64\n",
      "temp        182 non-null float64\n",
      "max_temp    182 non-null float64\n",
      "min_temp    182 non-null float64\n",
      "humid       182 non-null int64\n",
      "visible     182 non-null float64\n",
      "wind        182 non-null float64\n",
      "dtypes: float64(12), int64(1), object(1)\n",
      "memory usage: 20.0+ KB\n"
     ]
    }
   ],
   "source": [
    "df_x1.info()"
   ]
  },
  {
   "cell_type": "code",
   "execution_count": 44,
   "metadata": {},
   "outputs": [
    {
     "name": "stdout",
     "output_type": "stream",
     "text": [
      "<class 'pandas.core.frame.DataFrame'>\n",
      "RangeIndex: 182 entries, 0 to 181\n",
      "Data columns (total 2 columns):\n",
      "Date    182 non-null object\n",
      "AQI     182 non-null float64\n",
      "dtypes: float64(1), object(1)\n",
      "memory usage: 2.9+ KB\n"
     ]
    }
   ],
   "source": [
    "df_y1.info()"
   ]
  },
  {
   "cell_type": "code",
   "execution_count": 45,
   "metadata": {},
   "outputs": [],
   "source": [
    "df_x[\"Date\"] = pd.to_datetime(df_x[\"Date\"])"
   ]
  },
  {
   "cell_type": "code",
   "execution_count": 46,
   "metadata": {},
   "outputs": [],
   "source": [
    "df_x1[\"Date\"] = pd.to_datetime(df_x1[\"Date\"])"
   ]
  },
  {
   "cell_type": "code",
   "execution_count": 47,
   "metadata": {},
   "outputs": [
    {
     "name": "stdout",
     "output_type": "stream",
     "text": [
      "<class 'pandas.core.frame.DataFrame'>\n",
      "RangeIndex: 1441 entries, 0 to 1440\n",
      "Data columns (total 14 columns):\n",
      "Date        1441 non-null datetime64[ns]\n",
      "PM2.5       1441 non-null float64\n",
      "PM10        1441 non-null float64\n",
      "NO2         1441 non-null float64\n",
      "NOx         1441 non-null float64\n",
      "CO          1441 non-null float64\n",
      "SO2         1441 non-null float64\n",
      "O3          1441 non-null float64\n",
      "temp        1441 non-null float64\n",
      "max_temp    1441 non-null float64\n",
      "min_temp    1441 non-null float64\n",
      "humid       1441 non-null float64\n",
      "visible     1441 non-null float64\n",
      "wind        1441 non-null float64\n",
      "dtypes: datetime64[ns](1), float64(13)\n",
      "memory usage: 157.7 KB\n"
     ]
    }
   ],
   "source": [
    "df_x.info()"
   ]
  },
  {
   "cell_type": "code",
   "execution_count": 48,
   "metadata": {},
   "outputs": [
    {
     "name": "stdout",
     "output_type": "stream",
     "text": [
      "<class 'pandas.core.frame.DataFrame'>\n",
      "RangeIndex: 182 entries, 0 to 181\n",
      "Data columns (total 14 columns):\n",
      "Date        182 non-null datetime64[ns]\n",
      "PM2.5       182 non-null float64\n",
      "PM10        182 non-null float64\n",
      "NO2         182 non-null float64\n",
      "NOx         182 non-null float64\n",
      "CO          182 non-null float64\n",
      "SO2         182 non-null float64\n",
      "O3          182 non-null float64\n",
      "temp        182 non-null float64\n",
      "max_temp    182 non-null float64\n",
      "min_temp    182 non-null float64\n",
      "humid       182 non-null int64\n",
      "visible     182 non-null float64\n",
      "wind        182 non-null float64\n",
      "dtypes: datetime64[ns](1), float64(12), int64(1)\n",
      "memory usage: 20.0 KB\n"
     ]
    }
   ],
   "source": [
    "df_x1.info()"
   ]
  },
  {
   "cell_type": "code",
   "execution_count": 49,
   "metadata": {},
   "outputs": [
    {
     "data": {
      "text/plain": [
       "<matplotlib.axes._subplots.AxesSubplot at 0x2b4ba3268d0>"
      ]
     },
     "execution_count": 49,
     "metadata": {},
     "output_type": "execute_result"
    },
    {
     "data": {
      "image/png": "[encoded data removed]",
      "text/plain": [
       "<Figure size 432x288 with 1 Axes>"
      ]
     },
     "metadata": {
      "needs_background": "light"
     },
     "output_type": "display_data"
    }
   ],
   "source": [
    "sns.heatmap(df_x.isnull(),cbar=False, yticklabels=False)"
   ]
  },
  {
   "cell_type": "code",
   "execution_count": 50,
   "metadata": {},
   "outputs": [
    {
     "data": {
      "text/plain": [
       "<matplotlib.axes._subplots.AxesSubplot at 0x2b4b9cf4e10>"
      ]
     },
     "execution_count": 50,
     "metadata": {},
     "output_type": "execute_result"
    },
    {
     "data": {
      "image/png": "[encoded data removed]",
      "text/plain": [
       "<Figure size 432x288 with 1 Axes>"
      ]
     },
     "metadata": {
      "needs_background": "light"
     },
     "output_type": "display_data"
    }
   ],
   "source": [
    "sns.heatmap(df_x1.isnull(),cbar=False, yticklabels=False)"
   ]
  },
  {
   "cell_type": "code",
   "execution_count": 51,
   "metadata": {},
   "outputs": [],
   "source": [
    "x_train = df_x.drop(['Date'], axis = 1)\n",
    "y_train = df_y[\"AQI\"]\n",
    "x_test = df_x1.drop(['Date'], axis = 1)\n",
    "y_test = df_y1[\"AQI\"]"
   ]
  },
  {
   "cell_type": "code",
   "execution_count": 52,
   "metadata": {},
   "outputs": [
    {
     "data": {
      "text/html": [
       "<div>\n",
       "<style scoped>\n",
       "    .dataframe tbody tr th:only-of-type {\n",
       "        vertical-align: middle;\n",
       "    }\n",
       "\n",
       "    .dataframe tbody tr th {\n",
       "        vertical-align: top;\n",
       "    }\n",
       "\n",
       "    .dataframe thead th {\n",
       "        text-align: right;\n",
       "    }\n",
       "</style>\n",
       "<table border=\"1\" class=\"dataframe\">\n",
       "  <thead>\n",
       "    <tr style=\"text-align: right;\">\n",
       "      <th></th>\n",
       "      <th>PM2.5</th>\n",
       "      <th>PM10</th>\n",
       "      <th>NO2</th>\n",
       "      <th>NOx</th>\n",
       "      <th>CO</th>\n",
       "      <th>SO2</th>\n",
       "      <th>O3</th>\n",
       "      <th>temp</th>\n",
       "      <th>max_temp</th>\n",
       "      <th>min_temp</th>\n",
       "      <th>humid</th>\n",
       "      <th>visible</th>\n",
       "      <th>wind</th>\n",
       "    </tr>\n",
       "  </thead>\n",
       "  <tbody>\n",
       "    <tr>\n",
       "      <th>0</th>\n",
       "      <td>56.40</td>\n",
       "      <td>95.08</td>\n",
       "      <td>51.73</td>\n",
       "      <td>34.31</td>\n",
       "      <td>0.69</td>\n",
       "      <td>7.44</td>\n",
       "      <td>55.96</td>\n",
       "      <td>20.1</td>\n",
       "      <td>28.4</td>\n",
       "      <td>15.7</td>\n",
       "      <td>54.0</td>\n",
       "      <td>6.0</td>\n",
       "      <td>3.0</td>\n",
       "    </tr>\n",
       "    <tr>\n",
       "      <th>1</th>\n",
       "      <td>53.69</td>\n",
       "      <td>93.92</td>\n",
       "      <td>73.09</td>\n",
       "      <td>54.77</td>\n",
       "      <td>0.76</td>\n",
       "      <td>8.67</td>\n",
       "      <td>34.06</td>\n",
       "      <td>20.8</td>\n",
       "      <td>28.3</td>\n",
       "      <td>12.9</td>\n",
       "      <td>45.0</td>\n",
       "      <td>6.3</td>\n",
       "      <td>1.1</td>\n",
       "    </tr>\n",
       "    <tr>\n",
       "      <th>2</th>\n",
       "      <td>62.35</td>\n",
       "      <td>99.34</td>\n",
       "      <td>77.77</td>\n",
       "      <td>55.60</td>\n",
       "      <td>0.96</td>\n",
       "      <td>9.10</td>\n",
       "      <td>47.62</td>\n",
       "      <td>21.4</td>\n",
       "      <td>29.0</td>\n",
       "      <td>13.7</td>\n",
       "      <td>45.0</td>\n",
       "      <td>6.3</td>\n",
       "      <td>0.4</td>\n",
       "    </tr>\n",
       "    <tr>\n",
       "      <th>3</th>\n",
       "      <td>64.96</td>\n",
       "      <td>104.62</td>\n",
       "      <td>77.07</td>\n",
       "      <td>50.81</td>\n",
       "      <td>0.89</td>\n",
       "      <td>8.87</td>\n",
       "      <td>50.62</td>\n",
       "      <td>21.5</td>\n",
       "      <td>29.0</td>\n",
       "      <td>15.2</td>\n",
       "      <td>47.0</td>\n",
       "      <td>6.9</td>\n",
       "      <td>2.2</td>\n",
       "    </tr>\n",
       "    <tr>\n",
       "      <th>4</th>\n",
       "      <td>70.15</td>\n",
       "      <td>105.12</td>\n",
       "      <td>79.43</td>\n",
       "      <td>56.05</td>\n",
       "      <td>0.85</td>\n",
       "      <td>9.41</td>\n",
       "      <td>36.94</td>\n",
       "      <td>20.9</td>\n",
       "      <td>28.4</td>\n",
       "      <td>14.7</td>\n",
       "      <td>51.0</td>\n",
       "      <td>6.3</td>\n",
       "      <td>1.1</td>\n",
       "    </tr>\n",
       "  </tbody>\n",
       "</table>\n",
       "</div>"
      ],
      "text/plain": [
       "   PM2.5    PM10    NO2    NOx    CO   SO2     O3  temp  max_temp  min_temp  \\\n",
       "0  56.40   95.08  51.73  34.31  0.69  7.44  55.96  20.1      28.4      15.7   \n",
       "1  53.69   93.92  73.09  54.77  0.76  8.67  34.06  20.8      28.3      12.9   \n",
       "2  62.35   99.34  77.77  55.60  0.96  9.10  47.62  21.4      29.0      13.7   \n",
       "3  64.96  104.62  77.07  50.81  0.89  8.87  50.62  21.5      29.0      15.2   \n",
       "4  70.15  105.12  79.43  56.05  0.85  9.41  36.94  20.9      28.4      14.7   \n",
       "\n",
       "   humid  visible  wind  \n",
       "0   54.0      6.0   3.0  \n",
       "1   45.0      6.3   1.1  \n",
       "2   45.0      6.3   0.4  \n",
       "3   47.0      6.9   2.2  \n",
       "4   51.0      6.3   1.1  "
      ]
     },
     "execution_count": 52,
     "metadata": {},
     "output_type": "execute_result"
    }
   ],
   "source": [
    "x_train.head(5)"
   ]
  },
  {
   "cell_type": "code",
   "execution_count": 53,
   "metadata": {},
   "outputs": [
    {
     "data": {
      "text/html": [
       "<div>\n",
       "<style scoped>\n",
       "    .dataframe tbody tr th:only-of-type {\n",
       "        vertical-align: middle;\n",
       "    }\n",
       "\n",
       "    .dataframe tbody tr th {\n",
       "        vertical-align: top;\n",
       "    }\n",
       "\n",
       "    .dataframe thead th {\n",
       "        text-align: right;\n",
       "    }\n",
       "</style>\n",
       "<table border=\"1\" class=\"dataframe\">\n",
       "  <thead>\n",
       "    <tr style=\"text-align: right;\">\n",
       "      <th></th>\n",
       "      <th>PM2.5</th>\n",
       "      <th>PM10</th>\n",
       "      <th>NO2</th>\n",
       "      <th>NOx</th>\n",
       "      <th>CO</th>\n",
       "      <th>SO2</th>\n",
       "      <th>O3</th>\n",
       "      <th>temp</th>\n",
       "      <th>max_temp</th>\n",
       "      <th>min_temp</th>\n",
       "      <th>humid</th>\n",
       "      <th>visible</th>\n",
       "      <th>wind</th>\n",
       "    </tr>\n",
       "  </thead>\n",
       "  <tbody>\n",
       "    <tr>\n",
       "      <th>0</th>\n",
       "      <td>30.71</td>\n",
       "      <td>70.80</td>\n",
       "      <td>27.31</td>\n",
       "      <td>26.74</td>\n",
       "      <td>1.07</td>\n",
       "      <td>8.56</td>\n",
       "      <td>37.39</td>\n",
       "      <td>22.0</td>\n",
       "      <td>27.2</td>\n",
       "      <td>19.2</td>\n",
       "      <td>75</td>\n",
       "      <td>6.9</td>\n",
       "      <td>3.3</td>\n",
       "    </tr>\n",
       "    <tr>\n",
       "      <th>1</th>\n",
       "      <td>25.78</td>\n",
       "      <td>62.73</td>\n",
       "      <td>28.05</td>\n",
       "      <td>30.18</td>\n",
       "      <td>1.16</td>\n",
       "      <td>7.52</td>\n",
       "      <td>33.11</td>\n",
       "      <td>22.2</td>\n",
       "      <td>26.0</td>\n",
       "      <td>19.4</td>\n",
       "      <td>77</td>\n",
       "      <td>5.5</td>\n",
       "      <td>2.0</td>\n",
       "    </tr>\n",
       "    <tr>\n",
       "      <th>2</th>\n",
       "      <td>29.66</td>\n",
       "      <td>69.62</td>\n",
       "      <td>26.26</td>\n",
       "      <td>26.92</td>\n",
       "      <td>0.99</td>\n",
       "      <td>6.40</td>\n",
       "      <td>32.98</td>\n",
       "      <td>23.4</td>\n",
       "      <td>28.4</td>\n",
       "      <td>19.4</td>\n",
       "      <td>68</td>\n",
       "      <td>6.9</td>\n",
       "      <td>3.5</td>\n",
       "    </tr>\n",
       "    <tr>\n",
       "      <th>3</th>\n",
       "      <td>52.62</td>\n",
       "      <td>106.81</td>\n",
       "      <td>31.56</td>\n",
       "      <td>41.89</td>\n",
       "      <td>1.39</td>\n",
       "      <td>6.94</td>\n",
       "      <td>37.35</td>\n",
       "      <td>23.6</td>\n",
       "      <td>30.5</td>\n",
       "      <td>19.0</td>\n",
       "      <td>63</td>\n",
       "      <td>6.3</td>\n",
       "      <td>1.3</td>\n",
       "    </tr>\n",
       "    <tr>\n",
       "      <th>4</th>\n",
       "      <td>52.64</td>\n",
       "      <td>97.94</td>\n",
       "      <td>29.10</td>\n",
       "      <td>29.52</td>\n",
       "      <td>1.01</td>\n",
       "      <td>7.01</td>\n",
       "      <td>45.10</td>\n",
       "      <td>24.2</td>\n",
       "      <td>30.5</td>\n",
       "      <td>20.4</td>\n",
       "      <td>63</td>\n",
       "      <td>6.3</td>\n",
       "      <td>1.3</td>\n",
       "    </tr>\n",
       "  </tbody>\n",
       "</table>\n",
       "</div>"
      ],
      "text/plain": [
       "   PM2.5    PM10    NO2    NOx    CO   SO2     O3  temp  max_temp  min_temp  \\\n",
       "0  30.71   70.80  27.31  26.74  1.07  8.56  37.39  22.0      27.2      19.2   \n",
       "1  25.78   62.73  28.05  30.18  1.16  7.52  33.11  22.2      26.0      19.4   \n",
       "2  29.66   69.62  26.26  26.92  0.99  6.40  32.98  23.4      28.4      19.4   \n",
       "3  52.62  106.81  31.56  41.89  1.39  6.94  37.35  23.6      30.5      19.0   \n",
       "4  52.64   97.94  29.10  29.52  1.01  7.01  45.10  24.2      30.5      20.4   \n",
       "\n",
       "   humid  visible  wind  \n",
       "0     75      6.9   3.3  \n",
       "1     77      5.5   2.0  \n",
       "2     68      6.9   3.5  \n",
       "3     63      6.3   1.3  \n",
       "4     63      6.3   1.3  "
      ]
     },
     "execution_count": 53,
     "metadata": {},
     "output_type": "execute_result"
    }
   ],
   "source": [
    "x_test.head(5)"
   ]
  },
  {
   "cell_type": "code",
   "execution_count": 54,
   "metadata": {},
   "outputs": [
    {
     "data": {
      "text/plain": [
       "0    101.0\n",
       "1     92.0\n",
       "2    108.0\n",
       "3    109.0\n",
       "4    114.0\n",
       "Name: AQI, dtype: float64"
      ]
     },
     "execution_count": 54,
     "metadata": {},
     "output_type": "execute_result"
    }
   ],
   "source": [
    "y_train.head(5)"
   ]
  },
  {
   "cell_type": "code",
   "execution_count": 55,
   "metadata": {},
   "outputs": [
    {
     "data": {
      "text/plain": [
       "0     82.0\n",
       "1     81.0\n",
       "2     85.0\n",
       "3     95.0\n",
       "4    118.0\n",
       "Name: AQI, dtype: float64"
      ]
     },
     "execution_count": 55,
     "metadata": {},
     "output_type": "execute_result"
    }
   ],
   "source": [
    "y_test.head(5)"
   ]
  },
  {
   "cell_type": "code",
   "execution_count": 56,
   "metadata": {},
   "outputs": [],
   "source": [
    "from sklearn.preprocessing import StandardScaler, MinMaxScaler\n",
    "sc_x = StandardScaler()\n",
    "x_train = sc_x.fit_transform(x_train)\n",
    "x_test = sc_x.transform(x_test)"
   ]
  },
  {
   "cell_type": "code",
   "execution_count": 57,
   "metadata": {},
   "outputs": [],
   "source": [
    "from sklearn.preprocessing import StandardScaler, MinMaxScaler\n",
    "sc_y = StandardScaler()\n",
    "y_train = sc_y.fit_transform(np.array(y_train).reshape(-1,1))\n",
    "y_test = sc_y.transform(np.array(y_test).reshape(-1,1))"
   ]
  },
  {
   "cell_type": "code",
   "execution_count": 58,
   "metadata": {},
   "outputs": [
    {
     "data": {
      "text/plain": [
       "array([[-0.27610501],\n",
       "       [-0.30227705],\n",
       "       [-0.1975889 ],\n",
       "       [ 0.06413148],\n",
       "       [ 0.66608835]])"
      ]
     },
     "execution_count": 58,
     "metadata": {},
     "output_type": "execute_result"
    }
   ],
   "source": [
    "y_test[:5]"
   ]
  },
  {
   "cell_type": "code",
   "execution_count": 59,
   "metadata": {},
   "outputs": [
    {
     "data": {
      "text/plain": [
       "LinearRegression(copy_X=True, fit_intercept=True, n_jobs=None, normalize=False)"
      ]
     },
     "execution_count": 59,
     "metadata": {},
     "output_type": "execute_result"
    }
   ],
   "source": [
    "from sklearn.linear_model import LinearRegression\n",
    "regressor = LinearRegression()\n",
    "regressor.fit(x_train,y_train)"
   ]
  },
  {
   "cell_type": "code",
   "execution_count": 60,
   "metadata": {},
   "outputs": [
    {
     "data": {
      "text/plain": [
       "array([[-0.15443872],\n",
       "       [-0.16287207],\n",
       "       [-0.26053511],\n",
       "       [ 0.61807635],\n",
       "       [ 0.48828553],\n",
       "       [-0.43076054],\n",
       "       [-0.37669591],\n",
       "       [ 0.02603702],\n",
       "       [ 0.22448707],\n",
       "       [ 0.14309186],\n",
       "       [-0.20335888],\n",
       "       [ 0.02414246],\n",
       "       [ 0.44479284],\n",
       "       [ 0.74401932],\n",
       "       [ 0.33356591],\n",
       "       [ 0.55856494],\n",
       "       [ 0.29531922],\n",
       "       [-0.43012982],\n",
       "       [-0.45628081],\n",
       "       [ 0.04499704],\n",
       "       [ 0.01974288],\n",
       "       [-0.1935567 ],\n",
       "       [-0.0395035 ],\n",
       "       [ 0.04772714],\n",
       "       [ 0.25804138],\n",
       "       [ 0.32674537],\n",
       "       [ 0.42794233],\n",
       "       [ 0.65367363],\n",
       "       [ 0.63468737],\n",
       "       [ 0.51193541],\n",
       "       [ 0.57074395],\n",
       "       [ 0.55689876],\n",
       "       [-0.08553157],\n",
       "       [-0.0932362 ],\n",
       "       [-0.21657012],\n",
       "       [-0.0745152 ],\n",
       "       [ 0.38364894],\n",
       "       [ 0.46313606],\n",
       "       [ 0.34185557],\n",
       "       [ 0.49656187],\n",
       "       [ 0.02651244],\n",
       "       [-0.12468637],\n",
       "       [-0.19617919],\n",
       "       [ 0.09628079],\n",
       "       [ 0.82581985],\n",
       "       [ 1.08557131],\n",
       "       [ 0.33673594],\n",
       "       [ 0.43175222],\n",
       "       [ 0.51057131],\n",
       "       [ 0.55327444],\n",
       "       [ 0.28175504],\n",
       "       [-0.14057074],\n",
       "       [-0.11986018],\n",
       "       [ 0.06647849],\n",
       "       [-0.00527442],\n",
       "       [ 0.43809208],\n",
       "       [ 0.20817247],\n",
       "       [ 0.27123471],\n",
       "       [ 0.28411692],\n",
       "       [ 0.32980247],\n",
       "       [ 0.40645701],\n",
       "       [ 0.70719404],\n",
       "       [ 1.46428129],\n",
       "       [ 0.80491313],\n",
       "       [ 0.62130993],\n",
       "       [ 0.24886292],\n",
       "       [ 0.24780313],\n",
       "       [ 0.03412317],\n",
       "       [ 0.1545417 ],\n",
       "       [ 0.21557015],\n",
       "       [ 0.21775666],\n",
       "       [ 0.09617807],\n",
       "       [-0.08612892],\n",
       "       [-0.15964083],\n",
       "       [-0.00916762],\n",
       "       [-0.21284118],\n",
       "       [-0.35615372],\n",
       "       [-0.17829385],\n",
       "       [ 0.33635266],\n",
       "       [ 0.33304673],\n",
       "       [ 0.48668297],\n",
       "       [-0.24931849],\n",
       "       [ 0.13420005],\n",
       "       [ 0.08689934],\n",
       "       [-0.59479264],\n",
       "       [-0.6470237 ],\n",
       "       [-0.58747842],\n",
       "       [-0.70469549],\n",
       "       [-0.58246021],\n",
       "       [-0.46141365],\n",
       "       [-0.54508926],\n",
       "       [-0.61446976],\n",
       "       [-0.42309602],\n",
       "       [-0.25592568],\n",
       "       [-0.34092593],\n",
       "       [-0.33355104],\n",
       "       [-0.57629979],\n",
       "       [-0.87504945],\n",
       "       [-0.63900307],\n",
       "       [-0.54928784],\n",
       "       [-0.65237557],\n",
       "       [-0.65270824],\n",
       "       [-0.67489886],\n",
       "       [-0.5498896 ],\n",
       "       [-0.42034498],\n",
       "       [-0.333112  ],\n",
       "       [-0.58859106],\n",
       "       [-0.32097729],\n",
       "       [-0.53087837],\n",
       "       [-0.74002499],\n",
       "       [-0.91396002],\n",
       "       [-0.73749717],\n",
       "       [-0.83567224],\n",
       "       [-0.55008734],\n",
       "       [-0.31337144],\n",
       "       [-0.34681753],\n",
       "       [-0.67769263],\n",
       "       [-0.64684092],\n",
       "       [-0.53264736],\n",
       "       [-0.52998009],\n",
       "       [-0.52619066],\n",
       "       [-0.43274122],\n",
       "       [-0.49904564],\n",
       "       [-0.37235315],\n",
       "       [-0.1751336 ],\n",
       "       [ 0.00164748],\n",
       "       [-0.27491248],\n",
       "       [-0.22882562],\n",
       "       [-0.61002895],\n",
       "       [-0.54238605],\n",
       "       [-0.52283944],\n",
       "       [-0.46265084],\n",
       "       [-0.61647906],\n",
       "       [-0.81309362],\n",
       "       [-0.43126598],\n",
       "       [-0.73024037],\n",
       "       [-0.43241544],\n",
       "       [-0.50307485],\n",
       "       [-0.68137071],\n",
       "       [-0.4261291 ],\n",
       "       [-0.82997507],\n",
       "       [-0.65173211],\n",
       "       [-0.5379151 ],\n",
       "       [-0.35324252],\n",
       "       [-0.52359119],\n",
       "       [-0.44740994],\n",
       "       [-0.31403871],\n",
       "       [-0.4433911 ],\n",
       "       [-0.46601194],\n",
       "       [-0.55152565],\n",
       "       [-0.74110674],\n",
       "       [-0.56329746],\n",
       "       [-1.08688952],\n",
       "       [-1.30411181],\n",
       "       [-1.28981842],\n",
       "       [-1.1404885 ],\n",
       "       [-0.74689314],\n",
       "       [-0.779659  ],\n",
       "       [-0.85859565],\n",
       "       [-0.83092029],\n",
       "       [-0.79238373],\n",
       "       [-0.58139269],\n",
       "       [-0.85325363],\n",
       "       [-1.01200862],\n",
       "       [-0.92865344],\n",
       "       [-1.06390829],\n",
       "       [-1.03938222],\n",
       "       [-0.79574215],\n",
       "       [-0.78485261],\n",
       "       [-0.75480554],\n",
       "       [-0.87912069],\n",
       "       [-0.94831495],\n",
       "       [-1.03291384],\n",
       "       [-0.92898742],\n",
       "       [-0.83485072],\n",
       "       [-0.76194728],\n",
       "       [-0.79361993],\n",
       "       [-1.08420639],\n",
       "       [-1.09829895],\n",
       "       [-0.96738182],\n",
       "       [-0.76794043],\n",
       "       [-1.20592838]])"
      ]
     },
     "execution_count": 60,
     "metadata": {},
     "output_type": "execute_result"
    }
   ],
   "source": [
    "y_prediction =  regressor.predict(x_test)\n",
    "y_prediction"
   ]
  },
  {
   "cell_type": "code",
   "execution_count": 61,
   "metadata": {},
   "outputs": [
    {
     "name": "stdout",
     "output_type": "stream",
     "text": [
      "R2 SCORE is 0.8470203628726012\n",
      "mean_sqrd_error is  0.03896577448166367\n",
      "Root mean squared error of is 0.19739750373716397\n",
      "Mean Absolute error is 0.15755965269436328\n"
     ]
    }
   ],
   "source": [
    "from sklearn.metrics import r2_score\n",
    "from sklearn.metrics import mean_squared_error\n",
    "from sklearn.metrics import mean_absolute_error\n",
    "score = r2_score(y_test,y_prediction)\n",
    "mean_error = mean_squared_error(y_test,y_prediction)\n",
    "mae = mean_absolute_error(y_test,y_prediction)\n",
    "print(\"R2 SCORE is\", score)\n",
    "print(\"mean_sqrd_error is \", mean_error)\n",
    "print(\"Root mean squared error of is\",np.sqrt(mean_error))\n",
    "print(\"Mean Absolute error is\", mae)"
   ]
  },
  {
   "cell_type": "code",
   "execution_count": 62,
   "metadata": {},
   "outputs": [
    {
     "data": {
      "text/plain": [
       "array([[ 82.],\n",
       "       [ 81.],\n",
       "       [ 85.],\n",
       "       [ 95.],\n",
       "       [118.]])"
      ]
     },
     "execution_count": 62,
     "metadata": {},
     "output_type": "execute_result"
    }
   ],
   "source": [
    "y_test = sc_y.inverse_transform(y_test)\n",
    "y_test[:5]"
   ]
  },
  {
   "cell_type": "code",
   "execution_count": 63,
   "metadata": {},
   "outputs": [
    {
     "data": {
      "text/plain": [
       "array([[ 86.6487127 ],\n",
       "       [ 86.32648544],\n",
       "       [ 82.59490571],\n",
       "       [116.16552321],\n",
       "       [111.20638229]])"
      ]
     },
     "execution_count": 63,
     "metadata": {},
     "output_type": "execute_result"
    }
   ],
   "source": [
    "y_prediction = sc_y.inverse_transform(y_prediction)\n",
    "y_prediction[:5]"
   ]
  },
  {
   "cell_type": "code",
   "execution_count": 64,
   "metadata": {},
   "outputs": [
    {
     "data": {
      "image/png": "[encoded data removed]",
      "text/plain": [
       "<Figure size 432x288 with 1 Axes>"
      ]
     },
     "metadata": {
      "needs_background": "light"
     },
     "output_type": "display_data"
    }
   ],
   "source": [
    "df1 = pd.DataFrame({'Actual': y_test[100:120].flatten(), 'Predicted': y_prediction[100:120].flatten()})\n",
    "df1.plot(kind='line')\n",
    "plt.grid(which='major', linestyle='-', linewidth='0.5', color='green')\n",
    "plt.grid(which='minor', linestyle=':', linewidth='0.5', color='black')\n",
    "plt.show()"
   ]
  },
  {
   "cell_type": "code",
   "execution_count": 65,
   "metadata": {},
   "outputs": [],
   "source": [
    "result = pd.DataFrame()\n",
    "result[\"ACTUAL AQI\"] = y_test.flatten()\n",
    "result[\"PREDICTED AQI\"] = y_prediction\n",
    "result[\"DIFFERENCE\"] = result[\"ACTUAL AQI\"] - result[\"PREDICTED AQI\"]\n",
    "result[\"PERCENTAGE ERROR\"] = ( abs(result[\"ACTUAL AQI\"] - result[\"PREDICTED AQI\"] ) / result[\"ACTUAL AQI\"] ) * 100"
   ]
  },
  {
   "cell_type": "code",
   "execution_count": 66,
   "metadata": {},
   "outputs": [
    {
     "data": {
      "text/html": [
       "<div>\n",
       "<style scoped>\n",
       "    .dataframe tbody tr th:only-of-type {\n",
       "        vertical-align: middle;\n",
       "    }\n",
       "\n",
       "    .dataframe tbody tr th {\n",
       "        vertical-align: top;\n",
       "    }\n",
       "\n",
       "    .dataframe thead th {\n",
       "        text-align: right;\n",
       "    }\n",
       "</style>\n",
       "<table border=\"1\" class=\"dataframe\">\n",
       "  <thead>\n",
       "    <tr style=\"text-align: right;\">\n",
       "      <th></th>\n",
       "      <th>ACTUAL AQI</th>\n",
       "      <th>PREDICTED AQI</th>\n",
       "      <th>DIFFERENCE</th>\n",
       "      <th>PERCENTAGE ERROR</th>\n",
       "    </tr>\n",
       "  </thead>\n",
       "  <tbody>\n",
       "    <tr>\n",
       "      <th>0</th>\n",
       "      <td>82.0</td>\n",
       "      <td>86.648713</td>\n",
       "      <td>-4.648713</td>\n",
       "      <td>5.669162</td>\n",
       "    </tr>\n",
       "    <tr>\n",
       "      <th>1</th>\n",
       "      <td>81.0</td>\n",
       "      <td>86.326485</td>\n",
       "      <td>-5.326485</td>\n",
       "      <td>6.575908</td>\n",
       "    </tr>\n",
       "    <tr>\n",
       "      <th>2</th>\n",
       "      <td>85.0</td>\n",
       "      <td>82.594906</td>\n",
       "      <td>2.405094</td>\n",
       "      <td>2.829523</td>\n",
       "    </tr>\n",
       "    <tr>\n",
       "      <th>3</th>\n",
       "      <td>95.0</td>\n",
       "      <td>116.165523</td>\n",
       "      <td>-21.165523</td>\n",
       "      <td>22.279498</td>\n",
       "    </tr>\n",
       "    <tr>\n",
       "      <th>4</th>\n",
       "      <td>118.0</td>\n",
       "      <td>111.206382</td>\n",
       "      <td>6.793618</td>\n",
       "      <td>5.757303</td>\n",
       "    </tr>\n",
       "    <tr>\n",
       "      <th>5</th>\n",
       "      <td>81.0</td>\n",
       "      <td>76.090810</td>\n",
       "      <td>4.909190</td>\n",
       "      <td>6.060728</td>\n",
       "    </tr>\n",
       "    <tr>\n",
       "      <th>6</th>\n",
       "      <td>75.0</td>\n",
       "      <td>78.156551</td>\n",
       "      <td>-3.156551</td>\n",
       "      <td>4.208734</td>\n",
       "    </tr>\n",
       "    <tr>\n",
       "      <th>7</th>\n",
       "      <td>93.0</td>\n",
       "      <td>93.544459</td>\n",
       "      <td>-0.544459</td>\n",
       "      <td>0.585440</td>\n",
       "    </tr>\n",
       "    <tr>\n",
       "      <th>8</th>\n",
       "      <td>101.0</td>\n",
       "      <td>101.126981</td>\n",
       "      <td>-0.126981</td>\n",
       "      <td>0.125724</td>\n",
       "    </tr>\n",
       "    <tr>\n",
       "      <th>9</th>\n",
       "      <td>94.0</td>\n",
       "      <td>98.016975</td>\n",
       "      <td>-4.016975</td>\n",
       "      <td>4.273377</td>\n",
       "    </tr>\n",
       "    <tr>\n",
       "      <th>10</th>\n",
       "      <td>78.0</td>\n",
       "      <td>84.779536</td>\n",
       "      <td>-6.779536</td>\n",
       "      <td>8.691713</td>\n",
       "    </tr>\n",
       "    <tr>\n",
       "      <th>11</th>\n",
       "      <td>79.0</td>\n",
       "      <td>93.472071</td>\n",
       "      <td>-14.472071</td>\n",
       "      <td>18.319077</td>\n",
       "    </tr>\n",
       "    <tr>\n",
       "      <th>12</th>\n",
       "      <td>106.0</td>\n",
       "      <td>109.544582</td>\n",
       "      <td>-3.544582</td>\n",
       "      <td>3.343946</td>\n",
       "    </tr>\n",
       "    <tr>\n",
       "      <th>13</th>\n",
       "      <td>121.0</td>\n",
       "      <td>120.977642</td>\n",
       "      <td>0.022358</td>\n",
       "      <td>0.018477</td>\n",
       "    </tr>\n",
       "    <tr>\n",
       "      <th>14</th>\n",
       "      <td>111.0</td>\n",
       "      <td>105.294744</td>\n",
       "      <td>5.705256</td>\n",
       "      <td>5.139870</td>\n",
       "    </tr>\n",
       "  </tbody>\n",
       "</table>\n",
       "</div>"
      ],
      "text/plain": [
       "    ACTUAL AQI  PREDICTED AQI  DIFFERENCE  PERCENTAGE ERROR\n",
       "0         82.0      86.648713   -4.648713          5.669162\n",
       "1         81.0      86.326485   -5.326485          6.575908\n",
       "2         85.0      82.594906    2.405094          2.829523\n",
       "3         95.0     116.165523  -21.165523         22.279498\n",
       "4        118.0     111.206382    6.793618          5.757303\n",
       "5         81.0      76.090810    4.909190          6.060728\n",
       "6         75.0      78.156551   -3.156551          4.208734\n",
       "7         93.0      93.544459   -0.544459          0.585440\n",
       "8        101.0     101.126981   -0.126981          0.125724\n",
       "9         94.0      98.016975   -4.016975          4.273377\n",
       "10        78.0      84.779536   -6.779536          8.691713\n",
       "11        79.0      93.472071  -14.472071         18.319077\n",
       "12       106.0     109.544582   -3.544582          3.343946\n",
       "13       121.0     120.977642    0.022358          0.018477\n",
       "14       111.0     105.294744    5.705256          5.139870"
      ]
     },
     "execution_count": 66,
     "metadata": {},
     "output_type": "execute_result"
    }
   ],
   "source": [
    "result.head(15)"
   ]
  },
  {
   "cell_type": "code",
   "execution_count": null,
   "metadata": {},
   "outputs": [],
   "source": []
  }
 ],
 "metadata": {
  "kernelspec": {
   "display_name": "Python 3",
   "language": "python",
   "name": "python3"
  },
  "language_info": {
   "codemirror_mode": {
    "name": "ipython",
    "version": 3
   },
   "file_extension": ".py",
   "mimetype": "text/x-python",
   "name": "python",
   "nbconvert_exporter": "python",
   "pygments_lexer": "ipython3",
   "version": "3.7.3"
  }
 },
 "nbformat": 4,
 "nbformat_minor": 2
}
