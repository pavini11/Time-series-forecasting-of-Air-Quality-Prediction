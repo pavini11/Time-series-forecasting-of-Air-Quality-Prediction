{
 "cells": [
  {
   "cell_type": "code",
   "execution_count": 1,
   "metadata": {},
   "outputs": [],
   "source": [
    "import pandas as pd\n",
    "import numpy as np\n",
    "import matplotlib.pyplot as plt\n",
    "import seaborn as sns\n",
    "import matplotlib.pyplot as plt\n",
    "\n",
    "import warnings\n",
    "warnings.filterwarnings(\"ignore\")\n",
    "warnings.simplefilter(action='ignore', category=FutureWarning)"
   ]
  },
  {
   "cell_type": "code",
   "execution_count": 2,
   "metadata": {},
   "outputs": [],
   "source": [
    "df_x = pd.read_csv(\"train_x.csv\")\n",
    "df_y = pd.read_csv(\"train_y.csv\")\n",
    "df_x1 = pd.read_csv(\"test_x.csv\")\n",
    "df_y1 = pd.read_csv(\"test_y.csv\")"
   ]
  },
  {
   "cell_type": "code",
   "execution_count": 3,
   "metadata": {},
   "outputs": [
    {
     "data": {
      "text/html": [
       "<div>\n",
       "<style scoped>\n",
       "    .dataframe tbody tr th:only-of-type {\n",
       "        vertical-align: middle;\n",
       "    }\n",
       "\n",
       "    .dataframe tbody tr th {\n",
       "        vertical-align: top;\n",
       "    }\n",
       "\n",
       "    .dataframe thead th {\n",
       "        text-align: right;\n",
       "    }\n",
       "</style>\n",
       "<table border=\"1\" class=\"dataframe\">\n",
       "  <thead>\n",
       "    <tr style=\"text-align: right;\">\n",
       "      <th></th>\n",
       "      <th>Date</th>\n",
       "      <th>PM2.5</th>\n",
       "      <th>PM10</th>\n",
       "      <th>NO2</th>\n",
       "      <th>NOx</th>\n",
       "      <th>CO</th>\n",
       "      <th>SO2</th>\n",
       "      <th>O3</th>\n",
       "      <th>temp</th>\n",
       "      <th>max_temp</th>\n",
       "      <th>min_temp</th>\n",
       "      <th>humid</th>\n",
       "      <th>visible</th>\n",
       "      <th>wind</th>\n",
       "    </tr>\n",
       "  </thead>\n",
       "  <tbody>\n",
       "    <tr>\n",
       "      <th>0</th>\n",
       "      <td>2016-01-01</td>\n",
       "      <td>56.40</td>\n",
       "      <td>95.08</td>\n",
       "      <td>51.73</td>\n",
       "      <td>34.31</td>\n",
       "      <td>0.69</td>\n",
       "      <td>7.44</td>\n",
       "      <td>55.96</td>\n",
       "      <td>20.1</td>\n",
       "      <td>28.4</td>\n",
       "      <td>15.7</td>\n",
       "      <td>54.0</td>\n",
       "      <td>6.0</td>\n",
       "      <td>3.0</td>\n",
       "    </tr>\n",
       "    <tr>\n",
       "      <th>1</th>\n",
       "      <td>2016-01-02</td>\n",
       "      <td>53.69</td>\n",
       "      <td>93.92</td>\n",
       "      <td>73.09</td>\n",
       "      <td>54.77</td>\n",
       "      <td>0.76</td>\n",
       "      <td>8.67</td>\n",
       "      <td>34.06</td>\n",
       "      <td>20.8</td>\n",
       "      <td>28.3</td>\n",
       "      <td>12.9</td>\n",
       "      <td>45.0</td>\n",
       "      <td>6.3</td>\n",
       "      <td>1.1</td>\n",
       "    </tr>\n",
       "    <tr>\n",
       "      <th>2</th>\n",
       "      <td>2016-01-03</td>\n",
       "      <td>62.35</td>\n",
       "      <td>99.34</td>\n",
       "      <td>77.77</td>\n",
       "      <td>55.60</td>\n",
       "      <td>0.96</td>\n",
       "      <td>9.10</td>\n",
       "      <td>47.62</td>\n",
       "      <td>21.4</td>\n",
       "      <td>29.0</td>\n",
       "      <td>13.7</td>\n",
       "      <td>45.0</td>\n",
       "      <td>6.3</td>\n",
       "      <td>0.4</td>\n",
       "    </tr>\n",
       "    <tr>\n",
       "      <th>3</th>\n",
       "      <td>2016-01-04</td>\n",
       "      <td>64.96</td>\n",
       "      <td>104.62</td>\n",
       "      <td>77.07</td>\n",
       "      <td>50.81</td>\n",
       "      <td>0.89</td>\n",
       "      <td>8.87</td>\n",
       "      <td>50.62</td>\n",
       "      <td>21.5</td>\n",
       "      <td>29.0</td>\n",
       "      <td>15.2</td>\n",
       "      <td>47.0</td>\n",
       "      <td>6.9</td>\n",
       "      <td>2.2</td>\n",
       "    </tr>\n",
       "    <tr>\n",
       "      <th>4</th>\n",
       "      <td>2016-01-05</td>\n",
       "      <td>70.15</td>\n",
       "      <td>105.12</td>\n",
       "      <td>79.43</td>\n",
       "      <td>56.05</td>\n",
       "      <td>0.85</td>\n",
       "      <td>9.41</td>\n",
       "      <td>36.94</td>\n",
       "      <td>20.9</td>\n",
       "      <td>28.4</td>\n",
       "      <td>14.7</td>\n",
       "      <td>51.0</td>\n",
       "      <td>6.3</td>\n",
       "      <td>1.1</td>\n",
       "    </tr>\n",
       "  </tbody>\n",
       "</table>\n",
       "</div>"
      ],
      "text/plain": [
       "         Date  PM2.5    PM10    NO2    NOx    CO   SO2     O3  temp  max_temp  \\\n",
       "0  2016-01-01  56.40   95.08  51.73  34.31  0.69  7.44  55.96  20.1      28.4   \n",
       "1  2016-01-02  53.69   93.92  73.09  54.77  0.76  8.67  34.06  20.8      28.3   \n",
       "2  2016-01-03  62.35   99.34  77.77  55.60  0.96  9.10  47.62  21.4      29.0   \n",
       "3  2016-01-04  64.96  104.62  77.07  50.81  0.89  8.87  50.62  21.5      29.0   \n",
       "4  2016-01-05  70.15  105.12  79.43  56.05  0.85  9.41  36.94  20.9      28.4   \n",
       "\n",
       "   min_temp  humid  visible  wind  \n",
       "0      15.7   54.0      6.0   3.0  \n",
       "1      12.9   45.0      6.3   1.1  \n",
       "2      13.7   45.0      6.3   0.4  \n",
       "3      15.2   47.0      6.9   2.2  \n",
       "4      14.7   51.0      6.3   1.1  "
      ]
     },
     "execution_count": 3,
     "metadata": {},
     "output_type": "execute_result"
    }
   ],
   "source": [
    "df_x.head(5)"
   ]
  },
  {
   "cell_type": "code",
   "execution_count": 4,
   "metadata": {},
   "outputs": [
    {
     "data": {
      "text/html": [
       "<div>\n",
       "<style scoped>\n",
       "    .dataframe tbody tr th:only-of-type {\n",
       "        vertical-align: middle;\n",
       "    }\n",
       "\n",
       "    .dataframe tbody tr th {\n",
       "        vertical-align: top;\n",
       "    }\n",
       "\n",
       "    .dataframe thead th {\n",
       "        text-align: right;\n",
       "    }\n",
       "</style>\n",
       "<table border=\"1\" class=\"dataframe\">\n",
       "  <thead>\n",
       "    <tr style=\"text-align: right;\">\n",
       "      <th></th>\n",
       "      <th>Date</th>\n",
       "      <th>PM2.5</th>\n",
       "      <th>PM10</th>\n",
       "      <th>NO2</th>\n",
       "      <th>NOx</th>\n",
       "      <th>CO</th>\n",
       "      <th>SO2</th>\n",
       "      <th>O3</th>\n",
       "      <th>temp</th>\n",
       "      <th>max_temp</th>\n",
       "      <th>min_temp</th>\n",
       "      <th>humid</th>\n",
       "      <th>visible</th>\n",
       "      <th>wind</th>\n",
       "    </tr>\n",
       "  </thead>\n",
       "  <tbody>\n",
       "    <tr>\n",
       "      <th>0</th>\n",
       "      <td>01-01-2020</td>\n",
       "      <td>30.71</td>\n",
       "      <td>70.80</td>\n",
       "      <td>27.31</td>\n",
       "      <td>26.74</td>\n",
       "      <td>1.07</td>\n",
       "      <td>8.56</td>\n",
       "      <td>37.39</td>\n",
       "      <td>22.0</td>\n",
       "      <td>27.2</td>\n",
       "      <td>19.2</td>\n",
       "      <td>75</td>\n",
       "      <td>6.9</td>\n",
       "      <td>3.3</td>\n",
       "    </tr>\n",
       "    <tr>\n",
       "      <th>1</th>\n",
       "      <td>02-01-2020</td>\n",
       "      <td>25.78</td>\n",
       "      <td>62.73</td>\n",
       "      <td>28.05</td>\n",
       "      <td>30.18</td>\n",
       "      <td>1.16</td>\n",
       "      <td>7.52</td>\n",
       "      <td>33.11</td>\n",
       "      <td>22.2</td>\n",
       "      <td>26.0</td>\n",
       "      <td>19.4</td>\n",
       "      <td>77</td>\n",
       "      <td>5.5</td>\n",
       "      <td>2.0</td>\n",
       "    </tr>\n",
       "    <tr>\n",
       "      <th>2</th>\n",
       "      <td>03-01-2020</td>\n",
       "      <td>29.66</td>\n",
       "      <td>69.62</td>\n",
       "      <td>26.26</td>\n",
       "      <td>26.92</td>\n",
       "      <td>0.99</td>\n",
       "      <td>6.40</td>\n",
       "      <td>32.98</td>\n",
       "      <td>23.4</td>\n",
       "      <td>28.4</td>\n",
       "      <td>19.4</td>\n",
       "      <td>68</td>\n",
       "      <td>6.9</td>\n",
       "      <td>3.5</td>\n",
       "    </tr>\n",
       "    <tr>\n",
       "      <th>3</th>\n",
       "      <td>04-01-2020</td>\n",
       "      <td>52.62</td>\n",
       "      <td>106.81</td>\n",
       "      <td>31.56</td>\n",
       "      <td>41.89</td>\n",
       "      <td>1.39</td>\n",
       "      <td>6.94</td>\n",
       "      <td>37.35</td>\n",
       "      <td>23.6</td>\n",
       "      <td>30.5</td>\n",
       "      <td>19.0</td>\n",
       "      <td>63</td>\n",
       "      <td>6.3</td>\n",
       "      <td>1.3</td>\n",
       "    </tr>\n",
       "    <tr>\n",
       "      <th>4</th>\n",
       "      <td>05-01-2020</td>\n",
       "      <td>52.64</td>\n",
       "      <td>97.94</td>\n",
       "      <td>29.10</td>\n",
       "      <td>29.52</td>\n",
       "      <td>1.01</td>\n",
       "      <td>7.01</td>\n",
       "      <td>45.10</td>\n",
       "      <td>24.2</td>\n",
       "      <td>30.5</td>\n",
       "      <td>20.4</td>\n",
       "      <td>63</td>\n",
       "      <td>6.3</td>\n",
       "      <td>1.3</td>\n",
       "    </tr>\n",
       "  </tbody>\n",
       "</table>\n",
       "</div>"
      ],
      "text/plain": [
       "         Date  PM2.5    PM10    NO2    NOx    CO   SO2     O3  temp  max_temp  \\\n",
       "0  01-01-2020  30.71   70.80  27.31  26.74  1.07  8.56  37.39  22.0      27.2   \n",
       "1  02-01-2020  25.78   62.73  28.05  30.18  1.16  7.52  33.11  22.2      26.0   \n",
       "2  03-01-2020  29.66   69.62  26.26  26.92  0.99  6.40  32.98  23.4      28.4   \n",
       "3  04-01-2020  52.62  106.81  31.56  41.89  1.39  6.94  37.35  23.6      30.5   \n",
       "4  05-01-2020  52.64   97.94  29.10  29.52  1.01  7.01  45.10  24.2      30.5   \n",
       "\n",
       "   min_temp  humid  visible  wind  \n",
       "0      19.2     75      6.9   3.3  \n",
       "1      19.4     77      5.5   2.0  \n",
       "2      19.4     68      6.9   3.5  \n",
       "3      19.0     63      6.3   1.3  \n",
       "4      20.4     63      6.3   1.3  "
      ]
     },
     "execution_count": 4,
     "metadata": {},
     "output_type": "execute_result"
    }
   ],
   "source": [
    "df_x1.head(5)"
   ]
  },
  {
   "cell_type": "code",
   "execution_count": 5,
   "metadata": {},
   "outputs": [
    {
     "data": {
      "text/html": [
       "<div>\n",
       "<style scoped>\n",
       "    .dataframe tbody tr th:only-of-type {\n",
       "        vertical-align: middle;\n",
       "    }\n",
       "\n",
       "    .dataframe tbody tr th {\n",
       "        vertical-align: top;\n",
       "    }\n",
       "\n",
       "    .dataframe thead th {\n",
       "        text-align: right;\n",
       "    }\n",
       "</style>\n",
       "<table border=\"1\" class=\"dataframe\">\n",
       "  <thead>\n",
       "    <tr style=\"text-align: right;\">\n",
       "      <th></th>\n",
       "      <th>Date</th>\n",
       "      <th>AQI</th>\n",
       "    </tr>\n",
       "  </thead>\n",
       "  <tbody>\n",
       "    <tr>\n",
       "      <th>0</th>\n",
       "      <td>2016-01-01</td>\n",
       "      <td>101.0</td>\n",
       "    </tr>\n",
       "    <tr>\n",
       "      <th>1</th>\n",
       "      <td>2016-01-02</td>\n",
       "      <td>92.0</td>\n",
       "    </tr>\n",
       "    <tr>\n",
       "      <th>2</th>\n",
       "      <td>2016-01-03</td>\n",
       "      <td>108.0</td>\n",
       "    </tr>\n",
       "    <tr>\n",
       "      <th>3</th>\n",
       "      <td>2016-01-04</td>\n",
       "      <td>109.0</td>\n",
       "    </tr>\n",
       "    <tr>\n",
       "      <th>4</th>\n",
       "      <td>2016-01-05</td>\n",
       "      <td>114.0</td>\n",
       "    </tr>\n",
       "  </tbody>\n",
       "</table>\n",
       "</div>"
      ],
      "text/plain": [
       "         Date    AQI\n",
       "0  2016-01-01  101.0\n",
       "1  2016-01-02   92.0\n",
       "2  2016-01-03  108.0\n",
       "3  2016-01-04  109.0\n",
       "4  2016-01-05  114.0"
      ]
     },
     "execution_count": 5,
     "metadata": {},
     "output_type": "execute_result"
    }
   ],
   "source": [
    "df_y.head(5)"
   ]
  },
  {
   "cell_type": "code",
   "execution_count": 6,
   "metadata": {},
   "outputs": [
    {
     "data": {
      "text/html": [
       "<div>\n",
       "<style scoped>\n",
       "    .dataframe tbody tr th:only-of-type {\n",
       "        vertical-align: middle;\n",
       "    }\n",
       "\n",
       "    .dataframe tbody tr th {\n",
       "        vertical-align: top;\n",
       "    }\n",
       "\n",
       "    .dataframe thead th {\n",
       "        text-align: right;\n",
       "    }\n",
       "</style>\n",
       "<table border=\"1\" class=\"dataframe\">\n",
       "  <thead>\n",
       "    <tr style=\"text-align: right;\">\n",
       "      <th></th>\n",
       "      <th>Date</th>\n",
       "      <th>AQI</th>\n",
       "    </tr>\n",
       "  </thead>\n",
       "  <tbody>\n",
       "    <tr>\n",
       "      <th>0</th>\n",
       "      <td>2020-01-01</td>\n",
       "      <td>82.0</td>\n",
       "    </tr>\n",
       "    <tr>\n",
       "      <th>1</th>\n",
       "      <td>2020-01-02</td>\n",
       "      <td>81.0</td>\n",
       "    </tr>\n",
       "    <tr>\n",
       "      <th>2</th>\n",
       "      <td>2020-01-03</td>\n",
       "      <td>85.0</td>\n",
       "    </tr>\n",
       "    <tr>\n",
       "      <th>3</th>\n",
       "      <td>2020-01-04</td>\n",
       "      <td>95.0</td>\n",
       "    </tr>\n",
       "    <tr>\n",
       "      <th>4</th>\n",
       "      <td>2020-01-05</td>\n",
       "      <td>118.0</td>\n",
       "    </tr>\n",
       "  </tbody>\n",
       "</table>\n",
       "</div>"
      ],
      "text/plain": [
       "         Date    AQI\n",
       "0  2020-01-01   82.0\n",
       "1  2020-01-02   81.0\n",
       "2  2020-01-03   85.0\n",
       "3  2020-01-04   95.0\n",
       "4  2020-01-05  118.0"
      ]
     },
     "execution_count": 6,
     "metadata": {},
     "output_type": "execute_result"
    }
   ],
   "source": [
    "df_y1.head(5)"
   ]
  },
  {
   "cell_type": "code",
   "execution_count": 7,
   "metadata": {},
   "outputs": [
    {
     "name": "stdout",
     "output_type": "stream",
     "text": [
      "<class 'pandas.core.frame.DataFrame'>\n",
      "RangeIndex: 1441 entries, 0 to 1440\n",
      "Data columns (total 14 columns):\n",
      "Date        1441 non-null object\n",
      "PM2.5       1441 non-null float64\n",
      "PM10        1441 non-null float64\n",
      "NO2         1441 non-null float64\n",
      "NOx         1441 non-null float64\n",
      "CO          1441 non-null float64\n",
      "SO2         1441 non-null float64\n",
      "O3          1441 non-null float64\n",
      "temp        1441 non-null float64\n",
      "max_temp    1441 non-null float64\n",
      "min_temp    1441 non-null float64\n",
      "humid       1441 non-null float64\n",
      "visible     1441 non-null float64\n",
      "wind        1441 non-null float64\n",
      "dtypes: float64(13), object(1)\n",
      "memory usage: 157.7+ KB\n"
     ]
    }
   ],
   "source": [
    "df_x.info()"
   ]
  },
  {
   "cell_type": "code",
   "execution_count": 8,
   "metadata": {},
   "outputs": [
    {
     "name": "stdout",
     "output_type": "stream",
     "text": [
      "<class 'pandas.core.frame.DataFrame'>\n",
      "RangeIndex: 1441 entries, 0 to 1440\n",
      "Data columns (total 2 columns):\n",
      "Date    1441 non-null object\n",
      "AQI     1441 non-null float64\n",
      "dtypes: float64(1), object(1)\n",
      "memory usage: 22.6+ KB\n"
     ]
    }
   ],
   "source": [
    "df_y.info()"
   ]
  },
  {
   "cell_type": "code",
   "execution_count": 9,
   "metadata": {},
   "outputs": [
    {
     "name": "stdout",
     "output_type": "stream",
     "text": [
      "<class 'pandas.core.frame.DataFrame'>\n",
      "RangeIndex: 182 entries, 0 to 181\n",
      "Data columns (total 14 columns):\n",
      "Date        182 non-null object\n",
      "PM2.5       182 non-null float64\n",
      "PM10        182 non-null float64\n",
      "NO2         182 non-null float64\n",
      "NOx         182 non-null float64\n",
      "CO          182 non-null float64\n",
      "SO2         182 non-null float64\n",
      "O3          182 non-null float64\n",
      "temp        182 non-null float64\n",
      "max_temp    182 non-null float64\n",
      "min_temp    182 non-null float64\n",
      "humid       182 non-null int64\n",
      "visible     182 non-null float64\n",
      "wind        182 non-null float64\n",
      "dtypes: float64(12), int64(1), object(1)\n",
      "memory usage: 20.0+ KB\n"
     ]
    }
   ],
   "source": [
    "df_x1.info()"
   ]
  },
  {
   "cell_type": "code",
   "execution_count": 10,
   "metadata": {},
   "outputs": [
    {
     "name": "stdout",
     "output_type": "stream",
     "text": [
      "<class 'pandas.core.frame.DataFrame'>\n",
      "RangeIndex: 182 entries, 0 to 181\n",
      "Data columns (total 2 columns):\n",
      "Date    182 non-null object\n",
      "AQI     182 non-null float64\n",
      "dtypes: float64(1), object(1)\n",
      "memory usage: 2.9+ KB\n"
     ]
    }
   ],
   "source": [
    "df_y1.info()"
   ]
  },
  {
   "cell_type": "code",
   "execution_count": 11,
   "metadata": {},
   "outputs": [],
   "source": [
    "df_x[\"Date\"] = pd.to_datetime(df_x[\"Date\"])\n",
    "df_x1[\"Date\"] = pd.to_datetime(df_x[\"Date\"])"
   ]
  },
  {
   "cell_type": "code",
   "execution_count": 12,
   "metadata": {},
   "outputs": [
    {
     "name": "stdout",
     "output_type": "stream",
     "text": [
      "<class 'pandas.core.frame.DataFrame'>\n",
      "RangeIndex: 1441 entries, 0 to 1440\n",
      "Data columns (total 14 columns):\n",
      "Date        1441 non-null datetime64[ns]\n",
      "PM2.5       1441 non-null float64\n",
      "PM10        1441 non-null float64\n",
      "NO2         1441 non-null float64\n",
      "NOx         1441 non-null float64\n",
      "CO          1441 non-null float64\n",
      "SO2         1441 non-null float64\n",
      "O3          1441 non-null float64\n",
      "temp        1441 non-null float64\n",
      "max_temp    1441 non-null float64\n",
      "min_temp    1441 non-null float64\n",
      "humid       1441 non-null float64\n",
      "visible     1441 non-null float64\n",
      "wind        1441 non-null float64\n",
      "dtypes: datetime64[ns](1), float64(13)\n",
      "memory usage: 157.7 KB\n"
     ]
    }
   ],
   "source": [
    "df_x.info()"
   ]
  },
  {
   "cell_type": "code",
   "execution_count": 13,
   "metadata": {},
   "outputs": [
    {
     "name": "stdout",
     "output_type": "stream",
     "text": [
      "<class 'pandas.core.frame.DataFrame'>\n",
      "RangeIndex: 182 entries, 0 to 181\n",
      "Data columns (total 14 columns):\n",
      "Date        182 non-null datetime64[ns]\n",
      "PM2.5       182 non-null float64\n",
      "PM10        182 non-null float64\n",
      "NO2         182 non-null float64\n",
      "NOx         182 non-null float64\n",
      "CO          182 non-null float64\n",
      "SO2         182 non-null float64\n",
      "O3          182 non-null float64\n",
      "temp        182 non-null float64\n",
      "max_temp    182 non-null float64\n",
      "min_temp    182 non-null float64\n",
      "humid       182 non-null int64\n",
      "visible     182 non-null float64\n",
      "wind        182 non-null float64\n",
      "dtypes: datetime64[ns](1), float64(12), int64(1)\n",
      "memory usage: 20.0 KB\n"
     ]
    }
   ],
   "source": [
    "df_x1.info()"
   ]
  },
  {
   "cell_type": "code",
   "execution_count": 14,
   "metadata": {},
   "outputs": [
    {
     "data": {
      "text/plain": [
       "<matplotlib.axes._subplots.AxesSubplot at 0x13f421dfc18>"
      ]
     },
     "execution_count": 14,
     "metadata": {},
     "output_type": "execute_result"
    },
    {
     "data": {
      "image/png": "[encoded data removed]",
      "text/plain": [
       "<Figure size 432x288 with 1 Axes>"
      ]
     },
     "metadata": {
      "needs_background": "light"
     },
     "output_type": "display_data"
    }
   ],
   "source": [
    "sns.heatmap(df_x.isnull(),cbar=False, yticklabels=False)"
   ]
  },
  {
   "cell_type": "code",
   "execution_count": 15,
   "metadata": {},
   "outputs": [
    {
     "data": {
      "text/plain": [
       "<matplotlib.axes._subplots.AxesSubplot at 0x13f42519a20>"
      ]
     },
     "execution_count": 15,
     "metadata": {},
     "output_type": "execute_result"
    },
    {
     "data": {
      "image/png": "[encoded data removed]",
      "text/plain": [
       "<Figure size 432x288 with 1 Axes>"
      ]
     },
     "metadata": {
      "needs_background": "light"
     },
     "output_type": "display_data"
    }
   ],
   "source": [
    "sns.heatmap(df_x1.isnull(),cbar=False, yticklabels=False)"
   ]
  },
  {
   "cell_type": "code",
   "execution_count": 16,
   "metadata": {},
   "outputs": [],
   "source": [
    "x_train = df_x.drop(['Date'], axis = 1)\n",
    "y_train = df_y[\"AQI\"]\n",
    "x_test = df_x1.drop(['Date'], axis = 1)\n",
    "y_test = df_y1[\"AQI\"]"
   ]
  },
  {
   "cell_type": "code",
   "execution_count": 17,
   "metadata": {},
   "outputs": [
    {
     "data": {
      "text/html": [
       "<div>\n",
       "<style scoped>\n",
       "    .dataframe tbody tr th:only-of-type {\n",
       "        vertical-align: middle;\n",
       "    }\n",
       "\n",
       "    .dataframe tbody tr th {\n",
       "        vertical-align: top;\n",
       "    }\n",
       "\n",
       "    .dataframe thead th {\n",
       "        text-align: right;\n",
       "    }\n",
       "</style>\n",
       "<table border=\"1\" class=\"dataframe\">\n",
       "  <thead>\n",
       "    <tr style=\"text-align: right;\">\n",
       "      <th></th>\n",
       "      <th>PM2.5</th>\n",
       "      <th>PM10</th>\n",
       "      <th>NO2</th>\n",
       "      <th>NOx</th>\n",
       "      <th>CO</th>\n",
       "      <th>SO2</th>\n",
       "      <th>O3</th>\n",
       "      <th>temp</th>\n",
       "      <th>max_temp</th>\n",
       "      <th>min_temp</th>\n",
       "      <th>humid</th>\n",
       "      <th>visible</th>\n",
       "      <th>wind</th>\n",
       "    </tr>\n",
       "  </thead>\n",
       "  <tbody>\n",
       "    <tr>\n",
       "      <th>0</th>\n",
       "      <td>56.40</td>\n",
       "      <td>95.08</td>\n",
       "      <td>51.73</td>\n",
       "      <td>34.31</td>\n",
       "      <td>0.69</td>\n",
       "      <td>7.44</td>\n",
       "      <td>55.96</td>\n",
       "      <td>20.1</td>\n",
       "      <td>28.4</td>\n",
       "      <td>15.7</td>\n",
       "      <td>54.0</td>\n",
       "      <td>6.0</td>\n",
       "      <td>3.0</td>\n",
       "    </tr>\n",
       "    <tr>\n",
       "      <th>1</th>\n",
       "      <td>53.69</td>\n",
       "      <td>93.92</td>\n",
       "      <td>73.09</td>\n",
       "      <td>54.77</td>\n",
       "      <td>0.76</td>\n",
       "      <td>8.67</td>\n",
       "      <td>34.06</td>\n",
       "      <td>20.8</td>\n",
       "      <td>28.3</td>\n",
       "      <td>12.9</td>\n",
       "      <td>45.0</td>\n",
       "      <td>6.3</td>\n",
       "      <td>1.1</td>\n",
       "    </tr>\n",
       "    <tr>\n",
       "      <th>2</th>\n",
       "      <td>62.35</td>\n",
       "      <td>99.34</td>\n",
       "      <td>77.77</td>\n",
       "      <td>55.60</td>\n",
       "      <td>0.96</td>\n",
       "      <td>9.10</td>\n",
       "      <td>47.62</td>\n",
       "      <td>21.4</td>\n",
       "      <td>29.0</td>\n",
       "      <td>13.7</td>\n",
       "      <td>45.0</td>\n",
       "      <td>6.3</td>\n",
       "      <td>0.4</td>\n",
       "    </tr>\n",
       "    <tr>\n",
       "      <th>3</th>\n",
       "      <td>64.96</td>\n",
       "      <td>104.62</td>\n",
       "      <td>77.07</td>\n",
       "      <td>50.81</td>\n",
       "      <td>0.89</td>\n",
       "      <td>8.87</td>\n",
       "      <td>50.62</td>\n",
       "      <td>21.5</td>\n",
       "      <td>29.0</td>\n",
       "      <td>15.2</td>\n",
       "      <td>47.0</td>\n",
       "      <td>6.9</td>\n",
       "      <td>2.2</td>\n",
       "    </tr>\n",
       "    <tr>\n",
       "      <th>4</th>\n",
       "      <td>70.15</td>\n",
       "      <td>105.12</td>\n",
       "      <td>79.43</td>\n",
       "      <td>56.05</td>\n",
       "      <td>0.85</td>\n",
       "      <td>9.41</td>\n",
       "      <td>36.94</td>\n",
       "      <td>20.9</td>\n",
       "      <td>28.4</td>\n",
       "      <td>14.7</td>\n",
       "      <td>51.0</td>\n",
       "      <td>6.3</td>\n",
       "      <td>1.1</td>\n",
       "    </tr>\n",
       "  </tbody>\n",
       "</table>\n",
       "</div>"
      ],
      "text/plain": [
       "   PM2.5    PM10    NO2    NOx    CO   SO2     O3  temp  max_temp  min_temp  \\\n",
       "0  56.40   95.08  51.73  34.31  0.69  7.44  55.96  20.1      28.4      15.7   \n",
       "1  53.69   93.92  73.09  54.77  0.76  8.67  34.06  20.8      28.3      12.9   \n",
       "2  62.35   99.34  77.77  55.60  0.96  9.10  47.62  21.4      29.0      13.7   \n",
       "3  64.96  104.62  77.07  50.81  0.89  8.87  50.62  21.5      29.0      15.2   \n",
       "4  70.15  105.12  79.43  56.05  0.85  9.41  36.94  20.9      28.4      14.7   \n",
       "\n",
       "   humid  visible  wind  \n",
       "0   54.0      6.0   3.0  \n",
       "1   45.0      6.3   1.1  \n",
       "2   45.0      6.3   0.4  \n",
       "3   47.0      6.9   2.2  \n",
       "4   51.0      6.3   1.1  "
      ]
     },
     "execution_count": 17,
     "metadata": {},
     "output_type": "execute_result"
    }
   ],
   "source": [
    "x_train.head(5)"
   ]
  },
  {
   "cell_type": "code",
   "execution_count": 18,
   "metadata": {},
   "outputs": [
    {
     "data": {
      "text/html": [
       "<div>\n",
       "<style scoped>\n",
       "    .dataframe tbody tr th:only-of-type {\n",
       "        vertical-align: middle;\n",
       "    }\n",
       "\n",
       "    .dataframe tbody tr th {\n",
       "        vertical-align: top;\n",
       "    }\n",
       "\n",
       "    .dataframe thead th {\n",
       "        text-align: right;\n",
       "    }\n",
       "</style>\n",
       "<table border=\"1\" class=\"dataframe\">\n",
       "  <thead>\n",
       "    <tr style=\"text-align: right;\">\n",
       "      <th></th>\n",
       "      <th>PM2.5</th>\n",
       "      <th>PM10</th>\n",
       "      <th>NO2</th>\n",
       "      <th>NOx</th>\n",
       "      <th>CO</th>\n",
       "      <th>SO2</th>\n",
       "      <th>O3</th>\n",
       "      <th>temp</th>\n",
       "      <th>max_temp</th>\n",
       "      <th>min_temp</th>\n",
       "      <th>humid</th>\n",
       "      <th>visible</th>\n",
       "      <th>wind</th>\n",
       "    </tr>\n",
       "  </thead>\n",
       "  <tbody>\n",
       "    <tr>\n",
       "      <th>0</th>\n",
       "      <td>30.71</td>\n",
       "      <td>70.80</td>\n",
       "      <td>27.31</td>\n",
       "      <td>26.74</td>\n",
       "      <td>1.07</td>\n",
       "      <td>8.56</td>\n",
       "      <td>37.39</td>\n",
       "      <td>22.0</td>\n",
       "      <td>27.2</td>\n",
       "      <td>19.2</td>\n",
       "      <td>75</td>\n",
       "      <td>6.9</td>\n",
       "      <td>3.3</td>\n",
       "    </tr>\n",
       "    <tr>\n",
       "      <th>1</th>\n",
       "      <td>25.78</td>\n",
       "      <td>62.73</td>\n",
       "      <td>28.05</td>\n",
       "      <td>30.18</td>\n",
       "      <td>1.16</td>\n",
       "      <td>7.52</td>\n",
       "      <td>33.11</td>\n",
       "      <td>22.2</td>\n",
       "      <td>26.0</td>\n",
       "      <td>19.4</td>\n",
       "      <td>77</td>\n",
       "      <td>5.5</td>\n",
       "      <td>2.0</td>\n",
       "    </tr>\n",
       "    <tr>\n",
       "      <th>2</th>\n",
       "      <td>29.66</td>\n",
       "      <td>69.62</td>\n",
       "      <td>26.26</td>\n",
       "      <td>26.92</td>\n",
       "      <td>0.99</td>\n",
       "      <td>6.40</td>\n",
       "      <td>32.98</td>\n",
       "      <td>23.4</td>\n",
       "      <td>28.4</td>\n",
       "      <td>19.4</td>\n",
       "      <td>68</td>\n",
       "      <td>6.9</td>\n",
       "      <td>3.5</td>\n",
       "    </tr>\n",
       "    <tr>\n",
       "      <th>3</th>\n",
       "      <td>52.62</td>\n",
       "      <td>106.81</td>\n",
       "      <td>31.56</td>\n",
       "      <td>41.89</td>\n",
       "      <td>1.39</td>\n",
       "      <td>6.94</td>\n",
       "      <td>37.35</td>\n",
       "      <td>23.6</td>\n",
       "      <td>30.5</td>\n",
       "      <td>19.0</td>\n",
       "      <td>63</td>\n",
       "      <td>6.3</td>\n",
       "      <td>1.3</td>\n",
       "    </tr>\n",
       "    <tr>\n",
       "      <th>4</th>\n",
       "      <td>52.64</td>\n",
       "      <td>97.94</td>\n",
       "      <td>29.10</td>\n",
       "      <td>29.52</td>\n",
       "      <td>1.01</td>\n",
       "      <td>7.01</td>\n",
       "      <td>45.10</td>\n",
       "      <td>24.2</td>\n",
       "      <td>30.5</td>\n",
       "      <td>20.4</td>\n",
       "      <td>63</td>\n",
       "      <td>6.3</td>\n",
       "      <td>1.3</td>\n",
       "    </tr>\n",
       "  </tbody>\n",
       "</table>\n",
       "</div>"
      ],
      "text/plain": [
       "   PM2.5    PM10    NO2    NOx    CO   SO2     O3  temp  max_temp  min_temp  \\\n",
       "0  30.71   70.80  27.31  26.74  1.07  8.56  37.39  22.0      27.2      19.2   \n",
       "1  25.78   62.73  28.05  30.18  1.16  7.52  33.11  22.2      26.0      19.4   \n",
       "2  29.66   69.62  26.26  26.92  0.99  6.40  32.98  23.4      28.4      19.4   \n",
       "3  52.62  106.81  31.56  41.89  1.39  6.94  37.35  23.6      30.5      19.0   \n",
       "4  52.64   97.94  29.10  29.52  1.01  7.01  45.10  24.2      30.5      20.4   \n",
       "\n",
       "   humid  visible  wind  \n",
       "0     75      6.9   3.3  \n",
       "1     77      5.5   2.0  \n",
       "2     68      6.9   3.5  \n",
       "3     63      6.3   1.3  \n",
       "4     63      6.3   1.3  "
      ]
     },
     "execution_count": 18,
     "metadata": {},
     "output_type": "execute_result"
    }
   ],
   "source": [
    "x_test.head(5)"
   ]
  },
  {
   "cell_type": "code",
   "execution_count": 19,
   "metadata": {},
   "outputs": [
    {
     "data": {
      "text/plain": [
       "0    101.0\n",
       "1     92.0\n",
       "2    108.0\n",
       "3    109.0\n",
       "4    114.0\n",
       "Name: AQI, dtype: float64"
      ]
     },
     "execution_count": 19,
     "metadata": {},
     "output_type": "execute_result"
    }
   ],
   "source": [
    "y_train.head(5)"
   ]
  },
  {
   "cell_type": "code",
   "execution_count": 20,
   "metadata": {},
   "outputs": [
    {
     "data": {
      "text/plain": [
       "0     82.0\n",
       "1     81.0\n",
       "2     85.0\n",
       "3     95.0\n",
       "4    118.0\n",
       "Name: AQI, dtype: float64"
      ]
     },
     "execution_count": 20,
     "metadata": {},
     "output_type": "execute_result"
    }
   ],
   "source": [
    "y_test.head(5)"
   ]
  },
  {
   "cell_type": "code",
   "execution_count": 21,
   "metadata": {},
   "outputs": [],
   "source": [
    "from sklearn.preprocessing import StandardScaler, MinMaxScaler\n",
    "sc_x = StandardScaler()\n",
    "sc_y = StandardScaler()\n",
    "x_train = sc_x.fit_transform(x_train)\n",
    "x_test = sc_x.transform(x_test)\n",
    "y_train = sc_y.fit_transform(np.array(y_train).reshape(-1,1))\n",
    "y_test = sc_y.transform(np.array(y_test).reshape(-1,1))"
   ]
  },
  {
   "cell_type": "code",
   "execution_count": 22,
   "metadata": {},
   "outputs": [
    {
     "data": {
      "text/plain": [
       "array([[-0.27610501],\n",
       "       [-0.30227705],\n",
       "       [-0.1975889 ],\n",
       "       [ 0.06413148],\n",
       "       [ 0.66608835]])"
      ]
     },
     "execution_count": 22,
     "metadata": {},
     "output_type": "execute_result"
    }
   ],
   "source": [
    "y_test[:5]"
   ]
  },
  {
   "cell_type": "code",
   "execution_count": 23,
   "metadata": {},
   "outputs": [],
   "source": [
    "from sklearn.feature_selection import SelectKBest\n",
    "from sklearn.feature_selection import mutual_info_regression\n",
    "\n",
    "fs = SelectKBest(score_func=mutual_info_regression, k='all')\n",
    "fs.fit(x_train, y_train)\n",
    "x_train_fs = fs.transform(x_train)\n",
    "x_test_fs = fs.transform(x_test)"
   ]
  },
  {
   "cell_type": "code",
   "execution_count": 24,
   "metadata": {},
   "outputs": [
    {
     "data": {
      "text/plain": [
       "RandomForestRegressor(bootstrap=True, criterion='mse', max_depth=None,\n",
       "                      max_features='auto', max_leaf_nodes=None,\n",
       "                      min_impurity_decrease=0.0, min_impurity_split=None,\n",
       "                      min_samples_leaf=1, min_samples_split=2,\n",
       "                      min_weight_fraction_leaf=0.0, n_estimators=10,\n",
       "                      n_jobs=None, oob_score=False, random_state=None,\n",
       "                      verbose=0, warm_start=False)"
      ]
     },
     "execution_count": 24,
     "metadata": {},
     "output_type": "execute_result"
    }
   ],
   "source": [
    "from sklearn.ensemble import RandomForestRegressor\n",
    "regressor = RandomForestRegressor()\n",
    "regressor.fit(x_train_fs,y_train)"
   ]
  },
  {
   "cell_type": "code",
   "execution_count": 25,
   "metadata": {},
   "outputs": [
    {
     "data": {
      "text/plain": [
       "array([-2.44698563e-01,  1.34795983e-01, -3.52003918e-01,  4.09602379e-01,\n",
       "        3.15383044e-01, -4.72395291e-01, -3.59855529e-01, -1.19072782e-01,\n",
       "        1.31859121e-03, -6.53302010e-03, -3.36300695e-01, -2.55167378e-01,\n",
       "        4.67180862e-01,  7.91714130e-01, -9.81351520e-02,  2.42101338e-01,\n",
       "       -6.14942993e-02, -4.38371642e-01, -4.17434012e-01, -1.37393209e-01,\n",
       "       -1.87120080e-01, -2.08057710e-01, -1.94971692e-01,  6.55299875e-03,\n",
       "        2.42101338e-01,  1.76671244e-01,  4.90735696e-01,  4.77649677e-01,\n",
       "        3.44172285e-01,  3.91281953e-01,  4.20071194e-01,  4.75032473e-01,\n",
       "       -4.88098514e-01, -2.73487805e-01, -3.25831880e-01, -6.41115030e-02,\n",
       "        1.74054040e-01,  2.57804561e-01,  4.04367972e-01,  5.90189439e-01,\n",
       "       -2.15909322e-01, -2.05440507e-01, -3.07511454e-01, -5.10254842e-02,\n",
       "        5.16907734e-01,  7.60307684e-01,  3.33703470e-01,  3.49406693e-01,\n",
       "        4.06985175e-01,  4.64563658e-01,  3.25851859e-01, -2.13292118e-01,\n",
       "       -1.58330839e-01,  9.81551307e-02, -5.10254842e-02,  3.78195934e-01,\n",
       "        1.37413187e-01,  4.98587307e-01,  4.06985175e-01,  3.15383044e-01,\n",
       "        9.29207231e-02,  6.50385126e-01,  1.79672038e+00,  7.47221666e-01,\n",
       "        8.88550669e-01,  1.26944372e-01,  2.70890579e-01, -2.10674914e-01,\n",
       "       -8.24319294e-02,  2.63038968e-01, -4.84082804e-02,  3.04914228e-01,\n",
       "        9.17020252e-03, -2.63018990e-01, -1.05986763e-01, -3.07511454e-01,\n",
       "       -5.16887755e-01, -2.00206099e-01,  9.03035194e-02,  5.56165790e-01,\n",
       "        4.17453991e-01, -5.37825385e-01, -1.17674276e-02,  4.98587307e-01,\n",
       "       -2.74706503e-02, -3.41535103e-01, -1.17674276e-02,  1.13858353e-01,\n",
       "        4.14836787e-01,  6.41314817e-02,  1.45264799e-01,  8.24519081e-02,\n",
       "       -3.27050578e-02,  3.04914228e-01,  1.96390176e-02,  1.79288448e-01,\n",
       "       -1.60948042e-01, -3.46769510e-01, -4.61926476e-01, -1.29541597e-01,\n",
       "        1.31859121e-03,  3.27250364e-02, -1.21689986e-01, -5.50911404e-01,\n",
       "       -5.37825385e-01, -3.83410363e-01, -1.74034061e-01,  1.37413187e-01,\n",
       "        3.01078327e-02, -3.12745861e-01, -5.35208182e-01, -6.03255480e-01,\n",
       "       -5.88770955e-02,  1.29561576e-01, -1.13838375e-01, -7.86459743e-01,\n",
       "        8.24519081e-02, -8.50491332e-02,  3.53422402e-02, -1.26279083e+00,\n",
       "       -6.08489887e-01, -2.23760933e-01, -3.25831880e-01, -3.20597472e-01,\n",
       "       -6.68685574e-01, -4.48840457e-01, -3.93879178e-01, -5.63997423e-01,\n",
       "       -2.97042639e-01, -4.33137235e-01, -1.50479227e-01, -2.94425435e-01,\n",
       "       -4.33137235e-01, -7.62904909e-01, -2.89191027e-01, -3.38917899e-01,\n",
       "       -1.42627616e-01, -1.19072782e-01,  1.06006742e-01, -8.54507041e-01,\n",
       "       -6.11107091e-01, -8.12631781e-01, -1.66182450e-01, -4.48840457e-01,\n",
       "       -1.03509410e+00, -5.56145812e-01, -6.00638276e-01, -5.79700646e-01,\n",
       "       -5.03801736e-01, -6.55599555e-01, -7.10560834e-01, -9.56577988e-01,\n",
       "       -1.61349613e+00, -1.61873054e+00, -1.43029187e+00, -1.39888543e+00,\n",
       "       -8.83296283e-01, -6.42513536e-01, -1.24447040e+00, -8.28335004e-01,\n",
       "       -7.47201687e-01, -5.43059793e-01, -9.90601637e-01, -1.00892206e+00,\n",
       "       -8.41421023e-01, -1.10314140e+00, -1.19997794e+00, -1.23400159e+00,\n",
       "       -1.08482097e+00, -7.49818891e-01, -9.59195192e-01, -9.59195192e-01,\n",
       "       -1.16071988e+00, -9.64429600e-01, -8.78061875e-01, -7.73373725e-01,\n",
       "       -8.46655430e-01, -1.05864894e+00, -1.13716505e+00, -1.27849405e+00,\n",
       "       -1.25493922e+00, -1.26540803e+00])"
      ]
     },
     "execution_count": 25,
     "metadata": {},
     "output_type": "execute_result"
    }
   ],
   "source": [
    "y_prediction =  regressor.predict(x_test_fs)\n",
    "y_prediction "
   ]
  },
  {
   "cell_type": "code",
   "execution_count": 26,
   "metadata": {},
   "outputs": [
    {
     "name": "stdout",
     "output_type": "stream",
     "text": [
      "R2 SCORE is 0.5427540998459652\n",
      "mean_sqrd_error is  0.11646609289071445\n",
      "Root mean squared error of is 0.3412712892856861\n",
      "Mean Absolute error is 0.2634460058132103\n"
     ]
    }
   ],
   "source": [
    "from sklearn.metrics import r2_score\n",
    "from sklearn.metrics import mean_squared_error\n",
    "from sklearn.metrics import mean_absolute_error\n",
    "score = r2_score(y_test,y_prediction)\n",
    "mean_error = mean_squared_error(y_test,y_prediction)\n",
    "mae = mean_absolute_error(y_test,y_prediction)\n",
    "print(\"R2 SCORE is\", score)\n",
    "print(\"mean_sqrd_error is \", mean_error)\n",
    "print(\"Root mean squared error of is\",np.sqrt(mean_error))\n",
    "print(\"Mean Absolute error is\", mae)"
   ]
  },
  {
   "cell_type": "code",
   "execution_count": 27,
   "metadata": {},
   "outputs": [
    {
     "data": {
      "text/plain": [
       "array([[ 82.],\n",
       "       [ 81.],\n",
       "       [ 85.],\n",
       "       [ 95.],\n",
       "       [118.]])"
      ]
     },
     "execution_count": 27,
     "metadata": {},
     "output_type": "execute_result"
    }
   ],
   "source": [
    "y_test = sc_y.inverse_transform(y_test)\n",
    "y_test[:5]"
   ]
  },
  {
   "cell_type": "code",
   "execution_count": 28,
   "metadata": {},
   "outputs": [
    {
     "data": {
      "text/plain": [
       "array([ 83.2,  97.7,  79.1, 108.2, 104.6])"
      ]
     },
     "execution_count": 28,
     "metadata": {},
     "output_type": "execute_result"
    }
   ],
   "source": [
    "y_prediction = sc_y.inverse_transform(y_prediction)\n",
    "y_prediction[:5]"
   ]
  },
  {
   "cell_type": "code",
   "execution_count": 29,
   "metadata": {},
   "outputs": [
    {
     "data": {
      "image/png": "[encoded data removed]",
      "text/plain": [
       "<Figure size 432x288 with 1 Axes>"
      ]
     },
     "metadata": {
      "needs_background": "light"
     },
     "output_type": "display_data"
    }
   ],
   "source": [
    "df1 = pd.DataFrame({'Actual': y_test[100:120].flatten(), 'Predicted': y_prediction[100:120].flatten()})\n",
    "df1.plot(kind='line')\n",
    "plt.grid(which='major', linestyle='-', linewidth='0.5', color='green')\n",
    "plt.grid(which='minor', linestyle=':', linewidth='0.5', color='black')\n",
    "plt.show()"
   ]
  },
  {
   "cell_type": "code",
   "execution_count": 30,
   "metadata": {},
   "outputs": [
    {
     "data": {
      "text/html": [
       "<div>\n",
       "<style scoped>\n",
       "    .dataframe tbody tr th:only-of-type {\n",
       "        vertical-align: middle;\n",
       "    }\n",
       "\n",
       "    .dataframe tbody tr th {\n",
       "        vertical-align: top;\n",
       "    }\n",
       "\n",
       "    .dataframe thead th {\n",
       "        text-align: right;\n",
       "    }\n",
       "</style>\n",
       "<table border=\"1\" class=\"dataframe\">\n",
       "  <thead>\n",
       "    <tr style=\"text-align: right;\">\n",
       "      <th></th>\n",
       "      <th>ACTUAL AQI</th>\n",
       "      <th>PREDICTED AQI</th>\n",
       "      <th>DIFFERENCE</th>\n",
       "      <th>PERCENTAGE ERROR</th>\n",
       "    </tr>\n",
       "  </thead>\n",
       "  <tbody>\n",
       "    <tr>\n",
       "      <th>0</th>\n",
       "      <td>82.0</td>\n",
       "      <td>83.2</td>\n",
       "      <td>-1.2</td>\n",
       "      <td>1.463415</td>\n",
       "    </tr>\n",
       "    <tr>\n",
       "      <th>1</th>\n",
       "      <td>81.0</td>\n",
       "      <td>97.7</td>\n",
       "      <td>-16.7</td>\n",
       "      <td>20.617284</td>\n",
       "    </tr>\n",
       "    <tr>\n",
       "      <th>2</th>\n",
       "      <td>85.0</td>\n",
       "      <td>79.1</td>\n",
       "      <td>5.9</td>\n",
       "      <td>6.941176</td>\n",
       "    </tr>\n",
       "    <tr>\n",
       "      <th>3</th>\n",
       "      <td>95.0</td>\n",
       "      <td>108.2</td>\n",
       "      <td>-13.2</td>\n",
       "      <td>13.894737</td>\n",
       "    </tr>\n",
       "    <tr>\n",
       "      <th>4</th>\n",
       "      <td>118.0</td>\n",
       "      <td>104.6</td>\n",
       "      <td>13.4</td>\n",
       "      <td>11.355932</td>\n",
       "    </tr>\n",
       "    <tr>\n",
       "      <th>5</th>\n",
       "      <td>81.0</td>\n",
       "      <td>74.5</td>\n",
       "      <td>6.5</td>\n",
       "      <td>8.024691</td>\n",
       "    </tr>\n",
       "    <tr>\n",
       "      <th>6</th>\n",
       "      <td>75.0</td>\n",
       "      <td>78.8</td>\n",
       "      <td>-3.8</td>\n",
       "      <td>5.066667</td>\n",
       "    </tr>\n",
       "    <tr>\n",
       "      <th>7</th>\n",
       "      <td>93.0</td>\n",
       "      <td>88.0</td>\n",
       "      <td>5.0</td>\n",
       "      <td>5.376344</td>\n",
       "    </tr>\n",
       "    <tr>\n",
       "      <th>8</th>\n",
       "      <td>101.0</td>\n",
       "      <td>92.6</td>\n",
       "      <td>8.4</td>\n",
       "      <td>8.316832</td>\n",
       "    </tr>\n",
       "    <tr>\n",
       "      <th>9</th>\n",
       "      <td>94.0</td>\n",
       "      <td>92.3</td>\n",
       "      <td>1.7</td>\n",
       "      <td>1.808511</td>\n",
       "    </tr>\n",
       "    <tr>\n",
       "      <th>10</th>\n",
       "      <td>78.0</td>\n",
       "      <td>79.7</td>\n",
       "      <td>-1.7</td>\n",
       "      <td>2.179487</td>\n",
       "    </tr>\n",
       "    <tr>\n",
       "      <th>11</th>\n",
       "      <td>79.0</td>\n",
       "      <td>82.8</td>\n",
       "      <td>-3.8</td>\n",
       "      <td>4.810127</td>\n",
       "    </tr>\n",
       "    <tr>\n",
       "      <th>12</th>\n",
       "      <td>106.0</td>\n",
       "      <td>110.4</td>\n",
       "      <td>-4.4</td>\n",
       "      <td>4.150943</td>\n",
       "    </tr>\n",
       "    <tr>\n",
       "      <th>13</th>\n",
       "      <td>121.0</td>\n",
       "      <td>122.8</td>\n",
       "      <td>-1.8</td>\n",
       "      <td>1.487603</td>\n",
       "    </tr>\n",
       "    <tr>\n",
       "      <th>14</th>\n",
       "      <td>111.0</td>\n",
       "      <td>88.8</td>\n",
       "      <td>22.2</td>\n",
       "      <td>20.000000</td>\n",
       "    </tr>\n",
       "  </tbody>\n",
       "</table>\n",
       "</div>"
      ],
      "text/plain": [
       "    ACTUAL AQI  PREDICTED AQI  DIFFERENCE  PERCENTAGE ERROR\n",
       "0         82.0           83.2        -1.2          1.463415\n",
       "1         81.0           97.7       -16.7         20.617284\n",
       "2         85.0           79.1         5.9          6.941176\n",
       "3         95.0          108.2       -13.2         13.894737\n",
       "4        118.0          104.6        13.4         11.355932\n",
       "5         81.0           74.5         6.5          8.024691\n",
       "6         75.0           78.8        -3.8          5.066667\n",
       "7         93.0           88.0         5.0          5.376344\n",
       "8        101.0           92.6         8.4          8.316832\n",
       "9         94.0           92.3         1.7          1.808511\n",
       "10        78.0           79.7        -1.7          2.179487\n",
       "11        79.0           82.8        -3.8          4.810127\n",
       "12       106.0          110.4        -4.4          4.150943\n",
       "13       121.0          122.8        -1.8          1.487603\n",
       "14       111.0           88.8        22.2         20.000000"
      ]
     },
     "execution_count": 30,
     "metadata": {},
     "output_type": "execute_result"
    }
   ],
   "source": [
    "result = pd.DataFrame()\n",
    "result[\"ACTUAL AQI\"] = y_test.flatten()\n",
    "result[\"PREDICTED AQI\"] = y_prediction\n",
    "result[\"DIFFERENCE\"] = result[\"ACTUAL AQI\"] - result[\"PREDICTED AQI\"]\n",
    "result[\"PERCENTAGE ERROR\"] = ( abs(result[\"ACTUAL AQI\"] - result[\"PREDICTED AQI\"] ) / result[\"ACTUAL AQI\"] ) * 100\n",
    "result.head(15)"
   ]
  },
  {
   "cell_type": "code",
   "execution_count": null,
   "metadata": {},
   "outputs": [],
   "source": []
  }
 ],
 "metadata": {
  "kernelspec": {
   "display_name": "Python 3",
   "language": "python",
   "name": "python3"
  },
  "language_info": {
   "codemirror_mode": {
    "name": "ipython",
    "version": 3
   },
   "file_extension": ".py",
   "mimetype": "text/x-python",
   "name": "python",
   "nbconvert_exporter": "python",
   "pygments_lexer": "ipython3",
   "version": "3.7.3"
  }
 },
 "nbformat": 4,
 "nbformat_minor": 2
}
