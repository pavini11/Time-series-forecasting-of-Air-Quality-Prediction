{
 "cells": [
  {
   "cell_type": "code",
   "execution_count": 1,
   "metadata": {},
   "outputs": [],
   "source": [
    "import pandas as pd\n",
    "import numpy as np\n",
    "import matplotlib.pyplot as plt\n",
    "import seaborn as sns\n",
    "import matplotlib.pyplot as plt\n",
    "\n",
    "import warnings\n",
    "warnings.filterwarnings(\"ignore\")\n",
    "warnings.simplefilter(action='ignore', category=FutureWarning)"
   ]
  },
  {
   "cell_type": "code",
   "execution_count": 2,
   "metadata": {},
   "outputs": [],
   "source": [
    "df_x = pd.read_csv(\"train_x.csv\")\n",
    "df_y = pd.read_csv(\"train_y.csv\")\n",
    "df_x1 = pd.read_csv(\"test_x.csv\")\n",
    "df_y1 = pd.read_csv(\"test_y.csv\")"
   ]
  },
  {
   "cell_type": "code",
   "execution_count": 3,
   "metadata": {},
   "outputs": [
    {
     "data": {
      "text/html": [
       "<div>\n",
       "<style scoped>\n",
       "    .dataframe tbody tr th:only-of-type {\n",
       "        vertical-align: middle;\n",
       "    }\n",
       "\n",
       "    .dataframe tbody tr th {\n",
       "        vertical-align: top;\n",
       "    }\n",
       "\n",
       "    .dataframe thead th {\n",
       "        text-align: right;\n",
       "    }\n",
       "</style>\n",
       "<table border=\"1\" class=\"dataframe\">\n",
       "  <thead>\n",
       "    <tr style=\"text-align: right;\">\n",
       "      <th></th>\n",
       "      <th>Date</th>\n",
       "      <th>PM2.5</th>\n",
       "      <th>PM10</th>\n",
       "      <th>NO2</th>\n",
       "      <th>NOx</th>\n",
       "      <th>CO</th>\n",
       "      <th>SO2</th>\n",
       "      <th>O3</th>\n",
       "      <th>temp</th>\n",
       "      <th>max_temp</th>\n",
       "      <th>min_temp</th>\n",
       "      <th>humid</th>\n",
       "      <th>visible</th>\n",
       "      <th>wind</th>\n",
       "    </tr>\n",
       "  </thead>\n",
       "  <tbody>\n",
       "    <tr>\n",
       "      <th>0</th>\n",
       "      <td>2016-01-01</td>\n",
       "      <td>56.40</td>\n",
       "      <td>95.08</td>\n",
       "      <td>51.73</td>\n",
       "      <td>34.31</td>\n",
       "      <td>0.69</td>\n",
       "      <td>7.44</td>\n",
       "      <td>55.96</td>\n",
       "      <td>20.1</td>\n",
       "      <td>28.4</td>\n",
       "      <td>15.7</td>\n",
       "      <td>54.0</td>\n",
       "      <td>6.0</td>\n",
       "      <td>3.0</td>\n",
       "    </tr>\n",
       "    <tr>\n",
       "      <th>1</th>\n",
       "      <td>2016-01-02</td>\n",
       "      <td>53.69</td>\n",
       "      <td>93.92</td>\n",
       "      <td>73.09</td>\n",
       "      <td>54.77</td>\n",
       "      <td>0.76</td>\n",
       "      <td>8.67</td>\n",
       "      <td>34.06</td>\n",
       "      <td>20.8</td>\n",
       "      <td>28.3</td>\n",
       "      <td>12.9</td>\n",
       "      <td>45.0</td>\n",
       "      <td>6.3</td>\n",
       "      <td>1.1</td>\n",
       "    </tr>\n",
       "    <tr>\n",
       "      <th>2</th>\n",
       "      <td>2016-01-03</td>\n",
       "      <td>62.35</td>\n",
       "      <td>99.34</td>\n",
       "      <td>77.77</td>\n",
       "      <td>55.60</td>\n",
       "      <td>0.96</td>\n",
       "      <td>9.10</td>\n",
       "      <td>47.62</td>\n",
       "      <td>21.4</td>\n",
       "      <td>29.0</td>\n",
       "      <td>13.7</td>\n",
       "      <td>45.0</td>\n",
       "      <td>6.3</td>\n",
       "      <td>0.4</td>\n",
       "    </tr>\n",
       "    <tr>\n",
       "      <th>3</th>\n",
       "      <td>2016-01-04</td>\n",
       "      <td>64.96</td>\n",
       "      <td>104.62</td>\n",
       "      <td>77.07</td>\n",
       "      <td>50.81</td>\n",
       "      <td>0.89</td>\n",
       "      <td>8.87</td>\n",
       "      <td>50.62</td>\n",
       "      <td>21.5</td>\n",
       "      <td>29.0</td>\n",
       "      <td>15.2</td>\n",
       "      <td>47.0</td>\n",
       "      <td>6.9</td>\n",
       "      <td>2.2</td>\n",
       "    </tr>\n",
       "    <tr>\n",
       "      <th>4</th>\n",
       "      <td>2016-01-05</td>\n",
       "      <td>70.15</td>\n",
       "      <td>105.12</td>\n",
       "      <td>79.43</td>\n",
       "      <td>56.05</td>\n",
       "      <td>0.85</td>\n",
       "      <td>9.41</td>\n",
       "      <td>36.94</td>\n",
       "      <td>20.9</td>\n",
       "      <td>28.4</td>\n",
       "      <td>14.7</td>\n",
       "      <td>51.0</td>\n",
       "      <td>6.3</td>\n",
       "      <td>1.1</td>\n",
       "    </tr>\n",
       "  </tbody>\n",
       "</table>\n",
       "</div>"
      ],
      "text/plain": [
       "         Date  PM2.5    PM10    NO2    NOx    CO   SO2     O3  temp  max_temp  \\\n",
       "0  2016-01-01  56.40   95.08  51.73  34.31  0.69  7.44  55.96  20.1      28.4   \n",
       "1  2016-01-02  53.69   93.92  73.09  54.77  0.76  8.67  34.06  20.8      28.3   \n",
       "2  2016-01-03  62.35   99.34  77.77  55.60  0.96  9.10  47.62  21.4      29.0   \n",
       "3  2016-01-04  64.96  104.62  77.07  50.81  0.89  8.87  50.62  21.5      29.0   \n",
       "4  2016-01-05  70.15  105.12  79.43  56.05  0.85  9.41  36.94  20.9      28.4   \n",
       "\n",
       "   min_temp  humid  visible  wind  \n",
       "0      15.7   54.0      6.0   3.0  \n",
       "1      12.9   45.0      6.3   1.1  \n",
       "2      13.7   45.0      6.3   0.4  \n",
       "3      15.2   47.0      6.9   2.2  \n",
       "4      14.7   51.0      6.3   1.1  "
      ]
     },
     "execution_count": 3,
     "metadata": {},
     "output_type": "execute_result"
    }
   ],
   "source": [
    "df_x.head(5)"
   ]
  },
  {
   "cell_type": "code",
   "execution_count": 4,
   "metadata": {},
   "outputs": [
    {
     "data": {
      "text/html": [
       "<div>\n",
       "<style scoped>\n",
       "    .dataframe tbody tr th:only-of-type {\n",
       "        vertical-align: middle;\n",
       "    }\n",
       "\n",
       "    .dataframe tbody tr th {\n",
       "        vertical-align: top;\n",
       "    }\n",
       "\n",
       "    .dataframe thead th {\n",
       "        text-align: right;\n",
       "    }\n",
       "</style>\n",
       "<table border=\"1\" class=\"dataframe\">\n",
       "  <thead>\n",
       "    <tr style=\"text-align: right;\">\n",
       "      <th></th>\n",
       "      <th>Date</th>\n",
       "      <th>PM2.5</th>\n",
       "      <th>PM10</th>\n",
       "      <th>NO2</th>\n",
       "      <th>NOx</th>\n",
       "      <th>CO</th>\n",
       "      <th>SO2</th>\n",
       "      <th>O3</th>\n",
       "      <th>temp</th>\n",
       "      <th>max_temp</th>\n",
       "      <th>min_temp</th>\n",
       "      <th>humid</th>\n",
       "      <th>visible</th>\n",
       "      <th>wind</th>\n",
       "    </tr>\n",
       "  </thead>\n",
       "  <tbody>\n",
       "    <tr>\n",
       "      <th>0</th>\n",
       "      <td>01-01-2020</td>\n",
       "      <td>30.71</td>\n",
       "      <td>70.80</td>\n",
       "      <td>27.31</td>\n",
       "      <td>26.74</td>\n",
       "      <td>1.07</td>\n",
       "      <td>8.56</td>\n",
       "      <td>37.39</td>\n",
       "      <td>22.0</td>\n",
       "      <td>27.2</td>\n",
       "      <td>19.2</td>\n",
       "      <td>75</td>\n",
       "      <td>6.9</td>\n",
       "      <td>3.3</td>\n",
       "    </tr>\n",
       "    <tr>\n",
       "      <th>1</th>\n",
       "      <td>02-01-2020</td>\n",
       "      <td>25.78</td>\n",
       "      <td>62.73</td>\n",
       "      <td>28.05</td>\n",
       "      <td>30.18</td>\n",
       "      <td>1.16</td>\n",
       "      <td>7.52</td>\n",
       "      <td>33.11</td>\n",
       "      <td>22.2</td>\n",
       "      <td>26.0</td>\n",
       "      <td>19.4</td>\n",
       "      <td>77</td>\n",
       "      <td>5.5</td>\n",
       "      <td>2.0</td>\n",
       "    </tr>\n",
       "    <tr>\n",
       "      <th>2</th>\n",
       "      <td>03-01-2020</td>\n",
       "      <td>29.66</td>\n",
       "      <td>69.62</td>\n",
       "      <td>26.26</td>\n",
       "      <td>26.92</td>\n",
       "      <td>0.99</td>\n",
       "      <td>6.40</td>\n",
       "      <td>32.98</td>\n",
       "      <td>23.4</td>\n",
       "      <td>28.4</td>\n",
       "      <td>19.4</td>\n",
       "      <td>68</td>\n",
       "      <td>6.9</td>\n",
       "      <td>3.5</td>\n",
       "    </tr>\n",
       "    <tr>\n",
       "      <th>3</th>\n",
       "      <td>04-01-2020</td>\n",
       "      <td>52.62</td>\n",
       "      <td>106.81</td>\n",
       "      <td>31.56</td>\n",
       "      <td>41.89</td>\n",
       "      <td>1.39</td>\n",
       "      <td>6.94</td>\n",
       "      <td>37.35</td>\n",
       "      <td>23.6</td>\n",
       "      <td>30.5</td>\n",
       "      <td>19.0</td>\n",
       "      <td>63</td>\n",
       "      <td>6.3</td>\n",
       "      <td>1.3</td>\n",
       "    </tr>\n",
       "    <tr>\n",
       "      <th>4</th>\n",
       "      <td>05-01-2020</td>\n",
       "      <td>52.64</td>\n",
       "      <td>97.94</td>\n",
       "      <td>29.10</td>\n",
       "      <td>29.52</td>\n",
       "      <td>1.01</td>\n",
       "      <td>7.01</td>\n",
       "      <td>45.10</td>\n",
       "      <td>24.2</td>\n",
       "      <td>30.5</td>\n",
       "      <td>20.4</td>\n",
       "      <td>63</td>\n",
       "      <td>6.3</td>\n",
       "      <td>1.3</td>\n",
       "    </tr>\n",
       "  </tbody>\n",
       "</table>\n",
       "</div>"
      ],
      "text/plain": [
       "         Date  PM2.5    PM10    NO2    NOx    CO   SO2     O3  temp  max_temp  \\\n",
       "0  01-01-2020  30.71   70.80  27.31  26.74  1.07  8.56  37.39  22.0      27.2   \n",
       "1  02-01-2020  25.78   62.73  28.05  30.18  1.16  7.52  33.11  22.2      26.0   \n",
       "2  03-01-2020  29.66   69.62  26.26  26.92  0.99  6.40  32.98  23.4      28.4   \n",
       "3  04-01-2020  52.62  106.81  31.56  41.89  1.39  6.94  37.35  23.6      30.5   \n",
       "4  05-01-2020  52.64   97.94  29.10  29.52  1.01  7.01  45.10  24.2      30.5   \n",
       "\n",
       "   min_temp  humid  visible  wind  \n",
       "0      19.2     75      6.9   3.3  \n",
       "1      19.4     77      5.5   2.0  \n",
       "2      19.4     68      6.9   3.5  \n",
       "3      19.0     63      6.3   1.3  \n",
       "4      20.4     63      6.3   1.3  "
      ]
     },
     "execution_count": 4,
     "metadata": {},
     "output_type": "execute_result"
    }
   ],
   "source": [
    "df_x1.head(5)"
   ]
  },
  {
   "cell_type": "code",
   "execution_count": 5,
   "metadata": {},
   "outputs": [
    {
     "data": {
      "text/html": [
       "<div>\n",
       "<style scoped>\n",
       "    .dataframe tbody tr th:only-of-type {\n",
       "        vertical-align: middle;\n",
       "    }\n",
       "\n",
       "    .dataframe tbody tr th {\n",
       "        vertical-align: top;\n",
       "    }\n",
       "\n",
       "    .dataframe thead th {\n",
       "        text-align: right;\n",
       "    }\n",
       "</style>\n",
       "<table border=\"1\" class=\"dataframe\">\n",
       "  <thead>\n",
       "    <tr style=\"text-align: right;\">\n",
       "      <th></th>\n",
       "      <th>Date</th>\n",
       "      <th>AQI</th>\n",
       "    </tr>\n",
       "  </thead>\n",
       "  <tbody>\n",
       "    <tr>\n",
       "      <th>0</th>\n",
       "      <td>2016-01-01</td>\n",
       "      <td>101.0</td>\n",
       "    </tr>\n",
       "    <tr>\n",
       "      <th>1</th>\n",
       "      <td>2016-01-02</td>\n",
       "      <td>92.0</td>\n",
       "    </tr>\n",
       "    <tr>\n",
       "      <th>2</th>\n",
       "      <td>2016-01-03</td>\n",
       "      <td>108.0</td>\n",
       "    </tr>\n",
       "    <tr>\n",
       "      <th>3</th>\n",
       "      <td>2016-01-04</td>\n",
       "      <td>109.0</td>\n",
       "    </tr>\n",
       "    <tr>\n",
       "      <th>4</th>\n",
       "      <td>2016-01-05</td>\n",
       "      <td>114.0</td>\n",
       "    </tr>\n",
       "  </tbody>\n",
       "</table>\n",
       "</div>"
      ],
      "text/plain": [
       "         Date    AQI\n",
       "0  2016-01-01  101.0\n",
       "1  2016-01-02   92.0\n",
       "2  2016-01-03  108.0\n",
       "3  2016-01-04  109.0\n",
       "4  2016-01-05  114.0"
      ]
     },
     "execution_count": 5,
     "metadata": {},
     "output_type": "execute_result"
    }
   ],
   "source": [
    "df_y.head(5)"
   ]
  },
  {
   "cell_type": "code",
   "execution_count": 6,
   "metadata": {},
   "outputs": [
    {
     "data": {
      "text/html": [
       "<div>\n",
       "<style scoped>\n",
       "    .dataframe tbody tr th:only-of-type {\n",
       "        vertical-align: middle;\n",
       "    }\n",
       "\n",
       "    .dataframe tbody tr th {\n",
       "        vertical-align: top;\n",
       "    }\n",
       "\n",
       "    .dataframe thead th {\n",
       "        text-align: right;\n",
       "    }\n",
       "</style>\n",
       "<table border=\"1\" class=\"dataframe\">\n",
       "  <thead>\n",
       "    <tr style=\"text-align: right;\">\n",
       "      <th></th>\n",
       "      <th>Date</th>\n",
       "      <th>AQI</th>\n",
       "    </tr>\n",
       "  </thead>\n",
       "  <tbody>\n",
       "    <tr>\n",
       "      <th>0</th>\n",
       "      <td>2020-01-01</td>\n",
       "      <td>82.0</td>\n",
       "    </tr>\n",
       "    <tr>\n",
       "      <th>1</th>\n",
       "      <td>2020-01-02</td>\n",
       "      <td>81.0</td>\n",
       "    </tr>\n",
       "    <tr>\n",
       "      <th>2</th>\n",
       "      <td>2020-01-03</td>\n",
       "      <td>85.0</td>\n",
       "    </tr>\n",
       "    <tr>\n",
       "      <th>3</th>\n",
       "      <td>2020-01-04</td>\n",
       "      <td>95.0</td>\n",
       "    </tr>\n",
       "    <tr>\n",
       "      <th>4</th>\n",
       "      <td>2020-01-05</td>\n",
       "      <td>118.0</td>\n",
       "    </tr>\n",
       "  </tbody>\n",
       "</table>\n",
       "</div>"
      ],
      "text/plain": [
       "         Date    AQI\n",
       "0  2020-01-01   82.0\n",
       "1  2020-01-02   81.0\n",
       "2  2020-01-03   85.0\n",
       "3  2020-01-04   95.0\n",
       "4  2020-01-05  118.0"
      ]
     },
     "execution_count": 6,
     "metadata": {},
     "output_type": "execute_result"
    }
   ],
   "source": [
    "df_y1.head(5)"
   ]
  },
  {
   "cell_type": "code",
   "execution_count": 7,
   "metadata": {},
   "outputs": [
    {
     "name": "stdout",
     "output_type": "stream",
     "text": [
      "<class 'pandas.core.frame.DataFrame'>\n",
      "RangeIndex: 1441 entries, 0 to 1440\n",
      "Data columns (total 14 columns):\n",
      "Date        1441 non-null object\n",
      "PM2.5       1441 non-null float64\n",
      "PM10        1441 non-null float64\n",
      "NO2         1441 non-null float64\n",
      "NOx         1441 non-null float64\n",
      "CO          1441 non-null float64\n",
      "SO2         1441 non-null float64\n",
      "O3          1441 non-null float64\n",
      "temp        1441 non-null float64\n",
      "max_temp    1441 non-null float64\n",
      "min_temp    1441 non-null float64\n",
      "humid       1441 non-null float64\n",
      "visible     1441 non-null float64\n",
      "wind        1441 non-null float64\n",
      "dtypes: float64(13), object(1)\n",
      "memory usage: 157.7+ KB\n"
     ]
    }
   ],
   "source": [
    "df_x.info()"
   ]
  },
  {
   "cell_type": "code",
   "execution_count": 8,
   "metadata": {},
   "outputs": [
    {
     "name": "stdout",
     "output_type": "stream",
     "text": [
      "<class 'pandas.core.frame.DataFrame'>\n",
      "RangeIndex: 1441 entries, 0 to 1440\n",
      "Data columns (total 2 columns):\n",
      "Date    1441 non-null object\n",
      "AQI     1441 non-null float64\n",
      "dtypes: float64(1), object(1)\n",
      "memory usage: 22.6+ KB\n"
     ]
    }
   ],
   "source": [
    "df_y.info()"
   ]
  },
  {
   "cell_type": "code",
   "execution_count": 9,
   "metadata": {},
   "outputs": [
    {
     "name": "stdout",
     "output_type": "stream",
     "text": [
      "<class 'pandas.core.frame.DataFrame'>\n",
      "RangeIndex: 182 entries, 0 to 181\n",
      "Data columns (total 14 columns):\n",
      "Date        182 non-null object\n",
      "PM2.5       182 non-null float64\n",
      "PM10        182 non-null float64\n",
      "NO2         182 non-null float64\n",
      "NOx         182 non-null float64\n",
      "CO          182 non-null float64\n",
      "SO2         182 non-null float64\n",
      "O3          182 non-null float64\n",
      "temp        182 non-null float64\n",
      "max_temp    182 non-null float64\n",
      "min_temp    182 non-null float64\n",
      "humid       182 non-null int64\n",
      "visible     182 non-null float64\n",
      "wind        182 non-null float64\n",
      "dtypes: float64(12), int64(1), object(1)\n",
      "memory usage: 20.0+ KB\n"
     ]
    }
   ],
   "source": [
    "df_x1.info()"
   ]
  },
  {
   "cell_type": "code",
   "execution_count": 10,
   "metadata": {},
   "outputs": [
    {
     "name": "stdout",
     "output_type": "stream",
     "text": [
      "<class 'pandas.core.frame.DataFrame'>\n",
      "RangeIndex: 182 entries, 0 to 181\n",
      "Data columns (total 2 columns):\n",
      "Date    182 non-null object\n",
      "AQI     182 non-null float64\n",
      "dtypes: float64(1), object(1)\n",
      "memory usage: 2.9+ KB\n"
     ]
    }
   ],
   "source": [
    "df_y1.info()"
   ]
  },
  {
   "cell_type": "code",
   "execution_count": 11,
   "metadata": {},
   "outputs": [],
   "source": [
    "df_x[\"Date\"] = pd.to_datetime(df_x[\"Date\"])\n",
    "df_x1[\"Date\"] = pd.to_datetime(df_x[\"Date\"])"
   ]
  },
  {
   "cell_type": "code",
   "execution_count": 12,
   "metadata": {},
   "outputs": [
    {
     "name": "stdout",
     "output_type": "stream",
     "text": [
      "<class 'pandas.core.frame.DataFrame'>\n",
      "RangeIndex: 1441 entries, 0 to 1440\n",
      "Data columns (total 14 columns):\n",
      "Date        1441 non-null datetime64[ns]\n",
      "PM2.5       1441 non-null float64\n",
      "PM10        1441 non-null float64\n",
      "NO2         1441 non-null float64\n",
      "NOx         1441 non-null float64\n",
      "CO          1441 non-null float64\n",
      "SO2         1441 non-null float64\n",
      "O3          1441 non-null float64\n",
      "temp        1441 non-null float64\n",
      "max_temp    1441 non-null float64\n",
      "min_temp    1441 non-null float64\n",
      "humid       1441 non-null float64\n",
      "visible     1441 non-null float64\n",
      "wind        1441 non-null float64\n",
      "dtypes: datetime64[ns](1), float64(13)\n",
      "memory usage: 157.7 KB\n"
     ]
    }
   ],
   "source": [
    "df_x.info()"
   ]
  },
  {
   "cell_type": "code",
   "execution_count": 13,
   "metadata": {},
   "outputs": [
    {
     "name": "stdout",
     "output_type": "stream",
     "text": [
      "<class 'pandas.core.frame.DataFrame'>\n",
      "RangeIndex: 182 entries, 0 to 181\n",
      "Data columns (total 14 columns):\n",
      "Date        182 non-null datetime64[ns]\n",
      "PM2.5       182 non-null float64\n",
      "PM10        182 non-null float64\n",
      "NO2         182 non-null float64\n",
      "NOx         182 non-null float64\n",
      "CO          182 non-null float64\n",
      "SO2         182 non-null float64\n",
      "O3          182 non-null float64\n",
      "temp        182 non-null float64\n",
      "max_temp    182 non-null float64\n",
      "min_temp    182 non-null float64\n",
      "humid       182 non-null int64\n",
      "visible     182 non-null float64\n",
      "wind        182 non-null float64\n",
      "dtypes: datetime64[ns](1), float64(12), int64(1)\n",
      "memory usage: 20.0 KB\n"
     ]
    }
   ],
   "source": [
    "df_x1.info()"
   ]
  },
  {
   "cell_type": "code",
   "execution_count": 14,
   "metadata": {},
   "outputs": [
    {
     "data": {
      "text/plain": [
       "<matplotlib.axes._subplots.AxesSubplot at 0x18ef365fac8>"
      ]
     },
     "execution_count": 14,
     "metadata": {},
     "output_type": "execute_result"
    },
    {
     "data": {
      "image/png": "[encoded data removed]",
      "text/plain": [
       "<Figure size 432x288 with 1 Axes>"
      ]
     },
     "metadata": {
      "needs_background": "light"
     },
     "output_type": "display_data"
    }
   ],
   "source": [
    "sns.heatmap(df_x.isnull(),cbar=False, yticklabels=False)"
   ]
  },
  {
   "cell_type": "code",
   "execution_count": 15,
   "metadata": {},
   "outputs": [
    {
     "data": {
      "text/plain": [
       "<matplotlib.axes._subplots.AxesSubplot at 0x18ef3998940>"
      ]
     },
     "execution_count": 15,
     "metadata": {},
     "output_type": "execute_result"
    },
    {
     "data": {
      "image/png": "[encoded data removed]",
      "text/plain": [
       "<Figure size 432x288 with 1 Axes>"
      ]
     },
     "metadata": {
      "needs_background": "light"
     },
     "output_type": "display_data"
    }
   ],
   "source": [
    "sns.heatmap(df_x1.isnull(),cbar=False, yticklabels=False)"
   ]
  },
  {
   "cell_type": "code",
   "execution_count": 16,
   "metadata": {},
   "outputs": [],
   "source": [
    "x_train = df_x.drop(['Date'], axis = 1)\n",
    "y_train = df_y[\"AQI\"]\n",
    "x_test = df_x1.drop(['Date'], axis = 1)\n",
    "y_test = df_y1[\"AQI\"]"
   ]
  },
  {
   "cell_type": "code",
   "execution_count": 17,
   "metadata": {},
   "outputs": [
    {
     "data": {
      "text/html": [
       "<div>\n",
       "<style scoped>\n",
       "    .dataframe tbody tr th:only-of-type {\n",
       "        vertical-align: middle;\n",
       "    }\n",
       "\n",
       "    .dataframe tbody tr th {\n",
       "        vertical-align: top;\n",
       "    }\n",
       "\n",
       "    .dataframe thead th {\n",
       "        text-align: right;\n",
       "    }\n",
       "</style>\n",
       "<table border=\"1\" class=\"dataframe\">\n",
       "  <thead>\n",
       "    <tr style=\"text-align: right;\">\n",
       "      <th></th>\n",
       "      <th>PM2.5</th>\n",
       "      <th>PM10</th>\n",
       "      <th>NO2</th>\n",
       "      <th>NOx</th>\n",
       "      <th>CO</th>\n",
       "      <th>SO2</th>\n",
       "      <th>O3</th>\n",
       "      <th>temp</th>\n",
       "      <th>max_temp</th>\n",
       "      <th>min_temp</th>\n",
       "      <th>humid</th>\n",
       "      <th>visible</th>\n",
       "      <th>wind</th>\n",
       "    </tr>\n",
       "  </thead>\n",
       "  <tbody>\n",
       "    <tr>\n",
       "      <th>0</th>\n",
       "      <td>56.40</td>\n",
       "      <td>95.08</td>\n",
       "      <td>51.73</td>\n",
       "      <td>34.31</td>\n",
       "      <td>0.69</td>\n",
       "      <td>7.44</td>\n",
       "      <td>55.96</td>\n",
       "      <td>20.1</td>\n",
       "      <td>28.4</td>\n",
       "      <td>15.7</td>\n",
       "      <td>54.0</td>\n",
       "      <td>6.0</td>\n",
       "      <td>3.0</td>\n",
       "    </tr>\n",
       "    <tr>\n",
       "      <th>1</th>\n",
       "      <td>53.69</td>\n",
       "      <td>93.92</td>\n",
       "      <td>73.09</td>\n",
       "      <td>54.77</td>\n",
       "      <td>0.76</td>\n",
       "      <td>8.67</td>\n",
       "      <td>34.06</td>\n",
       "      <td>20.8</td>\n",
       "      <td>28.3</td>\n",
       "      <td>12.9</td>\n",
       "      <td>45.0</td>\n",
       "      <td>6.3</td>\n",
       "      <td>1.1</td>\n",
       "    </tr>\n",
       "    <tr>\n",
       "      <th>2</th>\n",
       "      <td>62.35</td>\n",
       "      <td>99.34</td>\n",
       "      <td>77.77</td>\n",
       "      <td>55.60</td>\n",
       "      <td>0.96</td>\n",
       "      <td>9.10</td>\n",
       "      <td>47.62</td>\n",
       "      <td>21.4</td>\n",
       "      <td>29.0</td>\n",
       "      <td>13.7</td>\n",
       "      <td>45.0</td>\n",
       "      <td>6.3</td>\n",
       "      <td>0.4</td>\n",
       "    </tr>\n",
       "    <tr>\n",
       "      <th>3</th>\n",
       "      <td>64.96</td>\n",
       "      <td>104.62</td>\n",
       "      <td>77.07</td>\n",
       "      <td>50.81</td>\n",
       "      <td>0.89</td>\n",
       "      <td>8.87</td>\n",
       "      <td>50.62</td>\n",
       "      <td>21.5</td>\n",
       "      <td>29.0</td>\n",
       "      <td>15.2</td>\n",
       "      <td>47.0</td>\n",
       "      <td>6.9</td>\n",
       "      <td>2.2</td>\n",
       "    </tr>\n",
       "    <tr>\n",
       "      <th>4</th>\n",
       "      <td>70.15</td>\n",
       "      <td>105.12</td>\n",
       "      <td>79.43</td>\n",
       "      <td>56.05</td>\n",
       "      <td>0.85</td>\n",
       "      <td>9.41</td>\n",
       "      <td>36.94</td>\n",
       "      <td>20.9</td>\n",
       "      <td>28.4</td>\n",
       "      <td>14.7</td>\n",
       "      <td>51.0</td>\n",
       "      <td>6.3</td>\n",
       "      <td>1.1</td>\n",
       "    </tr>\n",
       "  </tbody>\n",
       "</table>\n",
       "</div>"
      ],
      "text/plain": [
       "   PM2.5    PM10    NO2    NOx    CO   SO2     O3  temp  max_temp  min_temp  \\\n",
       "0  56.40   95.08  51.73  34.31  0.69  7.44  55.96  20.1      28.4      15.7   \n",
       "1  53.69   93.92  73.09  54.77  0.76  8.67  34.06  20.8      28.3      12.9   \n",
       "2  62.35   99.34  77.77  55.60  0.96  9.10  47.62  21.4      29.0      13.7   \n",
       "3  64.96  104.62  77.07  50.81  0.89  8.87  50.62  21.5      29.0      15.2   \n",
       "4  70.15  105.12  79.43  56.05  0.85  9.41  36.94  20.9      28.4      14.7   \n",
       "\n",
       "   humid  visible  wind  \n",
       "0   54.0      6.0   3.0  \n",
       "1   45.0      6.3   1.1  \n",
       "2   45.0      6.3   0.4  \n",
       "3   47.0      6.9   2.2  \n",
       "4   51.0      6.3   1.1  "
      ]
     },
     "execution_count": 17,
     "metadata": {},
     "output_type": "execute_result"
    }
   ],
   "source": [
    "x_train.head(5)"
   ]
  },
  {
   "cell_type": "code",
   "execution_count": 18,
   "metadata": {},
   "outputs": [
    {
     "data": {
      "text/html": [
       "<div>\n",
       "<style scoped>\n",
       "    .dataframe tbody tr th:only-of-type {\n",
       "        vertical-align: middle;\n",
       "    }\n",
       "\n",
       "    .dataframe tbody tr th {\n",
       "        vertical-align: top;\n",
       "    }\n",
       "\n",
       "    .dataframe thead th {\n",
       "        text-align: right;\n",
       "    }\n",
       "</style>\n",
       "<table border=\"1\" class=\"dataframe\">\n",
       "  <thead>\n",
       "    <tr style=\"text-align: right;\">\n",
       "      <th></th>\n",
       "      <th>PM2.5</th>\n",
       "      <th>PM10</th>\n",
       "      <th>NO2</th>\n",
       "      <th>NOx</th>\n",
       "      <th>CO</th>\n",
       "      <th>SO2</th>\n",
       "      <th>O3</th>\n",
       "      <th>temp</th>\n",
       "      <th>max_temp</th>\n",
       "      <th>min_temp</th>\n",
       "      <th>humid</th>\n",
       "      <th>visible</th>\n",
       "      <th>wind</th>\n",
       "    </tr>\n",
       "  </thead>\n",
       "  <tbody>\n",
       "    <tr>\n",
       "      <th>0</th>\n",
       "      <td>30.71</td>\n",
       "      <td>70.80</td>\n",
       "      <td>27.31</td>\n",
       "      <td>26.74</td>\n",
       "      <td>1.07</td>\n",
       "      <td>8.56</td>\n",
       "      <td>37.39</td>\n",
       "      <td>22.0</td>\n",
       "      <td>27.2</td>\n",
       "      <td>19.2</td>\n",
       "      <td>75</td>\n",
       "      <td>6.9</td>\n",
       "      <td>3.3</td>\n",
       "    </tr>\n",
       "    <tr>\n",
       "      <th>1</th>\n",
       "      <td>25.78</td>\n",
       "      <td>62.73</td>\n",
       "      <td>28.05</td>\n",
       "      <td>30.18</td>\n",
       "      <td>1.16</td>\n",
       "      <td>7.52</td>\n",
       "      <td>33.11</td>\n",
       "      <td>22.2</td>\n",
       "      <td>26.0</td>\n",
       "      <td>19.4</td>\n",
       "      <td>77</td>\n",
       "      <td>5.5</td>\n",
       "      <td>2.0</td>\n",
       "    </tr>\n",
       "    <tr>\n",
       "      <th>2</th>\n",
       "      <td>29.66</td>\n",
       "      <td>69.62</td>\n",
       "      <td>26.26</td>\n",
       "      <td>26.92</td>\n",
       "      <td>0.99</td>\n",
       "      <td>6.40</td>\n",
       "      <td>32.98</td>\n",
       "      <td>23.4</td>\n",
       "      <td>28.4</td>\n",
       "      <td>19.4</td>\n",
       "      <td>68</td>\n",
       "      <td>6.9</td>\n",
       "      <td>3.5</td>\n",
       "    </tr>\n",
       "    <tr>\n",
       "      <th>3</th>\n",
       "      <td>52.62</td>\n",
       "      <td>106.81</td>\n",
       "      <td>31.56</td>\n",
       "      <td>41.89</td>\n",
       "      <td>1.39</td>\n",
       "      <td>6.94</td>\n",
       "      <td>37.35</td>\n",
       "      <td>23.6</td>\n",
       "      <td>30.5</td>\n",
       "      <td>19.0</td>\n",
       "      <td>63</td>\n",
       "      <td>6.3</td>\n",
       "      <td>1.3</td>\n",
       "    </tr>\n",
       "    <tr>\n",
       "      <th>4</th>\n",
       "      <td>52.64</td>\n",
       "      <td>97.94</td>\n",
       "      <td>29.10</td>\n",
       "      <td>29.52</td>\n",
       "      <td>1.01</td>\n",
       "      <td>7.01</td>\n",
       "      <td>45.10</td>\n",
       "      <td>24.2</td>\n",
       "      <td>30.5</td>\n",
       "      <td>20.4</td>\n",
       "      <td>63</td>\n",
       "      <td>6.3</td>\n",
       "      <td>1.3</td>\n",
       "    </tr>\n",
       "  </tbody>\n",
       "</table>\n",
       "</div>"
      ],
      "text/plain": [
       "   PM2.5    PM10    NO2    NOx    CO   SO2     O3  temp  max_temp  min_temp  \\\n",
       "0  30.71   70.80  27.31  26.74  1.07  8.56  37.39  22.0      27.2      19.2   \n",
       "1  25.78   62.73  28.05  30.18  1.16  7.52  33.11  22.2      26.0      19.4   \n",
       "2  29.66   69.62  26.26  26.92  0.99  6.40  32.98  23.4      28.4      19.4   \n",
       "3  52.62  106.81  31.56  41.89  1.39  6.94  37.35  23.6      30.5      19.0   \n",
       "4  52.64   97.94  29.10  29.52  1.01  7.01  45.10  24.2      30.5      20.4   \n",
       "\n",
       "   humid  visible  wind  \n",
       "0     75      6.9   3.3  \n",
       "1     77      5.5   2.0  \n",
       "2     68      6.9   3.5  \n",
       "3     63      6.3   1.3  \n",
       "4     63      6.3   1.3  "
      ]
     },
     "execution_count": 18,
     "metadata": {},
     "output_type": "execute_result"
    }
   ],
   "source": [
    "x_test.head(5)"
   ]
  },
  {
   "cell_type": "code",
   "execution_count": 19,
   "metadata": {},
   "outputs": [
    {
     "data": {
      "text/plain": [
       "0    101.0\n",
       "1     92.0\n",
       "2    108.0\n",
       "3    109.0\n",
       "4    114.0\n",
       "Name: AQI, dtype: float64"
      ]
     },
     "execution_count": 19,
     "metadata": {},
     "output_type": "execute_result"
    }
   ],
   "source": [
    "y_train.head(5)"
   ]
  },
  {
   "cell_type": "code",
   "execution_count": 20,
   "metadata": {},
   "outputs": [
    {
     "data": {
      "text/plain": [
       "0     82.0\n",
       "1     81.0\n",
       "2     85.0\n",
       "3     95.0\n",
       "4    118.0\n",
       "Name: AQI, dtype: float64"
      ]
     },
     "execution_count": 20,
     "metadata": {},
     "output_type": "execute_result"
    }
   ],
   "source": [
    "y_test.head(5)"
   ]
  },
  {
   "cell_type": "code",
   "execution_count": 21,
   "metadata": {},
   "outputs": [],
   "source": [
    "from sklearn.preprocessing import StandardScaler, MinMaxScaler\n",
    "sc_x = StandardScaler()\n",
    "sc_y = StandardScaler()\n",
    "x_train = sc_x.fit_transform(x_train)\n",
    "x_test = sc_x.transform(x_test)\n",
    "y_train = sc_y.fit_transform(np.array(y_train).reshape(-1,1))\n",
    "y_test = sc_y.transform(np.array(y_test).reshape(-1,1))"
   ]
  },
  {
   "cell_type": "code",
   "execution_count": 22,
   "metadata": {},
   "outputs": [
    {
     "data": {
      "text/plain": [
       "array([[-0.27610501],\n",
       "       [-0.30227705],\n",
       "       [-0.1975889 ],\n",
       "       [ 0.06413148],\n",
       "       [ 0.66608835]])"
      ]
     },
     "execution_count": 22,
     "metadata": {},
     "output_type": "execute_result"
    }
   ],
   "source": [
    "y_test[:5]"
   ]
  },
  {
   "cell_type": "code",
   "execution_count": 23,
   "metadata": {},
   "outputs": [
    {
     "data": {
      "text/plain": [
       "SVR(C=1.0, cache_size=200, coef0=0.0, degree=3, epsilon=0.1,\n",
       "    gamma='auto_deprecated', kernel='rbf', max_iter=-1, shrinking=True,\n",
       "    tol=0.001, verbose=False)"
      ]
     },
     "execution_count": 23,
     "metadata": {},
     "output_type": "execute_result"
    }
   ],
   "source": [
    "from sklearn.svm import SVR\n",
    "regressor = SVR(kernel = 'rbf')\n",
    "regressor.fit(x_train,y_train)"
   ]
  },
  {
   "cell_type": "code",
   "execution_count": 24,
   "metadata": {},
   "outputs": [
    {
     "data": {
      "text/plain": [
       "array([-0.42595944, -0.32311139, -0.37435607,  0.56882821,  0.35833741,\n",
       "       -0.4289785 , -0.57286549, -0.26249298,  0.01577009, -0.11099087,\n",
       "       -0.32003543, -0.21896574,  0.40781822,  0.70554794,  0.22467137,\n",
       "        0.26272955,  0.05300658, -0.43237994, -0.50516794, -0.15245204,\n",
       "       -0.16191589, -0.16050723, -0.09468641,  0.01183634,  0.24495599,\n",
       "        0.43675849,  0.50363451,  0.22383874,  0.36682982,  0.68494588,\n",
       "        0.37600183,  0.16605308, -0.30409398, -0.25732645, -0.17879819,\n",
       "       -0.28231346,  0.22057641,  0.25122338,  0.13562446,  0.16869742,\n",
       "       -0.27649917, -0.19226034, -0.34176244, -0.07255308,  0.79432799,\n",
       "        0.99324748,  0.03093437,  0.16210712,  0.31583795,  0.47365842,\n",
       "        0.11191249, -0.22742264, -0.26317195,  0.01138717, -0.16583801,\n",
       "        0.34501398,  0.20441671,  0.14925122,  0.16647227,  0.23584846,\n",
       "        0.44561196,  0.74555276,  1.77403237,  0.98925211,  0.6941801 ,\n",
       "        0.04527876,  0.08692571, -0.15628333, -0.03071387,  0.15375035,\n",
       "        0.03870278,  0.00487757, -0.18599819, -0.30738972, -0.12022113,\n",
       "       -0.37615108, -0.56692846, -0.31514682,  0.19595979,  0.30663164,\n",
       "        0.4771285 , -0.28227281, -0.05911738,  0.04322423, -0.68263281,\n",
       "       -0.73819769, -0.50290478, -0.46696796, -0.38069815, -0.36181173,\n",
       "       -0.20645508, -0.36911442, -0.27281806, -0.22542369, -0.37897064,\n",
       "       -0.38816626, -0.72536073, -0.98441423, -0.7442325 , -0.71863761,\n",
       "       -0.72144794, -0.74704061, -0.58227917, -0.50226986, -0.33404258,\n",
       "       -0.48810957, -0.6112883 , -0.42955452, -0.65229843, -0.87307501,\n",
       "       -1.00287225, -0.82285002, -0.25709449, -0.75710873, -0.60362084,\n",
       "       -0.26031897, -0.91369875, -0.95760632, -0.81297347, -0.14054648,\n",
       "       -0.7561288 , -0.61221255, -0.69518032, -0.60207119, -0.37488619,\n",
       "       -0.20918184, -0.54138463, -0.49764821, -0.84623359, -0.73307276,\n",
       "       -0.60311798, -0.65324264, -0.86782537, -0.94903969, -0.59868767,\n",
       "       -0.80292309, -0.57618004, -0.85284508, -0.63479565, -0.51516231,\n",
       "       -0.51806576, -0.91674212, -0.68377782, -0.57208282, -0.84884395,\n",
       "       -0.80278251, -0.75762862, -0.58761396, -0.79499592, -0.81003283,\n",
       "       -0.87723899, -0.83168805, -1.13971526, -1.3723071 , -1.24599784,\n",
       "       -1.21094141, -0.90016809, -1.01965268, -1.02627238, -1.06362168,\n",
       "       -1.0106033 , -0.74411236, -0.97876786, -1.04877468, -0.96290783,\n",
       "       -1.11445661, -1.01896601, -0.86198109, -0.94589339, -0.78238535,\n",
       "       -0.85986483, -0.96586506, -1.06933763, -0.99446313, -0.97199095,\n",
       "       -0.98809041, -0.86366581, -0.9923654 , -1.1113921 , -1.06807415,\n",
       "       -0.08591312, -1.22178744])"
      ]
     },
     "execution_count": 24,
     "metadata": {},
     "output_type": "execute_result"
    }
   ],
   "source": [
    "y_prediction =  regressor.predict(x_test)\n",
    "y_prediction"
   ]
  },
  {
   "cell_type": "code",
   "execution_count": 25,
   "metadata": {},
   "outputs": [
    {
     "name": "stdout",
     "output_type": "stream",
     "text": [
      "R2 SCORE is 0.8063001007104242\n",
      "mean_sqrd_error is  0.04933772059187857\n",
      "Root mean squared error of is 0.22212095937096654\n",
      "Mean Absolute error is 0.16675010409400015\n"
     ]
    }
   ],
   "source": [
    "from sklearn.metrics import r2_score\n",
    "from sklearn.metrics import mean_squared_error\n",
    "from sklearn.metrics import mean_absolute_error\n",
    "score = r2_score(y_test,y_prediction)\n",
    "mean_error = mean_squared_error(y_test,y_prediction)\n",
    "mae = mean_absolute_error(y_test,y_prediction)\n",
    "print(\"R2 SCORE is\", score)\n",
    "print(\"mean_sqrd_error is \", mean_error)\n",
    "print(\"Root mean squared error of is\",np.sqrt(mean_error))\n",
    "print(\"Mean Absolute error is\", mae)"
   ]
  },
  {
   "cell_type": "code",
   "execution_count": 26,
   "metadata": {},
   "outputs": [
    {
     "data": {
      "text/plain": [
       "array([[ 82.],\n",
       "       [ 81.],\n",
       "       [ 85.],\n",
       "       [ 95.],\n",
       "       [118.]])"
      ]
     },
     "execution_count": 26,
     "metadata": {},
     "output_type": "execute_result"
    }
   ],
   "source": [
    "y_test = sc_y.inverse_transform(y_test)\n",
    "y_test[:5]"
   ]
  },
  {
   "cell_type": "code",
   "execution_count": 27,
   "metadata": {},
   "outputs": [
    {
     "data": {
      "text/plain": [
       "array([ 76.27425416,  80.20394657,  78.24595278, 114.28381494,\n",
       "       106.24123124])"
      ]
     },
     "execution_count": 27,
     "metadata": {},
     "output_type": "execute_result"
    }
   ],
   "source": [
    "y_prediction = sc_y.inverse_transform(y_prediction)\n",
    "y_prediction[:5]"
   ]
  },
  {
   "cell_type": "code",
   "execution_count": 28,
   "metadata": {},
   "outputs": [
    {
     "data": {
      "image/png": "[encoded data removed]",
      "text/plain": [
       "<Figure size 432x288 with 1 Axes>"
      ]
     },
     "metadata": {
      "needs_background": "light"
     },
     "output_type": "display_data"
    }
   ],
   "source": [
    "df1 = pd.DataFrame({'Actual': y_test[100:120].flatten(), 'Predicted': y_prediction[100:120].flatten()})\n",
    "df1.plot(kind='line')\n",
    "plt.grid(which='major', linestyle='-', linewidth='0.5', color='green')\n",
    "plt.grid(which='minor', linestyle=':', linewidth='0.5', color='black')\n",
    "plt.show()"
   ]
  },
  {
   "cell_type": "code",
   "execution_count": 29,
   "metadata": {},
   "outputs": [
    {
     "data": {
      "text/html": [
       "<div>\n",
       "<style scoped>\n",
       "    .dataframe tbody tr th:only-of-type {\n",
       "        vertical-align: middle;\n",
       "    }\n",
       "\n",
       "    .dataframe tbody tr th {\n",
       "        vertical-align: top;\n",
       "    }\n",
       "\n",
       "    .dataframe thead th {\n",
       "        text-align: right;\n",
       "    }\n",
       "</style>\n",
       "<table border=\"1\" class=\"dataframe\">\n",
       "  <thead>\n",
       "    <tr style=\"text-align: right;\">\n",
       "      <th></th>\n",
       "      <th>ACTUAL AQI</th>\n",
       "      <th>PREDICTED AQI</th>\n",
       "      <th>DIFFERENCE</th>\n",
       "      <th>PERCENTAGE ERROR</th>\n",
       "    </tr>\n",
       "  </thead>\n",
       "  <tbody>\n",
       "    <tr>\n",
       "      <th>0</th>\n",
       "      <td>82.0</td>\n",
       "      <td>76.274254</td>\n",
       "      <td>5.725746</td>\n",
       "      <td>6.982617</td>\n",
       "    </tr>\n",
       "    <tr>\n",
       "      <th>1</th>\n",
       "      <td>81.0</td>\n",
       "      <td>80.203947</td>\n",
       "      <td>0.796053</td>\n",
       "      <td>0.982782</td>\n",
       "    </tr>\n",
       "    <tr>\n",
       "      <th>2</th>\n",
       "      <td>85.0</td>\n",
       "      <td>78.245953</td>\n",
       "      <td>6.754047</td>\n",
       "      <td>7.945938</td>\n",
       "    </tr>\n",
       "    <tr>\n",
       "      <th>3</th>\n",
       "      <td>95.0</td>\n",
       "      <td>114.283815</td>\n",
       "      <td>-19.283815</td>\n",
       "      <td>20.298753</td>\n",
       "    </tr>\n",
       "    <tr>\n",
       "      <th>4</th>\n",
       "      <td>118.0</td>\n",
       "      <td>106.241231</td>\n",
       "      <td>11.758769</td>\n",
       "      <td>9.965058</td>\n",
       "    </tr>\n",
       "    <tr>\n",
       "      <th>5</th>\n",
       "      <td>81.0</td>\n",
       "      <td>76.158900</td>\n",
       "      <td>4.841100</td>\n",
       "      <td>5.976667</td>\n",
       "    </tr>\n",
       "    <tr>\n",
       "      <th>6</th>\n",
       "      <td>75.0</td>\n",
       "      <td>70.661163</td>\n",
       "      <td>4.338837</td>\n",
       "      <td>5.785116</td>\n",
       "    </tr>\n",
       "    <tr>\n",
       "      <th>7</th>\n",
       "      <td>93.0</td>\n",
       "      <td>82.520098</td>\n",
       "      <td>10.479902</td>\n",
       "      <td>11.268712</td>\n",
       "    </tr>\n",
       "    <tr>\n",
       "      <th>8</th>\n",
       "      <td>101.0</td>\n",
       "      <td>93.152173</td>\n",
       "      <td>7.847827</td>\n",
       "      <td>7.770126</td>\n",
       "    </tr>\n",
       "    <tr>\n",
       "      <th>9</th>\n",
       "      <td>94.0</td>\n",
       "      <td>88.308799</td>\n",
       "      <td>5.691201</td>\n",
       "      <td>6.054469</td>\n",
       "    </tr>\n",
       "    <tr>\n",
       "      <th>10</th>\n",
       "      <td>78.0</td>\n",
       "      <td>80.321475</td>\n",
       "      <td>-2.321475</td>\n",
       "      <td>2.976250</td>\n",
       "    </tr>\n",
       "    <tr>\n",
       "      <th>11</th>\n",
       "      <td>79.0</td>\n",
       "      <td>84.183218</td>\n",
       "      <td>-5.183218</td>\n",
       "      <td>6.561036</td>\n",
       "    </tr>\n",
       "    <tr>\n",
       "      <th>12</th>\n",
       "      <td>106.0</td>\n",
       "      <td>108.131829</td>\n",
       "      <td>-2.131829</td>\n",
       "      <td>2.011160</td>\n",
       "    </tr>\n",
       "    <tr>\n",
       "      <th>13</th>\n",
       "      <td>121.0</td>\n",
       "      <td>119.507700</td>\n",
       "      <td>1.492300</td>\n",
       "      <td>1.233306</td>\n",
       "    </tr>\n",
       "    <tr>\n",
       "      <th>14</th>\n",
       "      <td>111.0</td>\n",
       "      <td>101.134023</td>\n",
       "      <td>9.865977</td>\n",
       "      <td>8.888267</td>\n",
       "    </tr>\n",
       "  </tbody>\n",
       "</table>\n",
       "</div>"
      ],
      "text/plain": [
       "    ACTUAL AQI  PREDICTED AQI  DIFFERENCE  PERCENTAGE ERROR\n",
       "0         82.0      76.274254    5.725746          6.982617\n",
       "1         81.0      80.203947    0.796053          0.982782\n",
       "2         85.0      78.245953    6.754047          7.945938\n",
       "3         95.0     114.283815  -19.283815         20.298753\n",
       "4        118.0     106.241231   11.758769          9.965058\n",
       "5         81.0      76.158900    4.841100          5.976667\n",
       "6         75.0      70.661163    4.338837          5.785116\n",
       "7         93.0      82.520098   10.479902         11.268712\n",
       "8        101.0      93.152173    7.847827          7.770126\n",
       "9         94.0      88.308799    5.691201          6.054469\n",
       "10        78.0      80.321475   -2.321475          2.976250\n",
       "11        79.0      84.183218   -5.183218          6.561036\n",
       "12       106.0     108.131829   -2.131829          2.011160\n",
       "13       121.0     119.507700    1.492300          1.233306\n",
       "14       111.0     101.134023    9.865977          8.888267"
      ]
     },
     "execution_count": 29,
     "metadata": {},
     "output_type": "execute_result"
    }
   ],
   "source": [
    "result = pd.DataFrame()\n",
    "result[\"ACTUAL AQI\"] = y_test.flatten()\n",
    "result[\"PREDICTED AQI\"] = y_prediction\n",
    "result[\"DIFFERENCE\"] = result[\"ACTUAL AQI\"] - result[\"PREDICTED AQI\"]\n",
    "result[\"PERCENTAGE ERROR\"] = ( abs(result[\"ACTUAL AQI\"] - result[\"PREDICTED AQI\"] ) / result[\"ACTUAL AQI\"] ) * 100\n",
    "result.head(15)"
   ]
  },
  {
   "cell_type": "code",
   "execution_count": null,
   "metadata": {},
   "outputs": [],
   "source": []
  }
 ],
 "metadata": {
  "kernelspec": {
   "display_name": "Python 3",
   "language": "python",
   "name": "python3"
  },
  "language_info": {
   "codemirror_mode": {
    "name": "ipython",
    "version": 3
   },
   "file_extension": ".py",
   "mimetype": "text/x-python",
   "name": "python",
   "nbconvert_exporter": "python",
   "pygments_lexer": "ipython3",
   "version": "3.7.3"
  }
 },
 "nbformat": 4,
 "nbformat_minor": 2
}
