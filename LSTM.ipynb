{
  "nbformat": 4,
  "nbformat_minor": 0,
  "metadata": {
    "colab": {
      "name": "MINOR_LSTM_PyTorch_ts1.ipynb",
      "provenance": [],
      "collapsed_sections": [
        "VpXCWWd4iySw"
      ]
    },
    "kernelspec": {
      "name": "python3",
      "display_name": "Python 3"
    },
    "language_info": {
      "name": "python"
    }
  },
  "cells": [
    {
      "cell_type": "code",
      "metadata": {
        "id": "9awkdniJvbrC"
      },
      "source": [
        "import numpy as np\n",
        "import pandas as pd\n",
        "import matplotlib.pyplot as plt\n",
        "import seaborn as sns"
      ],
      "execution_count": 1,
      "outputs": []
    },
    {
      "cell_type": "code",
      "metadata": {
        "colab": {
          "base_uri": "https://localhost:8080/"
        },
        "id": "Tl9qhC6Az9ge",
        "outputId": "32508a2c-3c4b-48ca-e646-94a2cf52165c"
      },
      "source": [
        "from google.colab import drive\n",
        "drive.mount('/content/drive')"
      ],
      "execution_count": 2,
      "outputs": [
        {
          "output_type": "stream",
          "name": "stdout",
          "text": [
            "Drive already mounted at /content/drive; to attempt to forcibly remount, call drive.mount(\"/content/drive\", force_remount=True).\n"
          ]
        }
      ]
    },
    {
      "cell_type": "markdown",
      "metadata": {
        "id": "oscXDk4B5mMs"
      },
      "source": [
        "## Load Pollutants Dataset"
      ]
    },
    {
      "cell_type": "code",
      "metadata": {
        "colab": {
          "base_uri": "https://localhost:8080/",
          "height": 206
        },
        "id": "Ijsxzdeuz9dB",
        "outputId": "e68a618e-3e4d-458b-a76b-7e318d192f0f"
      },
      "source": [
        "pollutants = pd.read_csv('/content/drive/MyDrive/Datasets/city_day.csv')\n",
        "pollutants.head()"
      ],
      "execution_count": 3,
      "outputs": [
        {
          "output_type": "execute_result",
          "data": {
            "text/html": [
              "<div>\n",
              "<style scoped>\n",
              "    .dataframe tbody tr th:only-of-type {\n",
              "        vertical-align: middle;\n",
              "    }\n",
              "\n",
              "    .dataframe tbody tr th {\n",
              "        vertical-align: top;\n",
              "    }\n",
              "\n",
              "    .dataframe thead th {\n",
              "        text-align: right;\n",
              "    }\n",
              "</style>\n",
              "<table border=\"1\" class=\"dataframe\">\n",
              "  <thead>\n",
              "    <tr style=\"text-align: right;\">\n",
              "      <th></th>\n",
              "      <th>City</th>\n",
              "      <th>Date</th>\n",
              "      <th>PM2.5</th>\n",
              "      <th>PM10</th>\n",
              "      <th>NO</th>\n",
              "      <th>NO2</th>\n",
              "      <th>NOx</th>\n",
              "      <th>NH3</th>\n",
              "      <th>CO</th>\n",
              "      <th>SO2</th>\n",
              "      <th>O3</th>\n",
              "      <th>Benzene</th>\n",
              "      <th>Toluene</th>\n",
              "      <th>Xylene</th>\n",
              "      <th>AQI</th>\n",
              "      <th>AQI_Bucket</th>\n",
              "    </tr>\n",
              "  </thead>\n",
              "  <tbody>\n",
              "    <tr>\n",
              "      <th>0</th>\n",
              "      <td>Ahmedabad</td>\n",
              "      <td>2015-01-01</td>\n",
              "      <td>NaN</td>\n",
              "      <td>NaN</td>\n",
              "      <td>0.92</td>\n",
              "      <td>18.22</td>\n",
              "      <td>17.15</td>\n",
              "      <td>NaN</td>\n",
              "      <td>0.92</td>\n",
              "      <td>27.64</td>\n",
              "      <td>133.36</td>\n",
              "      <td>0.00</td>\n",
              "      <td>0.02</td>\n",
              "      <td>0.00</td>\n",
              "      <td>NaN</td>\n",
              "      <td>NaN</td>\n",
              "    </tr>\n",
              "    <tr>\n",
              "      <th>1</th>\n",
              "      <td>Ahmedabad</td>\n",
              "      <td>2015-01-02</td>\n",
              "      <td>NaN</td>\n",
              "      <td>NaN</td>\n",
              "      <td>0.97</td>\n",
              "      <td>15.69</td>\n",
              "      <td>16.46</td>\n",
              "      <td>NaN</td>\n",
              "      <td>0.97</td>\n",
              "      <td>24.55</td>\n",
              "      <td>34.06</td>\n",
              "      <td>3.68</td>\n",
              "      <td>5.50</td>\n",
              "      <td>3.77</td>\n",
              "      <td>NaN</td>\n",
              "      <td>NaN</td>\n",
              "    </tr>\n",
              "    <tr>\n",
              "      <th>2</th>\n",
              "      <td>Ahmedabad</td>\n",
              "      <td>2015-01-03</td>\n",
              "      <td>NaN</td>\n",
              "      <td>NaN</td>\n",
              "      <td>17.40</td>\n",
              "      <td>19.30</td>\n",
              "      <td>29.70</td>\n",
              "      <td>NaN</td>\n",
              "      <td>17.40</td>\n",
              "      <td>29.07</td>\n",
              "      <td>30.70</td>\n",
              "      <td>6.80</td>\n",
              "      <td>16.40</td>\n",
              "      <td>2.25</td>\n",
              "      <td>NaN</td>\n",
              "      <td>NaN</td>\n",
              "    </tr>\n",
              "    <tr>\n",
              "      <th>3</th>\n",
              "      <td>Ahmedabad</td>\n",
              "      <td>2015-01-04</td>\n",
              "      <td>NaN</td>\n",
              "      <td>NaN</td>\n",
              "      <td>1.70</td>\n",
              "      <td>18.48</td>\n",
              "      <td>17.97</td>\n",
              "      <td>NaN</td>\n",
              "      <td>1.70</td>\n",
              "      <td>18.59</td>\n",
              "      <td>36.08</td>\n",
              "      <td>4.43</td>\n",
              "      <td>10.14</td>\n",
              "      <td>1.00</td>\n",
              "      <td>NaN</td>\n",
              "      <td>NaN</td>\n",
              "    </tr>\n",
              "    <tr>\n",
              "      <th>4</th>\n",
              "      <td>Ahmedabad</td>\n",
              "      <td>2015-01-05</td>\n",
              "      <td>NaN</td>\n",
              "      <td>NaN</td>\n",
              "      <td>22.10</td>\n",
              "      <td>21.42</td>\n",
              "      <td>37.76</td>\n",
              "      <td>NaN</td>\n",
              "      <td>22.10</td>\n",
              "      <td>39.33</td>\n",
              "      <td>39.31</td>\n",
              "      <td>7.01</td>\n",
              "      <td>18.89</td>\n",
              "      <td>2.78</td>\n",
              "      <td>NaN</td>\n",
              "      <td>NaN</td>\n",
              "    </tr>\n",
              "  </tbody>\n",
              "</table>\n",
              "</div>"
            ],
            "text/plain": [
              "        City        Date  PM2.5  PM10  ...  Toluene  Xylene  AQI  AQI_Bucket\n",
              "0  Ahmedabad  2015-01-01    NaN   NaN  ...     0.02    0.00  NaN         NaN\n",
              "1  Ahmedabad  2015-01-02    NaN   NaN  ...     5.50    3.77  NaN         NaN\n",
              "2  Ahmedabad  2015-01-03    NaN   NaN  ...    16.40    2.25  NaN         NaN\n",
              "3  Ahmedabad  2015-01-04    NaN   NaN  ...    10.14    1.00  NaN         NaN\n",
              "4  Ahmedabad  2015-01-05    NaN   NaN  ...    18.89    2.78  NaN         NaN\n",
              "\n",
              "[5 rows x 16 columns]"
            ]
          },
          "metadata": {},
          "execution_count": 3
        }
      ]
    },
    {
      "cell_type": "code",
      "metadata": {
        "id": "0rrv7jlRvt1y"
      },
      "source": [
        "# pollutants = pd.read_csv('city_day.csv')\n",
        "# pollutants.head()"
      ],
      "execution_count": 4,
      "outputs": []
    },
    {
      "cell_type": "markdown",
      "metadata": {
        "id": "S8NBRoI5yZsk"
      },
      "source": [
        "### Pollutants training data (2016-19)"
      ]
    },
    {
      "cell_type": "code",
      "metadata": {
        "colab": {
          "base_uri": "https://localhost:8080/",
          "height": 423
        },
        "id": "1fSstGKaxfLt",
        "outputId": "0b94b53d-af92-4061-c5a2-c09464f1eba6"
      },
      "source": [
        "pollutants = pollutants[(pollutants['Date'] > '2015-12-31') & (pollutants['Date'] < '2020-01-01') & (pollutants['City'] == 'Bengaluru')]\n",
        "pollutants"
      ],
      "execution_count": 5,
      "outputs": [
        {
          "output_type": "execute_result",
          "data": {
            "text/html": [
              "<div>\n",
              "<style scoped>\n",
              "    .dataframe tbody tr th:only-of-type {\n",
              "        vertical-align: middle;\n",
              "    }\n",
              "\n",
              "    .dataframe tbody tr th {\n",
              "        vertical-align: top;\n",
              "    }\n",
              "\n",
              "    .dataframe thead th {\n",
              "        text-align: right;\n",
              "    }\n",
              "</style>\n",
              "<table border=\"1\" class=\"dataframe\">\n",
              "  <thead>\n",
              "    <tr style=\"text-align: right;\">\n",
              "      <th></th>\n",
              "      <th>City</th>\n",
              "      <th>Date</th>\n",
              "      <th>PM2.5</th>\n",
              "      <th>PM10</th>\n",
              "      <th>NO</th>\n",
              "      <th>NO2</th>\n",
              "      <th>NOx</th>\n",
              "      <th>NH3</th>\n",
              "      <th>CO</th>\n",
              "      <th>SO2</th>\n",
              "      <th>O3</th>\n",
              "      <th>Benzene</th>\n",
              "      <th>Toluene</th>\n",
              "      <th>Xylene</th>\n",
              "      <th>AQI</th>\n",
              "      <th>AQI_Bucket</th>\n",
              "    </tr>\n",
              "  </thead>\n",
              "  <tbody>\n",
              "    <tr>\n",
              "      <th>4659</th>\n",
              "      <td>Bengaluru</td>\n",
              "      <td>2016-01-01</td>\n",
              "      <td>56.40</td>\n",
              "      <td>95.08</td>\n",
              "      <td>13.80</td>\n",
              "      <td>51.73</td>\n",
              "      <td>34.31</td>\n",
              "      <td>14.68</td>\n",
              "      <td>0.69</td>\n",
              "      <td>7.44</td>\n",
              "      <td>55.96</td>\n",
              "      <td>0.91</td>\n",
              "      <td>0.78</td>\n",
              "      <td>NaN</td>\n",
              "      <td>101.0</td>\n",
              "      <td>Moderate</td>\n",
              "    </tr>\n",
              "    <tr>\n",
              "      <th>4660</th>\n",
              "      <td>Bengaluru</td>\n",
              "      <td>2016-01-02</td>\n",
              "      <td>53.69</td>\n",
              "      <td>93.92</td>\n",
              "      <td>26.49</td>\n",
              "      <td>73.09</td>\n",
              "      <td>54.77</td>\n",
              "      <td>16.05</td>\n",
              "      <td>0.76</td>\n",
              "      <td>8.67</td>\n",
              "      <td>34.06</td>\n",
              "      <td>1.88</td>\n",
              "      <td>1.18</td>\n",
              "      <td>NaN</td>\n",
              "      <td>92.0</td>\n",
              "      <td>Satisfactory</td>\n",
              "    </tr>\n",
              "    <tr>\n",
              "      <th>4661</th>\n",
              "      <td>Bengaluru</td>\n",
              "      <td>2016-01-03</td>\n",
              "      <td>62.35</td>\n",
              "      <td>99.34</td>\n",
              "      <td>24.56</td>\n",
              "      <td>77.77</td>\n",
              "      <td>55.60</td>\n",
              "      <td>16.37</td>\n",
              "      <td>0.96</td>\n",
              "      <td>9.10</td>\n",
              "      <td>47.62</td>\n",
              "      <td>2.36</td>\n",
              "      <td>1.14</td>\n",
              "      <td>NaN</td>\n",
              "      <td>108.0</td>\n",
              "      <td>Moderate</td>\n",
              "    </tr>\n",
              "    <tr>\n",
              "      <th>4662</th>\n",
              "      <td>Bengaluru</td>\n",
              "      <td>2016-01-04</td>\n",
              "      <td>64.96</td>\n",
              "      <td>104.62</td>\n",
              "      <td>18.56</td>\n",
              "      <td>77.07</td>\n",
              "      <td>50.81</td>\n",
              "      <td>14.18</td>\n",
              "      <td>0.89</td>\n",
              "      <td>8.87</td>\n",
              "      <td>50.62</td>\n",
              "      <td>1.95</td>\n",
              "      <td>1.33</td>\n",
              "      <td>NaN</td>\n",
              "      <td>109.0</td>\n",
              "      <td>Moderate</td>\n",
              "    </tr>\n",
              "    <tr>\n",
              "      <th>4663</th>\n",
              "      <td>Bengaluru</td>\n",
              "      <td>2016-01-05</td>\n",
              "      <td>70.15</td>\n",
              "      <td>105.12</td>\n",
              "      <td>23.56</td>\n",
              "      <td>79.43</td>\n",
              "      <td>56.05</td>\n",
              "      <td>16.97</td>\n",
              "      <td>0.85</td>\n",
              "      <td>9.41</td>\n",
              "      <td>36.94</td>\n",
              "      <td>1.92</td>\n",
              "      <td>1.26</td>\n",
              "      <td>NaN</td>\n",
              "      <td>114.0</td>\n",
              "      <td>Moderate</td>\n",
              "    </tr>\n",
              "    <tr>\n",
              "      <th>...</th>\n",
              "      <td>...</td>\n",
              "      <td>...</td>\n",
              "      <td>...</td>\n",
              "      <td>...</td>\n",
              "      <td>...</td>\n",
              "      <td>...</td>\n",
              "      <td>...</td>\n",
              "      <td>...</td>\n",
              "      <td>...</td>\n",
              "      <td>...</td>\n",
              "      <td>...</td>\n",
              "      <td>...</td>\n",
              "      <td>...</td>\n",
              "      <td>...</td>\n",
              "      <td>...</td>\n",
              "      <td>...</td>\n",
              "    </tr>\n",
              "    <tr>\n",
              "      <th>6115</th>\n",
              "      <td>Bengaluru</td>\n",
              "      <td>2019-12-27</td>\n",
              "      <td>43.32</td>\n",
              "      <td>87.09</td>\n",
              "      <td>9.56</td>\n",
              "      <td>31.24</td>\n",
              "      <td>32.59</td>\n",
              "      <td>14.71</td>\n",
              "      <td>1.09</td>\n",
              "      <td>6.60</td>\n",
              "      <td>39.42</td>\n",
              "      <td>1.66</td>\n",
              "      <td>41.25</td>\n",
              "      <td>NaN</td>\n",
              "      <td>98.0</td>\n",
              "      <td>Satisfactory</td>\n",
              "    </tr>\n",
              "    <tr>\n",
              "      <th>6116</th>\n",
              "      <td>Bengaluru</td>\n",
              "      <td>2019-12-28</td>\n",
              "      <td>35.24</td>\n",
              "      <td>70.75</td>\n",
              "      <td>7.86</td>\n",
              "      <td>26.94</td>\n",
              "      <td>27.78</td>\n",
              "      <td>13.37</td>\n",
              "      <td>0.97</td>\n",
              "      <td>7.38</td>\n",
              "      <td>37.81</td>\n",
              "      <td>0.93</td>\n",
              "      <td>44.93</td>\n",
              "      <td>NaN</td>\n",
              "      <td>82.0</td>\n",
              "      <td>Satisfactory</td>\n",
              "    </tr>\n",
              "    <tr>\n",
              "      <th>6117</th>\n",
              "      <td>Bengaluru</td>\n",
              "      <td>2019-12-29</td>\n",
              "      <td>38.53</td>\n",
              "      <td>73.77</td>\n",
              "      <td>6.56</td>\n",
              "      <td>26.20</td>\n",
              "      <td>26.31</td>\n",
              "      <td>13.02</td>\n",
              "      <td>0.92</td>\n",
              "      <td>7.39</td>\n",
              "      <td>43.50</td>\n",
              "      <td>0.63</td>\n",
              "      <td>23.56</td>\n",
              "      <td>NaN</td>\n",
              "      <td>80.0</td>\n",
              "      <td>Satisfactory</td>\n",
              "    </tr>\n",
              "    <tr>\n",
              "      <th>6118</th>\n",
              "      <td>Bengaluru</td>\n",
              "      <td>2019-12-30</td>\n",
              "      <td>47.81</td>\n",
              "      <td>77.49</td>\n",
              "      <td>6.40</td>\n",
              "      <td>28.46</td>\n",
              "      <td>27.79</td>\n",
              "      <td>12.91</td>\n",
              "      <td>1.03</td>\n",
              "      <td>8.04</td>\n",
              "      <td>44.92</td>\n",
              "      <td>0.62</td>\n",
              "      <td>24.96</td>\n",
              "      <td>NaN</td>\n",
              "      <td>93.0</td>\n",
              "      <td>Satisfactory</td>\n",
              "    </tr>\n",
              "    <tr>\n",
              "      <th>6119</th>\n",
              "      <td>Bengaluru</td>\n",
              "      <td>2019-12-31</td>\n",
              "      <td>42.54</td>\n",
              "      <td>84.76</td>\n",
              "      <td>7.92</td>\n",
              "      <td>29.10</td>\n",
              "      <td>27.48</td>\n",
              "      <td>13.75</td>\n",
              "      <td>1.06</td>\n",
              "      <td>7.58</td>\n",
              "      <td>45.78</td>\n",
              "      <td>0.88</td>\n",
              "      <td>27.59</td>\n",
              "      <td>NaN</td>\n",
              "      <td>97.0</td>\n",
              "      <td>Satisfactory</td>\n",
              "    </tr>\n",
              "  </tbody>\n",
              "</table>\n",
              "<p>1461 rows × 16 columns</p>\n",
              "</div>"
            ],
            "text/plain": [
              "           City        Date  PM2.5  ...  Xylene    AQI    AQI_Bucket\n",
              "4659  Bengaluru  2016-01-01  56.40  ...     NaN  101.0      Moderate\n",
              "4660  Bengaluru  2016-01-02  53.69  ...     NaN   92.0  Satisfactory\n",
              "4661  Bengaluru  2016-01-03  62.35  ...     NaN  108.0      Moderate\n",
              "4662  Bengaluru  2016-01-04  64.96  ...     NaN  109.0      Moderate\n",
              "4663  Bengaluru  2016-01-05  70.15  ...     NaN  114.0      Moderate\n",
              "...         ...         ...    ...  ...     ...    ...           ...\n",
              "6115  Bengaluru  2019-12-27  43.32  ...     NaN   98.0  Satisfactory\n",
              "6116  Bengaluru  2019-12-28  35.24  ...     NaN   82.0  Satisfactory\n",
              "6117  Bengaluru  2019-12-29  38.53  ...     NaN   80.0  Satisfactory\n",
              "6118  Bengaluru  2019-12-30  47.81  ...     NaN   93.0  Satisfactory\n",
              "6119  Bengaluru  2019-12-31  42.54  ...     NaN   97.0  Satisfactory\n",
              "\n",
              "[1461 rows x 16 columns]"
            ]
          },
          "metadata": {},
          "execution_count": 5
        }
      ]
    },
    {
      "cell_type": "code",
      "metadata": {
        "colab": {
          "base_uri": "https://localhost:8080/",
          "height": 206
        },
        "id": "MoDcOXNsynIw",
        "outputId": "2dbb83bb-2c63-431b-fac3-3bb3aa9ab3a9"
      },
      "source": [
        "pollutants = pollutants.reset_index(drop=True)\n",
        "pollutants.head()"
      ],
      "execution_count": 6,
      "outputs": [
        {
          "output_type": "execute_result",
          "data": {
            "text/html": [
              "<div>\n",
              "<style scoped>\n",
              "    .dataframe tbody tr th:only-of-type {\n",
              "        vertical-align: middle;\n",
              "    }\n",
              "\n",
              "    .dataframe tbody tr th {\n",
              "        vertical-align: top;\n",
              "    }\n",
              "\n",
              "    .dataframe thead th {\n",
              "        text-align: right;\n",
              "    }\n",
              "</style>\n",
              "<table border=\"1\" class=\"dataframe\">\n",
              "  <thead>\n",
              "    <tr style=\"text-align: right;\">\n",
              "      <th></th>\n",
              "      <th>City</th>\n",
              "      <th>Date</th>\n",
              "      <th>PM2.5</th>\n",
              "      <th>PM10</th>\n",
              "      <th>NO</th>\n",
              "      <th>NO2</th>\n",
              "      <th>NOx</th>\n",
              "      <th>NH3</th>\n",
              "      <th>CO</th>\n",
              "      <th>SO2</th>\n",
              "      <th>O3</th>\n",
              "      <th>Benzene</th>\n",
              "      <th>Toluene</th>\n",
              "      <th>Xylene</th>\n",
              "      <th>AQI</th>\n",
              "      <th>AQI_Bucket</th>\n",
              "    </tr>\n",
              "  </thead>\n",
              "  <tbody>\n",
              "    <tr>\n",
              "      <th>0</th>\n",
              "      <td>Bengaluru</td>\n",
              "      <td>2016-01-01</td>\n",
              "      <td>56.40</td>\n",
              "      <td>95.08</td>\n",
              "      <td>13.80</td>\n",
              "      <td>51.73</td>\n",
              "      <td>34.31</td>\n",
              "      <td>14.68</td>\n",
              "      <td>0.69</td>\n",
              "      <td>7.44</td>\n",
              "      <td>55.96</td>\n",
              "      <td>0.91</td>\n",
              "      <td>0.78</td>\n",
              "      <td>NaN</td>\n",
              "      <td>101.0</td>\n",
              "      <td>Moderate</td>\n",
              "    </tr>\n",
              "    <tr>\n",
              "      <th>1</th>\n",
              "      <td>Bengaluru</td>\n",
              "      <td>2016-01-02</td>\n",
              "      <td>53.69</td>\n",
              "      <td>93.92</td>\n",
              "      <td>26.49</td>\n",
              "      <td>73.09</td>\n",
              "      <td>54.77</td>\n",
              "      <td>16.05</td>\n",
              "      <td>0.76</td>\n",
              "      <td>8.67</td>\n",
              "      <td>34.06</td>\n",
              "      <td>1.88</td>\n",
              "      <td>1.18</td>\n",
              "      <td>NaN</td>\n",
              "      <td>92.0</td>\n",
              "      <td>Satisfactory</td>\n",
              "    </tr>\n",
              "    <tr>\n",
              "      <th>2</th>\n",
              "      <td>Bengaluru</td>\n",
              "      <td>2016-01-03</td>\n",
              "      <td>62.35</td>\n",
              "      <td>99.34</td>\n",
              "      <td>24.56</td>\n",
              "      <td>77.77</td>\n",
              "      <td>55.60</td>\n",
              "      <td>16.37</td>\n",
              "      <td>0.96</td>\n",
              "      <td>9.10</td>\n",
              "      <td>47.62</td>\n",
              "      <td>2.36</td>\n",
              "      <td>1.14</td>\n",
              "      <td>NaN</td>\n",
              "      <td>108.0</td>\n",
              "      <td>Moderate</td>\n",
              "    </tr>\n",
              "    <tr>\n",
              "      <th>3</th>\n",
              "      <td>Bengaluru</td>\n",
              "      <td>2016-01-04</td>\n",
              "      <td>64.96</td>\n",
              "      <td>104.62</td>\n",
              "      <td>18.56</td>\n",
              "      <td>77.07</td>\n",
              "      <td>50.81</td>\n",
              "      <td>14.18</td>\n",
              "      <td>0.89</td>\n",
              "      <td>8.87</td>\n",
              "      <td>50.62</td>\n",
              "      <td>1.95</td>\n",
              "      <td>1.33</td>\n",
              "      <td>NaN</td>\n",
              "      <td>109.0</td>\n",
              "      <td>Moderate</td>\n",
              "    </tr>\n",
              "    <tr>\n",
              "      <th>4</th>\n",
              "      <td>Bengaluru</td>\n",
              "      <td>2016-01-05</td>\n",
              "      <td>70.15</td>\n",
              "      <td>105.12</td>\n",
              "      <td>23.56</td>\n",
              "      <td>79.43</td>\n",
              "      <td>56.05</td>\n",
              "      <td>16.97</td>\n",
              "      <td>0.85</td>\n",
              "      <td>9.41</td>\n",
              "      <td>36.94</td>\n",
              "      <td>1.92</td>\n",
              "      <td>1.26</td>\n",
              "      <td>NaN</td>\n",
              "      <td>114.0</td>\n",
              "      <td>Moderate</td>\n",
              "    </tr>\n",
              "  </tbody>\n",
              "</table>\n",
              "</div>"
            ],
            "text/plain": [
              "        City        Date  PM2.5    PM10  ...  Toluene  Xylene    AQI    AQI_Bucket\n",
              "0  Bengaluru  2016-01-01  56.40   95.08  ...     0.78     NaN  101.0      Moderate\n",
              "1  Bengaluru  2016-01-02  53.69   93.92  ...     1.18     NaN   92.0  Satisfactory\n",
              "2  Bengaluru  2016-01-03  62.35   99.34  ...     1.14     NaN  108.0      Moderate\n",
              "3  Bengaluru  2016-01-04  64.96  104.62  ...     1.33     NaN  109.0      Moderate\n",
              "4  Bengaluru  2016-01-05  70.15  105.12  ...     1.26     NaN  114.0      Moderate\n",
              "\n",
              "[5 rows x 16 columns]"
            ]
          },
          "metadata": {},
          "execution_count": 6
        }
      ]
    },
    {
      "cell_type": "code",
      "metadata": {
        "id": "uvIbHpf7gjOE"
      },
      "source": [
        "pollutants['Date'] = pd.to_datetime(pollutants['Date'], format='%Y-%m-%d')"
      ],
      "execution_count": 7,
      "outputs": []
    },
    {
      "cell_type": "code",
      "metadata": {
        "colab": {
          "base_uri": "https://localhost:8080/",
          "height": 238
        },
        "id": "-hZFI10neQq6",
        "outputId": "39edd574-328c-4766-f913-ecb582c64c08"
      },
      "source": [
        "pollutants = pollutants.set_index('Date')\n",
        "pollutants.head()"
      ],
      "execution_count": 8,
      "outputs": [
        {
          "output_type": "execute_result",
          "data": {
            "text/html": [
              "<div>\n",
              "<style scoped>\n",
              "    .dataframe tbody tr th:only-of-type {\n",
              "        vertical-align: middle;\n",
              "    }\n",
              "\n",
              "    .dataframe tbody tr th {\n",
              "        vertical-align: top;\n",
              "    }\n",
              "\n",
              "    .dataframe thead th {\n",
              "        text-align: right;\n",
              "    }\n",
              "</style>\n",
              "<table border=\"1\" class=\"dataframe\">\n",
              "  <thead>\n",
              "    <tr style=\"text-align: right;\">\n",
              "      <th></th>\n",
              "      <th>City</th>\n",
              "      <th>PM2.5</th>\n",
              "      <th>PM10</th>\n",
              "      <th>NO</th>\n",
              "      <th>NO2</th>\n",
              "      <th>NOx</th>\n",
              "      <th>NH3</th>\n",
              "      <th>CO</th>\n",
              "      <th>SO2</th>\n",
              "      <th>O3</th>\n",
              "      <th>Benzene</th>\n",
              "      <th>Toluene</th>\n",
              "      <th>Xylene</th>\n",
              "      <th>AQI</th>\n",
              "      <th>AQI_Bucket</th>\n",
              "    </tr>\n",
              "    <tr>\n",
              "      <th>Date</th>\n",
              "      <th></th>\n",
              "      <th></th>\n",
              "      <th></th>\n",
              "      <th></th>\n",
              "      <th></th>\n",
              "      <th></th>\n",
              "      <th></th>\n",
              "      <th></th>\n",
              "      <th></th>\n",
              "      <th></th>\n",
              "      <th></th>\n",
              "      <th></th>\n",
              "      <th></th>\n",
              "      <th></th>\n",
              "      <th></th>\n",
              "    </tr>\n",
              "  </thead>\n",
              "  <tbody>\n",
              "    <tr>\n",
              "      <th>2016-01-01</th>\n",
              "      <td>Bengaluru</td>\n",
              "      <td>56.40</td>\n",
              "      <td>95.08</td>\n",
              "      <td>13.80</td>\n",
              "      <td>51.73</td>\n",
              "      <td>34.31</td>\n",
              "      <td>14.68</td>\n",
              "      <td>0.69</td>\n",
              "      <td>7.44</td>\n",
              "      <td>55.96</td>\n",
              "      <td>0.91</td>\n",
              "      <td>0.78</td>\n",
              "      <td>NaN</td>\n",
              "      <td>101.0</td>\n",
              "      <td>Moderate</td>\n",
              "    </tr>\n",
              "    <tr>\n",
              "      <th>2016-01-02</th>\n",
              "      <td>Bengaluru</td>\n",
              "      <td>53.69</td>\n",
              "      <td>93.92</td>\n",
              "      <td>26.49</td>\n",
              "      <td>73.09</td>\n",
              "      <td>54.77</td>\n",
              "      <td>16.05</td>\n",
              "      <td>0.76</td>\n",
              "      <td>8.67</td>\n",
              "      <td>34.06</td>\n",
              "      <td>1.88</td>\n",
              "      <td>1.18</td>\n",
              "      <td>NaN</td>\n",
              "      <td>92.0</td>\n",
              "      <td>Satisfactory</td>\n",
              "    </tr>\n",
              "    <tr>\n",
              "      <th>2016-01-03</th>\n",
              "      <td>Bengaluru</td>\n",
              "      <td>62.35</td>\n",
              "      <td>99.34</td>\n",
              "      <td>24.56</td>\n",
              "      <td>77.77</td>\n",
              "      <td>55.60</td>\n",
              "      <td>16.37</td>\n",
              "      <td>0.96</td>\n",
              "      <td>9.10</td>\n",
              "      <td>47.62</td>\n",
              "      <td>2.36</td>\n",
              "      <td>1.14</td>\n",
              "      <td>NaN</td>\n",
              "      <td>108.0</td>\n",
              "      <td>Moderate</td>\n",
              "    </tr>\n",
              "    <tr>\n",
              "      <th>2016-01-04</th>\n",
              "      <td>Bengaluru</td>\n",
              "      <td>64.96</td>\n",
              "      <td>104.62</td>\n",
              "      <td>18.56</td>\n",
              "      <td>77.07</td>\n",
              "      <td>50.81</td>\n",
              "      <td>14.18</td>\n",
              "      <td>0.89</td>\n",
              "      <td>8.87</td>\n",
              "      <td>50.62</td>\n",
              "      <td>1.95</td>\n",
              "      <td>1.33</td>\n",
              "      <td>NaN</td>\n",
              "      <td>109.0</td>\n",
              "      <td>Moderate</td>\n",
              "    </tr>\n",
              "    <tr>\n",
              "      <th>2016-01-05</th>\n",
              "      <td>Bengaluru</td>\n",
              "      <td>70.15</td>\n",
              "      <td>105.12</td>\n",
              "      <td>23.56</td>\n",
              "      <td>79.43</td>\n",
              "      <td>56.05</td>\n",
              "      <td>16.97</td>\n",
              "      <td>0.85</td>\n",
              "      <td>9.41</td>\n",
              "      <td>36.94</td>\n",
              "      <td>1.92</td>\n",
              "      <td>1.26</td>\n",
              "      <td>NaN</td>\n",
              "      <td>114.0</td>\n",
              "      <td>Moderate</td>\n",
              "    </tr>\n",
              "  </tbody>\n",
              "</table>\n",
              "</div>"
            ],
            "text/plain": [
              "                 City  PM2.5    PM10  ...  Xylene    AQI    AQI_Bucket\n",
              "Date                                  ...                             \n",
              "2016-01-01  Bengaluru  56.40   95.08  ...     NaN  101.0      Moderate\n",
              "2016-01-02  Bengaluru  53.69   93.92  ...     NaN   92.0  Satisfactory\n",
              "2016-01-03  Bengaluru  62.35   99.34  ...     NaN  108.0      Moderate\n",
              "2016-01-04  Bengaluru  64.96  104.62  ...     NaN  109.0      Moderate\n",
              "2016-01-05  Bengaluru  70.15  105.12  ...     NaN  114.0      Moderate\n",
              "\n",
              "[5 rows x 15 columns]"
            ]
          },
          "metadata": {},
          "execution_count": 8
        }
      ]
    },
    {
      "cell_type": "code",
      "metadata": {
        "colab": {
          "base_uri": "https://localhost:8080/",
          "height": 238
        },
        "id": "mDAtWUVrynLA",
        "outputId": "1582ec1e-d62a-45c3-95b2-79e4a378ef39"
      },
      "source": [
        "pollutants = pollutants.drop(columns=['City', 'NH3','NO', 'Benzene',\t'Toluene',\t'Xylene', 'AQI_Bucket'])\n",
        "pollutants.head()"
      ],
      "execution_count": 9,
      "outputs": [
        {
          "output_type": "execute_result",
          "data": {
            "text/html": [
              "<div>\n",
              "<style scoped>\n",
              "    .dataframe tbody tr th:only-of-type {\n",
              "        vertical-align: middle;\n",
              "    }\n",
              "\n",
              "    .dataframe tbody tr th {\n",
              "        vertical-align: top;\n",
              "    }\n",
              "\n",
              "    .dataframe thead th {\n",
              "        text-align: right;\n",
              "    }\n",
              "</style>\n",
              "<table border=\"1\" class=\"dataframe\">\n",
              "  <thead>\n",
              "    <tr style=\"text-align: right;\">\n",
              "      <th></th>\n",
              "      <th>PM2.5</th>\n",
              "      <th>PM10</th>\n",
              "      <th>NO2</th>\n",
              "      <th>NOx</th>\n",
              "      <th>CO</th>\n",
              "      <th>SO2</th>\n",
              "      <th>O3</th>\n",
              "      <th>AQI</th>\n",
              "    </tr>\n",
              "    <tr>\n",
              "      <th>Date</th>\n",
              "      <th></th>\n",
              "      <th></th>\n",
              "      <th></th>\n",
              "      <th></th>\n",
              "      <th></th>\n",
              "      <th></th>\n",
              "      <th></th>\n",
              "      <th></th>\n",
              "    </tr>\n",
              "  </thead>\n",
              "  <tbody>\n",
              "    <tr>\n",
              "      <th>2016-01-01</th>\n",
              "      <td>56.40</td>\n",
              "      <td>95.08</td>\n",
              "      <td>51.73</td>\n",
              "      <td>34.31</td>\n",
              "      <td>0.69</td>\n",
              "      <td>7.44</td>\n",
              "      <td>55.96</td>\n",
              "      <td>101.0</td>\n",
              "    </tr>\n",
              "    <tr>\n",
              "      <th>2016-01-02</th>\n",
              "      <td>53.69</td>\n",
              "      <td>93.92</td>\n",
              "      <td>73.09</td>\n",
              "      <td>54.77</td>\n",
              "      <td>0.76</td>\n",
              "      <td>8.67</td>\n",
              "      <td>34.06</td>\n",
              "      <td>92.0</td>\n",
              "    </tr>\n",
              "    <tr>\n",
              "      <th>2016-01-03</th>\n",
              "      <td>62.35</td>\n",
              "      <td>99.34</td>\n",
              "      <td>77.77</td>\n",
              "      <td>55.60</td>\n",
              "      <td>0.96</td>\n",
              "      <td>9.10</td>\n",
              "      <td>47.62</td>\n",
              "      <td>108.0</td>\n",
              "    </tr>\n",
              "    <tr>\n",
              "      <th>2016-01-04</th>\n",
              "      <td>64.96</td>\n",
              "      <td>104.62</td>\n",
              "      <td>77.07</td>\n",
              "      <td>50.81</td>\n",
              "      <td>0.89</td>\n",
              "      <td>8.87</td>\n",
              "      <td>50.62</td>\n",
              "      <td>109.0</td>\n",
              "    </tr>\n",
              "    <tr>\n",
              "      <th>2016-01-05</th>\n",
              "      <td>70.15</td>\n",
              "      <td>105.12</td>\n",
              "      <td>79.43</td>\n",
              "      <td>56.05</td>\n",
              "      <td>0.85</td>\n",
              "      <td>9.41</td>\n",
              "      <td>36.94</td>\n",
              "      <td>114.0</td>\n",
              "    </tr>\n",
              "  </tbody>\n",
              "</table>\n",
              "</div>"
            ],
            "text/plain": [
              "            PM2.5    PM10    NO2    NOx    CO   SO2     O3    AQI\n",
              "Date                                                             \n",
              "2016-01-01  56.40   95.08  51.73  34.31  0.69  7.44  55.96  101.0\n",
              "2016-01-02  53.69   93.92  73.09  54.77  0.76  8.67  34.06   92.0\n",
              "2016-01-03  62.35   99.34  77.77  55.60  0.96  9.10  47.62  108.0\n",
              "2016-01-04  64.96  104.62  77.07  50.81  0.89  8.87  50.62  109.0\n",
              "2016-01-05  70.15  105.12  79.43  56.05  0.85  9.41  36.94  114.0"
            ]
          },
          "metadata": {},
          "execution_count": 9
        }
      ]
    },
    {
      "cell_type": "code",
      "metadata": {
        "colab": {
          "base_uri": "https://localhost:8080/",
          "height": 238
        },
        "id": "kgqxI7Ciegqy",
        "outputId": "2835de95-d690-473a-be95-46ec7a9eca65"
      },
      "source": [
        "pollutants.tail()"
      ],
      "execution_count": 10,
      "outputs": [
        {
          "output_type": "execute_result",
          "data": {
            "text/html": [
              "<div>\n",
              "<style scoped>\n",
              "    .dataframe tbody tr th:only-of-type {\n",
              "        vertical-align: middle;\n",
              "    }\n",
              "\n",
              "    .dataframe tbody tr th {\n",
              "        vertical-align: top;\n",
              "    }\n",
              "\n",
              "    .dataframe thead th {\n",
              "        text-align: right;\n",
              "    }\n",
              "</style>\n",
              "<table border=\"1\" class=\"dataframe\">\n",
              "  <thead>\n",
              "    <tr style=\"text-align: right;\">\n",
              "      <th></th>\n",
              "      <th>PM2.5</th>\n",
              "      <th>PM10</th>\n",
              "      <th>NO2</th>\n",
              "      <th>NOx</th>\n",
              "      <th>CO</th>\n",
              "      <th>SO2</th>\n",
              "      <th>O3</th>\n",
              "      <th>AQI</th>\n",
              "    </tr>\n",
              "    <tr>\n",
              "      <th>Date</th>\n",
              "      <th></th>\n",
              "      <th></th>\n",
              "      <th></th>\n",
              "      <th></th>\n",
              "      <th></th>\n",
              "      <th></th>\n",
              "      <th></th>\n",
              "      <th></th>\n",
              "    </tr>\n",
              "  </thead>\n",
              "  <tbody>\n",
              "    <tr>\n",
              "      <th>2019-12-27</th>\n",
              "      <td>43.32</td>\n",
              "      <td>87.09</td>\n",
              "      <td>31.24</td>\n",
              "      <td>32.59</td>\n",
              "      <td>1.09</td>\n",
              "      <td>6.60</td>\n",
              "      <td>39.42</td>\n",
              "      <td>98.0</td>\n",
              "    </tr>\n",
              "    <tr>\n",
              "      <th>2019-12-28</th>\n",
              "      <td>35.24</td>\n",
              "      <td>70.75</td>\n",
              "      <td>26.94</td>\n",
              "      <td>27.78</td>\n",
              "      <td>0.97</td>\n",
              "      <td>7.38</td>\n",
              "      <td>37.81</td>\n",
              "      <td>82.0</td>\n",
              "    </tr>\n",
              "    <tr>\n",
              "      <th>2019-12-29</th>\n",
              "      <td>38.53</td>\n",
              "      <td>73.77</td>\n",
              "      <td>26.20</td>\n",
              "      <td>26.31</td>\n",
              "      <td>0.92</td>\n",
              "      <td>7.39</td>\n",
              "      <td>43.50</td>\n",
              "      <td>80.0</td>\n",
              "    </tr>\n",
              "    <tr>\n",
              "      <th>2019-12-30</th>\n",
              "      <td>47.81</td>\n",
              "      <td>77.49</td>\n",
              "      <td>28.46</td>\n",
              "      <td>27.79</td>\n",
              "      <td>1.03</td>\n",
              "      <td>8.04</td>\n",
              "      <td>44.92</td>\n",
              "      <td>93.0</td>\n",
              "    </tr>\n",
              "    <tr>\n",
              "      <th>2019-12-31</th>\n",
              "      <td>42.54</td>\n",
              "      <td>84.76</td>\n",
              "      <td>29.10</td>\n",
              "      <td>27.48</td>\n",
              "      <td>1.06</td>\n",
              "      <td>7.58</td>\n",
              "      <td>45.78</td>\n",
              "      <td>97.0</td>\n",
              "    </tr>\n",
              "  </tbody>\n",
              "</table>\n",
              "</div>"
            ],
            "text/plain": [
              "            PM2.5   PM10    NO2    NOx    CO   SO2     O3   AQI\n",
              "Date                                                           \n",
              "2019-12-27  43.32  87.09  31.24  32.59  1.09  6.60  39.42  98.0\n",
              "2019-12-28  35.24  70.75  26.94  27.78  0.97  7.38  37.81  82.0\n",
              "2019-12-29  38.53  73.77  26.20  26.31  0.92  7.39  43.50  80.0\n",
              "2019-12-30  47.81  77.49  28.46  27.79  1.03  8.04  44.92  93.0\n",
              "2019-12-31  42.54  84.76  29.10  27.48  1.06  7.58  45.78  97.0"
            ]
          },
          "metadata": {},
          "execution_count": 10
        }
      ]
    },
    {
      "cell_type": "code",
      "metadata": {
        "colab": {
          "base_uri": "https://localhost:8080/"
        },
        "id": "E6r_psyZynNR",
        "outputId": "b1e98725-897e-4a65-cf27-b3ecda851388"
      },
      "source": [
        "pollutants.shape\n",
        "# 2016=leap year, so (365*3)+366 = 1461 days i.e. 1461 rows in dataset"
      ],
      "execution_count": 11,
      "outputs": [
        {
          "output_type": "execute_result",
          "data": {
            "text/plain": [
              "(1461, 8)"
            ]
          },
          "metadata": {},
          "execution_count": 11
        }
      ]
    },
    {
      "cell_type": "markdown",
      "metadata": {
        "id": "zxg8PbhX5vEH"
      },
      "source": [
        "## Load Climate Dataset"
      ]
    },
    {
      "cell_type": "code",
      "metadata": {
        "colab": {
          "base_uri": "https://localhost:8080/",
          "height": 423
        },
        "id": "i5RSpkmFwXOk",
        "outputId": "7bb9f6e0-e95b-42c6-a2da-56ef9218872f"
      },
      "source": [
        "climate = pd.read_csv('/content/drive/MyDrive/Datasets/climate-training-dataset.csv')\n",
        "climate"
      ],
      "execution_count": 12,
      "outputs": [
        {
          "output_type": "execute_result",
          "data": {
            "text/html": [
              "<div>\n",
              "<style scoped>\n",
              "    .dataframe tbody tr th:only-of-type {\n",
              "        vertical-align: middle;\n",
              "    }\n",
              "\n",
              "    .dataframe tbody tr th {\n",
              "        vertical-align: top;\n",
              "    }\n",
              "\n",
              "    .dataframe thead th {\n",
              "        text-align: right;\n",
              "    }\n",
              "</style>\n",
              "<table border=\"1\" class=\"dataframe\">\n",
              "  <thead>\n",
              "    <tr style=\"text-align: right;\">\n",
              "      <th></th>\n",
              "      <th>Date</th>\n",
              "      <th>T</th>\n",
              "      <th>TM</th>\n",
              "      <th>Tm</th>\n",
              "      <th>H</th>\n",
              "      <th>VV</th>\n",
              "      <th>V</th>\n",
              "      <th>VM</th>\n",
              "    </tr>\n",
              "  </thead>\n",
              "  <tbody>\n",
              "    <tr>\n",
              "      <th>0</th>\n",
              "      <td>01-01-2016</td>\n",
              "      <td>20.1</td>\n",
              "      <td>28.4</td>\n",
              "      <td>15.7</td>\n",
              "      <td>54</td>\n",
              "      <td>6</td>\n",
              "      <td>3</td>\n",
              "      <td>5.4</td>\n",
              "    </tr>\n",
              "    <tr>\n",
              "      <th>1</th>\n",
              "      <td>02-01-2016</td>\n",
              "      <td>20.8</td>\n",
              "      <td>28.3</td>\n",
              "      <td>12.9</td>\n",
              "      <td>45</td>\n",
              "      <td>6.3</td>\n",
              "      <td>1.1</td>\n",
              "      <td>5.4</td>\n",
              "    </tr>\n",
              "    <tr>\n",
              "      <th>2</th>\n",
              "      <td>03-01-2016</td>\n",
              "      <td>21.4</td>\n",
              "      <td>29</td>\n",
              "      <td>13.7</td>\n",
              "      <td>45</td>\n",
              "      <td>6.3</td>\n",
              "      <td>0.4</td>\n",
              "      <td>3.5</td>\n",
              "    </tr>\n",
              "    <tr>\n",
              "      <th>3</th>\n",
              "      <td>04-01-2016</td>\n",
              "      <td>21.5</td>\n",
              "      <td>29</td>\n",
              "      <td>15.2</td>\n",
              "      <td>47</td>\n",
              "      <td>6.9</td>\n",
              "      <td>2.2</td>\n",
              "      <td>5.4</td>\n",
              "    </tr>\n",
              "    <tr>\n",
              "      <th>4</th>\n",
              "      <td>05-01-2016</td>\n",
              "      <td>20.9</td>\n",
              "      <td>28.4</td>\n",
              "      <td>14.7</td>\n",
              "      <td>51</td>\n",
              "      <td>6.3</td>\n",
              "      <td>1.1</td>\n",
              "      <td>5.4</td>\n",
              "    </tr>\n",
              "    <tr>\n",
              "      <th>...</th>\n",
              "      <td>...</td>\n",
              "      <td>...</td>\n",
              "      <td>...</td>\n",
              "      <td>...</td>\n",
              "      <td>...</td>\n",
              "      <td>...</td>\n",
              "      <td>...</td>\n",
              "      <td>...</td>\n",
              "    </tr>\n",
              "    <tr>\n",
              "      <th>1456</th>\n",
              "      <td>27-12-2019</td>\n",
              "      <td>23.4</td>\n",
              "      <td>29.6</td>\n",
              "      <td>18</td>\n",
              "      <td>66</td>\n",
              "      <td>6.6</td>\n",
              "      <td>2.2</td>\n",
              "      <td>5.4</td>\n",
              "    </tr>\n",
              "    <tr>\n",
              "      <th>1457</th>\n",
              "      <td>28-12-2019</td>\n",
              "      <td>21.9</td>\n",
              "      <td>29.8</td>\n",
              "      <td>17.6</td>\n",
              "      <td>67</td>\n",
              "      <td>6.9</td>\n",
              "      <td>2.8</td>\n",
              "      <td>5.4</td>\n",
              "    </tr>\n",
              "    <tr>\n",
              "      <th>1458</th>\n",
              "      <td>29-12-2019</td>\n",
              "      <td>21.8</td>\n",
              "      <td>28.2</td>\n",
              "      <td>16.8</td>\n",
              "      <td>66</td>\n",
              "      <td>6.9</td>\n",
              "      <td>3.1</td>\n",
              "      <td>3.5</td>\n",
              "    </tr>\n",
              "    <tr>\n",
              "      <th>1459</th>\n",
              "      <td>30-12-2019</td>\n",
              "      <td>21.7</td>\n",
              "      <td>27.6</td>\n",
              "      <td>17.5</td>\n",
              "      <td>70</td>\n",
              "      <td>6.3</td>\n",
              "      <td>3.9</td>\n",
              "      <td>7.6</td>\n",
              "    </tr>\n",
              "    <tr>\n",
              "      <th>1460</th>\n",
              "      <td>31-12-2019</td>\n",
              "      <td>21.9</td>\n",
              "      <td>28.1</td>\n",
              "      <td>17.5</td>\n",
              "      <td>74</td>\n",
              "      <td>6.3</td>\n",
              "      <td>4.8</td>\n",
              "      <td>7.6</td>\n",
              "    </tr>\n",
              "  </tbody>\n",
              "</table>\n",
              "<p>1461 rows × 8 columns</p>\n",
              "</div>"
            ],
            "text/plain": [
              "            Date     T    TM    Tm   H   VV    V   VM\n",
              "0     01-01-2016  20.1  28.4  15.7  54    6    3  5.4\n",
              "1     02-01-2016  20.8  28.3  12.9  45  6.3  1.1  5.4\n",
              "2     03-01-2016  21.4    29  13.7  45  6.3  0.4  3.5\n",
              "3     04-01-2016  21.5    29  15.2  47  6.9  2.2  5.4\n",
              "4     05-01-2016  20.9  28.4  14.7  51  6.3  1.1  5.4\n",
              "...          ...   ...   ...   ...  ..  ...  ...  ...\n",
              "1456  27-12-2019  23.4  29.6    18  66  6.6  2.2  5.4\n",
              "1457  28-12-2019  21.9  29.8  17.6  67  6.9  2.8  5.4\n",
              "1458  29-12-2019  21.8  28.2  16.8  66  6.9  3.1  3.5\n",
              "1459  30-12-2019  21.7  27.6  17.5  70  6.3  3.9  7.6\n",
              "1460  31-12-2019  21.9  28.1  17.5  74  6.3  4.8  7.6\n",
              "\n",
              "[1461 rows x 8 columns]"
            ]
          },
          "metadata": {},
          "execution_count": 12
        }
      ]
    },
    {
      "cell_type": "code",
      "metadata": {
        "id": "lOr7fn5yg06s"
      },
      "source": [
        "climate['Date'] = pd.to_datetime(climate['Date'], format='%d-%m-%Y')"
      ],
      "execution_count": 13,
      "outputs": []
    },
    {
      "cell_type": "code",
      "metadata": {
        "colab": {
          "base_uri": "https://localhost:8080/",
          "height": 238
        },
        "id": "y1FsPA_0f7N3",
        "outputId": "8aaa162f-ece2-4865-c413-614a2a10d7e3"
      },
      "source": [
        "climate = climate.set_index('Date')\n",
        "climate.head()"
      ],
      "execution_count": 14,
      "outputs": [
        {
          "output_type": "execute_result",
          "data": {
            "text/html": [
              "<div>\n",
              "<style scoped>\n",
              "    .dataframe tbody tr th:only-of-type {\n",
              "        vertical-align: middle;\n",
              "    }\n",
              "\n",
              "    .dataframe tbody tr th {\n",
              "        vertical-align: top;\n",
              "    }\n",
              "\n",
              "    .dataframe thead th {\n",
              "        text-align: right;\n",
              "    }\n",
              "</style>\n",
              "<table border=\"1\" class=\"dataframe\">\n",
              "  <thead>\n",
              "    <tr style=\"text-align: right;\">\n",
              "      <th></th>\n",
              "      <th>T</th>\n",
              "      <th>TM</th>\n",
              "      <th>Tm</th>\n",
              "      <th>H</th>\n",
              "      <th>VV</th>\n",
              "      <th>V</th>\n",
              "      <th>VM</th>\n",
              "    </tr>\n",
              "    <tr>\n",
              "      <th>Date</th>\n",
              "      <th></th>\n",
              "      <th></th>\n",
              "      <th></th>\n",
              "      <th></th>\n",
              "      <th></th>\n",
              "      <th></th>\n",
              "      <th></th>\n",
              "    </tr>\n",
              "  </thead>\n",
              "  <tbody>\n",
              "    <tr>\n",
              "      <th>2016-01-01</th>\n",
              "      <td>20.1</td>\n",
              "      <td>28.4</td>\n",
              "      <td>15.7</td>\n",
              "      <td>54</td>\n",
              "      <td>6</td>\n",
              "      <td>3</td>\n",
              "      <td>5.4</td>\n",
              "    </tr>\n",
              "    <tr>\n",
              "      <th>2016-01-02</th>\n",
              "      <td>20.8</td>\n",
              "      <td>28.3</td>\n",
              "      <td>12.9</td>\n",
              "      <td>45</td>\n",
              "      <td>6.3</td>\n",
              "      <td>1.1</td>\n",
              "      <td>5.4</td>\n",
              "    </tr>\n",
              "    <tr>\n",
              "      <th>2016-01-03</th>\n",
              "      <td>21.4</td>\n",
              "      <td>29</td>\n",
              "      <td>13.7</td>\n",
              "      <td>45</td>\n",
              "      <td>6.3</td>\n",
              "      <td>0.4</td>\n",
              "      <td>3.5</td>\n",
              "    </tr>\n",
              "    <tr>\n",
              "      <th>2016-01-04</th>\n",
              "      <td>21.5</td>\n",
              "      <td>29</td>\n",
              "      <td>15.2</td>\n",
              "      <td>47</td>\n",
              "      <td>6.9</td>\n",
              "      <td>2.2</td>\n",
              "      <td>5.4</td>\n",
              "    </tr>\n",
              "    <tr>\n",
              "      <th>2016-01-05</th>\n",
              "      <td>20.9</td>\n",
              "      <td>28.4</td>\n",
              "      <td>14.7</td>\n",
              "      <td>51</td>\n",
              "      <td>6.3</td>\n",
              "      <td>1.1</td>\n",
              "      <td>5.4</td>\n",
              "    </tr>\n",
              "  </tbody>\n",
              "</table>\n",
              "</div>"
            ],
            "text/plain": [
              "               T    TM    Tm   H   VV    V   VM\n",
              "Date                                           \n",
              "2016-01-01  20.1  28.4  15.7  54    6    3  5.4\n",
              "2016-01-02  20.8  28.3  12.9  45  6.3  1.1  5.4\n",
              "2016-01-03  21.4    29  13.7  45  6.3  0.4  3.5\n",
              "2016-01-04  21.5    29  15.2  47  6.9  2.2  5.4\n",
              "2016-01-05  20.9  28.4  14.7  51  6.3  1.1  5.4"
            ]
          },
          "metadata": {},
          "execution_count": 14
        }
      ]
    },
    {
      "cell_type": "code",
      "metadata": {
        "colab": {
          "base_uri": "https://localhost:8080/"
        },
        "id": "pISqRZdeesm0",
        "outputId": "da5d75c4-bdc8-4f1f-daa5-79b45b108885"
      },
      "source": [
        "climate.shape"
      ],
      "execution_count": 15,
      "outputs": [
        {
          "output_type": "execute_result",
          "data": {
            "text/plain": [
              "(1461, 7)"
            ]
          },
          "metadata": {},
          "execution_count": 15
        }
      ]
    },
    {
      "cell_type": "code",
      "metadata": {
        "colab": {
          "base_uri": "https://localhost:8080/",
          "height": 238
        },
        "id": "xv7ZQCC3wq0K",
        "outputId": "78a9b965-9fe2-422c-b106-e43e9ca21353"
      },
      "source": [
        "climate = climate.drop(columns=['VM'])\n",
        "climate.head()"
      ],
      "execution_count": 16,
      "outputs": [
        {
          "output_type": "execute_result",
          "data": {
            "text/html": [
              "<div>\n",
              "<style scoped>\n",
              "    .dataframe tbody tr th:only-of-type {\n",
              "        vertical-align: middle;\n",
              "    }\n",
              "\n",
              "    .dataframe tbody tr th {\n",
              "        vertical-align: top;\n",
              "    }\n",
              "\n",
              "    .dataframe thead th {\n",
              "        text-align: right;\n",
              "    }\n",
              "</style>\n",
              "<table border=\"1\" class=\"dataframe\">\n",
              "  <thead>\n",
              "    <tr style=\"text-align: right;\">\n",
              "      <th></th>\n",
              "      <th>T</th>\n",
              "      <th>TM</th>\n",
              "      <th>Tm</th>\n",
              "      <th>H</th>\n",
              "      <th>VV</th>\n",
              "      <th>V</th>\n",
              "    </tr>\n",
              "    <tr>\n",
              "      <th>Date</th>\n",
              "      <th></th>\n",
              "      <th></th>\n",
              "      <th></th>\n",
              "      <th></th>\n",
              "      <th></th>\n",
              "      <th></th>\n",
              "    </tr>\n",
              "  </thead>\n",
              "  <tbody>\n",
              "    <tr>\n",
              "      <th>2016-01-01</th>\n",
              "      <td>20.1</td>\n",
              "      <td>28.4</td>\n",
              "      <td>15.7</td>\n",
              "      <td>54</td>\n",
              "      <td>6</td>\n",
              "      <td>3</td>\n",
              "    </tr>\n",
              "    <tr>\n",
              "      <th>2016-01-02</th>\n",
              "      <td>20.8</td>\n",
              "      <td>28.3</td>\n",
              "      <td>12.9</td>\n",
              "      <td>45</td>\n",
              "      <td>6.3</td>\n",
              "      <td>1.1</td>\n",
              "    </tr>\n",
              "    <tr>\n",
              "      <th>2016-01-03</th>\n",
              "      <td>21.4</td>\n",
              "      <td>29</td>\n",
              "      <td>13.7</td>\n",
              "      <td>45</td>\n",
              "      <td>6.3</td>\n",
              "      <td>0.4</td>\n",
              "    </tr>\n",
              "    <tr>\n",
              "      <th>2016-01-04</th>\n",
              "      <td>21.5</td>\n",
              "      <td>29</td>\n",
              "      <td>15.2</td>\n",
              "      <td>47</td>\n",
              "      <td>6.9</td>\n",
              "      <td>2.2</td>\n",
              "    </tr>\n",
              "    <tr>\n",
              "      <th>2016-01-05</th>\n",
              "      <td>20.9</td>\n",
              "      <td>28.4</td>\n",
              "      <td>14.7</td>\n",
              "      <td>51</td>\n",
              "      <td>6.3</td>\n",
              "      <td>1.1</td>\n",
              "    </tr>\n",
              "  </tbody>\n",
              "</table>\n",
              "</div>"
            ],
            "text/plain": [
              "               T    TM    Tm   H   VV    V\n",
              "Date                                      \n",
              "2016-01-01  20.1  28.4  15.7  54    6    3\n",
              "2016-01-02  20.8  28.3  12.9  45  6.3  1.1\n",
              "2016-01-03  21.4    29  13.7  45  6.3  0.4\n",
              "2016-01-04  21.5    29  15.2  47  6.9  2.2\n",
              "2016-01-05  20.9  28.4  14.7  51  6.3  1.1"
            ]
          },
          "metadata": {},
          "execution_count": 16
        }
      ]
    },
    {
      "cell_type": "markdown",
      "metadata": {
        "id": "JplI4l-s5z6w"
      },
      "source": [
        "## Feature Engineering"
      ]
    },
    {
      "cell_type": "markdown",
      "metadata": {
        "id": "Nm872Fss4d4k"
      },
      "source": [
        "#### Concatenate the two dataframes"
      ]
    },
    {
      "cell_type": "code",
      "metadata": {
        "colab": {
          "base_uri": "https://localhost:8080/"
        },
        "id": "vxlgwfUDgK6g",
        "outputId": "d93132c6-cc46-44c4-81b4-9da06641f42e"
      },
      "source": [
        "(climate.index==pollutants.index).all() "
      ],
      "execution_count": 17,
      "outputs": [
        {
          "output_type": "execute_result",
          "data": {
            "text/plain": [
              "True"
            ]
          },
          "metadata": {},
          "execution_count": 17
        }
      ]
    },
    {
      "cell_type": "code",
      "metadata": {
        "colab": {
          "base_uri": "https://localhost:8080/",
          "height": 238
        },
        "id": "T-a3NNv02kjL",
        "outputId": "9aa0b569-39c2-4a48-e573-bb1701dcecb4"
      },
      "source": [
        "df = pd.concat([pollutants, climate], axis = 1)\n",
        "df.head()"
      ],
      "execution_count": 18,
      "outputs": [
        {
          "output_type": "execute_result",
          "data": {
            "text/html": [
              "<div>\n",
              "<style scoped>\n",
              "    .dataframe tbody tr th:only-of-type {\n",
              "        vertical-align: middle;\n",
              "    }\n",
              "\n",
              "    .dataframe tbody tr th {\n",
              "        vertical-align: top;\n",
              "    }\n",
              "\n",
              "    .dataframe thead th {\n",
              "        text-align: right;\n",
              "    }\n",
              "</style>\n",
              "<table border=\"1\" class=\"dataframe\">\n",
              "  <thead>\n",
              "    <tr style=\"text-align: right;\">\n",
              "      <th></th>\n",
              "      <th>PM2.5</th>\n",
              "      <th>PM10</th>\n",
              "      <th>NO2</th>\n",
              "      <th>NOx</th>\n",
              "      <th>CO</th>\n",
              "      <th>SO2</th>\n",
              "      <th>O3</th>\n",
              "      <th>AQI</th>\n",
              "      <th>T</th>\n",
              "      <th>TM</th>\n",
              "      <th>Tm</th>\n",
              "      <th>H</th>\n",
              "      <th>VV</th>\n",
              "      <th>V</th>\n",
              "    </tr>\n",
              "    <tr>\n",
              "      <th>Date</th>\n",
              "      <th></th>\n",
              "      <th></th>\n",
              "      <th></th>\n",
              "      <th></th>\n",
              "      <th></th>\n",
              "      <th></th>\n",
              "      <th></th>\n",
              "      <th></th>\n",
              "      <th></th>\n",
              "      <th></th>\n",
              "      <th></th>\n",
              "      <th></th>\n",
              "      <th></th>\n",
              "      <th></th>\n",
              "    </tr>\n",
              "  </thead>\n",
              "  <tbody>\n",
              "    <tr>\n",
              "      <th>2016-01-01</th>\n",
              "      <td>56.40</td>\n",
              "      <td>95.08</td>\n",
              "      <td>51.73</td>\n",
              "      <td>34.31</td>\n",
              "      <td>0.69</td>\n",
              "      <td>7.44</td>\n",
              "      <td>55.96</td>\n",
              "      <td>101.0</td>\n",
              "      <td>20.1</td>\n",
              "      <td>28.4</td>\n",
              "      <td>15.7</td>\n",
              "      <td>54</td>\n",
              "      <td>6</td>\n",
              "      <td>3</td>\n",
              "    </tr>\n",
              "    <tr>\n",
              "      <th>2016-01-02</th>\n",
              "      <td>53.69</td>\n",
              "      <td>93.92</td>\n",
              "      <td>73.09</td>\n",
              "      <td>54.77</td>\n",
              "      <td>0.76</td>\n",
              "      <td>8.67</td>\n",
              "      <td>34.06</td>\n",
              "      <td>92.0</td>\n",
              "      <td>20.8</td>\n",
              "      <td>28.3</td>\n",
              "      <td>12.9</td>\n",
              "      <td>45</td>\n",
              "      <td>6.3</td>\n",
              "      <td>1.1</td>\n",
              "    </tr>\n",
              "    <tr>\n",
              "      <th>2016-01-03</th>\n",
              "      <td>62.35</td>\n",
              "      <td>99.34</td>\n",
              "      <td>77.77</td>\n",
              "      <td>55.60</td>\n",
              "      <td>0.96</td>\n",
              "      <td>9.10</td>\n",
              "      <td>47.62</td>\n",
              "      <td>108.0</td>\n",
              "      <td>21.4</td>\n",
              "      <td>29</td>\n",
              "      <td>13.7</td>\n",
              "      <td>45</td>\n",
              "      <td>6.3</td>\n",
              "      <td>0.4</td>\n",
              "    </tr>\n",
              "    <tr>\n",
              "      <th>2016-01-04</th>\n",
              "      <td>64.96</td>\n",
              "      <td>104.62</td>\n",
              "      <td>77.07</td>\n",
              "      <td>50.81</td>\n",
              "      <td>0.89</td>\n",
              "      <td>8.87</td>\n",
              "      <td>50.62</td>\n",
              "      <td>109.0</td>\n",
              "      <td>21.5</td>\n",
              "      <td>29</td>\n",
              "      <td>15.2</td>\n",
              "      <td>47</td>\n",
              "      <td>6.9</td>\n",
              "      <td>2.2</td>\n",
              "    </tr>\n",
              "    <tr>\n",
              "      <th>2016-01-05</th>\n",
              "      <td>70.15</td>\n",
              "      <td>105.12</td>\n",
              "      <td>79.43</td>\n",
              "      <td>56.05</td>\n",
              "      <td>0.85</td>\n",
              "      <td>9.41</td>\n",
              "      <td>36.94</td>\n",
              "      <td>114.0</td>\n",
              "      <td>20.9</td>\n",
              "      <td>28.4</td>\n",
              "      <td>14.7</td>\n",
              "      <td>51</td>\n",
              "      <td>6.3</td>\n",
              "      <td>1.1</td>\n",
              "    </tr>\n",
              "  </tbody>\n",
              "</table>\n",
              "</div>"
            ],
            "text/plain": [
              "            PM2.5    PM10    NO2    NOx    CO  ...    TM    Tm   H   VV    V\n",
              "Date                                           ...                          \n",
              "2016-01-01  56.40   95.08  51.73  34.31  0.69  ...  28.4  15.7  54    6    3\n",
              "2016-01-02  53.69   93.92  73.09  54.77  0.76  ...  28.3  12.9  45  6.3  1.1\n",
              "2016-01-03  62.35   99.34  77.77  55.60  0.96  ...    29  13.7  45  6.3  0.4\n",
              "2016-01-04  64.96  104.62  77.07  50.81  0.89  ...    29  15.2  47  6.9  2.2\n",
              "2016-01-05  70.15  105.12  79.43  56.05  0.85  ...  28.4  14.7  51  6.3  1.1\n",
              "\n",
              "[5 rows x 14 columns]"
            ]
          },
          "metadata": {},
          "execution_count": 18
        }
      ]
    },
    {
      "cell_type": "code",
      "metadata": {
        "colab": {
          "base_uri": "https://localhost:8080/"
        },
        "id": "WPtso_pmfU52",
        "outputId": "f85f5142-0f2a-40de-e4d5-484c924c0191"
      },
      "source": [
        "df.shape"
      ],
      "execution_count": 19,
      "outputs": [
        {
          "output_type": "execute_result",
          "data": {
            "text/plain": [
              "(1461, 14)"
            ]
          },
          "metadata": {},
          "execution_count": 19
        }
      ]
    },
    {
      "cell_type": "code",
      "metadata": {
        "id": "B26HqAzW3hT-",
        "colab": {
          "base_uri": "https://localhost:8080/"
        },
        "outputId": "4048fbb3-8b7c-4516-8c16-99352d9ab496"
      },
      "source": [
        "target = df['AQI']\n",
        "target.head()"
      ],
      "execution_count": 20,
      "outputs": [
        {
          "output_type": "execute_result",
          "data": {
            "text/plain": [
              "Date\n",
              "2016-01-01    101.0\n",
              "2016-01-02     92.0\n",
              "2016-01-03    108.0\n",
              "2016-01-04    109.0\n",
              "2016-01-05    114.0\n",
              "Name: AQI, dtype: float64"
            ]
          },
          "metadata": {},
          "execution_count": 20
        }
      ]
    },
    {
      "cell_type": "code",
      "metadata": {
        "colab": {
          "base_uri": "https://localhost:8080/"
        },
        "id": "vnO4FS0u4Clf",
        "outputId": "4275c67b-7ff6-44f8-9fd1-8649ff9020c3"
      },
      "source": [
        "target.shape"
      ],
      "execution_count": 21,
      "outputs": [
        {
          "output_type": "execute_result",
          "data": {
            "text/plain": [
              "(1461,)"
            ]
          },
          "metadata": {},
          "execution_count": 21
        }
      ]
    },
    {
      "cell_type": "code",
      "metadata": {
        "id": "m9D-xFCwjZ-e"
      },
      "source": [
        "# df = df.drop(columns=['AQI'])\n",
        "# df['AQI'] = target.values"
      ],
      "execution_count": 22,
      "outputs": []
    },
    {
      "cell_type": "code",
      "metadata": {
        "colab": {
          "base_uri": "https://localhost:8080/",
          "height": 238
        },
        "id": "tdZwuqq44DH0",
        "outputId": "2fc7cae1-814f-4232-8723-7fd96dded4c3"
      },
      "source": [
        "df.head()"
      ],
      "execution_count": 23,
      "outputs": [
        {
          "output_type": "execute_result",
          "data": {
            "text/html": [
              "<div>\n",
              "<style scoped>\n",
              "    .dataframe tbody tr th:only-of-type {\n",
              "        vertical-align: middle;\n",
              "    }\n",
              "\n",
              "    .dataframe tbody tr th {\n",
              "        vertical-align: top;\n",
              "    }\n",
              "\n",
              "    .dataframe thead th {\n",
              "        text-align: right;\n",
              "    }\n",
              "</style>\n",
              "<table border=\"1\" class=\"dataframe\">\n",
              "  <thead>\n",
              "    <tr style=\"text-align: right;\">\n",
              "      <th></th>\n",
              "      <th>PM2.5</th>\n",
              "      <th>PM10</th>\n",
              "      <th>NO2</th>\n",
              "      <th>NOx</th>\n",
              "      <th>CO</th>\n",
              "      <th>SO2</th>\n",
              "      <th>O3</th>\n",
              "      <th>AQI</th>\n",
              "      <th>T</th>\n",
              "      <th>TM</th>\n",
              "      <th>Tm</th>\n",
              "      <th>H</th>\n",
              "      <th>VV</th>\n",
              "      <th>V</th>\n",
              "    </tr>\n",
              "    <tr>\n",
              "      <th>Date</th>\n",
              "      <th></th>\n",
              "      <th></th>\n",
              "      <th></th>\n",
              "      <th></th>\n",
              "      <th></th>\n",
              "      <th></th>\n",
              "      <th></th>\n",
              "      <th></th>\n",
              "      <th></th>\n",
              "      <th></th>\n",
              "      <th></th>\n",
              "      <th></th>\n",
              "      <th></th>\n",
              "      <th></th>\n",
              "    </tr>\n",
              "  </thead>\n",
              "  <tbody>\n",
              "    <tr>\n",
              "      <th>2016-01-01</th>\n",
              "      <td>56.40</td>\n",
              "      <td>95.08</td>\n",
              "      <td>51.73</td>\n",
              "      <td>34.31</td>\n",
              "      <td>0.69</td>\n",
              "      <td>7.44</td>\n",
              "      <td>55.96</td>\n",
              "      <td>101.0</td>\n",
              "      <td>20.1</td>\n",
              "      <td>28.4</td>\n",
              "      <td>15.7</td>\n",
              "      <td>54</td>\n",
              "      <td>6</td>\n",
              "      <td>3</td>\n",
              "    </tr>\n",
              "    <tr>\n",
              "      <th>2016-01-02</th>\n",
              "      <td>53.69</td>\n",
              "      <td>93.92</td>\n",
              "      <td>73.09</td>\n",
              "      <td>54.77</td>\n",
              "      <td>0.76</td>\n",
              "      <td>8.67</td>\n",
              "      <td>34.06</td>\n",
              "      <td>92.0</td>\n",
              "      <td>20.8</td>\n",
              "      <td>28.3</td>\n",
              "      <td>12.9</td>\n",
              "      <td>45</td>\n",
              "      <td>6.3</td>\n",
              "      <td>1.1</td>\n",
              "    </tr>\n",
              "    <tr>\n",
              "      <th>2016-01-03</th>\n",
              "      <td>62.35</td>\n",
              "      <td>99.34</td>\n",
              "      <td>77.77</td>\n",
              "      <td>55.60</td>\n",
              "      <td>0.96</td>\n",
              "      <td>9.10</td>\n",
              "      <td>47.62</td>\n",
              "      <td>108.0</td>\n",
              "      <td>21.4</td>\n",
              "      <td>29</td>\n",
              "      <td>13.7</td>\n",
              "      <td>45</td>\n",
              "      <td>6.3</td>\n",
              "      <td>0.4</td>\n",
              "    </tr>\n",
              "    <tr>\n",
              "      <th>2016-01-04</th>\n",
              "      <td>64.96</td>\n",
              "      <td>104.62</td>\n",
              "      <td>77.07</td>\n",
              "      <td>50.81</td>\n",
              "      <td>0.89</td>\n",
              "      <td>8.87</td>\n",
              "      <td>50.62</td>\n",
              "      <td>109.0</td>\n",
              "      <td>21.5</td>\n",
              "      <td>29</td>\n",
              "      <td>15.2</td>\n",
              "      <td>47</td>\n",
              "      <td>6.9</td>\n",
              "      <td>2.2</td>\n",
              "    </tr>\n",
              "    <tr>\n",
              "      <th>2016-01-05</th>\n",
              "      <td>70.15</td>\n",
              "      <td>105.12</td>\n",
              "      <td>79.43</td>\n",
              "      <td>56.05</td>\n",
              "      <td>0.85</td>\n",
              "      <td>9.41</td>\n",
              "      <td>36.94</td>\n",
              "      <td>114.0</td>\n",
              "      <td>20.9</td>\n",
              "      <td>28.4</td>\n",
              "      <td>14.7</td>\n",
              "      <td>51</td>\n",
              "      <td>6.3</td>\n",
              "      <td>1.1</td>\n",
              "    </tr>\n",
              "  </tbody>\n",
              "</table>\n",
              "</div>"
            ],
            "text/plain": [
              "            PM2.5    PM10    NO2    NOx    CO  ...    TM    Tm   H   VV    V\n",
              "Date                                           ...                          \n",
              "2016-01-01  56.40   95.08  51.73  34.31  0.69  ...  28.4  15.7  54    6    3\n",
              "2016-01-02  53.69   93.92  73.09  54.77  0.76  ...  28.3  12.9  45  6.3  1.1\n",
              "2016-01-03  62.35   99.34  77.77  55.60  0.96  ...    29  13.7  45  6.3  0.4\n",
              "2016-01-04  64.96  104.62  77.07  50.81  0.89  ...    29  15.2  47  6.9  2.2\n",
              "2016-01-05  70.15  105.12  79.43  56.05  0.85  ...  28.4  14.7  51  6.3  1.1\n",
              "\n",
              "[5 rows x 14 columns]"
            ]
          },
          "metadata": {},
          "execution_count": 23
        }
      ]
    },
    {
      "cell_type": "code",
      "metadata": {
        "colab": {
          "base_uri": "https://localhost:8080/"
        },
        "id": "yNe-CILkiPs-",
        "outputId": "266b9d30-557f-4a64-e58d-4c9c16f2dca1"
      },
      "source": [
        "df.shape"
      ],
      "execution_count": 24,
      "outputs": [
        {
          "output_type": "execute_result",
          "data": {
            "text/plain": [
              "(1461, 14)"
            ]
          },
          "metadata": {},
          "execution_count": 24
        }
      ]
    },
    {
      "cell_type": "code",
      "metadata": {
        "id": "MNMKbf0rWmGs"
      },
      "source": [
        "# df.to_csv('x_train_data.csv')\n",
        "# target.to_csv('y_train_data.csv')"
      ],
      "execution_count": 25,
      "outputs": []
    },
    {
      "cell_type": "code",
      "metadata": {
        "id": "U6dXnV1e4jly"
      },
      "source": [
        "temp_df = df\n",
        "temp_target = target"
      ],
      "execution_count": 26,
      "outputs": []
    },
    {
      "cell_type": "markdown",
      "metadata": {
        "id": "K6J7FteS54OV"
      },
      "source": [
        "#### Rename column names"
      ]
    },
    {
      "cell_type": "code",
      "metadata": {
        "colab": {
          "base_uri": "https://localhost:8080/",
          "height": 238
        },
        "id": "G6nPeO-34D3b",
        "outputId": "084200c6-ae4b-442e-d9a4-304ce15cf6b7"
      },
      "source": [
        "df.rename(columns={'T':'temp', 'TM':'max_temp','Tm':'min_temp','H':'humid','VV':'visible','V':'wind'}, inplace = True)\n",
        "df.head()"
      ],
      "execution_count": 27,
      "outputs": [
        {
          "output_type": "execute_result",
          "data": {
            "text/html": [
              "<div>\n",
              "<style scoped>\n",
              "    .dataframe tbody tr th:only-of-type {\n",
              "        vertical-align: middle;\n",
              "    }\n",
              "\n",
              "    .dataframe tbody tr th {\n",
              "        vertical-align: top;\n",
              "    }\n",
              "\n",
              "    .dataframe thead th {\n",
              "        text-align: right;\n",
              "    }\n",
              "</style>\n",
              "<table border=\"1\" class=\"dataframe\">\n",
              "  <thead>\n",
              "    <tr style=\"text-align: right;\">\n",
              "      <th></th>\n",
              "      <th>PM2.5</th>\n",
              "      <th>PM10</th>\n",
              "      <th>NO2</th>\n",
              "      <th>NOx</th>\n",
              "      <th>CO</th>\n",
              "      <th>SO2</th>\n",
              "      <th>O3</th>\n",
              "      <th>AQI</th>\n",
              "      <th>temp</th>\n",
              "      <th>max_temp</th>\n",
              "      <th>min_temp</th>\n",
              "      <th>humid</th>\n",
              "      <th>visible</th>\n",
              "      <th>wind</th>\n",
              "    </tr>\n",
              "    <tr>\n",
              "      <th>Date</th>\n",
              "      <th></th>\n",
              "      <th></th>\n",
              "      <th></th>\n",
              "      <th></th>\n",
              "      <th></th>\n",
              "      <th></th>\n",
              "      <th></th>\n",
              "      <th></th>\n",
              "      <th></th>\n",
              "      <th></th>\n",
              "      <th></th>\n",
              "      <th></th>\n",
              "      <th></th>\n",
              "      <th></th>\n",
              "    </tr>\n",
              "  </thead>\n",
              "  <tbody>\n",
              "    <tr>\n",
              "      <th>2016-01-01</th>\n",
              "      <td>56.40</td>\n",
              "      <td>95.08</td>\n",
              "      <td>51.73</td>\n",
              "      <td>34.31</td>\n",
              "      <td>0.69</td>\n",
              "      <td>7.44</td>\n",
              "      <td>55.96</td>\n",
              "      <td>101.0</td>\n",
              "      <td>20.1</td>\n",
              "      <td>28.4</td>\n",
              "      <td>15.7</td>\n",
              "      <td>54</td>\n",
              "      <td>6</td>\n",
              "      <td>3</td>\n",
              "    </tr>\n",
              "    <tr>\n",
              "      <th>2016-01-02</th>\n",
              "      <td>53.69</td>\n",
              "      <td>93.92</td>\n",
              "      <td>73.09</td>\n",
              "      <td>54.77</td>\n",
              "      <td>0.76</td>\n",
              "      <td>8.67</td>\n",
              "      <td>34.06</td>\n",
              "      <td>92.0</td>\n",
              "      <td>20.8</td>\n",
              "      <td>28.3</td>\n",
              "      <td>12.9</td>\n",
              "      <td>45</td>\n",
              "      <td>6.3</td>\n",
              "      <td>1.1</td>\n",
              "    </tr>\n",
              "    <tr>\n",
              "      <th>2016-01-03</th>\n",
              "      <td>62.35</td>\n",
              "      <td>99.34</td>\n",
              "      <td>77.77</td>\n",
              "      <td>55.60</td>\n",
              "      <td>0.96</td>\n",
              "      <td>9.10</td>\n",
              "      <td>47.62</td>\n",
              "      <td>108.0</td>\n",
              "      <td>21.4</td>\n",
              "      <td>29</td>\n",
              "      <td>13.7</td>\n",
              "      <td>45</td>\n",
              "      <td>6.3</td>\n",
              "      <td>0.4</td>\n",
              "    </tr>\n",
              "    <tr>\n",
              "      <th>2016-01-04</th>\n",
              "      <td>64.96</td>\n",
              "      <td>104.62</td>\n",
              "      <td>77.07</td>\n",
              "      <td>50.81</td>\n",
              "      <td>0.89</td>\n",
              "      <td>8.87</td>\n",
              "      <td>50.62</td>\n",
              "      <td>109.0</td>\n",
              "      <td>21.5</td>\n",
              "      <td>29</td>\n",
              "      <td>15.2</td>\n",
              "      <td>47</td>\n",
              "      <td>6.9</td>\n",
              "      <td>2.2</td>\n",
              "    </tr>\n",
              "    <tr>\n",
              "      <th>2016-01-05</th>\n",
              "      <td>70.15</td>\n",
              "      <td>105.12</td>\n",
              "      <td>79.43</td>\n",
              "      <td>56.05</td>\n",
              "      <td>0.85</td>\n",
              "      <td>9.41</td>\n",
              "      <td>36.94</td>\n",
              "      <td>114.0</td>\n",
              "      <td>20.9</td>\n",
              "      <td>28.4</td>\n",
              "      <td>14.7</td>\n",
              "      <td>51</td>\n",
              "      <td>6.3</td>\n",
              "      <td>1.1</td>\n",
              "    </tr>\n",
              "  </tbody>\n",
              "</table>\n",
              "</div>"
            ],
            "text/plain": [
              "            PM2.5    PM10    NO2    NOx  ...  min_temp  humid  visible  wind\n",
              "Date                                     ...                                \n",
              "2016-01-01  56.40   95.08  51.73  34.31  ...      15.7     54        6     3\n",
              "2016-01-02  53.69   93.92  73.09  54.77  ...      12.9     45      6.3   1.1\n",
              "2016-01-03  62.35   99.34  77.77  55.60  ...      13.7     45      6.3   0.4\n",
              "2016-01-04  64.96  104.62  77.07  50.81  ...      15.2     47      6.9   2.2\n",
              "2016-01-05  70.15  105.12  79.43  56.05  ...      14.7     51      6.3   1.1\n",
              "\n",
              "[5 rows x 14 columns]"
            ]
          },
          "metadata": {},
          "execution_count": 27
        }
      ]
    },
    {
      "cell_type": "code",
      "metadata": {
        "colab": {
          "base_uri": "https://localhost:8080/"
        },
        "id": "CZIaLtsc5eEs",
        "outputId": "9307ec24-73db-4aec-fe0c-25650349909f"
      },
      "source": [
        "df.info()"
      ],
      "execution_count": 28,
      "outputs": [
        {
          "output_type": "stream",
          "name": "stdout",
          "text": [
            "<class 'pandas.core.frame.DataFrame'>\n",
            "DatetimeIndex: 1461 entries, 2016-01-01 to 2019-12-31\n",
            "Data columns (total 14 columns):\n",
            " #   Column    Non-Null Count  Dtype  \n",
            "---  ------    --------------  -----  \n",
            " 0   PM2.5     1394 non-null   float64\n",
            " 1   PM10      1416 non-null   float64\n",
            " 2   NO2       1455 non-null   float64\n",
            " 3   NOx       1457 non-null   float64\n",
            " 4   CO        1457 non-null   float64\n",
            " 5   SO2       1455 non-null   float64\n",
            " 6   O3        1324 non-null   float64\n",
            " 7   AQI       1441 non-null   float64\n",
            " 8   temp      1461 non-null   object \n",
            " 9   max_temp  1461 non-null   object \n",
            " 10  min_temp  1461 non-null   object \n",
            " 11  humid     1461 non-null   object \n",
            " 12  visible   1461 non-null   object \n",
            " 13  wind      1461 non-null   object \n",
            "dtypes: float64(8), object(6)\n",
            "memory usage: 171.2+ KB\n"
          ]
        }
      ]
    },
    {
      "cell_type": "code",
      "metadata": {
        "id": "Vv7VwwTu8OgO"
      },
      "source": [
        "for column in df.columns[7:]:\n",
        "  df[column] = pd.to_numeric(df[column], errors='coerce')"
      ],
      "execution_count": 29,
      "outputs": []
    },
    {
      "cell_type": "code",
      "metadata": {
        "colab": {
          "base_uri": "https://localhost:8080/"
        },
        "id": "Vix_ZdrTkVeI",
        "outputId": "efdfeb11-98a1-405c-8641-a646047d122d"
      },
      "source": [
        "df.info()"
      ],
      "execution_count": 30,
      "outputs": [
        {
          "output_type": "stream",
          "name": "stdout",
          "text": [
            "<class 'pandas.core.frame.DataFrame'>\n",
            "DatetimeIndex: 1461 entries, 2016-01-01 to 2019-12-31\n",
            "Data columns (total 14 columns):\n",
            " #   Column    Non-Null Count  Dtype  \n",
            "---  ------    --------------  -----  \n",
            " 0   PM2.5     1394 non-null   float64\n",
            " 1   PM10      1416 non-null   float64\n",
            " 2   NO2       1455 non-null   float64\n",
            " 3   NOx       1457 non-null   float64\n",
            " 4   CO        1457 non-null   float64\n",
            " 5   SO2       1455 non-null   float64\n",
            " 6   O3        1324 non-null   float64\n",
            " 7   AQI       1441 non-null   float64\n",
            " 8   temp      1446 non-null   float64\n",
            " 9   max_temp  1446 non-null   float64\n",
            " 10  min_temp  1446 non-null   float64\n",
            " 11  humid     1446 non-null   float64\n",
            " 12  visible   1446 non-null   float64\n",
            " 13  wind      1446 non-null   float64\n",
            "dtypes: float64(14)\n",
            "memory usage: 171.2 KB\n"
          ]
        }
      ]
    },
    {
      "cell_type": "code",
      "metadata": {
        "id": "x_jOoTmP8Oap",
        "colab": {
          "base_uri": "https://localhost:8080/",
          "height": 320
        },
        "outputId": "17ae3536-a94a-4e72-dd1e-b977593acd8e"
      },
      "source": [
        "df.describe()"
      ],
      "execution_count": 31,
      "outputs": [
        {
          "output_type": "execute_result",
          "data": {
            "text/html": [
              "<div>\n",
              "<style scoped>\n",
              "    .dataframe tbody tr th:only-of-type {\n",
              "        vertical-align: middle;\n",
              "    }\n",
              "\n",
              "    .dataframe tbody tr th {\n",
              "        vertical-align: top;\n",
              "    }\n",
              "\n",
              "    .dataframe thead th {\n",
              "        text-align: right;\n",
              "    }\n",
              "</style>\n",
              "<table border=\"1\" class=\"dataframe\">\n",
              "  <thead>\n",
              "    <tr style=\"text-align: right;\">\n",
              "      <th></th>\n",
              "      <th>PM2.5</th>\n",
              "      <th>PM10</th>\n",
              "      <th>NO2</th>\n",
              "      <th>NOx</th>\n",
              "      <th>CO</th>\n",
              "      <th>SO2</th>\n",
              "      <th>O3</th>\n",
              "      <th>AQI</th>\n",
              "      <th>temp</th>\n",
              "      <th>max_temp</th>\n",
              "      <th>min_temp</th>\n",
              "      <th>humid</th>\n",
              "      <th>visible</th>\n",
              "      <th>wind</th>\n",
              "    </tr>\n",
              "  </thead>\n",
              "  <tbody>\n",
              "    <tr>\n",
              "      <th>count</th>\n",
              "      <td>1394.000000</td>\n",
              "      <td>1416.000000</td>\n",
              "      <td>1455.000000</td>\n",
              "      <td>1457.000000</td>\n",
              "      <td>1457.000000</td>\n",
              "      <td>1455.000000</td>\n",
              "      <td>1324.000000</td>\n",
              "      <td>1441.000000</td>\n",
              "      <td>1446.000000</td>\n",
              "      <td>1446.000000</td>\n",
              "      <td>1446.000000</td>\n",
              "      <td>1446.000000</td>\n",
              "      <td>1446.000000</td>\n",
              "      <td>1446.000000</td>\n",
              "    </tr>\n",
              "    <tr>\n",
              "      <th>mean</th>\n",
              "      <td>37.978293</td>\n",
              "      <td>85.900028</td>\n",
              "      <td>30.848027</td>\n",
              "      <td>20.310981</td>\n",
              "      <td>1.046706</td>\n",
              "      <td>5.169285</td>\n",
              "      <td>34.340083</td>\n",
              "      <td>92.549618</td>\n",
              "      <td>24.290941</td>\n",
              "      <td>30.360443</td>\n",
              "      <td>19.871369</td>\n",
              "      <td>63.865145</td>\n",
              "      <td>6.616390</td>\n",
              "      <td>4.584855</td>\n",
              "    </tr>\n",
              "    <tr>\n",
              "      <th>std</th>\n",
              "      <td>23.930548</td>\n",
              "      <td>39.127126</td>\n",
              "      <td>12.878299</td>\n",
              "      <td>16.514174</td>\n",
              "      <td>2.005378</td>\n",
              "      <td>2.234012</td>\n",
              "      <td>17.622812</td>\n",
              "      <td>38.221982</td>\n",
              "      <td>2.294894</td>\n",
              "      <td>2.919894</td>\n",
              "      <td>2.306992</td>\n",
              "      <td>15.425335</td>\n",
              "      <td>0.630561</td>\n",
              "      <td>2.704718</td>\n",
              "    </tr>\n",
              "    <tr>\n",
              "      <th>min</th>\n",
              "      <td>1.720000</td>\n",
              "      <td>9.930000</td>\n",
              "      <td>3.000000</td>\n",
              "      <td>0.000000</td>\n",
              "      <td>0.000000</td>\n",
              "      <td>0.870000</td>\n",
              "      <td>3.140000</td>\n",
              "      <td>20.000000</td>\n",
              "      <td>18.900000</td>\n",
              "      <td>21.600000</td>\n",
              "      <td>12.000000</td>\n",
              "      <td>17.000000</td>\n",
              "      <td>3.700000</td>\n",
              "      <td>0.000000</td>\n",
              "    </tr>\n",
              "    <tr>\n",
              "      <th>25%</th>\n",
              "      <td>22.360000</td>\n",
              "      <td>57.552500</td>\n",
              "      <td>22.755000</td>\n",
              "      <td>3.970000</td>\n",
              "      <td>0.680000</td>\n",
              "      <td>3.855000</td>\n",
              "      <td>20.137500</td>\n",
              "      <td>66.000000</td>\n",
              "      <td>22.700000</td>\n",
              "      <td>28.200000</td>\n",
              "      <td>18.600000</td>\n",
              "      <td>51.250000</td>\n",
              "      <td>6.300000</td>\n",
              "      <td>2.800000</td>\n",
              "    </tr>\n",
              "    <tr>\n",
              "      <th>50%</th>\n",
              "      <td>32.730000</td>\n",
              "      <td>79.840000</td>\n",
              "      <td>29.500000</td>\n",
              "      <td>21.460000</td>\n",
              "      <td>0.860000</td>\n",
              "      <td>4.870000</td>\n",
              "      <td>31.155000</td>\n",
              "      <td>85.000000</td>\n",
              "      <td>23.800000</td>\n",
              "      <td>29.700000</td>\n",
              "      <td>20.200000</td>\n",
              "      <td>66.000000</td>\n",
              "      <td>6.900000</td>\n",
              "      <td>4.100000</td>\n",
              "    </tr>\n",
              "    <tr>\n",
              "      <th>75%</th>\n",
              "      <td>46.860000</td>\n",
              "      <td>107.425000</td>\n",
              "      <td>36.595000</td>\n",
              "      <td>30.140000</td>\n",
              "      <td>1.020000</td>\n",
              "      <td>6.125000</td>\n",
              "      <td>47.345000</td>\n",
              "      <td>111.000000</td>\n",
              "      <td>25.600000</td>\n",
              "      <td>32.200000</td>\n",
              "      <td>21.200000</td>\n",
              "      <td>76.000000</td>\n",
              "      <td>6.900000</td>\n",
              "      <td>5.900000</td>\n",
              "    </tr>\n",
              "    <tr>\n",
              "      <th>max</th>\n",
              "      <td>313.590000</td>\n",
              "      <td>351.510000</td>\n",
              "      <td>142.350000</td>\n",
              "      <td>147.060000</td>\n",
              "      <td>47.930000</td>\n",
              "      <td>24.020000</td>\n",
              "      <td>109.970000</td>\n",
              "      <td>352.000000</td>\n",
              "      <td>31.400000</td>\n",
              "      <td>39.200000</td>\n",
              "      <td>25.800000</td>\n",
              "      <td>97.000000</td>\n",
              "      <td>9.200000</td>\n",
              "      <td>14.800000</td>\n",
              "    </tr>\n",
              "  </tbody>\n",
              "</table>\n",
              "</div>"
            ],
            "text/plain": [
              "             PM2.5         PM10  ...      visible         wind\n",
              "count  1394.000000  1416.000000  ...  1446.000000  1446.000000\n",
              "mean     37.978293    85.900028  ...     6.616390     4.584855\n",
              "std      23.930548    39.127126  ...     0.630561     2.704718\n",
              "min       1.720000     9.930000  ...     3.700000     0.000000\n",
              "25%      22.360000    57.552500  ...     6.300000     2.800000\n",
              "50%      32.730000    79.840000  ...     6.900000     4.100000\n",
              "75%      46.860000   107.425000  ...     6.900000     5.900000\n",
              "max     313.590000   351.510000  ...     9.200000    14.800000\n",
              "\n",
              "[8 rows x 14 columns]"
            ]
          },
          "metadata": {},
          "execution_count": 31
        }
      ]
    },
    {
      "cell_type": "markdown",
      "metadata": {
        "id": "irWWbwnJJqeq"
      },
      "source": [
        "#### NOx, CO and wind speed have 0 values"
      ]
    },
    {
      "cell_type": "code",
      "metadata": {
        "id": "NX_qFtXYQuLZ"
      },
      "source": [
        "df.replace(0,np.nan, inplace=True)"
      ],
      "execution_count": 32,
      "outputs": []
    },
    {
      "cell_type": "markdown",
      "metadata": {
        "id": "vRY4H6ZzSB3Q"
      },
      "source": [
        "### Handle Missing Values"
      ]
    },
    {
      "cell_type": "code",
      "metadata": {
        "id": "Ax8sqOcG8OYR",
        "colab": {
          "base_uri": "https://localhost:8080/"
        },
        "outputId": "d98f097d-8fb5-4af6-984f-c9b2d58fce4e"
      },
      "source": [
        "df.isnull().sum(axis=0)"
      ],
      "execution_count": 33,
      "outputs": [
        {
          "output_type": "execute_result",
          "data": {
            "text/plain": [
              "PM2.5        67\n",
              "PM10         45\n",
              "NO2           6\n",
              "NOx         341\n",
              "CO           12\n",
              "SO2           6\n",
              "O3          137\n",
              "AQI          20\n",
              "temp         15\n",
              "max_temp     15\n",
              "min_temp     15\n",
              "humid        15\n",
              "visible      15\n",
              "wind         22\n",
              "dtype: int64"
            ]
          },
          "metadata": {},
          "execution_count": 33
        }
      ]
    },
    {
      "cell_type": "code",
      "metadata": {
        "colab": {
          "base_uri": "https://localhost:8080/",
          "height": 447
        },
        "id": "21H7LY38NOnV",
        "outputId": "0b2c9947-21fb-409f-eee4-3d653147b65e"
      },
      "source": [
        "import missingno as msno\n",
        "msno.matrix(df, figsize=(10,6))\n",
        "plt.show()"
      ],
      "execution_count": 34,
      "outputs": [
        {
          "output_type": "display_data",
          "data": {
            "image/png": "[encoded data removed]",
            "text/plain": [
              "<Figure size 720x432 with 2 Axes>"
            ]
          },
          "metadata": {
            "needs_background": "light"
          }
        }
      ]
    },
    {
      "cell_type": "markdown",
      "metadata": {
        "id": "11J4pfkvlbns"
      },
      "source": [
        "Delete rows where AQI value is NaN"
      ]
    },
    {
      "cell_type": "code",
      "metadata": {
        "colab": {
          "base_uri": "https://localhost:8080/"
        },
        "id": "YBZ1NGF_lQX_",
        "outputId": "adc32bf1-1f3b-4058-c276-1017fcb5d3c7"
      },
      "source": [
        "df = df.loc[~df['AQI'].isna()]\n",
        "df.shape\n",
        "# 20 rows deleted"
      ],
      "execution_count": 35,
      "outputs": [
        {
          "output_type": "execute_result",
          "data": {
            "text/plain": [
              "(1441, 14)"
            ]
          },
          "metadata": {},
          "execution_count": 35
        }
      ]
    },
    {
      "cell_type": "code",
      "metadata": {
        "colab": {
          "base_uri": "https://localhost:8080/"
        },
        "id": "48YofnhlrdDd",
        "outputId": "c0508f91-f9c6-4056-cfcf-3e9d9f08fca5"
      },
      "source": [
        "target = target.loc[~target.isna()]\n",
        "target.shape"
      ],
      "execution_count": 36,
      "outputs": [
        {
          "output_type": "execute_result",
          "data": {
            "text/plain": [
              "(1441,)"
            ]
          },
          "metadata": {},
          "execution_count": 36
        }
      ]
    },
    {
      "cell_type": "code",
      "metadata": {
        "colab": {
          "base_uri": "https://localhost:8080/"
        },
        "id": "emn2i5FBlmpr",
        "outputId": "48d7ab1e-5e87-45fe-ef0f-5b99c69b39d0"
      },
      "source": [
        "df.info()"
      ],
      "execution_count": 37,
      "outputs": [
        {
          "output_type": "stream",
          "name": "stdout",
          "text": [
            "<class 'pandas.core.frame.DataFrame'>\n",
            "DatetimeIndex: 1441 entries, 2016-01-01 to 2019-12-31\n",
            "Data columns (total 14 columns):\n",
            " #   Column    Non-Null Count  Dtype  \n",
            "---  ------    --------------  -----  \n",
            " 0   PM2.5     1387 non-null   float64\n",
            " 1   PM10      1403 non-null   float64\n",
            " 2   NO2       1440 non-null   float64\n",
            " 3   NOx       1102 non-null   float64\n",
            " 4   CO        1433 non-null   float64\n",
            " 5   SO2       1440 non-null   float64\n",
            " 6   O3        1320 non-null   float64\n",
            " 7   AQI       1441 non-null   float64\n",
            " 8   temp      1426 non-null   float64\n",
            " 9   max_temp  1426 non-null   float64\n",
            " 10  min_temp  1426 non-null   float64\n",
            " 11  humid     1426 non-null   float64\n",
            " 12  visible   1426 non-null   float64\n",
            " 13  wind      1419 non-null   float64\n",
            "dtypes: float64(14)\n",
            "memory usage: 168.9 KB\n"
          ]
        }
      ]
    },
    {
      "cell_type": "markdown",
      "metadata": {
        "id": "MPVlnlq3RYkA"
      },
      "source": [
        "#### Interpolate the missing values\n",
        "bfill, ffill, interpolate\n",
        "\n",
        "Time series data has a lot of variations against time. Hence, imputing using backfill and forward fill isn't the ebst possible solution to address the missing value problem. A more apt alternative would be to use interpolation methods, where the values are filled with incrementing or decrementing values."
      ]
    },
    {
      "cell_type": "code",
      "metadata": {
        "colab": {
          "base_uri": "https://localhost:8080/"
        },
        "id": "AJIrnDoURAL7",
        "outputId": "b529437f-897f-41ba-c23c-6ab95e9c08b3"
      },
      "source": [
        "df.interpolate(limit_direction=\"both\", inplace=True)\n",
        "df.isnull().sum(axis=0)"
      ],
      "execution_count": 38,
      "outputs": [
        {
          "output_type": "stream",
          "name": "stderr",
          "text": [
            "/usr/local/lib/python3.7/dist-packages/ipykernel_launcher.py:1: SettingWithCopyWarning: \n",
            "A value is trying to be set on a copy of a slice from a DataFrame\n",
            "\n",
            "See the caveats in the documentation: https://pandas.pydata.org/pandas-docs/stable/user_guide/indexing.html#returning-a-view-versus-a-copy\n",
            "  \"\"\"Entry point for launching an IPython kernel.\n"
          ]
        },
        {
          "output_type": "execute_result",
          "data": {
            "text/plain": [
              "PM2.5       0\n",
              "PM10        0\n",
              "NO2         0\n",
              "NOx         0\n",
              "CO          0\n",
              "SO2         0\n",
              "O3          0\n",
              "AQI         0\n",
              "temp        0\n",
              "max_temp    0\n",
              "min_temp    0\n",
              "humid       0\n",
              "visible     0\n",
              "wind        0\n",
              "dtype: int64"
            ]
          },
          "metadata": {},
          "execution_count": 38
        }
      ]
    },
    {
      "cell_type": "code",
      "metadata": {
        "colab": {
          "base_uri": "https://localhost:8080/"
        },
        "id": "f8sNZNzdQRki",
        "outputId": "da09cb1e-20c1-4d37-a7c3-e09b8eaaa970"
      },
      "source": [
        "df.shape"
      ],
      "execution_count": 39,
      "outputs": [
        {
          "output_type": "execute_result",
          "data": {
            "text/plain": [
              "(1441, 14)"
            ]
          },
          "metadata": {},
          "execution_count": 39
        }
      ]
    },
    {
      "cell_type": "markdown",
      "metadata": {
        "id": "G_1eWNGyScH8"
      },
      "source": [
        "### Visualization"
      ]
    },
    {
      "cell_type": "code",
      "metadata": {
        "id": "kuEFZWJbMB5X"
      },
      "source": [
        "# sns.lineplot(x=df.index, y=df.loc[:,'NOx'])\n",
        "# plt.xlabel('Index')\n",
        "# plt.show()"
      ],
      "execution_count": 40,
      "outputs": []
    },
    {
      "cell_type": "code",
      "metadata": {
        "id": "teEAvtFmQRiR"
      },
      "source": [
        "# df.plot(subplots=True, layout=(5,3),figsize=(22,18))\n",
        "# plt.show()"
      ],
      "execution_count": 41,
      "outputs": []
    },
    {
      "cell_type": "markdown",
      "metadata": {
        "id": "aIOBQ-wxpmuf"
      },
      "source": [
        "Climatic conditions shows seasonal variation\n",
        "\n",
        "Pollutants data show white noise i.e. no seasonality,trend,cyclic pattern"
      ]
    },
    {
      "cell_type": "code",
      "metadata": {
        "id": "iLvHYAxUSqGa",
        "colab": {
          "base_uri": "https://localhost:8080/",
          "height": 320
        },
        "outputId": "ffef76f1-d63d-4aa2-b877-4c65c9bee98a"
      },
      "source": [
        "df.describe()"
      ],
      "execution_count": 42,
      "outputs": [
        {
          "output_type": "execute_result",
          "data": {
            "text/html": [
              "<div>\n",
              "<style scoped>\n",
              "    .dataframe tbody tr th:only-of-type {\n",
              "        vertical-align: middle;\n",
              "    }\n",
              "\n",
              "    .dataframe tbody tr th {\n",
              "        vertical-align: top;\n",
              "    }\n",
              "\n",
              "    .dataframe thead th {\n",
              "        text-align: right;\n",
              "    }\n",
              "</style>\n",
              "<table border=\"1\" class=\"dataframe\">\n",
              "  <thead>\n",
              "    <tr style=\"text-align: right;\">\n",
              "      <th></th>\n",
              "      <th>PM2.5</th>\n",
              "      <th>PM10</th>\n",
              "      <th>NO2</th>\n",
              "      <th>NOx</th>\n",
              "      <th>CO</th>\n",
              "      <th>SO2</th>\n",
              "      <th>O3</th>\n",
              "      <th>AQI</th>\n",
              "      <th>temp</th>\n",
              "      <th>max_temp</th>\n",
              "      <th>min_temp</th>\n",
              "      <th>humid</th>\n",
              "      <th>visible</th>\n",
              "      <th>wind</th>\n",
              "    </tr>\n",
              "  </thead>\n",
              "  <tbody>\n",
              "    <tr>\n",
              "      <th>count</th>\n",
              "      <td>1441.000000</td>\n",
              "      <td>1441.000000</td>\n",
              "      <td>1441.000000</td>\n",
              "      <td>1441.000000</td>\n",
              "      <td>1441.000000</td>\n",
              "      <td>1441.000000</td>\n",
              "      <td>1441.000000</td>\n",
              "      <td>1441.000000</td>\n",
              "      <td>1441.000000</td>\n",
              "      <td>1441.000000</td>\n",
              "      <td>1441.000000</td>\n",
              "      <td>1441.000000</td>\n",
              "      <td>1441.000000</td>\n",
              "      <td>1441.000000</td>\n",
              "    </tr>\n",
              "    <tr>\n",
              "      <th>mean</th>\n",
              "      <td>38.516197</td>\n",
              "      <td>86.403688</td>\n",
              "      <td>30.930035</td>\n",
              "      <td>21.236298</td>\n",
              "      <td>1.052817</td>\n",
              "      <td>5.190704</td>\n",
              "      <td>34.729306</td>\n",
              "      <td>92.549618</td>\n",
              "      <td>24.284629</td>\n",
              "      <td>30.364851</td>\n",
              "      <td>19.864920</td>\n",
              "      <td>63.846287</td>\n",
              "      <td>6.605378</td>\n",
              "      <td>4.567071</td>\n",
              "    </tr>\n",
              "    <tr>\n",
              "      <th>std</th>\n",
              "      <td>25.512296</td>\n",
              "      <td>38.848527</td>\n",
              "      <td>12.821305</td>\n",
              "      <td>15.460293</td>\n",
              "      <td>2.013404</td>\n",
              "      <td>2.231657</td>\n",
              "      <td>17.781051</td>\n",
              "      <td>38.221982</td>\n",
              "      <td>2.304382</td>\n",
              "      <td>2.932811</td>\n",
              "      <td>2.322212</td>\n",
              "      <td>15.450047</td>\n",
              "      <td>0.635529</td>\n",
              "      <td>2.696078</td>\n",
              "    </tr>\n",
              "    <tr>\n",
              "      <th>min</th>\n",
              "      <td>1.720000</td>\n",
              "      <td>9.930000</td>\n",
              "      <td>3.000000</td>\n",
              "      <td>0.470000</td>\n",
              "      <td>0.080000</td>\n",
              "      <td>1.060000</td>\n",
              "      <td>3.140000</td>\n",
              "      <td>20.000000</td>\n",
              "      <td>18.900000</td>\n",
              "      <td>21.600000</td>\n",
              "      <td>12.000000</td>\n",
              "      <td>17.000000</td>\n",
              "      <td>3.700000</td>\n",
              "      <td>0.200000</td>\n",
              "    </tr>\n",
              "    <tr>\n",
              "      <th>25%</th>\n",
              "      <td>22.490000</td>\n",
              "      <td>58.260000</td>\n",
              "      <td>22.840000</td>\n",
              "      <td>6.009755</td>\n",
              "      <td>0.680000</td>\n",
              "      <td>3.870000</td>\n",
              "      <td>20.490000</td>\n",
              "      <td>66.000000</td>\n",
              "      <td>22.700000</td>\n",
              "      <td>28.200000</td>\n",
              "      <td>18.600000</td>\n",
              "      <td>51.000000</td>\n",
              "      <td>6.300000</td>\n",
              "      <td>2.800000</td>\n",
              "    </tr>\n",
              "    <tr>\n",
              "      <th>50%</th>\n",
              "      <td>32.610000</td>\n",
              "      <td>80.700000</td>\n",
              "      <td>29.530000</td>\n",
              "      <td>21.490000</td>\n",
              "      <td>0.860000</td>\n",
              "      <td>4.900000</td>\n",
              "      <td>31.123913</td>\n",
              "      <td>85.000000</td>\n",
              "      <td>23.800000</td>\n",
              "      <td>29.700000</td>\n",
              "      <td>20.200000</td>\n",
              "      <td>66.000000</td>\n",
              "      <td>6.900000</td>\n",
              "      <td>3.900000</td>\n",
              "    </tr>\n",
              "    <tr>\n",
              "      <th>75%</th>\n",
              "      <td>46.940000</td>\n",
              "      <td>107.540000</td>\n",
              "      <td>36.610000</td>\n",
              "      <td>30.040000</td>\n",
              "      <td>1.020000</td>\n",
              "      <td>6.140000</td>\n",
              "      <td>47.770000</td>\n",
              "      <td>111.000000</td>\n",
              "      <td>25.600000</td>\n",
              "      <td>32.200000</td>\n",
              "      <td>21.200000</td>\n",
              "      <td>76.000000</td>\n",
              "      <td>6.900000</td>\n",
              "      <td>5.900000</td>\n",
              "    </tr>\n",
              "    <tr>\n",
              "      <th>max</th>\n",
              "      <td>313.590000</td>\n",
              "      <td>351.510000</td>\n",
              "      <td>142.350000</td>\n",
              "      <td>147.060000</td>\n",
              "      <td>47.930000</td>\n",
              "      <td>24.020000</td>\n",
              "      <td>109.970000</td>\n",
              "      <td>352.000000</td>\n",
              "      <td>31.400000</td>\n",
              "      <td>39.200000</td>\n",
              "      <td>25.800000</td>\n",
              "      <td>97.000000</td>\n",
              "      <td>9.200000</td>\n",
              "      <td>14.800000</td>\n",
              "    </tr>\n",
              "  </tbody>\n",
              "</table>\n",
              "</div>"
            ],
            "text/plain": [
              "             PM2.5         PM10  ...      visible         wind\n",
              "count  1441.000000  1441.000000  ...  1441.000000  1441.000000\n",
              "mean     38.516197    86.403688  ...     6.605378     4.567071\n",
              "std      25.512296    38.848527  ...     0.635529     2.696078\n",
              "min       1.720000     9.930000  ...     3.700000     0.200000\n",
              "25%      22.490000    58.260000  ...     6.300000     2.800000\n",
              "50%      32.610000    80.700000  ...     6.900000     3.900000\n",
              "75%      46.940000   107.540000  ...     6.900000     5.900000\n",
              "max     313.590000   351.510000  ...     9.200000    14.800000\n",
              "\n",
              "[8 rows x 14 columns]"
            ]
          },
          "metadata": {},
          "execution_count": 42
        }
      ]
    },
    {
      "cell_type": "code",
      "metadata": {
        "colab": {
          "base_uri": "https://localhost:8080/",
          "height": 238
        },
        "id": "KZzIIIHgnCje",
        "outputId": "c260226c-15bb-478e-9c14-b8eebb76037a"
      },
      "source": [
        "df.head()"
      ],
      "execution_count": 43,
      "outputs": [
        {
          "output_type": "execute_result",
          "data": {
            "text/html": [
              "<div>\n",
              "<style scoped>\n",
              "    .dataframe tbody tr th:only-of-type {\n",
              "        vertical-align: middle;\n",
              "    }\n",
              "\n",
              "    .dataframe tbody tr th {\n",
              "        vertical-align: top;\n",
              "    }\n",
              "\n",
              "    .dataframe thead th {\n",
              "        text-align: right;\n",
              "    }\n",
              "</style>\n",
              "<table border=\"1\" class=\"dataframe\">\n",
              "  <thead>\n",
              "    <tr style=\"text-align: right;\">\n",
              "      <th></th>\n",
              "      <th>PM2.5</th>\n",
              "      <th>PM10</th>\n",
              "      <th>NO2</th>\n",
              "      <th>NOx</th>\n",
              "      <th>CO</th>\n",
              "      <th>SO2</th>\n",
              "      <th>O3</th>\n",
              "      <th>AQI</th>\n",
              "      <th>temp</th>\n",
              "      <th>max_temp</th>\n",
              "      <th>min_temp</th>\n",
              "      <th>humid</th>\n",
              "      <th>visible</th>\n",
              "      <th>wind</th>\n",
              "    </tr>\n",
              "    <tr>\n",
              "      <th>Date</th>\n",
              "      <th></th>\n",
              "      <th></th>\n",
              "      <th></th>\n",
              "      <th></th>\n",
              "      <th></th>\n",
              "      <th></th>\n",
              "      <th></th>\n",
              "      <th></th>\n",
              "      <th></th>\n",
              "      <th></th>\n",
              "      <th></th>\n",
              "      <th></th>\n",
              "      <th></th>\n",
              "      <th></th>\n",
              "    </tr>\n",
              "  </thead>\n",
              "  <tbody>\n",
              "    <tr>\n",
              "      <th>2016-01-01</th>\n",
              "      <td>56.40</td>\n",
              "      <td>95.08</td>\n",
              "      <td>51.73</td>\n",
              "      <td>34.31</td>\n",
              "      <td>0.69</td>\n",
              "      <td>7.44</td>\n",
              "      <td>55.96</td>\n",
              "      <td>101.0</td>\n",
              "      <td>20.1</td>\n",
              "      <td>28.4</td>\n",
              "      <td>15.7</td>\n",
              "      <td>54.0</td>\n",
              "      <td>6.0</td>\n",
              "      <td>3.0</td>\n",
              "    </tr>\n",
              "    <tr>\n",
              "      <th>2016-01-02</th>\n",
              "      <td>53.69</td>\n",
              "      <td>93.92</td>\n",
              "      <td>73.09</td>\n",
              "      <td>54.77</td>\n",
              "      <td>0.76</td>\n",
              "      <td>8.67</td>\n",
              "      <td>34.06</td>\n",
              "      <td>92.0</td>\n",
              "      <td>20.8</td>\n",
              "      <td>28.3</td>\n",
              "      <td>12.9</td>\n",
              "      <td>45.0</td>\n",
              "      <td>6.3</td>\n",
              "      <td>1.1</td>\n",
              "    </tr>\n",
              "    <tr>\n",
              "      <th>2016-01-03</th>\n",
              "      <td>62.35</td>\n",
              "      <td>99.34</td>\n",
              "      <td>77.77</td>\n",
              "      <td>55.60</td>\n",
              "      <td>0.96</td>\n",
              "      <td>9.10</td>\n",
              "      <td>47.62</td>\n",
              "      <td>108.0</td>\n",
              "      <td>21.4</td>\n",
              "      <td>29.0</td>\n",
              "      <td>13.7</td>\n",
              "      <td>45.0</td>\n",
              "      <td>6.3</td>\n",
              "      <td>0.4</td>\n",
              "    </tr>\n",
              "    <tr>\n",
              "      <th>2016-01-04</th>\n",
              "      <td>64.96</td>\n",
              "      <td>104.62</td>\n",
              "      <td>77.07</td>\n",
              "      <td>50.81</td>\n",
              "      <td>0.89</td>\n",
              "      <td>8.87</td>\n",
              "      <td>50.62</td>\n",
              "      <td>109.0</td>\n",
              "      <td>21.5</td>\n",
              "      <td>29.0</td>\n",
              "      <td>15.2</td>\n",
              "      <td>47.0</td>\n",
              "      <td>6.9</td>\n",
              "      <td>2.2</td>\n",
              "    </tr>\n",
              "    <tr>\n",
              "      <th>2016-01-05</th>\n",
              "      <td>70.15</td>\n",
              "      <td>105.12</td>\n",
              "      <td>79.43</td>\n",
              "      <td>56.05</td>\n",
              "      <td>0.85</td>\n",
              "      <td>9.41</td>\n",
              "      <td>36.94</td>\n",
              "      <td>114.0</td>\n",
              "      <td>20.9</td>\n",
              "      <td>28.4</td>\n",
              "      <td>14.7</td>\n",
              "      <td>51.0</td>\n",
              "      <td>6.3</td>\n",
              "      <td>1.1</td>\n",
              "    </tr>\n",
              "  </tbody>\n",
              "</table>\n",
              "</div>"
            ],
            "text/plain": [
              "            PM2.5    PM10    NO2    NOx  ...  min_temp  humid  visible  wind\n",
              "Date                                     ...                                \n",
              "2016-01-01  56.40   95.08  51.73  34.31  ...      15.7   54.0      6.0   3.0\n",
              "2016-01-02  53.69   93.92  73.09  54.77  ...      12.9   45.0      6.3   1.1\n",
              "2016-01-03  62.35   99.34  77.77  55.60  ...      13.7   45.0      6.3   0.4\n",
              "2016-01-04  64.96  104.62  77.07  50.81  ...      15.2   47.0      6.9   2.2\n",
              "2016-01-05  70.15  105.12  79.43  56.05  ...      14.7   51.0      6.3   1.1\n",
              "\n",
              "[5 rows x 14 columns]"
            ]
          },
          "metadata": {},
          "execution_count": 43
        }
      ]
    },
    {
      "cell_type": "markdown",
      "metadata": {
        "id": "Iet5S9fF3p4U"
      },
      "source": [
        "### Delete AQI col from independent features"
      ]
    },
    {
      "cell_type": "code",
      "metadata": {
        "colab": {
          "base_uri": "https://localhost:8080/",
          "height": 238
        },
        "id": "2l0aITKY3uVG",
        "outputId": "1a55d0ae-5520-4641-e074-ce0ed3a015b0"
      },
      "source": [
        "df = df.drop(columns=['AQI'])\n",
        "df.head()"
      ],
      "execution_count": 44,
      "outputs": [
        {
          "output_type": "execute_result",
          "data": {
            "text/html": [
              "<div>\n",
              "<style scoped>\n",
              "    .dataframe tbody tr th:only-of-type {\n",
              "        vertical-align: middle;\n",
              "    }\n",
              "\n",
              "    .dataframe tbody tr th {\n",
              "        vertical-align: top;\n",
              "    }\n",
              "\n",
              "    .dataframe thead th {\n",
              "        text-align: right;\n",
              "    }\n",
              "</style>\n",
              "<table border=\"1\" class=\"dataframe\">\n",
              "  <thead>\n",
              "    <tr style=\"text-align: right;\">\n",
              "      <th></th>\n",
              "      <th>PM2.5</th>\n",
              "      <th>PM10</th>\n",
              "      <th>NO2</th>\n",
              "      <th>NOx</th>\n",
              "      <th>CO</th>\n",
              "      <th>SO2</th>\n",
              "      <th>O3</th>\n",
              "      <th>temp</th>\n",
              "      <th>max_temp</th>\n",
              "      <th>min_temp</th>\n",
              "      <th>humid</th>\n",
              "      <th>visible</th>\n",
              "      <th>wind</th>\n",
              "    </tr>\n",
              "    <tr>\n",
              "      <th>Date</th>\n",
              "      <th></th>\n",
              "      <th></th>\n",
              "      <th></th>\n",
              "      <th></th>\n",
              "      <th></th>\n",
              "      <th></th>\n",
              "      <th></th>\n",
              "      <th></th>\n",
              "      <th></th>\n",
              "      <th></th>\n",
              "      <th></th>\n",
              "      <th></th>\n",
              "      <th></th>\n",
              "    </tr>\n",
              "  </thead>\n",
              "  <tbody>\n",
              "    <tr>\n",
              "      <th>2016-01-01</th>\n",
              "      <td>56.40</td>\n",
              "      <td>95.08</td>\n",
              "      <td>51.73</td>\n",
              "      <td>34.31</td>\n",
              "      <td>0.69</td>\n",
              "      <td>7.44</td>\n",
              "      <td>55.96</td>\n",
              "      <td>20.1</td>\n",
              "      <td>28.4</td>\n",
              "      <td>15.7</td>\n",
              "      <td>54.0</td>\n",
              "      <td>6.0</td>\n",
              "      <td>3.0</td>\n",
              "    </tr>\n",
              "    <tr>\n",
              "      <th>2016-01-02</th>\n",
              "      <td>53.69</td>\n",
              "      <td>93.92</td>\n",
              "      <td>73.09</td>\n",
              "      <td>54.77</td>\n",
              "      <td>0.76</td>\n",
              "      <td>8.67</td>\n",
              "      <td>34.06</td>\n",
              "      <td>20.8</td>\n",
              "      <td>28.3</td>\n",
              "      <td>12.9</td>\n",
              "      <td>45.0</td>\n",
              "      <td>6.3</td>\n",
              "      <td>1.1</td>\n",
              "    </tr>\n",
              "    <tr>\n",
              "      <th>2016-01-03</th>\n",
              "      <td>62.35</td>\n",
              "      <td>99.34</td>\n",
              "      <td>77.77</td>\n",
              "      <td>55.60</td>\n",
              "      <td>0.96</td>\n",
              "      <td>9.10</td>\n",
              "      <td>47.62</td>\n",
              "      <td>21.4</td>\n",
              "      <td>29.0</td>\n",
              "      <td>13.7</td>\n",
              "      <td>45.0</td>\n",
              "      <td>6.3</td>\n",
              "      <td>0.4</td>\n",
              "    </tr>\n",
              "    <tr>\n",
              "      <th>2016-01-04</th>\n",
              "      <td>64.96</td>\n",
              "      <td>104.62</td>\n",
              "      <td>77.07</td>\n",
              "      <td>50.81</td>\n",
              "      <td>0.89</td>\n",
              "      <td>8.87</td>\n",
              "      <td>50.62</td>\n",
              "      <td>21.5</td>\n",
              "      <td>29.0</td>\n",
              "      <td>15.2</td>\n",
              "      <td>47.0</td>\n",
              "      <td>6.9</td>\n",
              "      <td>2.2</td>\n",
              "    </tr>\n",
              "    <tr>\n",
              "      <th>2016-01-05</th>\n",
              "      <td>70.15</td>\n",
              "      <td>105.12</td>\n",
              "      <td>79.43</td>\n",
              "      <td>56.05</td>\n",
              "      <td>0.85</td>\n",
              "      <td>9.41</td>\n",
              "      <td>36.94</td>\n",
              "      <td>20.9</td>\n",
              "      <td>28.4</td>\n",
              "      <td>14.7</td>\n",
              "      <td>51.0</td>\n",
              "      <td>6.3</td>\n",
              "      <td>1.1</td>\n",
              "    </tr>\n",
              "  </tbody>\n",
              "</table>\n",
              "</div>"
            ],
            "text/plain": [
              "            PM2.5    PM10    NO2    NOx  ...  min_temp  humid  visible  wind\n",
              "Date                                     ...                                \n",
              "2016-01-01  56.40   95.08  51.73  34.31  ...      15.7   54.0      6.0   3.0\n",
              "2016-01-02  53.69   93.92  73.09  54.77  ...      12.9   45.0      6.3   1.1\n",
              "2016-01-03  62.35   99.34  77.77  55.60  ...      13.7   45.0      6.3   0.4\n",
              "2016-01-04  64.96  104.62  77.07  50.81  ...      15.2   47.0      6.9   2.2\n",
              "2016-01-05  70.15  105.12  79.43  56.05  ...      14.7   51.0      6.3   1.1\n",
              "\n",
              "[5 rows x 13 columns]"
            ]
          },
          "metadata": {},
          "execution_count": 44
        }
      ]
    },
    {
      "cell_type": "code",
      "metadata": {
        "id": "b49axrwFCRm8"
      },
      "source": [
        "# df.to_csv('train_x.csv')\n",
        "# target.to_csv('train_y.csv')"
      ],
      "execution_count": 45,
      "outputs": []
    },
    {
      "cell_type": "markdown",
      "metadata": {
        "id": "5uZiincDqa6h"
      },
      "source": [
        "### Standard Scaler"
      ]
    },
    {
      "cell_type": "code",
      "metadata": {
        "colab": {
          "base_uri": "https://localhost:8080/"
        },
        "id": "wx_cWrrbPbJe",
        "outputId": "75b9510d-14a4-486d-8aa8-1a2f874cd8f1"
      },
      "source": [
        "df.shape,target.values.reshape(-1,1).shape"
      ],
      "execution_count": 46,
      "outputs": [
        {
          "output_type": "execute_result",
          "data": {
            "text/plain": [
              "((1441, 13), (1441, 1))"
            ]
          },
          "metadata": {},
          "execution_count": 46
        }
      ]
    },
    {
      "cell_type": "code",
      "metadata": {
        "id": "Biv6JEJOTd-8"
      },
      "source": [
        "from sklearn.preprocessing import StandardScaler\n",
        "\n",
        "sc = StandardScaler()\n",
        "sc_target = StandardScaler()\n",
        "\n",
        "X_scaler = sc.fit_transform(df)\n",
        "Y_scaler = sc_target.fit_transform(target.values.reshape(-1,1))\n",
        "# StandardScaler take 2D array"
      ],
      "execution_count": 47,
      "outputs": []
    },
    {
      "cell_type": "code",
      "metadata": {
        "colab": {
          "base_uri": "https://localhost:8080/"
        },
        "id": "xfp5aWEJpQMa",
        "outputId": "57274504-67b5-45eb-d1fa-3b1aca0c2bdf"
      },
      "source": [
        "type(X_scaler), type(Y_scaler)"
      ],
      "execution_count": 48,
      "outputs": [
        {
          "output_type": "execute_result",
          "data": {
            "text/plain": [
              "(numpy.ndarray, numpy.ndarray)"
            ]
          },
          "metadata": {},
          "execution_count": 48
        }
      ]
    },
    {
      "cell_type": "code",
      "metadata": {
        "colab": {
          "base_uri": "https://localhost:8080/"
        },
        "id": "9GGIp_QpoD4Y",
        "outputId": "29ca3bae-3450-4abb-a57c-baee39a6f1f4"
      },
      "source": [
        "X_scaler[0]"
      ],
      "execution_count": 49,
      "outputs": [
        {
          "output_type": "execute_result",
          "data": {
            "text/plain": [
              "array([ 0.70123094,  0.22341448,  1.62286025,  0.84592452, -0.18026357,\n",
              "        1.00825383,  1.19442119, -1.81657462, -0.67018747, -1.79413706,\n",
              "       -0.63751945, -0.95288902, -0.58144294])"
            ]
          },
          "metadata": {},
          "execution_count": 49
        }
      ]
    },
    {
      "cell_type": "code",
      "metadata": {
        "colab": {
          "base_uri": "https://localhost:8080/"
        },
        "id": "YS9TuCj5n8gN",
        "outputId": "e087b36b-58cd-4c1d-c243-03e77557ed4e"
      },
      "source": [
        "Y_scaler"
      ],
      "execution_count": 50,
      "outputs": [
        {
          "output_type": "execute_result",
          "data": {
            "text/plain": [
              "array([[ 0.22116371],\n",
              "       [-0.01438463],\n",
              "       [ 0.40436797],\n",
              "       ...,\n",
              "       [-0.32844908],\n",
              "       [ 0.01178741],\n",
              "       [ 0.11647556]])"
            ]
          },
          "metadata": {},
          "execution_count": 50
        }
      ]
    },
    {
      "cell_type": "code",
      "metadata": {
        "colab": {
          "base_uri": "https://localhost:8080/"
        },
        "id": "mK8nFJtKBeQ-",
        "outputId": "f6b9d7fb-2703-4bba-fcc5-7712f787087b"
      },
      "source": [
        "X_scaler.shape, Y_scaler.shape"
      ],
      "execution_count": 51,
      "outputs": [
        {
          "output_type": "execute_result",
          "data": {
            "text/plain": [
              "((1441, 13), (1441, 1))"
            ]
          },
          "metadata": {},
          "execution_count": 51
        }
      ]
    },
    {
      "cell_type": "code",
      "metadata": {
        "id": "J-WTlRo_TBwK"
      },
      "source": [
        "import torch\n",
        "import torch.nn as nn\n",
        "from torch.autograd import Variable "
      ],
      "execution_count": 52,
      "outputs": []
    },
    {
      "cell_type": "code",
      "metadata": {
        "id": "I9PjSfqiTBsq"
      },
      "source": [
        "X_train_tensors = Variable(torch.Tensor(X_scaler))\n",
        "y_train_tensors = Variable(torch.Tensor(Y_scaler))"
      ],
      "execution_count": 53,
      "outputs": []
    },
    {
      "cell_type": "code",
      "metadata": {
        "colab": {
          "base_uri": "https://localhost:8080/"
        },
        "id": "LZUsCUpoTT-_",
        "outputId": "11324c98-7c17-416c-f5f4-6f00f01fe2ce"
      },
      "source": [
        "X_train_tensors.size(),y_train_tensors.size()"
      ],
      "execution_count": 54,
      "outputs": [
        {
          "output_type": "execute_result",
          "data": {
            "text/plain": [
              "(torch.Size([1441, 13]), torch.Size([1441, 1]))"
            ]
          },
          "metadata": {},
          "execution_count": 54
        }
      ]
    },
    {
      "cell_type": "code",
      "metadata": {
        "id": "sqXxV61aTBqf"
      },
      "source": [
        "#reshaping to rows, timestamps, features\n",
        "\n",
        "X_train_tensors_final = torch.reshape(X_train_tensors,   (X_train_tensors.shape[0], 1, X_train_tensors.shape[1]))"
      ],
      "execution_count": 55,
      "outputs": []
    },
    {
      "cell_type": "code",
      "metadata": {
        "colab": {
          "base_uri": "https://localhost:8080/"
        },
        "id": "vi04ev1wTBoW",
        "outputId": "a6c39606-5691-4a73-89b3-55e496b1300b"
      },
      "source": [
        "X_train_tensors_final.shape"
      ],
      "execution_count": 56,
      "outputs": [
        {
          "output_type": "execute_result",
          "data": {
            "text/plain": [
              "torch.Size([1441, 1, 13])"
            ]
          },
          "metadata": {},
          "execution_count": 56
        }
      ]
    },
    {
      "cell_type": "code",
      "metadata": {
        "colab": {
          "base_uri": "https://localhost:8080/"
        },
        "id": "WsN9GmC3TBl3",
        "outputId": "591a2d32-bd23-443b-f67f-43bfcbbd9798"
      },
      "source": [
        "y_train_tensors.size()"
      ],
      "execution_count": 57,
      "outputs": [
        {
          "output_type": "execute_result",
          "data": {
            "text/plain": [
              "torch.Size([1441, 1])"
            ]
          },
          "metadata": {},
          "execution_count": 57
        }
      ]
    },
    {
      "cell_type": "code",
      "metadata": {
        "id": "8SLYo2jwTBjr"
      },
      "source": [
        "class LSTM1(nn.Module):\n",
        "    def __init__(self, num_classes, input_size, hidden_size, num_layers, seq_length):\n",
        "        super(LSTM1, self).__init__()\n",
        "        self.num_classes = num_classes #number of classes\n",
        "        self.num_layers = num_layers #number of layers\n",
        "        self.input_size = input_size #input size\n",
        "        self.hidden_size = hidden_size #hidden state\n",
        "        self.seq_length = seq_length #sequence length\n",
        "\n",
        "        self.lstm = nn.LSTM(input_size=input_size, hidden_size=hidden_size,\n",
        "                          num_layers=num_layers, batch_first=True) #lstm\n",
        "        self.fc_1 =  nn.Linear(hidden_size, 128) #fully connected 1\n",
        "        self.fc = nn.Linear(128, num_classes) #fully connected last layer\n",
        "\n",
        "        self.relu = nn.ReLU()\n",
        "    \n",
        "    def forward(self,x):\n",
        "        h_0 = Variable(torch.randn(self.num_layers, x.size(0), self.hidden_size)) #hidden state\n",
        "        c_0 = Variable(torch.randn(self.num_layers, x.size(0), self.hidden_size)) #internal state\n",
        "        # Propagate input through LSTM\n",
        "        output, (hn, cn) = self.lstm(x, (h_0, c_0)) #lstm with input, hidden, and internal state\n",
        "        hn = hn.view(-1, self.hidden_size) #reshaping the data for Dense layer next\n",
        "        out = self.relu(hn)\n",
        "        out = self.fc_1(out) #first Dense\n",
        "        out = self.relu(out) #relu\n",
        "        out = self.fc(out) #Final Output\n",
        "        return out"
      ],
      "execution_count": 107,
      "outputs": []
    },
    {
      "cell_type": "code",
      "metadata": {
        "id": "IjyT2MhJTBhE"
      },
      "source": [
        "num_epochs = 1000 \n",
        "learning_rate = 0.001\n",
        "\n",
        "input_size = 13 #number of features\n",
        "hidden_size = 2 #number of features in hidden state\n",
        "num_layers = 1 #number of stacked lstm layers\n",
        "\n",
        "num_classes = 1 #number of output classes "
      ],
      "execution_count": 108,
      "outputs": []
    },
    {
      "cell_type": "code",
      "metadata": {
        "id": "DGL53SzDTBeq"
      },
      "source": [
        "lstm1 = LSTM1(num_classes, input_size, hidden_size, num_layers, X_train_tensors_final.shape[1]) #our lstm class "
      ],
      "execution_count": 109,
      "outputs": []
    },
    {
      "cell_type": "code",
      "metadata": {
        "id": "xz5BBJRiTBch"
      },
      "source": [
        "criterion = torch.nn.MSELoss()    # mean-squared error for regression\n",
        "optimizer = torch.optim.Adam(lstm1.parameters(), lr=learning_rate)"
      ],
      "execution_count": 110,
      "outputs": []
    },
    {
      "cell_type": "code",
      "metadata": {
        "colab": {
          "base_uri": "https://localhost:8080/"
        },
        "id": "uuarq97YTBaN",
        "outputId": "df3e41d9-078f-42ff-ff65-91e76da85d0f"
      },
      "source": [
        "lstm1"
      ],
      "execution_count": 111,
      "outputs": [
        {
          "output_type": "execute_result",
          "data": {
            "text/plain": [
              "LSTM1(\n",
              "  (lstm): LSTM(13, 2, batch_first=True)\n",
              "  (fc_1): Linear(in_features=2, out_features=128, bias=True)\n",
              "  (fc): Linear(in_features=128, out_features=1, bias=True)\n",
              "  (relu): ReLU()\n",
              ")"
            ]
          },
          "metadata": {},
          "execution_count": 111
        }
      ]
    },
    {
      "cell_type": "code",
      "metadata": {
        "colab": {
          "base_uri": "https://localhost:8080/"
        },
        "id": "qmf54Zz9TBX_",
        "outputId": "8a9f327d-7219-4f56-972d-9943205145da"
      },
      "source": [
        "for epoch in range(num_epochs):\n",
        "  outputs = lstm1.forward(X_train_tensors_final) #forward pass\n",
        "  optimizer.zero_grad() #caluclate the gradient, manually setting to 0\n",
        " \n",
        "  # obtain the loss function\n",
        "  loss = criterion(outputs, y_train_tensors)\n",
        " \n",
        "  loss.backward() #calculates the loss of the loss function\n",
        " \n",
        "  optimizer.step() #improve from loss, i.e backprop\n",
        "  if epoch % 100 == 0:\n",
        "    print(\"Epoch: %d, loss: %1.5f\" % (epoch, loss.item())) "
      ],
      "execution_count": 112,
      "outputs": [
        {
          "output_type": "stream",
          "name": "stdout",
          "text": [
            "Epoch: 0, loss: 1.02357\n",
            "Epoch: 100, loss: 0.79177\n",
            "Epoch: 200, loss: 0.63843\n",
            "Epoch: 300, loss: 0.59794\n",
            "Epoch: 400, loss: 0.53782\n",
            "Epoch: 500, loss: 0.46751\n",
            "Epoch: 600, loss: 0.43955\n",
            "Epoch: 700, loss: 0.40375\n",
            "Epoch: 800, loss: 0.37441\n",
            "Epoch: 900, loss: 0.35156\n"
          ]
        }
      ]
    },
    {
      "cell_type": "code",
      "metadata": {
        "colab": {
          "base_uri": "https://localhost:8080/"
        },
        "id": "pM3DLuJ5TBVn",
        "outputId": "0ed2ee1e-1f4a-4434-c490-c8c849371f67"
      },
      "source": [
        "print(len(outputs))"
      ],
      "execution_count": 113,
      "outputs": [
        {
          "output_type": "stream",
          "name": "stdout",
          "text": [
            "1441\n"
          ]
        }
      ]
    },
    {
      "cell_type": "code",
      "metadata": {
        "colab": {
          "base_uri": "https://localhost:8080/"
        },
        "id": "VLokOtbRTBTJ",
        "outputId": "2dc846b1-4f71-46ee-8fc2-0e9d25d5ce41"
      },
      "source": [
        "outputs # predicted by lstm"
      ],
      "execution_count": 114,
      "outputs": [
        {
          "output_type": "execute_result",
          "data": {
            "text/plain": [
              "tensor([[ 0.4744],\n",
              "        [ 0.2706],\n",
              "        [ 0.6536],\n",
              "        ...,\n",
              "        [-0.1917],\n",
              "        [ 0.1156],\n",
              "        [-0.0675]], grad_fn=<AddmmBackward0>)"
            ]
          },
          "metadata": {},
          "execution_count": 114
        }
      ]
    },
    {
      "cell_type": "markdown",
      "metadata": {
        "id": "VpXCWWd4iySw"
      },
      "source": [
        "# HIde"
      ]
    },
    {
      "cell_type": "code",
      "metadata": {
        "id": "iRwl2I4d2KRd"
      },
      "source": [
        "# def custom_dataset(dataset, target, start, end, previous, future):\n",
        "#   X = []\n",
        "#   y = []\n",
        "#   start = start + previous\n",
        "#   end = end - future + 1\n",
        "#   #  if end is None:\n",
        "#   for i in range(start, end):\n",
        "#       indices_x = range(i-previous, i)\n",
        "#       X.append(dataset[indices_x])\n",
        "#       # indices_y = range(i, i+future)\n",
        "#       # y.append(target[indices_y])\n",
        "#   return np.array(X)\n",
        "\n",
        "#   # return np.array(X), np.array(y)"
      ],
      "execution_count": 67,
      "outputs": []
    },
    {
      "cell_type": "code",
      "metadata": {
        "id": "NKugr9CgGZYJ"
      },
      "source": [
        "# X_scaler.shape[0]-1"
      ],
      "execution_count": 68,
      "outputs": []
    },
    {
      "cell_type": "code",
      "metadata": {
        "id": "Fh8joPIgQp25"
      },
      "source": [
        "# df.columns"
      ],
      "execution_count": 69,
      "outputs": []
    },
    {
      "cell_type": "code",
      "metadata": {
        "id": "JxSllW492KOD"
      },
      "source": [
        "# prev = 5\n",
        "# future = 1\n",
        "# start = 0\n",
        "# end = X_scaler.shape[0]-1\n",
        "\n",
        "# # X_train, Y_train = custom_dataset(X_scaler, Y_scaler, start, end, prev, future)\n",
        "# X_train = custom_dataset(X_scaler, Y_scaler, start, end, prev, future)\n",
        "\n",
        "# X_train"
      ],
      "execution_count": 70,
      "outputs": []
    },
    {
      "cell_type": "code",
      "metadata": {
        "id": "5vkG7SnvQCuz"
      },
      "source": [
        "# Y_train"
      ],
      "execution_count": 71,
      "outputs": []
    },
    {
      "cell_type": "code",
      "metadata": {
        "id": "cozBUfQo2KLt"
      },
      "source": [
        "# X_train.shape, Y_train.shape"
      ],
      "execution_count": 72,
      "outputs": []
    },
    {
      "cell_type": "code",
      "metadata": {
        "id": "XqOLJrnMqhsT"
      },
      "source": [
        "# type(X_train)"
      ],
      "execution_count": 73,
      "outputs": []
    },
    {
      "cell_type": "code",
      "metadata": {
        "id": "ZLOfBIkk6FMY"
      },
      "source": [
        "# X_scaler[:15]"
      ],
      "execution_count": 74,
      "outputs": []
    },
    {
      "cell_type": "markdown",
      "metadata": {
        "id": "tylRUhORIceu"
      },
      "source": [
        "##### Input to LSTM is tensors so convert numpy array to tensors"
      ]
    },
    {
      "cell_type": "code",
      "metadata": {
        "id": "6Bx5cVW65iKz"
      },
      "source": [
        "# import torch\n",
        "# from torch.autograd import Variable"
      ],
      "execution_count": 75,
      "outputs": []
    },
    {
      "cell_type": "code",
      "metadata": {
        "id": "Ej5tqKvR5o6u"
      },
      "source": [
        "# X_train_tensors = Variable(torch.Tensor(X_train))\n",
        "# # X_test_tensors = Variable(torch.Tensor(X_test))\n",
        "\n",
        "# Y_train_tensors = Variable(torch.Tensor(Y_train))\n",
        "# # y_test_tensors = Variable(torch.Tensor(y_test))"
      ],
      "execution_count": 76,
      "outputs": []
    },
    {
      "cell_type": "code",
      "metadata": {
        "id": "2MFPOR0OI3qA"
      },
      "source": [
        "# X_train_tensors[:2], Y_train_tensors[:2]"
      ],
      "execution_count": 77,
      "outputs": []
    },
    {
      "cell_type": "code",
      "metadata": {
        "id": "woaWh_9wI_V0"
      },
      "source": [
        "# X_train_tensors.size(), Y_train_tensors.size(), X_train_tensors.size(0)\n",
        "# (batch_size, sequence_length, number_features)"
      ],
      "execution_count": 78,
      "outputs": []
    },
    {
      "cell_type": "code",
      "metadata": {
        "id": "0tqIJX5lLlgL"
      },
      "source": [
        "# # cnvrg\n",
        "# import torch.nn as nn\n",
        "# class LSTM1(nn.Module):\n",
        "#     def __init__(self, output_size, input_size, hidden_size, num_layers, seq_length):\n",
        "#         super(LSTM1, self).__init__()\n",
        "#         self.output_size = output_size \n",
        "#         self.num_layers = num_layers #number of layers\n",
        "#         self.input_size = input_size #input size\n",
        "#         self.hidden_size = hidden_size #hidden state\n",
        "#         self.seq_length = seq_length #sequence length\n",
        "\n",
        "#         self.lstm = nn.LSTM(input_size=input_size, hidden_size=hidden_size,\n",
        "#                           num_layers=num_layers, batch_first=True) #lstm\n",
        "#         self.fc_1 =  nn.Linear(hidden_size, 128) #fully connected 1\n",
        "#         self.fc = nn.Linear(128, output_size) #fully connected last layer\n",
        "\n",
        "#         self.relu = nn.ReLU()\n",
        "    \n",
        "#     def forward(self,x):\n",
        "#         h_0 = Variable(torch.zeros(self.num_layers, x.size(0), self.hidden_size)) #hidden state\n",
        "#         c_0 = Variable(torch.zeros(self.num_layers, x.size(0), self.hidden_size)) #internal state\n",
        "#         # Propagate input through LSTM\n",
        "#         output, (hn, cn) = self.lstm(x, (h_0, c_0)) #lstm with input, hidden, and internal state\n",
        "#         hn = hn.view(-1, self.hidden_size) #reshaping the data for Dense layer next\n",
        "#         out = self.relu(hn)\n",
        "#         out = self.fc_1(out) #first Dense\n",
        "#         out = self.relu(out) #relu\n",
        "#         out = self.fc(out) #Final Output\n",
        "#         return out\n",
        " "
      ],
      "execution_count": 79,
      "outputs": []
    },
    {
      "cell_type": "markdown",
      "metadata": {
        "id": "uuPyeJLXZ0_v"
      },
      "source": [
        "# Testing Dataset"
      ]
    },
    {
      "cell_type": "code",
      "metadata": {
        "id": "MG4XoARkLldH",
        "colab": {
          "base_uri": "https://localhost:8080/",
          "height": 206
        },
        "outputId": "d6a89563-9fea-4be0-dcd5-2a7bc572efa8"
      },
      "source": [
        "pollutants = pd.read_csv('/content/drive/MyDrive/Datasets/city_day.csv')\n",
        "pollutants.head()"
      ],
      "execution_count": 66,
      "outputs": [
        {
          "output_type": "execute_result",
          "data": {
            "text/html": [
              "<div>\n",
              "<style scoped>\n",
              "    .dataframe tbody tr th:only-of-type {\n",
              "        vertical-align: middle;\n",
              "    }\n",
              "\n",
              "    .dataframe tbody tr th {\n",
              "        vertical-align: top;\n",
              "    }\n",
              "\n",
              "    .dataframe thead th {\n",
              "        text-align: right;\n",
              "    }\n",
              "</style>\n",
              "<table border=\"1\" class=\"dataframe\">\n",
              "  <thead>\n",
              "    <tr style=\"text-align: right;\">\n",
              "      <th></th>\n",
              "      <th>City</th>\n",
              "      <th>Date</th>\n",
              "      <th>PM2.5</th>\n",
              "      <th>PM10</th>\n",
              "      <th>NO</th>\n",
              "      <th>NO2</th>\n",
              "      <th>NOx</th>\n",
              "      <th>NH3</th>\n",
              "      <th>CO</th>\n",
              "      <th>SO2</th>\n",
              "      <th>O3</th>\n",
              "      <th>Benzene</th>\n",
              "      <th>Toluene</th>\n",
              "      <th>Xylene</th>\n",
              "      <th>AQI</th>\n",
              "      <th>AQI_Bucket</th>\n",
              "    </tr>\n",
              "  </thead>\n",
              "  <tbody>\n",
              "    <tr>\n",
              "      <th>0</th>\n",
              "      <td>Ahmedabad</td>\n",
              "      <td>2015-01-01</td>\n",
              "      <td>NaN</td>\n",
              "      <td>NaN</td>\n",
              "      <td>0.92</td>\n",
              "      <td>18.22</td>\n",
              "      <td>17.15</td>\n",
              "      <td>NaN</td>\n",
              "      <td>0.92</td>\n",
              "      <td>27.64</td>\n",
              "      <td>133.36</td>\n",
              "      <td>0.00</td>\n",
              "      <td>0.02</td>\n",
              "      <td>0.00</td>\n",
              "      <td>NaN</td>\n",
              "      <td>NaN</td>\n",
              "    </tr>\n",
              "    <tr>\n",
              "      <th>1</th>\n",
              "      <td>Ahmedabad</td>\n",
              "      <td>2015-01-02</td>\n",
              "      <td>NaN</td>\n",
              "      <td>NaN</td>\n",
              "      <td>0.97</td>\n",
              "      <td>15.69</td>\n",
              "      <td>16.46</td>\n",
              "      <td>NaN</td>\n",
              "      <td>0.97</td>\n",
              "      <td>24.55</td>\n",
              "      <td>34.06</td>\n",
              "      <td>3.68</td>\n",
              "      <td>5.50</td>\n",
              "      <td>3.77</td>\n",
              "      <td>NaN</td>\n",
              "      <td>NaN</td>\n",
              "    </tr>\n",
              "    <tr>\n",
              "      <th>2</th>\n",
              "      <td>Ahmedabad</td>\n",
              "      <td>2015-01-03</td>\n",
              "      <td>NaN</td>\n",
              "      <td>NaN</td>\n",
              "      <td>17.40</td>\n",
              "      <td>19.30</td>\n",
              "      <td>29.70</td>\n",
              "      <td>NaN</td>\n",
              "      <td>17.40</td>\n",
              "      <td>29.07</td>\n",
              "      <td>30.70</td>\n",
              "      <td>6.80</td>\n",
              "      <td>16.40</td>\n",
              "      <td>2.25</td>\n",
              "      <td>NaN</td>\n",
              "      <td>NaN</td>\n",
              "    </tr>\n",
              "    <tr>\n",
              "      <th>3</th>\n",
              "      <td>Ahmedabad</td>\n",
              "      <td>2015-01-04</td>\n",
              "      <td>NaN</td>\n",
              "      <td>NaN</td>\n",
              "      <td>1.70</td>\n",
              "      <td>18.48</td>\n",
              "      <td>17.97</td>\n",
              "      <td>NaN</td>\n",
              "      <td>1.70</td>\n",
              "      <td>18.59</td>\n",
              "      <td>36.08</td>\n",
              "      <td>4.43</td>\n",
              "      <td>10.14</td>\n",
              "      <td>1.00</td>\n",
              "      <td>NaN</td>\n",
              "      <td>NaN</td>\n",
              "    </tr>\n",
              "    <tr>\n",
              "      <th>4</th>\n",
              "      <td>Ahmedabad</td>\n",
              "      <td>2015-01-05</td>\n",
              "      <td>NaN</td>\n",
              "      <td>NaN</td>\n",
              "      <td>22.10</td>\n",
              "      <td>21.42</td>\n",
              "      <td>37.76</td>\n",
              "      <td>NaN</td>\n",
              "      <td>22.10</td>\n",
              "      <td>39.33</td>\n",
              "      <td>39.31</td>\n",
              "      <td>7.01</td>\n",
              "      <td>18.89</td>\n",
              "      <td>2.78</td>\n",
              "      <td>NaN</td>\n",
              "      <td>NaN</td>\n",
              "    </tr>\n",
              "  </tbody>\n",
              "</table>\n",
              "</div>"
            ],
            "text/plain": [
              "        City        Date  PM2.5  PM10  ...  Toluene  Xylene  AQI  AQI_Bucket\n",
              "0  Ahmedabad  2015-01-01    NaN   NaN  ...     0.02    0.00  NaN         NaN\n",
              "1  Ahmedabad  2015-01-02    NaN   NaN  ...     5.50    3.77  NaN         NaN\n",
              "2  Ahmedabad  2015-01-03    NaN   NaN  ...    16.40    2.25  NaN         NaN\n",
              "3  Ahmedabad  2015-01-04    NaN   NaN  ...    10.14    1.00  NaN         NaN\n",
              "4  Ahmedabad  2015-01-05    NaN   NaN  ...    18.89    2.78  NaN         NaN\n",
              "\n",
              "[5 rows x 16 columns]"
            ]
          },
          "metadata": {},
          "execution_count": 66
        }
      ]
    },
    {
      "cell_type": "code",
      "metadata": {
        "id": "8ToXrHPvLlac",
        "colab": {
          "base_uri": "https://localhost:8080/",
          "height": 423
        },
        "outputId": "63702124-2fb9-4a8e-c4ea-c3a6c94964f6"
      },
      "source": [
        "pollutants = pollutants[(pollutants['Date'] > '2019-12-31') & (pollutants['City'] == 'Bengaluru')]\n",
        "pollutants"
      ],
      "execution_count": 67,
      "outputs": [
        {
          "output_type": "execute_result",
          "data": {
            "text/html": [
              "<div>\n",
              "<style scoped>\n",
              "    .dataframe tbody tr th:only-of-type {\n",
              "        vertical-align: middle;\n",
              "    }\n",
              "\n",
              "    .dataframe tbody tr th {\n",
              "        vertical-align: top;\n",
              "    }\n",
              "\n",
              "    .dataframe thead th {\n",
              "        text-align: right;\n",
              "    }\n",
              "</style>\n",
              "<table border=\"1\" class=\"dataframe\">\n",
              "  <thead>\n",
              "    <tr style=\"text-align: right;\">\n",
              "      <th></th>\n",
              "      <th>City</th>\n",
              "      <th>Date</th>\n",
              "      <th>PM2.5</th>\n",
              "      <th>PM10</th>\n",
              "      <th>NO</th>\n",
              "      <th>NO2</th>\n",
              "      <th>NOx</th>\n",
              "      <th>NH3</th>\n",
              "      <th>CO</th>\n",
              "      <th>SO2</th>\n",
              "      <th>O3</th>\n",
              "      <th>Benzene</th>\n",
              "      <th>Toluene</th>\n",
              "      <th>Xylene</th>\n",
              "      <th>AQI</th>\n",
              "      <th>AQI_Bucket</th>\n",
              "    </tr>\n",
              "  </thead>\n",
              "  <tbody>\n",
              "    <tr>\n",
              "      <th>6120</th>\n",
              "      <td>Bengaluru</td>\n",
              "      <td>2020-01-01</td>\n",
              "      <td>30.71</td>\n",
              "      <td>70.80</td>\n",
              "      <td>9.03</td>\n",
              "      <td>27.31</td>\n",
              "      <td>26.74</td>\n",
              "      <td>13.01</td>\n",
              "      <td>1.07</td>\n",
              "      <td>8.56</td>\n",
              "      <td>37.39</td>\n",
              "      <td>1.05</td>\n",
              "      <td>36.19</td>\n",
              "      <td>NaN</td>\n",
              "      <td>82.0</td>\n",
              "      <td>Satisfactory</td>\n",
              "    </tr>\n",
              "    <tr>\n",
              "      <th>6121</th>\n",
              "      <td>Bengaluru</td>\n",
              "      <td>2020-01-02</td>\n",
              "      <td>25.78</td>\n",
              "      <td>62.73</td>\n",
              "      <td>8.81</td>\n",
              "      <td>28.05</td>\n",
              "      <td>30.18</td>\n",
              "      <td>12.40</td>\n",
              "      <td>1.16</td>\n",
              "      <td>7.52</td>\n",
              "      <td>33.11</td>\n",
              "      <td>0.95</td>\n",
              "      <td>34.36</td>\n",
              "      <td>NaN</td>\n",
              "      <td>81.0</td>\n",
              "      <td>Satisfactory</td>\n",
              "    </tr>\n",
              "    <tr>\n",
              "      <th>6122</th>\n",
              "      <td>Bengaluru</td>\n",
              "      <td>2020-01-03</td>\n",
              "      <td>29.66</td>\n",
              "      <td>69.62</td>\n",
              "      <td>6.62</td>\n",
              "      <td>26.26</td>\n",
              "      <td>26.92</td>\n",
              "      <td>12.87</td>\n",
              "      <td>0.99</td>\n",
              "      <td>6.40</td>\n",
              "      <td>32.98</td>\n",
              "      <td>1.06</td>\n",
              "      <td>29.06</td>\n",
              "      <td>NaN</td>\n",
              "      <td>85.0</td>\n",
              "      <td>Satisfactory</td>\n",
              "    </tr>\n",
              "    <tr>\n",
              "      <th>6123</th>\n",
              "      <td>Bengaluru</td>\n",
              "      <td>2020-01-04</td>\n",
              "      <td>52.62</td>\n",
              "      <td>106.81</td>\n",
              "      <td>15.46</td>\n",
              "      <td>31.56</td>\n",
              "      <td>41.89</td>\n",
              "      <td>14.59</td>\n",
              "      <td>1.39</td>\n",
              "      <td>6.94</td>\n",
              "      <td>37.35</td>\n",
              "      <td>1.50</td>\n",
              "      <td>35.36</td>\n",
              "      <td>NaN</td>\n",
              "      <td>95.0</td>\n",
              "      <td>Satisfactory</td>\n",
              "    </tr>\n",
              "    <tr>\n",
              "      <th>6124</th>\n",
              "      <td>Bengaluru</td>\n",
              "      <td>2020-01-05</td>\n",
              "      <td>52.64</td>\n",
              "      <td>97.94</td>\n",
              "      <td>6.86</td>\n",
              "      <td>29.10</td>\n",
              "      <td>29.52</td>\n",
              "      <td>15.68</td>\n",
              "      <td>1.01</td>\n",
              "      <td>7.01</td>\n",
              "      <td>45.10</td>\n",
              "      <td>1.19</td>\n",
              "      <td>39.99</td>\n",
              "      <td>NaN</td>\n",
              "      <td>118.0</td>\n",
              "      <td>Moderate</td>\n",
              "    </tr>\n",
              "    <tr>\n",
              "      <th>...</th>\n",
              "      <td>...</td>\n",
              "      <td>...</td>\n",
              "      <td>...</td>\n",
              "      <td>...</td>\n",
              "      <td>...</td>\n",
              "      <td>...</td>\n",
              "      <td>...</td>\n",
              "      <td>...</td>\n",
              "      <td>...</td>\n",
              "      <td>...</td>\n",
              "      <td>...</td>\n",
              "      <td>...</td>\n",
              "      <td>...</td>\n",
              "      <td>...</td>\n",
              "      <td>...</td>\n",
              "      <td>...</td>\n",
              "    </tr>\n",
              "    <tr>\n",
              "      <th>6298</th>\n",
              "      <td>Bengaluru</td>\n",
              "      <td>2020-06-27</td>\n",
              "      <td>16.60</td>\n",
              "      <td>29.48</td>\n",
              "      <td>3.06</td>\n",
              "      <td>13.68</td>\n",
              "      <td>13.07</td>\n",
              "      <td>6.88</td>\n",
              "      <td>0.67</td>\n",
              "      <td>7.29</td>\n",
              "      <td>15.69</td>\n",
              "      <td>0.21</td>\n",
              "      <td>1.18</td>\n",
              "      <td>NaN</td>\n",
              "      <td>51.0</td>\n",
              "      <td>Satisfactory</td>\n",
              "    </tr>\n",
              "    <tr>\n",
              "      <th>6299</th>\n",
              "      <td>Bengaluru</td>\n",
              "      <td>2020-06-28</td>\n",
              "      <td>20.44</td>\n",
              "      <td>26.34</td>\n",
              "      <td>2.69</td>\n",
              "      <td>10.33</td>\n",
              "      <td>10.58</td>\n",
              "      <td>6.58</td>\n",
              "      <td>0.66</td>\n",
              "      <td>6.60</td>\n",
              "      <td>17.59</td>\n",
              "      <td>0.12</td>\n",
              "      <td>0.94</td>\n",
              "      <td>NaN</td>\n",
              "      <td>61.0</td>\n",
              "      <td>Satisfactory</td>\n",
              "    </tr>\n",
              "    <tr>\n",
              "      <th>6300</th>\n",
              "      <td>Bengaluru</td>\n",
              "      <td>2020-06-29</td>\n",
              "      <td>28.68</td>\n",
              "      <td>29.27</td>\n",
              "      <td>3.62</td>\n",
              "      <td>12.12</td>\n",
              "      <td>12.94</td>\n",
              "      <td>6.80</td>\n",
              "      <td>0.56</td>\n",
              "      <td>6.33</td>\n",
              "      <td>16.99</td>\n",
              "      <td>0.17</td>\n",
              "      <td>1.17</td>\n",
              "      <td>NaN</td>\n",
              "      <td>65.0</td>\n",
              "      <td>Satisfactory</td>\n",
              "    </tr>\n",
              "    <tr>\n",
              "      <th>6301</th>\n",
              "      <td>Bengaluru</td>\n",
              "      <td>2020-06-30</td>\n",
              "      <td>14.47</td>\n",
              "      <td>24.26</td>\n",
              "      <td>4.61</td>\n",
              "      <td>12.69</td>\n",
              "      <td>15.00</td>\n",
              "      <td>6.82</td>\n",
              "      <td>0.56</td>\n",
              "      <td>6.45</td>\n",
              "      <td>16.08</td>\n",
              "      <td>0.18</td>\n",
              "      <td>0.86</td>\n",
              "      <td>NaN</td>\n",
              "      <td>63.0</td>\n",
              "      <td>Satisfactory</td>\n",
              "    </tr>\n",
              "    <tr>\n",
              "      <th>6302</th>\n",
              "      <td>Bengaluru</td>\n",
              "      <td>2020-07-01</td>\n",
              "      <td>17.50</td>\n",
              "      <td>30.48</td>\n",
              "      <td>3.95</td>\n",
              "      <td>13.25</td>\n",
              "      <td>14.83</td>\n",
              "      <td>7.42</td>\n",
              "      <td>0.54</td>\n",
              "      <td>6.66</td>\n",
              "      <td>15.40</td>\n",
              "      <td>0.27</td>\n",
              "      <td>0.65</td>\n",
              "      <td>NaN</td>\n",
              "      <td>43.0</td>\n",
              "      <td>Good</td>\n",
              "    </tr>\n",
              "  </tbody>\n",
              "</table>\n",
              "<p>183 rows × 16 columns</p>\n",
              "</div>"
            ],
            "text/plain": [
              "           City        Date  PM2.5  ...  Xylene    AQI    AQI_Bucket\n",
              "6120  Bengaluru  2020-01-01  30.71  ...     NaN   82.0  Satisfactory\n",
              "6121  Bengaluru  2020-01-02  25.78  ...     NaN   81.0  Satisfactory\n",
              "6122  Bengaluru  2020-01-03  29.66  ...     NaN   85.0  Satisfactory\n",
              "6123  Bengaluru  2020-01-04  52.62  ...     NaN   95.0  Satisfactory\n",
              "6124  Bengaluru  2020-01-05  52.64  ...     NaN  118.0      Moderate\n",
              "...         ...         ...    ...  ...     ...    ...           ...\n",
              "6298  Bengaluru  2020-06-27  16.60  ...     NaN   51.0  Satisfactory\n",
              "6299  Bengaluru  2020-06-28  20.44  ...     NaN   61.0  Satisfactory\n",
              "6300  Bengaluru  2020-06-29  28.68  ...     NaN   65.0  Satisfactory\n",
              "6301  Bengaluru  2020-06-30  14.47  ...     NaN   63.0  Satisfactory\n",
              "6302  Bengaluru  2020-07-01  17.50  ...     NaN   43.0          Good\n",
              "\n",
              "[183 rows x 16 columns]"
            ]
          },
          "metadata": {},
          "execution_count": 67
        }
      ]
    },
    {
      "cell_type": "code",
      "metadata": {
        "id": "fk4OqU5ELlYa"
      },
      "source": [
        "pollutants = pollutants.reset_index(drop=True)\n",
        "pollutants['Date'] = pd.to_datetime(pollutants['Date'], format='%Y-%m-%d')\n",
        "pollutants = pollutants.set_index('Date')\n",
        "pollutants = pollutants.drop(columns=['City', 'NH3','NO', 'Benzene',\t'Toluene',\t'Xylene', 'AQI_Bucket'])"
      ],
      "execution_count": 68,
      "outputs": []
    },
    {
      "cell_type": "code",
      "metadata": {
        "colab": {
          "base_uri": "https://localhost:8080/"
        },
        "id": "lYNe6dcPaMoO",
        "outputId": "09cc44c0-ec29-493f-f3d5-1a2ad583b8d0"
      },
      "source": [
        "pollutants.iloc[-1,:]"
      ],
      "execution_count": 69,
      "outputs": [
        {
          "output_type": "execute_result",
          "data": {
            "text/plain": [
              "PM2.5    17.50\n",
              "PM10     30.48\n",
              "NO2      13.25\n",
              "NOx      14.83\n",
              "CO        0.54\n",
              "SO2       6.66\n",
              "O3       15.40\n",
              "AQI      43.00\n",
              "Name: 2020-07-01 00:00:00, dtype: float64"
            ]
          },
          "metadata": {},
          "execution_count": 69
        }
      ]
    },
    {
      "cell_type": "code",
      "metadata": {
        "id": "A4KtXsrUaARP"
      },
      "source": [
        "pollutants = pollutants.iloc[:-1,:]"
      ],
      "execution_count": 70,
      "outputs": []
    },
    {
      "cell_type": "code",
      "metadata": {
        "id": "6Qv4jWigLlVj",
        "colab": {
          "base_uri": "https://localhost:8080/"
        },
        "outputId": "4f2358c4-b066-43aa-84fb-70de6083c63a"
      },
      "source": [
        "pollutants.shape"
      ],
      "execution_count": 71,
      "outputs": [
        {
          "output_type": "execute_result",
          "data": {
            "text/plain": [
              "(182, 8)"
            ]
          },
          "metadata": {},
          "execution_count": 71
        }
      ]
    },
    {
      "cell_type": "code",
      "metadata": {
        "id": "P2Tsu-fCLlTo",
        "colab": {
          "base_uri": "https://localhost:8080/",
          "height": 238
        },
        "outputId": "64922a03-a70e-4cf2-ffd8-e93099e42ba1"
      },
      "source": [
        "pollutants.head()"
      ],
      "execution_count": 72,
      "outputs": [
        {
          "output_type": "execute_result",
          "data": {
            "text/html": [
              "<div>\n",
              "<style scoped>\n",
              "    .dataframe tbody tr th:only-of-type {\n",
              "        vertical-align: middle;\n",
              "    }\n",
              "\n",
              "    .dataframe tbody tr th {\n",
              "        vertical-align: top;\n",
              "    }\n",
              "\n",
              "    .dataframe thead th {\n",
              "        text-align: right;\n",
              "    }\n",
              "</style>\n",
              "<table border=\"1\" class=\"dataframe\">\n",
              "  <thead>\n",
              "    <tr style=\"text-align: right;\">\n",
              "      <th></th>\n",
              "      <th>PM2.5</th>\n",
              "      <th>PM10</th>\n",
              "      <th>NO2</th>\n",
              "      <th>NOx</th>\n",
              "      <th>CO</th>\n",
              "      <th>SO2</th>\n",
              "      <th>O3</th>\n",
              "      <th>AQI</th>\n",
              "    </tr>\n",
              "    <tr>\n",
              "      <th>Date</th>\n",
              "      <th></th>\n",
              "      <th></th>\n",
              "      <th></th>\n",
              "      <th></th>\n",
              "      <th></th>\n",
              "      <th></th>\n",
              "      <th></th>\n",
              "      <th></th>\n",
              "    </tr>\n",
              "  </thead>\n",
              "  <tbody>\n",
              "    <tr>\n",
              "      <th>2020-01-01</th>\n",
              "      <td>30.71</td>\n",
              "      <td>70.80</td>\n",
              "      <td>27.31</td>\n",
              "      <td>26.74</td>\n",
              "      <td>1.07</td>\n",
              "      <td>8.56</td>\n",
              "      <td>37.39</td>\n",
              "      <td>82.0</td>\n",
              "    </tr>\n",
              "    <tr>\n",
              "      <th>2020-01-02</th>\n",
              "      <td>25.78</td>\n",
              "      <td>62.73</td>\n",
              "      <td>28.05</td>\n",
              "      <td>30.18</td>\n",
              "      <td>1.16</td>\n",
              "      <td>7.52</td>\n",
              "      <td>33.11</td>\n",
              "      <td>81.0</td>\n",
              "    </tr>\n",
              "    <tr>\n",
              "      <th>2020-01-03</th>\n",
              "      <td>29.66</td>\n",
              "      <td>69.62</td>\n",
              "      <td>26.26</td>\n",
              "      <td>26.92</td>\n",
              "      <td>0.99</td>\n",
              "      <td>6.40</td>\n",
              "      <td>32.98</td>\n",
              "      <td>85.0</td>\n",
              "    </tr>\n",
              "    <tr>\n",
              "      <th>2020-01-04</th>\n",
              "      <td>52.62</td>\n",
              "      <td>106.81</td>\n",
              "      <td>31.56</td>\n",
              "      <td>41.89</td>\n",
              "      <td>1.39</td>\n",
              "      <td>6.94</td>\n",
              "      <td>37.35</td>\n",
              "      <td>95.0</td>\n",
              "    </tr>\n",
              "    <tr>\n",
              "      <th>2020-01-05</th>\n",
              "      <td>52.64</td>\n",
              "      <td>97.94</td>\n",
              "      <td>29.10</td>\n",
              "      <td>29.52</td>\n",
              "      <td>1.01</td>\n",
              "      <td>7.01</td>\n",
              "      <td>45.10</td>\n",
              "      <td>118.0</td>\n",
              "    </tr>\n",
              "  </tbody>\n",
              "</table>\n",
              "</div>"
            ],
            "text/plain": [
              "            PM2.5    PM10    NO2    NOx    CO   SO2     O3    AQI\n",
              "Date                                                             \n",
              "2020-01-01  30.71   70.80  27.31  26.74  1.07  8.56  37.39   82.0\n",
              "2020-01-02  25.78   62.73  28.05  30.18  1.16  7.52  33.11   81.0\n",
              "2020-01-03  29.66   69.62  26.26  26.92  0.99  6.40  32.98   85.0\n",
              "2020-01-04  52.62  106.81  31.56  41.89  1.39  6.94  37.35   95.0\n",
              "2020-01-05  52.64   97.94  29.10  29.52  1.01  7.01  45.10  118.0"
            ]
          },
          "metadata": {},
          "execution_count": 72
        }
      ]
    },
    {
      "cell_type": "code",
      "metadata": {
        "colab": {
          "base_uri": "https://localhost:8080/",
          "height": 238
        },
        "id": "5M3LSLyxYuQC",
        "outputId": "566f4e17-34db-4771-e0cf-57c7f93735a4"
      },
      "source": [
        "pollutants.tail()"
      ],
      "execution_count": 73,
      "outputs": [
        {
          "output_type": "execute_result",
          "data": {
            "text/html": [
              "<div>\n",
              "<style scoped>\n",
              "    .dataframe tbody tr th:only-of-type {\n",
              "        vertical-align: middle;\n",
              "    }\n",
              "\n",
              "    .dataframe tbody tr th {\n",
              "        vertical-align: top;\n",
              "    }\n",
              "\n",
              "    .dataframe thead th {\n",
              "        text-align: right;\n",
              "    }\n",
              "</style>\n",
              "<table border=\"1\" class=\"dataframe\">\n",
              "  <thead>\n",
              "    <tr style=\"text-align: right;\">\n",
              "      <th></th>\n",
              "      <th>PM2.5</th>\n",
              "      <th>PM10</th>\n",
              "      <th>NO2</th>\n",
              "      <th>NOx</th>\n",
              "      <th>CO</th>\n",
              "      <th>SO2</th>\n",
              "      <th>O3</th>\n",
              "      <th>AQI</th>\n",
              "    </tr>\n",
              "    <tr>\n",
              "      <th>Date</th>\n",
              "      <th></th>\n",
              "      <th></th>\n",
              "      <th></th>\n",
              "      <th></th>\n",
              "      <th></th>\n",
              "      <th></th>\n",
              "      <th></th>\n",
              "      <th></th>\n",
              "    </tr>\n",
              "  </thead>\n",
              "  <tbody>\n",
              "    <tr>\n",
              "      <th>2020-06-26</th>\n",
              "      <td>15.40</td>\n",
              "      <td>28.66</td>\n",
              "      <td>14.29</td>\n",
              "      <td>15.57</td>\n",
              "      <td>0.61</td>\n",
              "      <td>7.45</td>\n",
              "      <td>19.53</td>\n",
              "      <td>58.0</td>\n",
              "    </tr>\n",
              "    <tr>\n",
              "      <th>2020-06-27</th>\n",
              "      <td>16.60</td>\n",
              "      <td>29.48</td>\n",
              "      <td>13.68</td>\n",
              "      <td>13.07</td>\n",
              "      <td>0.67</td>\n",
              "      <td>7.29</td>\n",
              "      <td>15.69</td>\n",
              "      <td>51.0</td>\n",
              "    </tr>\n",
              "    <tr>\n",
              "      <th>2020-06-28</th>\n",
              "      <td>20.44</td>\n",
              "      <td>26.34</td>\n",
              "      <td>10.33</td>\n",
              "      <td>10.58</td>\n",
              "      <td>0.66</td>\n",
              "      <td>6.60</td>\n",
              "      <td>17.59</td>\n",
              "      <td>61.0</td>\n",
              "    </tr>\n",
              "    <tr>\n",
              "      <th>2020-06-29</th>\n",
              "      <td>28.68</td>\n",
              "      <td>29.27</td>\n",
              "      <td>12.12</td>\n",
              "      <td>12.94</td>\n",
              "      <td>0.56</td>\n",
              "      <td>6.33</td>\n",
              "      <td>16.99</td>\n",
              "      <td>65.0</td>\n",
              "    </tr>\n",
              "    <tr>\n",
              "      <th>2020-06-30</th>\n",
              "      <td>14.47</td>\n",
              "      <td>24.26</td>\n",
              "      <td>12.69</td>\n",
              "      <td>15.00</td>\n",
              "      <td>0.56</td>\n",
              "      <td>6.45</td>\n",
              "      <td>16.08</td>\n",
              "      <td>63.0</td>\n",
              "    </tr>\n",
              "  </tbody>\n",
              "</table>\n",
              "</div>"
            ],
            "text/plain": [
              "            PM2.5   PM10    NO2    NOx    CO   SO2     O3   AQI\n",
              "Date                                                           \n",
              "2020-06-26  15.40  28.66  14.29  15.57  0.61  7.45  19.53  58.0\n",
              "2020-06-27  16.60  29.48  13.68  13.07  0.67  7.29  15.69  51.0\n",
              "2020-06-28  20.44  26.34  10.33  10.58  0.66  6.60  17.59  61.0\n",
              "2020-06-29  28.68  29.27  12.12  12.94  0.56  6.33  16.99  65.0\n",
              "2020-06-30  14.47  24.26  12.69  15.00  0.56  6.45  16.08  63.0"
            ]
          },
          "metadata": {},
          "execution_count": 73
        }
      ]
    },
    {
      "cell_type": "code",
      "metadata": {
        "colab": {
          "base_uri": "https://localhost:8080/",
          "height": 423
        },
        "id": "CdFwq6w6YuMU",
        "outputId": "fedf1f7b-c3ea-4696-a206-83c0cba005cf"
      },
      "source": [
        "climate = pd.read_csv('/content/drive/MyDrive/Datasets/climate-testing-dataset.csv')\n",
        "climate"
      ],
      "execution_count": 138,
      "outputs": [
        {
          "output_type": "execute_result",
          "data": {
            "text/html": [
              "<div>\n",
              "<style scoped>\n",
              "    .dataframe tbody tr th:only-of-type {\n",
              "        vertical-align: middle;\n",
              "    }\n",
              "\n",
              "    .dataframe tbody tr th {\n",
              "        vertical-align: top;\n",
              "    }\n",
              "\n",
              "    .dataframe thead th {\n",
              "        text-align: right;\n",
              "    }\n",
              "</style>\n",
              "<table border=\"1\" class=\"dataframe\">\n",
              "  <thead>\n",
              "    <tr style=\"text-align: right;\">\n",
              "      <th></th>\n",
              "      <th>Date</th>\n",
              "      <th>T</th>\n",
              "      <th>TM</th>\n",
              "      <th>Tm</th>\n",
              "      <th>H</th>\n",
              "      <th>VV</th>\n",
              "      <th>V</th>\n",
              "      <th>VM</th>\n",
              "    </tr>\n",
              "  </thead>\n",
              "  <tbody>\n",
              "    <tr>\n",
              "      <th>0</th>\n",
              "      <td>01-01-2020</td>\n",
              "      <td>22.0</td>\n",
              "      <td>27.2</td>\n",
              "      <td>19.2</td>\n",
              "      <td>75</td>\n",
              "      <td>6.9</td>\n",
              "      <td>3.3</td>\n",
              "      <td>5.4</td>\n",
              "    </tr>\n",
              "    <tr>\n",
              "      <th>1</th>\n",
              "      <td>02-01-2020</td>\n",
              "      <td>22.2</td>\n",
              "      <td>26.0</td>\n",
              "      <td>19.4</td>\n",
              "      <td>77</td>\n",
              "      <td>5.5</td>\n",
              "      <td>2.0</td>\n",
              "      <td>5.4</td>\n",
              "    </tr>\n",
              "    <tr>\n",
              "      <th>2</th>\n",
              "      <td>03-01-2020</td>\n",
              "      <td>23.4</td>\n",
              "      <td>28.4</td>\n",
              "      <td>19.4</td>\n",
              "      <td>68</td>\n",
              "      <td>6.9</td>\n",
              "      <td>3.5</td>\n",
              "      <td>5.4</td>\n",
              "    </tr>\n",
              "    <tr>\n",
              "      <th>3</th>\n",
              "      <td>04-01-2020</td>\n",
              "      <td>23.6</td>\n",
              "      <td>30.5</td>\n",
              "      <td>19.0</td>\n",
              "      <td>63</td>\n",
              "      <td>6.3</td>\n",
              "      <td>1.3</td>\n",
              "      <td>3.5</td>\n",
              "    </tr>\n",
              "    <tr>\n",
              "      <th>4</th>\n",
              "      <td>05-01-2020</td>\n",
              "      <td>24.2</td>\n",
              "      <td>30.5</td>\n",
              "      <td>20.4</td>\n",
              "      <td>63</td>\n",
              "      <td>6.3</td>\n",
              "      <td>1.3</td>\n",
              "      <td>3.5</td>\n",
              "    </tr>\n",
              "    <tr>\n",
              "      <th>...</th>\n",
              "      <td>...</td>\n",
              "      <td>...</td>\n",
              "      <td>...</td>\n",
              "      <td>...</td>\n",
              "      <td>...</td>\n",
              "      <td>...</td>\n",
              "      <td>...</td>\n",
              "      <td>...</td>\n",
              "    </tr>\n",
              "    <tr>\n",
              "      <th>177</th>\n",
              "      <td>26-06-2020</td>\n",
              "      <td>24.2</td>\n",
              "      <td>30.4</td>\n",
              "      <td>20.4</td>\n",
              "      <td>79</td>\n",
              "      <td>7.7</td>\n",
              "      <td>3.7</td>\n",
              "      <td>9.4</td>\n",
              "    </tr>\n",
              "    <tr>\n",
              "      <th>178</th>\n",
              "      <td>27-06-2020</td>\n",
              "      <td>24.4</td>\n",
              "      <td>29.2</td>\n",
              "      <td>21.0</td>\n",
              "      <td>78</td>\n",
              "      <td>6.9</td>\n",
              "      <td>6.3</td>\n",
              "      <td>9.4</td>\n",
              "    </tr>\n",
              "    <tr>\n",
              "      <th>179</th>\n",
              "      <td>28-06-2020</td>\n",
              "      <td>24.8</td>\n",
              "      <td>29.0</td>\n",
              "      <td>21.4</td>\n",
              "      <td>78</td>\n",
              "      <td>5.5</td>\n",
              "      <td>5.4</td>\n",
              "      <td>9.4</td>\n",
              "    </tr>\n",
              "    <tr>\n",
              "      <th>180</th>\n",
              "      <td>29-06-2020</td>\n",
              "      <td>23.6</td>\n",
              "      <td>30.0</td>\n",
              "      <td>12.3</td>\n",
              "      <td>83</td>\n",
              "      <td>6.9</td>\n",
              "      <td>4.8</td>\n",
              "      <td>7.6</td>\n",
              "    </tr>\n",
              "    <tr>\n",
              "      <th>181</th>\n",
              "      <td>30-06-2020</td>\n",
              "      <td>24.6</td>\n",
              "      <td>29.0</td>\n",
              "      <td>21.0</td>\n",
              "      <td>74</td>\n",
              "      <td>6.9</td>\n",
              "      <td>7.2</td>\n",
              "      <td>-</td>\n",
              "    </tr>\n",
              "  </tbody>\n",
              "</table>\n",
              "<p>182 rows × 8 columns</p>\n",
              "</div>"
            ],
            "text/plain": [
              "           Date     T    TM    Tm   H   VV    V   VM\n",
              "0    01-01-2020  22.0  27.2  19.2  75  6.9  3.3  5.4\n",
              "1    02-01-2020  22.2  26.0  19.4  77  5.5  2.0  5.4\n",
              "2    03-01-2020  23.4  28.4  19.4  68  6.9  3.5  5.4\n",
              "3    04-01-2020  23.6  30.5  19.0  63  6.3  1.3  3.5\n",
              "4    05-01-2020  24.2  30.5  20.4  63  6.3  1.3  3.5\n",
              "..          ...   ...   ...   ...  ..  ...  ...  ...\n",
              "177  26-06-2020  24.2  30.4  20.4  79  7.7  3.7  9.4\n",
              "178  27-06-2020  24.4  29.2  21.0  78  6.9  6.3  9.4\n",
              "179  28-06-2020  24.8  29.0  21.4  78  5.5  5.4  9.4\n",
              "180  29-06-2020  23.6  30.0  12.3  83  6.9  4.8  7.6\n",
              "181  30-06-2020  24.6  29.0  21.0  74  6.9  7.2    -\n",
              "\n",
              "[182 rows x 8 columns]"
            ]
          },
          "metadata": {},
          "execution_count": 138
        }
      ]
    },
    {
      "cell_type": "code",
      "metadata": {
        "colab": {
          "base_uri": "https://localhost:8080/",
          "height": 238
        },
        "id": "dsgZpX19YuKA",
        "outputId": "243a09b2-9588-4e71-efcc-e6f59d941e59"
      },
      "source": [
        "climate['Date'] = pd.to_datetime(climate['Date'], format='%d-%m-%Y')\n",
        "climate = climate.set_index('Date')\n",
        "climate = climate.drop(columns=['VM'])\n",
        "\n",
        "climate.head()"
      ],
      "execution_count": 139,
      "outputs": [
        {
          "output_type": "execute_result",
          "data": {
            "text/html": [
              "<div>\n",
              "<style scoped>\n",
              "    .dataframe tbody tr th:only-of-type {\n",
              "        vertical-align: middle;\n",
              "    }\n",
              "\n",
              "    .dataframe tbody tr th {\n",
              "        vertical-align: top;\n",
              "    }\n",
              "\n",
              "    .dataframe thead th {\n",
              "        text-align: right;\n",
              "    }\n",
              "</style>\n",
              "<table border=\"1\" class=\"dataframe\">\n",
              "  <thead>\n",
              "    <tr style=\"text-align: right;\">\n",
              "      <th></th>\n",
              "      <th>T</th>\n",
              "      <th>TM</th>\n",
              "      <th>Tm</th>\n",
              "      <th>H</th>\n",
              "      <th>VV</th>\n",
              "      <th>V</th>\n",
              "    </tr>\n",
              "    <tr>\n",
              "      <th>Date</th>\n",
              "      <th></th>\n",
              "      <th></th>\n",
              "      <th></th>\n",
              "      <th></th>\n",
              "      <th></th>\n",
              "      <th></th>\n",
              "    </tr>\n",
              "  </thead>\n",
              "  <tbody>\n",
              "    <tr>\n",
              "      <th>2020-01-01</th>\n",
              "      <td>22.0</td>\n",
              "      <td>27.2</td>\n",
              "      <td>19.2</td>\n",
              "      <td>75</td>\n",
              "      <td>6.9</td>\n",
              "      <td>3.3</td>\n",
              "    </tr>\n",
              "    <tr>\n",
              "      <th>2020-01-02</th>\n",
              "      <td>22.2</td>\n",
              "      <td>26.0</td>\n",
              "      <td>19.4</td>\n",
              "      <td>77</td>\n",
              "      <td>5.5</td>\n",
              "      <td>2.0</td>\n",
              "    </tr>\n",
              "    <tr>\n",
              "      <th>2020-01-03</th>\n",
              "      <td>23.4</td>\n",
              "      <td>28.4</td>\n",
              "      <td>19.4</td>\n",
              "      <td>68</td>\n",
              "      <td>6.9</td>\n",
              "      <td>3.5</td>\n",
              "    </tr>\n",
              "    <tr>\n",
              "      <th>2020-01-04</th>\n",
              "      <td>23.6</td>\n",
              "      <td>30.5</td>\n",
              "      <td>19.0</td>\n",
              "      <td>63</td>\n",
              "      <td>6.3</td>\n",
              "      <td>1.3</td>\n",
              "    </tr>\n",
              "    <tr>\n",
              "      <th>2020-01-05</th>\n",
              "      <td>24.2</td>\n",
              "      <td>30.5</td>\n",
              "      <td>20.4</td>\n",
              "      <td>63</td>\n",
              "      <td>6.3</td>\n",
              "      <td>1.3</td>\n",
              "    </tr>\n",
              "  </tbody>\n",
              "</table>\n",
              "</div>"
            ],
            "text/plain": [
              "               T    TM    Tm   H   VV    V\n",
              "Date                                      \n",
              "2020-01-01  22.0  27.2  19.2  75  6.9  3.3\n",
              "2020-01-02  22.2  26.0  19.4  77  5.5  2.0\n",
              "2020-01-03  23.4  28.4  19.4  68  6.9  3.5\n",
              "2020-01-04  23.6  30.5  19.0  63  6.3  1.3\n",
              "2020-01-05  24.2  30.5  20.4  63  6.3  1.3"
            ]
          },
          "metadata": {},
          "execution_count": 139
        }
      ]
    },
    {
      "cell_type": "code",
      "metadata": {
        "colab": {
          "base_uri": "https://localhost:8080/"
        },
        "id": "BxBz3wWaYuH4",
        "outputId": "c21f2cfd-dcbf-45b6-8506-fb9e3f9650a0"
      },
      "source": [
        "climate.shape"
      ],
      "execution_count": 140,
      "outputs": [
        {
          "output_type": "execute_result",
          "data": {
            "text/plain": [
              "(182, 6)"
            ]
          },
          "metadata": {},
          "execution_count": 140
        }
      ]
    },
    {
      "cell_type": "code",
      "metadata": {
        "colab": {
          "base_uri": "https://localhost:8080/"
        },
        "id": "l1VblH0Pb8dY",
        "outputId": "eb7af409-4bb2-431e-d52c-c215998e4225"
      },
      "source": [
        "(climate.index==pollutants.index).all() "
      ],
      "execution_count": 141,
      "outputs": [
        {
          "output_type": "execute_result",
          "data": {
            "text/plain": [
              "True"
            ]
          },
          "metadata": {},
          "execution_count": 141
        }
      ]
    },
    {
      "cell_type": "code",
      "metadata": {
        "colab": {
          "base_uri": "https://localhost:8080/",
          "height": 238
        },
        "id": "2kpBRRAOb8ad",
        "outputId": "8c7e213b-69d3-4d9f-8c1c-28cd388e3d99"
      },
      "source": [
        "test_df = pd.concat([pollutants, climate], axis = 1)\n",
        "test_df.head()"
      ],
      "execution_count": 142,
      "outputs": [
        {
          "output_type": "execute_result",
          "data": {
            "text/html": [
              "<div>\n",
              "<style scoped>\n",
              "    .dataframe tbody tr th:only-of-type {\n",
              "        vertical-align: middle;\n",
              "    }\n",
              "\n",
              "    .dataframe tbody tr th {\n",
              "        vertical-align: top;\n",
              "    }\n",
              "\n",
              "    .dataframe thead th {\n",
              "        text-align: right;\n",
              "    }\n",
              "</style>\n",
              "<table border=\"1\" class=\"dataframe\">\n",
              "  <thead>\n",
              "    <tr style=\"text-align: right;\">\n",
              "      <th></th>\n",
              "      <th>PM2.5</th>\n",
              "      <th>PM10</th>\n",
              "      <th>NO2</th>\n",
              "      <th>NOx</th>\n",
              "      <th>CO</th>\n",
              "      <th>SO2</th>\n",
              "      <th>O3</th>\n",
              "      <th>AQI</th>\n",
              "      <th>T</th>\n",
              "      <th>TM</th>\n",
              "      <th>Tm</th>\n",
              "      <th>H</th>\n",
              "      <th>VV</th>\n",
              "      <th>V</th>\n",
              "    </tr>\n",
              "    <tr>\n",
              "      <th>Date</th>\n",
              "      <th></th>\n",
              "      <th></th>\n",
              "      <th></th>\n",
              "      <th></th>\n",
              "      <th></th>\n",
              "      <th></th>\n",
              "      <th></th>\n",
              "      <th></th>\n",
              "      <th></th>\n",
              "      <th></th>\n",
              "      <th></th>\n",
              "      <th></th>\n",
              "      <th></th>\n",
              "      <th></th>\n",
              "    </tr>\n",
              "  </thead>\n",
              "  <tbody>\n",
              "    <tr>\n",
              "      <th>2020-01-01</th>\n",
              "      <td>30.71</td>\n",
              "      <td>70.80</td>\n",
              "      <td>27.31</td>\n",
              "      <td>26.74</td>\n",
              "      <td>1.07</td>\n",
              "      <td>8.56</td>\n",
              "      <td>37.39</td>\n",
              "      <td>82.0</td>\n",
              "      <td>22.0</td>\n",
              "      <td>27.2</td>\n",
              "      <td>19.2</td>\n",
              "      <td>75</td>\n",
              "      <td>6.9</td>\n",
              "      <td>3.3</td>\n",
              "    </tr>\n",
              "    <tr>\n",
              "      <th>2020-01-02</th>\n",
              "      <td>25.78</td>\n",
              "      <td>62.73</td>\n",
              "      <td>28.05</td>\n",
              "      <td>30.18</td>\n",
              "      <td>1.16</td>\n",
              "      <td>7.52</td>\n",
              "      <td>33.11</td>\n",
              "      <td>81.0</td>\n",
              "      <td>22.2</td>\n",
              "      <td>26.0</td>\n",
              "      <td>19.4</td>\n",
              "      <td>77</td>\n",
              "      <td>5.5</td>\n",
              "      <td>2.0</td>\n",
              "    </tr>\n",
              "    <tr>\n",
              "      <th>2020-01-03</th>\n",
              "      <td>29.66</td>\n",
              "      <td>69.62</td>\n",
              "      <td>26.26</td>\n",
              "      <td>26.92</td>\n",
              "      <td>0.99</td>\n",
              "      <td>6.40</td>\n",
              "      <td>32.98</td>\n",
              "      <td>85.0</td>\n",
              "      <td>23.4</td>\n",
              "      <td>28.4</td>\n",
              "      <td>19.4</td>\n",
              "      <td>68</td>\n",
              "      <td>6.9</td>\n",
              "      <td>3.5</td>\n",
              "    </tr>\n",
              "    <tr>\n",
              "      <th>2020-01-04</th>\n",
              "      <td>52.62</td>\n",
              "      <td>106.81</td>\n",
              "      <td>31.56</td>\n",
              "      <td>41.89</td>\n",
              "      <td>1.39</td>\n",
              "      <td>6.94</td>\n",
              "      <td>37.35</td>\n",
              "      <td>95.0</td>\n",
              "      <td>23.6</td>\n",
              "      <td>30.5</td>\n",
              "      <td>19.0</td>\n",
              "      <td>63</td>\n",
              "      <td>6.3</td>\n",
              "      <td>1.3</td>\n",
              "    </tr>\n",
              "    <tr>\n",
              "      <th>2020-01-05</th>\n",
              "      <td>52.64</td>\n",
              "      <td>97.94</td>\n",
              "      <td>29.10</td>\n",
              "      <td>29.52</td>\n",
              "      <td>1.01</td>\n",
              "      <td>7.01</td>\n",
              "      <td>45.10</td>\n",
              "      <td>118.0</td>\n",
              "      <td>24.2</td>\n",
              "      <td>30.5</td>\n",
              "      <td>20.4</td>\n",
              "      <td>63</td>\n",
              "      <td>6.3</td>\n",
              "      <td>1.3</td>\n",
              "    </tr>\n",
              "  </tbody>\n",
              "</table>\n",
              "</div>"
            ],
            "text/plain": [
              "            PM2.5    PM10    NO2    NOx    CO  ...    TM    Tm   H   VV    V\n",
              "Date                                           ...                          \n",
              "2020-01-01  30.71   70.80  27.31  26.74  1.07  ...  27.2  19.2  75  6.9  3.3\n",
              "2020-01-02  25.78   62.73  28.05  30.18  1.16  ...  26.0  19.4  77  5.5  2.0\n",
              "2020-01-03  29.66   69.62  26.26  26.92  0.99  ...  28.4  19.4  68  6.9  3.5\n",
              "2020-01-04  52.62  106.81  31.56  41.89  1.39  ...  30.5  19.0  63  6.3  1.3\n",
              "2020-01-05  52.64   97.94  29.10  29.52  1.01  ...  30.5  20.4  63  6.3  1.3\n",
              "\n",
              "[5 rows x 14 columns]"
            ]
          },
          "metadata": {},
          "execution_count": 142
        }
      ]
    },
    {
      "cell_type": "code",
      "metadata": {
        "colab": {
          "base_uri": "https://localhost:8080/"
        },
        "id": "gJQh8EEjb8YX",
        "outputId": "dce68288-dabc-4d40-c54d-53b53912088e"
      },
      "source": [
        "test_df.shape"
      ],
      "execution_count": 143,
      "outputs": [
        {
          "output_type": "execute_result",
          "data": {
            "text/plain": [
              "(182, 14)"
            ]
          },
          "metadata": {},
          "execution_count": 143
        }
      ]
    },
    {
      "cell_type": "code",
      "metadata": {
        "colab": {
          "base_uri": "https://localhost:8080/"
        },
        "id": "aaS2qZh4b8WL",
        "outputId": "a42a73a9-605e-4de4-976c-8874304892cc"
      },
      "source": [
        "test_target = test_df['AQI']\n",
        "test_target.head()"
      ],
      "execution_count": 144,
      "outputs": [
        {
          "output_type": "execute_result",
          "data": {
            "text/plain": [
              "Date\n",
              "2020-01-01     82.0\n",
              "2020-01-02     81.0\n",
              "2020-01-03     85.0\n",
              "2020-01-04     95.0\n",
              "2020-01-05    118.0\n",
              "Name: AQI, dtype: float64"
            ]
          },
          "metadata": {},
          "execution_count": 144
        }
      ]
    },
    {
      "cell_type": "code",
      "metadata": {
        "colab": {
          "base_uri": "https://localhost:8080/"
        },
        "id": "qFiNxcLpb8Tv",
        "outputId": "aa3a072f-b787-4e6d-de5f-686accb89dbb"
      },
      "source": [
        "test_target.shape"
      ],
      "execution_count": 145,
      "outputs": [
        {
          "output_type": "execute_result",
          "data": {
            "text/plain": [
              "(182,)"
            ]
          },
          "metadata": {},
          "execution_count": 145
        }
      ]
    },
    {
      "cell_type": "code",
      "metadata": {
        "id": "KLEgaOr_b8Ra"
      },
      "source": [
        "test_df.rename(columns={'T':'temp', 'TM':'max_temp','Tm':'min_temp','H':'humid','VV':'visible','V':'wind'}, inplace = True)"
      ],
      "execution_count": 146,
      "outputs": []
    },
    {
      "cell_type": "code",
      "metadata": {
        "colab": {
          "base_uri": "https://localhost:8080/",
          "height": 238
        },
        "id": "3TvWVzOwYuFo",
        "outputId": "94c99eb4-2449-4509-a290-74c1966edf5e"
      },
      "source": [
        "test_df.head()"
      ],
      "execution_count": 147,
      "outputs": [
        {
          "output_type": "execute_result",
          "data": {
            "text/html": [
              "<div>\n",
              "<style scoped>\n",
              "    .dataframe tbody tr th:only-of-type {\n",
              "        vertical-align: middle;\n",
              "    }\n",
              "\n",
              "    .dataframe tbody tr th {\n",
              "        vertical-align: top;\n",
              "    }\n",
              "\n",
              "    .dataframe thead th {\n",
              "        text-align: right;\n",
              "    }\n",
              "</style>\n",
              "<table border=\"1\" class=\"dataframe\">\n",
              "  <thead>\n",
              "    <tr style=\"text-align: right;\">\n",
              "      <th></th>\n",
              "      <th>PM2.5</th>\n",
              "      <th>PM10</th>\n",
              "      <th>NO2</th>\n",
              "      <th>NOx</th>\n",
              "      <th>CO</th>\n",
              "      <th>SO2</th>\n",
              "      <th>O3</th>\n",
              "      <th>AQI</th>\n",
              "      <th>temp</th>\n",
              "      <th>max_temp</th>\n",
              "      <th>min_temp</th>\n",
              "      <th>humid</th>\n",
              "      <th>visible</th>\n",
              "      <th>wind</th>\n",
              "    </tr>\n",
              "    <tr>\n",
              "      <th>Date</th>\n",
              "      <th></th>\n",
              "      <th></th>\n",
              "      <th></th>\n",
              "      <th></th>\n",
              "      <th></th>\n",
              "      <th></th>\n",
              "      <th></th>\n",
              "      <th></th>\n",
              "      <th></th>\n",
              "      <th></th>\n",
              "      <th></th>\n",
              "      <th></th>\n",
              "      <th></th>\n",
              "      <th></th>\n",
              "    </tr>\n",
              "  </thead>\n",
              "  <tbody>\n",
              "    <tr>\n",
              "      <th>2020-01-01</th>\n",
              "      <td>30.71</td>\n",
              "      <td>70.80</td>\n",
              "      <td>27.31</td>\n",
              "      <td>26.74</td>\n",
              "      <td>1.07</td>\n",
              "      <td>8.56</td>\n",
              "      <td>37.39</td>\n",
              "      <td>82.0</td>\n",
              "      <td>22.0</td>\n",
              "      <td>27.2</td>\n",
              "      <td>19.2</td>\n",
              "      <td>75</td>\n",
              "      <td>6.9</td>\n",
              "      <td>3.3</td>\n",
              "    </tr>\n",
              "    <tr>\n",
              "      <th>2020-01-02</th>\n",
              "      <td>25.78</td>\n",
              "      <td>62.73</td>\n",
              "      <td>28.05</td>\n",
              "      <td>30.18</td>\n",
              "      <td>1.16</td>\n",
              "      <td>7.52</td>\n",
              "      <td>33.11</td>\n",
              "      <td>81.0</td>\n",
              "      <td>22.2</td>\n",
              "      <td>26.0</td>\n",
              "      <td>19.4</td>\n",
              "      <td>77</td>\n",
              "      <td>5.5</td>\n",
              "      <td>2.0</td>\n",
              "    </tr>\n",
              "    <tr>\n",
              "      <th>2020-01-03</th>\n",
              "      <td>29.66</td>\n",
              "      <td>69.62</td>\n",
              "      <td>26.26</td>\n",
              "      <td>26.92</td>\n",
              "      <td>0.99</td>\n",
              "      <td>6.40</td>\n",
              "      <td>32.98</td>\n",
              "      <td>85.0</td>\n",
              "      <td>23.4</td>\n",
              "      <td>28.4</td>\n",
              "      <td>19.4</td>\n",
              "      <td>68</td>\n",
              "      <td>6.9</td>\n",
              "      <td>3.5</td>\n",
              "    </tr>\n",
              "    <tr>\n",
              "      <th>2020-01-04</th>\n",
              "      <td>52.62</td>\n",
              "      <td>106.81</td>\n",
              "      <td>31.56</td>\n",
              "      <td>41.89</td>\n",
              "      <td>1.39</td>\n",
              "      <td>6.94</td>\n",
              "      <td>37.35</td>\n",
              "      <td>95.0</td>\n",
              "      <td>23.6</td>\n",
              "      <td>30.5</td>\n",
              "      <td>19.0</td>\n",
              "      <td>63</td>\n",
              "      <td>6.3</td>\n",
              "      <td>1.3</td>\n",
              "    </tr>\n",
              "    <tr>\n",
              "      <th>2020-01-05</th>\n",
              "      <td>52.64</td>\n",
              "      <td>97.94</td>\n",
              "      <td>29.10</td>\n",
              "      <td>29.52</td>\n",
              "      <td>1.01</td>\n",
              "      <td>7.01</td>\n",
              "      <td>45.10</td>\n",
              "      <td>118.0</td>\n",
              "      <td>24.2</td>\n",
              "      <td>30.5</td>\n",
              "      <td>20.4</td>\n",
              "      <td>63</td>\n",
              "      <td>6.3</td>\n",
              "      <td>1.3</td>\n",
              "    </tr>\n",
              "  </tbody>\n",
              "</table>\n",
              "</div>"
            ],
            "text/plain": [
              "            PM2.5    PM10    NO2    NOx  ...  min_temp  humid  visible  wind\n",
              "Date                                     ...                                \n",
              "2020-01-01  30.71   70.80  27.31  26.74  ...      19.2     75      6.9   3.3\n",
              "2020-01-02  25.78   62.73  28.05  30.18  ...      19.4     77      5.5   2.0\n",
              "2020-01-03  29.66   69.62  26.26  26.92  ...      19.4     68      6.9   3.5\n",
              "2020-01-04  52.62  106.81  31.56  41.89  ...      19.0     63      6.3   1.3\n",
              "2020-01-05  52.64   97.94  29.10  29.52  ...      20.4     63      6.3   1.3\n",
              "\n",
              "[5 rows x 14 columns]"
            ]
          },
          "metadata": {},
          "execution_count": 147
        }
      ]
    },
    {
      "cell_type": "code",
      "metadata": {
        "colab": {
          "base_uri": "https://localhost:8080/"
        },
        "id": "kbn1Bwz-cWbS",
        "outputId": "2992ec44-433e-47eb-c43f-a8eb4e755e5a"
      },
      "source": [
        "test_df.info()"
      ],
      "execution_count": 148,
      "outputs": [
        {
          "output_type": "stream",
          "name": "stdout",
          "text": [
            "<class 'pandas.core.frame.DataFrame'>\n",
            "DatetimeIndex: 182 entries, 2020-01-01 to 2020-06-30\n",
            "Data columns (total 14 columns):\n",
            " #   Column    Non-Null Count  Dtype  \n",
            "---  ------    --------------  -----  \n",
            " 0   PM2.5     182 non-null    float64\n",
            " 1   PM10      182 non-null    float64\n",
            " 2   NO2       182 non-null    float64\n",
            " 3   NOx       182 non-null    float64\n",
            " 4   CO        182 non-null    float64\n",
            " 5   SO2       182 non-null    float64\n",
            " 6   O3        182 non-null    float64\n",
            " 7   AQI       182 non-null    float64\n",
            " 8   temp      182 non-null    float64\n",
            " 9   max_temp  182 non-null    float64\n",
            " 10  min_temp  182 non-null    float64\n",
            " 11  humid     182 non-null    int64  \n",
            " 12  visible   182 non-null    float64\n",
            " 13  wind      182 non-null    float64\n",
            "dtypes: float64(13), int64(1)\n",
            "memory usage: 21.3 KB\n"
          ]
        }
      ]
    },
    {
      "cell_type": "code",
      "metadata": {
        "colab": {
          "base_uri": "https://localhost:8080/",
          "height": 238
        },
        "id": "or7hlOa4cYN8",
        "outputId": "5dce0caf-1585-4305-fb1d-b1f27fa51672"
      },
      "source": [
        "df['humid'].astype('float64')\n",
        "test_df.head()"
      ],
      "execution_count": 149,
      "outputs": [
        {
          "output_type": "execute_result",
          "data": {
            "text/html": [
              "<div>\n",
              "<style scoped>\n",
              "    .dataframe tbody tr th:only-of-type {\n",
              "        vertical-align: middle;\n",
              "    }\n",
              "\n",
              "    .dataframe tbody tr th {\n",
              "        vertical-align: top;\n",
              "    }\n",
              "\n",
              "    .dataframe thead th {\n",
              "        text-align: right;\n",
              "    }\n",
              "</style>\n",
              "<table border=\"1\" class=\"dataframe\">\n",
              "  <thead>\n",
              "    <tr style=\"text-align: right;\">\n",
              "      <th></th>\n",
              "      <th>PM2.5</th>\n",
              "      <th>PM10</th>\n",
              "      <th>NO2</th>\n",
              "      <th>NOx</th>\n",
              "      <th>CO</th>\n",
              "      <th>SO2</th>\n",
              "      <th>O3</th>\n",
              "      <th>AQI</th>\n",
              "      <th>temp</th>\n",
              "      <th>max_temp</th>\n",
              "      <th>min_temp</th>\n",
              "      <th>humid</th>\n",
              "      <th>visible</th>\n",
              "      <th>wind</th>\n",
              "    </tr>\n",
              "    <tr>\n",
              "      <th>Date</th>\n",
              "      <th></th>\n",
              "      <th></th>\n",
              "      <th></th>\n",
              "      <th></th>\n",
              "      <th></th>\n",
              "      <th></th>\n",
              "      <th></th>\n",
              "      <th></th>\n",
              "      <th></th>\n",
              "      <th></th>\n",
              "      <th></th>\n",
              "      <th></th>\n",
              "      <th></th>\n",
              "      <th></th>\n",
              "    </tr>\n",
              "  </thead>\n",
              "  <tbody>\n",
              "    <tr>\n",
              "      <th>2020-01-01</th>\n",
              "      <td>30.71</td>\n",
              "      <td>70.80</td>\n",
              "      <td>27.31</td>\n",
              "      <td>26.74</td>\n",
              "      <td>1.07</td>\n",
              "      <td>8.56</td>\n",
              "      <td>37.39</td>\n",
              "      <td>82.0</td>\n",
              "      <td>22.0</td>\n",
              "      <td>27.2</td>\n",
              "      <td>19.2</td>\n",
              "      <td>75</td>\n",
              "      <td>6.9</td>\n",
              "      <td>3.3</td>\n",
              "    </tr>\n",
              "    <tr>\n",
              "      <th>2020-01-02</th>\n",
              "      <td>25.78</td>\n",
              "      <td>62.73</td>\n",
              "      <td>28.05</td>\n",
              "      <td>30.18</td>\n",
              "      <td>1.16</td>\n",
              "      <td>7.52</td>\n",
              "      <td>33.11</td>\n",
              "      <td>81.0</td>\n",
              "      <td>22.2</td>\n",
              "      <td>26.0</td>\n",
              "      <td>19.4</td>\n",
              "      <td>77</td>\n",
              "      <td>5.5</td>\n",
              "      <td>2.0</td>\n",
              "    </tr>\n",
              "    <tr>\n",
              "      <th>2020-01-03</th>\n",
              "      <td>29.66</td>\n",
              "      <td>69.62</td>\n",
              "      <td>26.26</td>\n",
              "      <td>26.92</td>\n",
              "      <td>0.99</td>\n",
              "      <td>6.40</td>\n",
              "      <td>32.98</td>\n",
              "      <td>85.0</td>\n",
              "      <td>23.4</td>\n",
              "      <td>28.4</td>\n",
              "      <td>19.4</td>\n",
              "      <td>68</td>\n",
              "      <td>6.9</td>\n",
              "      <td>3.5</td>\n",
              "    </tr>\n",
              "    <tr>\n",
              "      <th>2020-01-04</th>\n",
              "      <td>52.62</td>\n",
              "      <td>106.81</td>\n",
              "      <td>31.56</td>\n",
              "      <td>41.89</td>\n",
              "      <td>1.39</td>\n",
              "      <td>6.94</td>\n",
              "      <td>37.35</td>\n",
              "      <td>95.0</td>\n",
              "      <td>23.6</td>\n",
              "      <td>30.5</td>\n",
              "      <td>19.0</td>\n",
              "      <td>63</td>\n",
              "      <td>6.3</td>\n",
              "      <td>1.3</td>\n",
              "    </tr>\n",
              "    <tr>\n",
              "      <th>2020-01-05</th>\n",
              "      <td>52.64</td>\n",
              "      <td>97.94</td>\n",
              "      <td>29.10</td>\n",
              "      <td>29.52</td>\n",
              "      <td>1.01</td>\n",
              "      <td>7.01</td>\n",
              "      <td>45.10</td>\n",
              "      <td>118.0</td>\n",
              "      <td>24.2</td>\n",
              "      <td>30.5</td>\n",
              "      <td>20.4</td>\n",
              "      <td>63</td>\n",
              "      <td>6.3</td>\n",
              "      <td>1.3</td>\n",
              "    </tr>\n",
              "  </tbody>\n",
              "</table>\n",
              "</div>"
            ],
            "text/plain": [
              "            PM2.5    PM10    NO2    NOx  ...  min_temp  humid  visible  wind\n",
              "Date                                     ...                                \n",
              "2020-01-01  30.71   70.80  27.31  26.74  ...      19.2     75      6.9   3.3\n",
              "2020-01-02  25.78   62.73  28.05  30.18  ...      19.4     77      5.5   2.0\n",
              "2020-01-03  29.66   69.62  26.26  26.92  ...      19.4     68      6.9   3.5\n",
              "2020-01-04  52.62  106.81  31.56  41.89  ...      19.0     63      6.3   1.3\n",
              "2020-01-05  52.64   97.94  29.10  29.52  ...      20.4     63      6.3   1.3\n",
              "\n",
              "[5 rows x 14 columns]"
            ]
          },
          "metadata": {},
          "execution_count": 149
        }
      ]
    },
    {
      "cell_type": "code",
      "metadata": {
        "colab": {
          "base_uri": "https://localhost:8080/"
        },
        "id": "ZiOpcjiKcwx1",
        "outputId": "2c4406d0-0e71-401e-f441-ccca2d9a21e9"
      },
      "source": [
        "test_df.info()"
      ],
      "execution_count": 150,
      "outputs": [
        {
          "output_type": "stream",
          "name": "stdout",
          "text": [
            "<class 'pandas.core.frame.DataFrame'>\n",
            "DatetimeIndex: 182 entries, 2020-01-01 to 2020-06-30\n",
            "Data columns (total 14 columns):\n",
            " #   Column    Non-Null Count  Dtype  \n",
            "---  ------    --------------  -----  \n",
            " 0   PM2.5     182 non-null    float64\n",
            " 1   PM10      182 non-null    float64\n",
            " 2   NO2       182 non-null    float64\n",
            " 3   NOx       182 non-null    float64\n",
            " 4   CO        182 non-null    float64\n",
            " 5   SO2       182 non-null    float64\n",
            " 6   O3        182 non-null    float64\n",
            " 7   AQI       182 non-null    float64\n",
            " 8   temp      182 non-null    float64\n",
            " 9   max_temp  182 non-null    float64\n",
            " 10  min_temp  182 non-null    float64\n",
            " 11  humid     182 non-null    int64  \n",
            " 12  visible   182 non-null    float64\n",
            " 13  wind      182 non-null    float64\n",
            "dtypes: float64(13), int64(1)\n",
            "memory usage: 21.3 KB\n"
          ]
        }
      ]
    },
    {
      "cell_type": "code",
      "metadata": {
        "colab": {
          "base_uri": "https://localhost:8080/",
          "height": 320
        },
        "id": "lqfgvdiVdARf",
        "outputId": "578e225e-d326-460d-e7e5-f067739164e6"
      },
      "source": [
        "test_df.describe()"
      ],
      "execution_count": 151,
      "outputs": [
        {
          "output_type": "execute_result",
          "data": {
            "text/html": [
              "<div>\n",
              "<style scoped>\n",
              "    .dataframe tbody tr th:only-of-type {\n",
              "        vertical-align: middle;\n",
              "    }\n",
              "\n",
              "    .dataframe tbody tr th {\n",
              "        vertical-align: top;\n",
              "    }\n",
              "\n",
              "    .dataframe thead th {\n",
              "        text-align: right;\n",
              "    }\n",
              "</style>\n",
              "<table border=\"1\" class=\"dataframe\">\n",
              "  <thead>\n",
              "    <tr style=\"text-align: right;\">\n",
              "      <th></th>\n",
              "      <th>PM2.5</th>\n",
              "      <th>PM10</th>\n",
              "      <th>NO2</th>\n",
              "      <th>NOx</th>\n",
              "      <th>CO</th>\n",
              "      <th>SO2</th>\n",
              "      <th>O3</th>\n",
              "      <th>AQI</th>\n",
              "      <th>temp</th>\n",
              "      <th>max_temp</th>\n",
              "      <th>min_temp</th>\n",
              "      <th>humid</th>\n",
              "      <th>visible</th>\n",
              "      <th>wind</th>\n",
              "    </tr>\n",
              "  </thead>\n",
              "  <tbody>\n",
              "    <tr>\n",
              "      <th>count</th>\n",
              "      <td>182.000000</td>\n",
              "      <td>182.000000</td>\n",
              "      <td>182.000000</td>\n",
              "      <td>182.000000</td>\n",
              "      <td>182.000000</td>\n",
              "      <td>182.000000</td>\n",
              "      <td>182.000000</td>\n",
              "      <td>182.000000</td>\n",
              "      <td>182.000000</td>\n",
              "      <td>182.000000</td>\n",
              "      <td>182.000000</td>\n",
              "      <td>182.000000</td>\n",
              "      <td>182.000000</td>\n",
              "      <td>182.000000</td>\n",
              "    </tr>\n",
              "    <tr>\n",
              "      <th>mean</th>\n",
              "      <td>30.536703</td>\n",
              "      <td>67.232473</td>\n",
              "      <td>21.455000</td>\n",
              "      <td>22.636154</td>\n",
              "      <td>0.873132</td>\n",
              "      <td>6.875495</td>\n",
              "      <td>35.748626</td>\n",
              "      <td>79.917582</td>\n",
              "      <td>25.422527</td>\n",
              "      <td>32.191209</td>\n",
              "      <td>20.293407</td>\n",
              "      <td>56.510989</td>\n",
              "      <td>6.662637</td>\n",
              "      <td>3.563736</td>\n",
              "    </tr>\n",
              "    <tr>\n",
              "      <th>std</th>\n",
              "      <td>12.255324</td>\n",
              "      <td>24.453075</td>\n",
              "      <td>10.194596</td>\n",
              "      <td>10.470600</td>\n",
              "      <td>0.198321</td>\n",
              "      <td>1.090536</td>\n",
              "      <td>11.404644</td>\n",
              "      <td>19.336760</td>\n",
              "      <td>2.068492</td>\n",
              "      <td>2.322299</td>\n",
              "      <td>2.314442</td>\n",
              "      <td>14.027494</td>\n",
              "      <td>0.619864</td>\n",
              "      <td>2.092925</td>\n",
              "    </tr>\n",
              "    <tr>\n",
              "      <th>min</th>\n",
              "      <td>8.950000</td>\n",
              "      <td>19.340000</td>\n",
              "      <td>8.990000</td>\n",
              "      <td>9.400000</td>\n",
              "      <td>0.540000</td>\n",
              "      <td>4.440000</td>\n",
              "      <td>12.340000</td>\n",
              "      <td>40.000000</td>\n",
              "      <td>20.800000</td>\n",
              "      <td>26.000000</td>\n",
              "      <td>12.300000</td>\n",
              "      <td>29.000000</td>\n",
              "      <td>4.000000</td>\n",
              "      <td>0.000000</td>\n",
              "    </tr>\n",
              "    <tr>\n",
              "      <th>25%</th>\n",
              "      <td>20.620000</td>\n",
              "      <td>49.900000</td>\n",
              "      <td>13.127500</td>\n",
              "      <td>14.505000</td>\n",
              "      <td>0.720000</td>\n",
              "      <td>6.192500</td>\n",
              "      <td>29.947500</td>\n",
              "      <td>66.000000</td>\n",
              "      <td>23.725000</td>\n",
              "      <td>30.400000</td>\n",
              "      <td>18.650000</td>\n",
              "      <td>46.000000</td>\n",
              "      <td>6.300000</td>\n",
              "      <td>2.000000</td>\n",
              "    </tr>\n",
              "    <tr>\n",
              "      <th>50%</th>\n",
              "      <td>28.010000</td>\n",
              "      <td>65.310000</td>\n",
              "      <td>17.340000</td>\n",
              "      <td>17.230000</td>\n",
              "      <td>0.850000</td>\n",
              "      <td>6.850000</td>\n",
              "      <td>36.870000</td>\n",
              "      <td>77.000000</td>\n",
              "      <td>25.200000</td>\n",
              "      <td>32.400000</td>\n",
              "      <td>20.750000</td>\n",
              "      <td>55.000000</td>\n",
              "      <td>6.900000</td>\n",
              "      <td>3.100000</td>\n",
              "    </tr>\n",
              "    <tr>\n",
              "      <th>75%</th>\n",
              "      <td>39.472500</td>\n",
              "      <td>84.680000</td>\n",
              "      <td>29.072500</td>\n",
              "      <td>30.342500</td>\n",
              "      <td>1.037500</td>\n",
              "      <td>7.285000</td>\n",
              "      <td>43.837500</td>\n",
              "      <td>94.750000</td>\n",
              "      <td>27.175000</td>\n",
              "      <td>34.000000</td>\n",
              "      <td>22.000000</td>\n",
              "      <td>68.000000</td>\n",
              "      <td>6.900000</td>\n",
              "      <td>4.375000</td>\n",
              "    </tr>\n",
              "    <tr>\n",
              "      <th>max</th>\n",
              "      <td>70.780000</td>\n",
              "      <td>154.340000</td>\n",
              "      <td>54.430000</td>\n",
              "      <td>56.070000</td>\n",
              "      <td>1.390000</td>\n",
              "      <td>13.040000</td>\n",
              "      <td>61.010000</td>\n",
              "      <td>137.000000</td>\n",
              "      <td>29.600000</td>\n",
              "      <td>36.400000</td>\n",
              "      <td>24.600000</td>\n",
              "      <td>83.000000</td>\n",
              "      <td>8.900000</td>\n",
              "      <td>11.300000</td>\n",
              "    </tr>\n",
              "  </tbody>\n",
              "</table>\n",
              "</div>"
            ],
            "text/plain": [
              "            PM2.5        PM10         NO2  ...       humid     visible        wind\n",
              "count  182.000000  182.000000  182.000000  ...  182.000000  182.000000  182.000000\n",
              "mean    30.536703   67.232473   21.455000  ...   56.510989    6.662637    3.563736\n",
              "std     12.255324   24.453075   10.194596  ...   14.027494    0.619864    2.092925\n",
              "min      8.950000   19.340000    8.990000  ...   29.000000    4.000000    0.000000\n",
              "25%     20.620000   49.900000   13.127500  ...   46.000000    6.300000    2.000000\n",
              "50%     28.010000   65.310000   17.340000  ...   55.000000    6.900000    3.100000\n",
              "75%     39.472500   84.680000   29.072500  ...   68.000000    6.900000    4.375000\n",
              "max     70.780000  154.340000   54.430000  ...   83.000000    8.900000   11.300000\n",
              "\n",
              "[8 rows x 14 columns]"
            ]
          },
          "metadata": {},
          "execution_count": 151
        }
      ]
    },
    {
      "cell_type": "code",
      "metadata": {
        "colab": {
          "base_uri": "https://localhost:8080/"
        },
        "id": "hTqzLfSwdALi",
        "outputId": "ff93dc1b-2777-47bc-9261-35803fb131a3"
      },
      "source": [
        "test_df.isnull().sum(axis=0)"
      ],
      "execution_count": 152,
      "outputs": [
        {
          "output_type": "execute_result",
          "data": {
            "text/plain": [
              "PM2.5       0\n",
              "PM10        0\n",
              "NO2         0\n",
              "NOx         0\n",
              "CO          0\n",
              "SO2         0\n",
              "O3          0\n",
              "AQI         0\n",
              "temp        0\n",
              "max_temp    0\n",
              "min_temp    0\n",
              "humid       0\n",
              "visible     0\n",
              "wind        0\n",
              "dtype: int64"
            ]
          },
          "metadata": {},
          "execution_count": 152
        }
      ]
    },
    {
      "cell_type": "code",
      "metadata": {
        "colab": {
          "base_uri": "https://localhost:8080/",
          "height": 238
        },
        "id": "1K1I-AUodAI9",
        "outputId": "3c99332a-aff1-4277-991e-b2ca8c7294d4"
      },
      "source": [
        "test_df = test_df.drop(columns=['AQI'])\n",
        "test_df.head()"
      ],
      "execution_count": 153,
      "outputs": [
        {
          "output_type": "execute_result",
          "data": {
            "text/html": [
              "<div>\n",
              "<style scoped>\n",
              "    .dataframe tbody tr th:only-of-type {\n",
              "        vertical-align: middle;\n",
              "    }\n",
              "\n",
              "    .dataframe tbody tr th {\n",
              "        vertical-align: top;\n",
              "    }\n",
              "\n",
              "    .dataframe thead th {\n",
              "        text-align: right;\n",
              "    }\n",
              "</style>\n",
              "<table border=\"1\" class=\"dataframe\">\n",
              "  <thead>\n",
              "    <tr style=\"text-align: right;\">\n",
              "      <th></th>\n",
              "      <th>PM2.5</th>\n",
              "      <th>PM10</th>\n",
              "      <th>NO2</th>\n",
              "      <th>NOx</th>\n",
              "      <th>CO</th>\n",
              "      <th>SO2</th>\n",
              "      <th>O3</th>\n",
              "      <th>temp</th>\n",
              "      <th>max_temp</th>\n",
              "      <th>min_temp</th>\n",
              "      <th>humid</th>\n",
              "      <th>visible</th>\n",
              "      <th>wind</th>\n",
              "    </tr>\n",
              "    <tr>\n",
              "      <th>Date</th>\n",
              "      <th></th>\n",
              "      <th></th>\n",
              "      <th></th>\n",
              "      <th></th>\n",
              "      <th></th>\n",
              "      <th></th>\n",
              "      <th></th>\n",
              "      <th></th>\n",
              "      <th></th>\n",
              "      <th></th>\n",
              "      <th></th>\n",
              "      <th></th>\n",
              "      <th></th>\n",
              "    </tr>\n",
              "  </thead>\n",
              "  <tbody>\n",
              "    <tr>\n",
              "      <th>2020-01-01</th>\n",
              "      <td>30.71</td>\n",
              "      <td>70.80</td>\n",
              "      <td>27.31</td>\n",
              "      <td>26.74</td>\n",
              "      <td>1.07</td>\n",
              "      <td>8.56</td>\n",
              "      <td>37.39</td>\n",
              "      <td>22.0</td>\n",
              "      <td>27.2</td>\n",
              "      <td>19.2</td>\n",
              "      <td>75</td>\n",
              "      <td>6.9</td>\n",
              "      <td>3.3</td>\n",
              "    </tr>\n",
              "    <tr>\n",
              "      <th>2020-01-02</th>\n",
              "      <td>25.78</td>\n",
              "      <td>62.73</td>\n",
              "      <td>28.05</td>\n",
              "      <td>30.18</td>\n",
              "      <td>1.16</td>\n",
              "      <td>7.52</td>\n",
              "      <td>33.11</td>\n",
              "      <td>22.2</td>\n",
              "      <td>26.0</td>\n",
              "      <td>19.4</td>\n",
              "      <td>77</td>\n",
              "      <td>5.5</td>\n",
              "      <td>2.0</td>\n",
              "    </tr>\n",
              "    <tr>\n",
              "      <th>2020-01-03</th>\n",
              "      <td>29.66</td>\n",
              "      <td>69.62</td>\n",
              "      <td>26.26</td>\n",
              "      <td>26.92</td>\n",
              "      <td>0.99</td>\n",
              "      <td>6.40</td>\n",
              "      <td>32.98</td>\n",
              "      <td>23.4</td>\n",
              "      <td>28.4</td>\n",
              "      <td>19.4</td>\n",
              "      <td>68</td>\n",
              "      <td>6.9</td>\n",
              "      <td>3.5</td>\n",
              "    </tr>\n",
              "    <tr>\n",
              "      <th>2020-01-04</th>\n",
              "      <td>52.62</td>\n",
              "      <td>106.81</td>\n",
              "      <td>31.56</td>\n",
              "      <td>41.89</td>\n",
              "      <td>1.39</td>\n",
              "      <td>6.94</td>\n",
              "      <td>37.35</td>\n",
              "      <td>23.6</td>\n",
              "      <td>30.5</td>\n",
              "      <td>19.0</td>\n",
              "      <td>63</td>\n",
              "      <td>6.3</td>\n",
              "      <td>1.3</td>\n",
              "    </tr>\n",
              "    <tr>\n",
              "      <th>2020-01-05</th>\n",
              "      <td>52.64</td>\n",
              "      <td>97.94</td>\n",
              "      <td>29.10</td>\n",
              "      <td>29.52</td>\n",
              "      <td>1.01</td>\n",
              "      <td>7.01</td>\n",
              "      <td>45.10</td>\n",
              "      <td>24.2</td>\n",
              "      <td>30.5</td>\n",
              "      <td>20.4</td>\n",
              "      <td>63</td>\n",
              "      <td>6.3</td>\n",
              "      <td>1.3</td>\n",
              "    </tr>\n",
              "  </tbody>\n",
              "</table>\n",
              "</div>"
            ],
            "text/plain": [
              "            PM2.5    PM10    NO2    NOx  ...  min_temp  humid  visible  wind\n",
              "Date                                     ...                                \n",
              "2020-01-01  30.71   70.80  27.31  26.74  ...      19.2     75      6.9   3.3\n",
              "2020-01-02  25.78   62.73  28.05  30.18  ...      19.4     77      5.5   2.0\n",
              "2020-01-03  29.66   69.62  26.26  26.92  ...      19.4     68      6.9   3.5\n",
              "2020-01-04  52.62  106.81  31.56  41.89  ...      19.0     63      6.3   1.3\n",
              "2020-01-05  52.64   97.94  29.10  29.52  ...      20.4     63      6.3   1.3\n",
              "\n",
              "[5 rows x 13 columns]"
            ]
          },
          "metadata": {},
          "execution_count": 153
        }
      ]
    },
    {
      "cell_type": "code",
      "metadata": {
        "colab": {
          "base_uri": "https://localhost:8080/"
        },
        "id": "GrcHNaCLdAGe",
        "outputId": "5330c141-efa0-4965-d320-2d1feaba2176"
      },
      "source": [
        "test_df.shape"
      ],
      "execution_count": 154,
      "outputs": [
        {
          "output_type": "execute_result",
          "data": {
            "text/plain": [
              "(182, 13)"
            ]
          },
          "metadata": {},
          "execution_count": 154
        }
      ]
    },
    {
      "cell_type": "code",
      "metadata": {
        "id": "livN7C58dAEF"
      },
      "source": [
        "# test_df.to_csv('test_x.csv')\n",
        "# test_target.to_csv('test_y.csv')"
      ],
      "execution_count": 155,
      "outputs": []
    },
    {
      "cell_type": "markdown",
      "metadata": {
        "id": "1f_Nf4cgi6rn"
      },
      "source": [
        "# Predict"
      ]
    },
    {
      "cell_type": "code",
      "metadata": {
        "id": "9PYqrvu1dAB6"
      },
      "source": [
        "X_test_scaler = sc.transform(test_df)\n",
        "Y_test_scaler = sc_target.transform(test_target.values.reshape(-1,1))\n",
        "# StandardScaler take 2D array"
      ],
      "execution_count": 156,
      "outputs": []
    },
    {
      "cell_type": "code",
      "metadata": {
        "id": "s1ZoaHM1c__y"
      },
      "source": [
        "X_test_tensor = Variable(torch.Tensor(X_test_scaler)) #converting to Tensors\n",
        "Y_test_tensor = Variable(torch.Tensor(Y_test_scaler))\n",
        "X_test_tensor = torch.reshape(X_test_tensor, (X_test_tensor.shape[0], 1, X_test_tensor.shape[1]))"
      ],
      "execution_count": 157,
      "outputs": []
    },
    {
      "cell_type": "code",
      "metadata": {
        "colab": {
          "base_uri": "https://localhost:8080/"
        },
        "id": "l0TjoVKfflk4",
        "outputId": "22aadf98-c23f-4267-ab93-f7e954af8f07"
      },
      "source": [
        "X_test_tensor.size(), Y_test_tensor.size()"
      ],
      "execution_count": 158,
      "outputs": [
        {
          "output_type": "execute_result",
          "data": {
            "text/plain": [
              "(torch.Size([182, 1, 13]), torch.Size([182, 1]))"
            ]
          },
          "metadata": {},
          "execution_count": 158
        }
      ]
    },
    {
      "cell_type": "code",
      "metadata": {
        "colab": {
          "base_uri": "https://localhost:8080/",
          "height": 238
        },
        "id": "Y0F5ameGkoWV",
        "outputId": "23eca7ce-e48d-48dc-847a-e59985a2b76a"
      },
      "source": [
        "test_df.head()"
      ],
      "execution_count": 159,
      "outputs": [
        {
          "output_type": "execute_result",
          "data": {
            "text/html": [
              "<div>\n",
              "<style scoped>\n",
              "    .dataframe tbody tr th:only-of-type {\n",
              "        vertical-align: middle;\n",
              "    }\n",
              "\n",
              "    .dataframe tbody tr th {\n",
              "        vertical-align: top;\n",
              "    }\n",
              "\n",
              "    .dataframe thead th {\n",
              "        text-align: right;\n",
              "    }\n",
              "</style>\n",
              "<table border=\"1\" class=\"dataframe\">\n",
              "  <thead>\n",
              "    <tr style=\"text-align: right;\">\n",
              "      <th></th>\n",
              "      <th>PM2.5</th>\n",
              "      <th>PM10</th>\n",
              "      <th>NO2</th>\n",
              "      <th>NOx</th>\n",
              "      <th>CO</th>\n",
              "      <th>SO2</th>\n",
              "      <th>O3</th>\n",
              "      <th>temp</th>\n",
              "      <th>max_temp</th>\n",
              "      <th>min_temp</th>\n",
              "      <th>humid</th>\n",
              "      <th>visible</th>\n",
              "      <th>wind</th>\n",
              "    </tr>\n",
              "    <tr>\n",
              "      <th>Date</th>\n",
              "      <th></th>\n",
              "      <th></th>\n",
              "      <th></th>\n",
              "      <th></th>\n",
              "      <th></th>\n",
              "      <th></th>\n",
              "      <th></th>\n",
              "      <th></th>\n",
              "      <th></th>\n",
              "      <th></th>\n",
              "      <th></th>\n",
              "      <th></th>\n",
              "      <th></th>\n",
              "    </tr>\n",
              "  </thead>\n",
              "  <tbody>\n",
              "    <tr>\n",
              "      <th>2020-01-01</th>\n",
              "      <td>30.71</td>\n",
              "      <td>70.80</td>\n",
              "      <td>27.31</td>\n",
              "      <td>26.74</td>\n",
              "      <td>1.07</td>\n",
              "      <td>8.56</td>\n",
              "      <td>37.39</td>\n",
              "      <td>22.0</td>\n",
              "      <td>27.2</td>\n",
              "      <td>19.2</td>\n",
              "      <td>75</td>\n",
              "      <td>6.9</td>\n",
              "      <td>3.3</td>\n",
              "    </tr>\n",
              "    <tr>\n",
              "      <th>2020-01-02</th>\n",
              "      <td>25.78</td>\n",
              "      <td>62.73</td>\n",
              "      <td>28.05</td>\n",
              "      <td>30.18</td>\n",
              "      <td>1.16</td>\n",
              "      <td>7.52</td>\n",
              "      <td>33.11</td>\n",
              "      <td>22.2</td>\n",
              "      <td>26.0</td>\n",
              "      <td>19.4</td>\n",
              "      <td>77</td>\n",
              "      <td>5.5</td>\n",
              "      <td>2.0</td>\n",
              "    </tr>\n",
              "    <tr>\n",
              "      <th>2020-01-03</th>\n",
              "      <td>29.66</td>\n",
              "      <td>69.62</td>\n",
              "      <td>26.26</td>\n",
              "      <td>26.92</td>\n",
              "      <td>0.99</td>\n",
              "      <td>6.40</td>\n",
              "      <td>32.98</td>\n",
              "      <td>23.4</td>\n",
              "      <td>28.4</td>\n",
              "      <td>19.4</td>\n",
              "      <td>68</td>\n",
              "      <td>6.9</td>\n",
              "      <td>3.5</td>\n",
              "    </tr>\n",
              "    <tr>\n",
              "      <th>2020-01-04</th>\n",
              "      <td>52.62</td>\n",
              "      <td>106.81</td>\n",
              "      <td>31.56</td>\n",
              "      <td>41.89</td>\n",
              "      <td>1.39</td>\n",
              "      <td>6.94</td>\n",
              "      <td>37.35</td>\n",
              "      <td>23.6</td>\n",
              "      <td>30.5</td>\n",
              "      <td>19.0</td>\n",
              "      <td>63</td>\n",
              "      <td>6.3</td>\n",
              "      <td>1.3</td>\n",
              "    </tr>\n",
              "    <tr>\n",
              "      <th>2020-01-05</th>\n",
              "      <td>52.64</td>\n",
              "      <td>97.94</td>\n",
              "      <td>29.10</td>\n",
              "      <td>29.52</td>\n",
              "      <td>1.01</td>\n",
              "      <td>7.01</td>\n",
              "      <td>45.10</td>\n",
              "      <td>24.2</td>\n",
              "      <td>30.5</td>\n",
              "      <td>20.4</td>\n",
              "      <td>63</td>\n",
              "      <td>6.3</td>\n",
              "      <td>1.3</td>\n",
              "    </tr>\n",
              "  </tbody>\n",
              "</table>\n",
              "</div>"
            ],
            "text/plain": [
              "            PM2.5    PM10    NO2    NOx  ...  min_temp  humid  visible  wind\n",
              "Date                                     ...                                \n",
              "2020-01-01  30.71   70.80  27.31  26.74  ...      19.2     75      6.9   3.3\n",
              "2020-01-02  25.78   62.73  28.05  30.18  ...      19.4     77      5.5   2.0\n",
              "2020-01-03  29.66   69.62  26.26  26.92  ...      19.4     68      6.9   3.5\n",
              "2020-01-04  52.62  106.81  31.56  41.89  ...      19.0     63      6.3   1.3\n",
              "2020-01-05  52.64   97.94  29.10  29.52  ...      20.4     63      6.3   1.3\n",
              "\n",
              "[5 rows x 13 columns]"
            ]
          },
          "metadata": {},
          "execution_count": 159
        }
      ]
    },
    {
      "cell_type": "code",
      "metadata": {
        "colab": {
          "base_uri": "https://localhost:8080/"
        },
        "id": "YatRVIvykeuK",
        "outputId": "a7e7eeba-6465-4b14-a7ec-25e68bef2745"
      },
      "source": [
        "X_test_scaler"
      ],
      "execution_count": 160,
      "outputs": [
        {
          "output_type": "execute_result",
          "data": {
            "text/plain": [
              "array([[-0.30608406, -0.401794  , -0.28244328, ...,  0.72217157,\n",
              "         0.46374624, -0.47013156],\n",
              "       [-0.49939129, -0.609596  , -0.22470681, ...,  0.85166595,\n",
              "        -1.73990861, -0.95248086],\n",
              "       [-0.34725497, -0.43217893, -0.36436665, ...,  0.26894123,\n",
              "         0.46374624, -0.39592398],\n",
              "       ...,\n",
              "       [-0.70877479, -1.54663624, -1.60726121, ...,  0.91641314,\n",
              "        -1.73990861,  0.30904807],\n",
              "       [-0.38568115, -1.47118892, -1.46760137, ...,  1.2401491 ,\n",
              "         0.46374624,  0.08642531],\n",
              "       [-0.94286084, -1.60019611, -1.42312869, ...,  0.65742438,\n",
              "         0.46374624,  0.97691632]])"
            ]
          },
          "metadata": {},
          "execution_count": 160
        }
      ]
    },
    {
      "cell_type": "code",
      "metadata": {
        "colab": {
          "base_uri": "https://localhost:8080/"
        },
        "id": "tUUkyh9xkbf5",
        "outputId": "059cd299-2447-4138-d0c0-506cedaf81bd"
      },
      "source": [
        "X_test_tensor"
      ],
      "execution_count": 161,
      "outputs": [
        {
          "output_type": "execute_result",
          "data": {
            "text/plain": [
              "tensor([[[-0.3061, -0.4018, -0.2824,  ...,  0.7222,  0.4637, -0.4701]],\n",
              "\n",
              "        [[-0.4994, -0.6096, -0.2247,  ...,  0.8517, -1.7399, -0.9525]],\n",
              "\n",
              "        [[-0.3473, -0.4322, -0.3644,  ...,  0.2689,  0.4637, -0.3959]],\n",
              "\n",
              "        ...,\n",
              "\n",
              "        [[-0.7088, -1.5466, -1.6073,  ...,  0.9164, -1.7399,  0.3090]],\n",
              "\n",
              "        [[-0.3857, -1.4712, -1.4676,  ...,  1.2401,  0.4637,  0.0864]],\n",
              "\n",
              "        [[-0.9429, -1.6002, -1.4231,  ...,  0.6574,  0.4637,  0.9769]]])"
            ]
          },
          "metadata": {},
          "execution_count": 161
        }
      ]
    },
    {
      "cell_type": "code",
      "metadata": {
        "colab": {
          "base_uri": "https://localhost:8080/"
        },
        "id": "CQqM69p5flha",
        "outputId": "92d1c4db-05f5-4fa7-e28e-c66bc5019fb1"
      },
      "source": [
        "# test_predict = lstm1(X_test_tensor)\n",
        "test_predict[:10]"
      ],
      "execution_count": 165,
      "outputs": [
        {
          "output_type": "execute_result",
          "data": {
            "text/plain": [
              "tensor([[-0.4079],\n",
              "        [-0.4307],\n",
              "        [-0.3116],\n",
              "        [ 0.6231],\n",
              "        [ 0.4826],\n",
              "        [-0.4485],\n",
              "        [-0.4946],\n",
              "        [-0.2339],\n",
              "        [-0.0287],\n",
              "        [ 0.0179]], grad_fn=<SliceBackward0>)"
            ]
          },
          "metadata": {},
          "execution_count": 165
        }
      ]
    },
    {
      "cell_type": "code",
      "metadata": {
        "colab": {
          "base_uri": "https://localhost:8080/"
        },
        "id": "154ndGzJnEkN",
        "outputId": "85ed9e98-8546-427b-c5e4-e5f1e7c0f6b8"
      },
      "source": [
        "Y_test_tensor[:10]"
      ],
      "execution_count": 166,
      "outputs": [
        {
          "output_type": "execute_result",
          "data": {
            "text/plain": [
              "tensor([[-0.2761],\n",
              "        [-0.3023],\n",
              "        [-0.1976],\n",
              "        [ 0.0641],\n",
              "        [ 0.6661],\n",
              "        [-0.3023],\n",
              "        [-0.4593],\n",
              "        [ 0.0118],\n",
              "        [ 0.2212],\n",
              "        [ 0.0380]])"
            ]
          },
          "metadata": {},
          "execution_count": 166
        }
      ]
    },
    {
      "cell_type": "code",
      "metadata": {
        "colab": {
          "base_uri": "https://localhost:8080/"
        },
        "id": "1d8e8ogIflfU",
        "outputId": "b2dcba55-7178-42bb-d9a4-d90f5d8a873a"
      },
      "source": [
        "test_predict.size(), Y_test_tensor.size()"
      ],
      "execution_count": 167,
      "outputs": [
        {
          "output_type": "execute_result",
          "data": {
            "text/plain": [
              "(torch.Size([182, 1]), torch.Size([182, 1]))"
            ]
          },
          "metadata": {},
          "execution_count": 167
        }
      ]
    },
    {
      "cell_type": "code",
      "metadata": {
        "colab": {
          "base_uri": "https://localhost:8080/"
        },
        "id": "cIMFtcWZflc8",
        "outputId": "1fab0fa3-b977-43f4-f4d7-7fbcc17d351f"
      },
      "source": [
        "data_predict = test_predict.data.numpy() #numpy conversion\n",
        "\n",
        "data_predict = sc_target.inverse_transform(data_predict) \n",
        "data_predict[:10]"
      ],
      "execution_count": 169,
      "outputs": [
        {
          "output_type": "execute_result",
          "data": {
            "text/plain": [
              "array([[ 76.96385 ],\n",
              "       [ 76.09478 ],\n",
              "       [ 80.64325 ],\n",
              "       [116.35737 ],\n",
              "       [110.98831 ],\n",
              "       [ 75.411156],\n",
              "       [ 73.653496],\n",
              "       [ 83.61072 ],\n",
              "       [ 91.45244 ],\n",
              "       [ 93.234375]], dtype=float32)"
            ]
          },
          "metadata": {},
          "execution_count": 169
        }
      ]
    },
    {
      "cell_type": "code",
      "metadata": {
        "colab": {
          "base_uri": "https://localhost:8080/"
        },
        "id": "iDvjbXIbflal",
        "outputId": "48bb8f69-589a-41b4-8897-02a015852d18"
      },
      "source": [
        "data_actual = Y_test_tensor.data.numpy()\n",
        "data_actual = sc_target.inverse_transform(data_actual)\n",
        "data_actual[:10]"
      ],
      "execution_count": 172,
      "outputs": [
        {
          "output_type": "execute_result",
          "data": {
            "text/plain": [
              "array([[ 82.],\n",
              "       [ 81.],\n",
              "       [ 85.],\n",
              "       [ 95.],\n",
              "       [118.],\n",
              "       [ 81.],\n",
              "       [ 75.],\n",
              "       [ 93.],\n",
              "       [101.],\n",
              "       [ 94.]], dtype=float32)"
            ]
          },
          "metadata": {},
          "execution_count": 172
        }
      ]
    },
    {
      "cell_type": "code",
      "metadata": {
        "colab": {
          "base_uri": "https://localhost:8080/"
        },
        "id": "EX1SuF2-flYB",
        "outputId": "41d4e2ac-737c-466b-a8c7-b212b547794c"
      },
      "source": [
        "from sklearn.metrics import r2_score\n",
        "r2_score(data_predict, data_actual)"
      ],
      "execution_count": 173,
      "outputs": [
        {
          "output_type": "execute_result",
          "data": {
            "text/plain": [
              "0.7839707309470743"
            ]
          },
          "metadata": {},
          "execution_count": 173
        }
      ]
    },
    {
      "cell_type": "code",
      "metadata": {
        "id": "qg7qR6Ccc_9d"
      },
      "source": [
        ""
      ],
      "execution_count": 112,
      "outputs": []
    },
    {
      "cell_type": "code",
      "metadata": {
        "id": "t3Om-VtuJTUo"
      },
      "source": [
        "# class LSTM(nn.Module):\n",
        "#     def __init__(self, input_size=1, hidden_layer_size=100, output_size=1):\n",
        "#         super().__init__()\n",
        "#         self.hidden_layer_size = hidden_layer_size\n",
        "\n",
        "# # \n",
        "#         self.lstm = nn.LSTM(input_size=input_size, hidden_size=hidden_layer_size, batch_first = True)\n",
        "# # \n",
        "#         self.linear = nn.Linear(hidden_layer_size, output_size)\n",
        "# # h0,c0\n",
        "#         self.hidden_cell = (torch.zeros(1,1,self.hidden_layer_size),\n",
        "#                             torch.zeros(1,1,self.hidden_layer_size))\n",
        "\n",
        "#     def forward(self, input_seq):\n",
        "#         lstm_out, self.hidden_cell = self.lstm(input_seq.view(len(input_seq) ,1, -1), self.hidden_cell)\n",
        "#         predictions = self.linear(lstm_out.view(len(input_seq), -1))\n",
        "#         return predictions[-1]"
      ],
      "execution_count": null,
      "outputs": []
    },
    {
      "cell_type": "code",
      "metadata": {
        "id": "pdKFhLd7Fbla"
      },
      "source": [
        ""
      ],
      "execution_count": null,
      "outputs": []
    },
    {
      "cell_type": "code",
      "metadata": {
        "id": "UtUWIMNfFbiE"
      },
      "source": [
        ""
      ],
      "execution_count": null,
      "outputs": []
    },
    {
      "cell_type": "code",
      "metadata": {
        "id": "DaH_nUUTFjEb"
      },
      "source": [
        "# # define input sequence\n",
        "# in_seq1 = array([x for x in range(0,100,10)])\n",
        "# # print(in_seq1)\n",
        "# in_seq2 = array([x for x in range(5,105,10)])\n",
        "# # print(in_seq2)\n",
        "# out_seq = array([in_seq1[i]+in_seq2[i] for i in range(len(in_seq1))])\n",
        "# # print(out_seq)\n",
        "# # convert to [rows, columns] structure\n",
        "# in_seq1 = in_seq1.reshape((len(in_seq1), 1))\n",
        "# in_seq2 = in_seq2.reshape((len(in_seq2), 1))\n",
        "# out_seq = out_seq.reshape((len(out_seq), 1))\n",
        "# # horizontally stack columns\n",
        "# dataset = hstack((in_seq1, in_seq2, out_seq))\n",
        "# dataset"
      ],
      "execution_count": null,
      "outputs": []
    },
    {
      "cell_type": "code",
      "metadata": {
        "id": "0FsEx2lLFbfo"
      },
      "source": [
        "# import random\n",
        "# import numpy as np\n",
        "# import torch\n",
        "\n",
        "# # multivariate data preparation\n",
        "# from numpy import array\n",
        "# from numpy import hstack\n",
        " \n",
        "# # split a multivariate sequence into samples\n",
        "# def split_sequences(sequences, n_steps):\n",
        "#     X, y = list(), list()\n",
        "#     for i in range(len(sequences)):\n",
        "#         # find the end of this pattern\n",
        "#         end_ix = i + n_steps\n",
        "#         # check if we are beyond the dataset\n",
        "#         if end_ix > len(sequences):\n",
        "#             break\n",
        "#         # gather input and output parts of the pattern\n",
        "#         seq_x, seq_y = sequences[i:end_ix, :-1], sequences[end_ix-1, -1]\n",
        "#         X.append(seq_x)\n",
        "#         y.append(seq_y)\n",
        "#     return array(X), array(y)"
      ],
      "execution_count": null,
      "outputs": []
    },
    {
      "cell_type": "code",
      "metadata": {
        "id": "n0w7ZjsVF6oR"
      },
      "source": [
        "# a,b=split_sequences(dataset,3)\n",
        "# a"
      ],
      "execution_count": null,
      "outputs": []
    },
    {
      "cell_type": "code",
      "metadata": {
        "id": "J4MW0LpLGC3k"
      },
      "source": [
        ""
      ],
      "execution_count": null,
      "outputs": []
    },
    {
      "cell_type": "code",
      "metadata": {
        "id": "STu9paz5JPky"
      },
      "source": [
        ""
      ],
      "execution_count": null,
      "outputs": []
    },
    {
      "cell_type": "code",
      "metadata": {
        "id": "coLMKtxvJWPc"
      },
      "source": [
        ""
      ],
      "execution_count": null,
      "outputs": []
    }
  ]
}
